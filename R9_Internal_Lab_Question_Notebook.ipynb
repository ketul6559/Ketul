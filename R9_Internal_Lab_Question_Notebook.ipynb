{
  "nbformat": 4,
  "nbformat_minor": 0,
  "metadata": {
    "colab": {
      "name": "R9 Internal Lab Question Notebook.ipynb",
      "provenance": [],
      "collapsed_sections": []
    },
    "kernelspec": {
      "name": "python3",
      "display_name": "Python 3"
    }
  },
  "cells": [
    {
      "cell_type": "markdown",
      "metadata": {
        "id": "PHYs6Z84xV8E"
      },
      "source": [
        "<img src=\"http://drive.google.com/uc?export=view&id=1tpOCamr9aWz817atPnyXus8w5gJ3mIts\" width=500px>\n",
        "\n",
        "Proprietary content. © Great Learning. All Rights Reserved. Unauthorized use or distribution prohibited."
      ]
    },
    {
      "cell_type": "markdown",
      "metadata": {
        "id": "FbwHYUXhxaqD"
      },
      "source": [
        "## Problem Statement\n",
        "\n"
      ]
    },
    {
      "cell_type": "markdown",
      "metadata": {
        "id": "5QQxgAmWzSye"
      },
      "source": [
        "# Samsung Internal SSD Reviews prediction\n",
        "\n",
        "Rating predictions using reviews written by users can be a useful problem statement in E-commerce domain and can be used for recommending similar products that may interest users. The dataset in this problem statement comprises reviews pertaining to Samsung Internal SSD product specifically SAMSUNG 850 EVO 2.5\" 250GB SATA III 3D NAND Internal Solid State Drive (SSD) MZ-75E250B/AM from the NewEgg Store website.  We will build a Natural Language processing model using Glove embeddings which is trained on reviews given by customers that have used the product and try to predict ratings given a new rating.\n",
        "\n",
        "\n",
        "\n",
        "\n",
        "### Objective:\n",
        "Given the reviews provided by customers, can you train a model that accurately predicts the corresponding rating of a review?"
      ]
    },
    {
      "cell_type": "markdown",
      "metadata": {
        "id": "CI7usguRzeox"
      },
      "source": [
        "### Package version\n",
        "\n",
        "- tensorflow==2.3.0\n",
        "- scikit-learn==0.22.2.post1\n",
        "- pandas==1.0.5\n",
        "- numpy==1.18.5\n",
        "- matplotlib==3.2.2\n",
        "- google==2.0.3"
      ]
    },
    {
      "cell_type": "markdown",
      "metadata": {
        "id": "aiMdVjHRH7NR"
      },
      "source": [
        "### Data Dictionary \n",
        "\n",
        "- review_title : The Title for the customer review\n",
        "\n",
        "- overall_review: The whole customer review details\n",
        "\n",
        "- pros: The customer opinion about the good things in this product\n",
        "\n",
        "- cons: The customer opinion about the bad things in this product\n",
        "\n",
        "- ownership_pariod: How long the customer owned this product\n",
        "\n",
        "- date: When the review was written\n",
        "\n",
        "- rating_stars: The product rating from 1 to 5\n",
        "\n",
        "- year: In which year the review was written\n",
        "\n",
        "- month: In which month the review was written\n",
        "\n",
        "- day: In which day the review was written"
      ]
    },
    {
      "cell_type": "markdown",
      "metadata": {
        "id": "cEn52o8jznJK"
      },
      "source": [
        "## Table of Content\n",
        "\n",
        "1. Import Libraries\n",
        "\n",
        "2. Setting options\n",
        "\n",
        "3. Read Data\n",
        "\n",
        "4. Data Analysis and Preparation\n",
        "\n",
        "5. Model Building\n",
        "\n",
        "6. Conclusion and Interpretation\n",
        "\n",
        "7. Food for thought"
      ]
    },
    {
      "cell_type": "markdown",
      "metadata": {
        "id": "x_Lom6cXzqn7"
      },
      "source": [
        "## 1. Import Libraries"
      ]
    },
    {
      "cell_type": "markdown",
      "metadata": {
        "id": "FZtVstH8zre2"
      },
      "source": [
        "Let us start by mounting the drive"
      ]
    },
    {
      "cell_type": "code",
      "metadata": {
        "id": "jSsg8JHkIh2k",
        "colab": {
          "base_uri": "https://localhost:8080/"
        },
        "outputId": "42b5894e-b3f2-43a1-83f6-71ceb0891a96"
      },
      "source": [
        "from google.colab import drive\n",
        "drive.mount('/content/drive')"
      ],
      "execution_count": 1,
      "outputs": [
        {
          "output_type": "stream",
          "text": [
            "Mounted at /content/drive\n"
          ],
          "name": "stdout"
        }
      ]
    },
    {
      "cell_type": "markdown",
      "metadata": {
        "id": "Gv-tZoFjz2WD"
      },
      "source": [
        "Let us check for the version of installed tensorflow."
      ]
    },
    {
      "cell_type": "code",
      "metadata": {
        "id": "eiuUVBuDzzn9",
        "colab": {
          "base_uri": "https://localhost:8080/"
        },
        "outputId": "55bff90f-b7fb-4f8b-f3f6-0ee833707454"
      },
      "source": [
        "# used to supress display of warnings\n",
        "import warnings\n",
        "\n",
        "# os is used to provide a way of using operating system dependent functionality\n",
        "# We use it for setting working folder\n",
        "import os\n",
        "\n",
        "# Pandas is used for data manipulation and analysis\n",
        "import pandas as pd \n",
        "\n",
        "# Numpy is used for large, multi-dimensional arrays and matrices, along with mathematical operators on these arrays\n",
        "import numpy as np\n",
        "\n",
        "# Matplotlib is a data visualization library for 2D plots of arrays, built on NumPy arrays \n",
        "# and designed to work with the broader SciPy stack\n",
        "import matplotlib.pyplot as plt\n",
        "%matplotlib inline\n",
        "from matplotlib import pyplot\n",
        "\n",
        "# Seaborn is based on matplotlib, which aids in drawing attractive and informative statistical graphics.\n",
        "import seaborn as sns\n",
        "import tensorflow \n",
        "print(tensorflow.__version__)"
      ],
      "execution_count": 2,
      "outputs": [
        {
          "output_type": "stream",
          "text": [
            "2.5.0\n"
          ],
          "name": "stdout"
        }
      ]
    },
    {
      "cell_type": "markdown",
      "metadata": {
        "id": "fze-aokU0ukH"
      },
      "source": [
        "## 2. Setting Options"
      ]
    },
    {
      "cell_type": "code",
      "metadata": {
        "id": "T3FALggG0xXa"
      },
      "source": [
        "# suppress display of warnings\n",
        "warnings.filterwarnings('ignore')\n",
        "\n",
        "# display all dataframe columns\n",
        "pd.options.display.max_columns = None\n",
        "\n",
        "# to set the limit to 3 decimals\n",
        "pd.options.display.float_format = '{:.7f}'.format\n",
        "\n",
        "# display all dataframe rows\n",
        "pd.options.display.max_rows = None"
      ],
      "execution_count": 3,
      "outputs": []
    },
    {
      "cell_type": "markdown",
      "metadata": {
        "id": "ZT1P1WdK1vfZ"
      },
      "source": [
        "## 3. Read Data"
      ]
    },
    {
      "cell_type": "markdown",
      "metadata": {
        "id": "NnnvF56gfwav"
      },
      "source": [
        "### Read the dataset and check top 5 rows"
      ]
    },
    {
      "cell_type": "code",
      "metadata": {
        "id": "imj2VbNpf383"
      },
      "source": [
        "df = pd.read_csv('/content/drive/MyDrive/Colab Notebooks/Lab/ssd_reviews.csv')"
      ],
      "execution_count": 4,
      "outputs": []
    },
    {
      "cell_type": "code",
      "metadata": {
        "id": "Pldlew5Mf9gA",
        "colab": {
          "base_uri": "https://localhost:8080/",
          "height": 391
        },
        "outputId": "28a9b6b6-afcc-4753-a1bb-c1dc349a7680"
      },
      "source": [
        "df.head()"
      ],
      "execution_count": 5,
      "outputs": [
        {
          "output_type": "execute_result",
          "data": {
            "text/html": [
              "<div>\n",
              "<style scoped>\n",
              "    .dataframe tbody tr th:only-of-type {\n",
              "        vertical-align: middle;\n",
              "    }\n",
              "\n",
              "    .dataframe tbody tr th {\n",
              "        vertical-align: top;\n",
              "    }\n",
              "\n",
              "    .dataframe thead th {\n",
              "        text-align: right;\n",
              "    }\n",
              "</style>\n",
              "<table border=\"1\" class=\"dataframe\">\n",
              "  <thead>\n",
              "    <tr style=\"text-align: right;\">\n",
              "      <th></th>\n",
              "      <th>Unnamed: 0</th>\n",
              "      <th>review_title</th>\n",
              "      <th>overall_review</th>\n",
              "      <th>pros</th>\n",
              "      <th>cons</th>\n",
              "      <th>ownership_pariod</th>\n",
              "      <th>date</th>\n",
              "      <th>rating_stars</th>\n",
              "      <th>year</th>\n",
              "      <th>month</th>\n",
              "      <th>day</th>\n",
              "    </tr>\n",
              "  </thead>\n",
              "  <tbody>\n",
              "    <tr>\n",
              "      <th>0</th>\n",
              "      <td>0</td>\n",
              "      <td>solid</td>\n",
              "      <td>buy it you will not regret this purchase</td>\n",
              "      <td>reliable fast silent cool running drive highly...</td>\n",
              "      <td>NaN</td>\n",
              "      <td>years</td>\n",
              "      <td>2019-12-05 12:58:58</td>\n",
              "      <td>5</td>\n",
              "      <td>2019</td>\n",
              "      <td>12</td>\n",
              "      <td>5</td>\n",
              "    </tr>\n",
              "    <tr>\n",
              "      <th>1</th>\n",
              "      <td>1</td>\n",
              "      <td>nice drive for price even cheaper by todays costs</td>\n",
              "      <td>good drive price</td>\n",
              "      <td>been running almost constantly since when i pu...</td>\n",
              "      <td>NaN</td>\n",
              "      <td>years</td>\n",
              "      <td>2019-11-01 08:25:45</td>\n",
              "      <td>5</td>\n",
              "      <td>2019</td>\n",
              "      <td>11</td>\n",
              "      <td>1</td>\n",
              "    </tr>\n",
              "    <tr>\n",
              "      <th>2</th>\n",
              "      <td>2</td>\n",
              "      <td>perfect</td>\n",
              "      <td>used this drive as my boot drive and only data...</td>\n",
              "      <td>good value decently fast good longevity</td>\n",
              "      <td>none so far</td>\n",
              "      <td>years</td>\n",
              "      <td>2019-10-27 17:05:49</td>\n",
              "      <td>5</td>\n",
              "      <td>2019</td>\n",
              "      <td>10</td>\n",
              "      <td>27</td>\n",
              "    </tr>\n",
              "    <tr>\n",
              "      <th>3</th>\n",
              "      <td>3</td>\n",
              "      <td>very snappy</td>\n",
              "      <td>os boots quicker os menus pop up quicker gamin...</td>\n",
              "      <td>noticeable improvement in os performance over ...</td>\n",
              "      <td>samsung magician software causes some games to...</td>\n",
              "      <td>years</td>\n",
              "      <td>2019-10-24 18:29:43</td>\n",
              "      <td>5</td>\n",
              "      <td>2019</td>\n",
              "      <td>10</td>\n",
              "      <td>24</td>\n",
              "    </tr>\n",
              "    <tr>\n",
              "      <th>4</th>\n",
              "      <td>4</td>\n",
              "      <td>worth the hype</td>\n",
              "      <td>this was the sdd that everyone said to get and...</td>\n",
              "      <td>NaN</td>\n",
              "      <td>NaN</td>\n",
              "      <td>years</td>\n",
              "      <td>2019-09-11 19:21:03</td>\n",
              "      <td>5</td>\n",
              "      <td>2019</td>\n",
              "      <td>9</td>\n",
              "      <td>11</td>\n",
              "    </tr>\n",
              "  </tbody>\n",
              "</table>\n",
              "</div>"
            ],
            "text/plain": [
              "   Unnamed: 0                                       review_title  \\\n",
              "0           0                                              solid   \n",
              "1           1  nice drive for price even cheaper by todays costs   \n",
              "2           2                                            perfect   \n",
              "3           3                                        very snappy   \n",
              "4           4                                     worth the hype   \n",
              "\n",
              "                                      overall_review  \\\n",
              "0           buy it you will not regret this purchase   \n",
              "1                                   good drive price   \n",
              "2  used this drive as my boot drive and only data...   \n",
              "3  os boots quicker os menus pop up quicker gamin...   \n",
              "4  this was the sdd that everyone said to get and...   \n",
              "\n",
              "                                                pros  \\\n",
              "0  reliable fast silent cool running drive highly...   \n",
              "1  been running almost constantly since when i pu...   \n",
              "2            good value decently fast good longevity   \n",
              "3  noticeable improvement in os performance over ...   \n",
              "4                                                NaN   \n",
              "\n",
              "                                                cons ownership_pariod  \\\n",
              "0                                                NaN            years   \n",
              "1                                                NaN            years   \n",
              "2                                        none so far            years   \n",
              "3  samsung magician software causes some games to...            years   \n",
              "4                                                NaN            years   \n",
              "\n",
              "                  date  rating_stars  year  month  day  \n",
              "0  2019-12-05 12:58:58             5  2019     12    5  \n",
              "1  2019-11-01 08:25:45             5  2019     11    1  \n",
              "2  2019-10-27 17:05:49             5  2019     10   27  \n",
              "3  2019-10-24 18:29:43             5  2019     10   24  \n",
              "4  2019-09-11 19:21:03             5  2019      9   11  "
            ]
          },
          "metadata": {
            "tags": []
          },
          "execution_count": 5
        }
      ]
    },
    {
      "cell_type": "markdown",
      "metadata": {
        "id": "RGluIi5Sf5Rp"
      },
      "source": [
        "### Check info of the dataset and write your findings"
      ]
    },
    {
      "cell_type": "code",
      "metadata": {
        "colab": {
          "base_uri": "https://localhost:8080/"
        },
        "id": "nIvBqgUuqx77",
        "outputId": "54906a46-8021-4874-b3d7-0084abca8bdf"
      },
      "source": [
        "df.info()"
      ],
      "execution_count": 6,
      "outputs": [
        {
          "output_type": "stream",
          "text": [
            "<class 'pandas.core.frame.DataFrame'>\n",
            "RangeIndex: 2227 entries, 0 to 2226\n",
            "Data columns (total 11 columns):\n",
            " #   Column            Non-Null Count  Dtype \n",
            "---  ------            --------------  ----- \n",
            " 0   Unnamed: 0        2227 non-null   int64 \n",
            " 1   review_title      2131 non-null   object\n",
            " 2   overall_review    1448 non-null   object\n",
            " 3   pros              2205 non-null   object\n",
            " 4   cons              2216 non-null   object\n",
            " 5   ownership_pariod  2159 non-null   object\n",
            " 6   date              2227 non-null   object\n",
            " 7   rating_stars      2227 non-null   int64 \n",
            " 8   year              2227 non-null   int64 \n",
            " 9   month             2227 non-null   int64 \n",
            " 10  day               2227 non-null   int64 \n",
            "dtypes: int64(5), object(6)\n",
            "memory usage: 191.5+ KB\n"
          ],
          "name": "stdout"
        }
      ]
    },
    {
      "cell_type": "markdown",
      "metadata": {
        "id": "P4PHzGeUqenU"
      },
      "source": [
        "There are many missing values present in the dataset. Moreover, there are a lot of objects in the Dtype part. "
      ]
    },
    {
      "cell_type": "markdown",
      "metadata": {
        "id": "rED6DbDBKTjM"
      },
      "source": [
        "## 4.  Data Analysis and Preparation"
      ]
    },
    {
      "cell_type": "markdown",
      "metadata": {
        "id": "7VSqr0Seiy7g"
      },
      "source": [
        "### 4.1 Checking missing values\n",
        "#### Check for missing values (along with the percentage of null values)"
      ]
    },
    {
      "cell_type": "code",
      "metadata": {
        "id": "Il4yi7kdmnYQ",
        "colab": {
          "base_uri": "https://localhost:8080/"
        },
        "outputId": "a3912deb-691d-4a73-9e5c-9681bae92ba2"
      },
      "source": [
        "df.isnull().sum()"
      ],
      "execution_count": 7,
      "outputs": [
        {
          "output_type": "execute_result",
          "data": {
            "text/plain": [
              "Unnamed: 0            0\n",
              "review_title         96\n",
              "overall_review      779\n",
              "pros                 22\n",
              "cons                 11\n",
              "ownership_pariod     68\n",
              "date                  0\n",
              "rating_stars          0\n",
              "year                  0\n",
              "month                 0\n",
              "day                   0\n",
              "dtype: int64"
            ]
          },
          "metadata": {
            "tags": []
          },
          "execution_count": 7
        }
      ]
    },
    {
      "cell_type": "code",
      "metadata": {
        "colab": {
          "base_uri": "https://localhost:8080/"
        },
        "id": "WFtW2MZTsGwC",
        "outputId": "90e5613a-6f02-4367-a759-4f5ce61c40f4"
      },
      "source": [
        "df.isnull().sum() / len(df) * 100"
      ],
      "execution_count": 8,
      "outputs": [
        {
          "output_type": "execute_result",
          "data": {
            "text/plain": [
              "Unnamed: 0          0.0000000\n",
              "review_title        4.3107319\n",
              "overall_review     34.9797934\n",
              "pros                0.9878761\n",
              "cons                0.4939380\n",
              "ownership_pariod    3.0534351\n",
              "date                0.0000000\n",
              "rating_stars        0.0000000\n",
              "year                0.0000000\n",
              "month               0.0000000\n",
              "day                 0.0000000\n",
              "dtype: float64"
            ]
          },
          "metadata": {
            "tags": []
          },
          "execution_count": 8
        }
      ]
    },
    {
      "cell_type": "markdown",
      "metadata": {
        "id": "SB40EGirmVjo"
      },
      "source": [
        "### 4.2 Analyzing the target column (Rating_stars)"
      ]
    },
    {
      "cell_type": "markdown",
      "metadata": {
        "id": "MoRvWVk-is6Y"
      },
      "source": [
        "#### Check the value counts of 'rating_stars' and write your comments"
      ]
    },
    {
      "cell_type": "code",
      "metadata": {
        "id": "LOVFp6Diiy0n",
        "colab": {
          "base_uri": "https://localhost:8080/"
        },
        "outputId": "d432e0b4-c064-4d32-bad6-9bb8e71f8457"
      },
      "source": [
        "df['rating_stars'].value_counts()"
      ],
      "execution_count": 9,
      "outputs": [
        {
          "output_type": "execute_result",
          "data": {
            "text/plain": [
              "5    1756\n",
              "4     181\n",
              "1     153\n",
              "3      77\n",
              "2      60\n",
              "Name: rating_stars, dtype: int64"
            ]
          },
          "metadata": {
            "tags": []
          },
          "execution_count": 9
        }
      ]
    },
    {
      "cell_type": "code",
      "metadata": {
        "id": "Rhr2gnY2lc9h",
        "colab": {
          "base_uri": "https://localhost:8080/",
          "height": 279
        },
        "outputId": "f920c648-c0f8-4967-b9fd-0858ce1a499f"
      },
      "source": [
        "df['rating_stars'].value_counts().plot(kind = 'bar')"
      ],
      "execution_count": 10,
      "outputs": [
        {
          "output_type": "execute_result",
          "data": {
            "text/plain": [
              "<matplotlib.axes._subplots.AxesSubplot at 0x7fbcdca8c210>"
            ]
          },
          "metadata": {
            "tags": []
          },
          "execution_count": 10
        },
        {
          "output_type": "display_data",
          "data": {
            "image/png": "[encoded data removed]",
            "text/plain": [
              "<Figure size 432x288 with 1 Axes>"
            ]
          },
          "metadata": {
            "tags": [],
            "needs_background": "light"
          }
        }
      ]
    },
    {
      "cell_type": "markdown",
      "metadata": {
        "id": "fhpzVWx-s6mi"
      },
      "source": [
        "The 5 stars rating is the highest rating followed by 4 stars and 1 star. The lowest is 2."
      ]
    },
    {
      "cell_type": "markdown",
      "metadata": {
        "id": "ZL_BQlb5mE4O"
      },
      "source": [
        "### 4.3 Let's analyze other features like year, month, and day etc.\n",
        "#### Check value counts of 'year' and write your observations., Comment on the range of years, frequency of ratings in each year."
      ]
    },
    {
      "cell_type": "code",
      "metadata": {
        "id": "YAtEigKEmM-Z",
        "colab": {
          "base_uri": "https://localhost:8080/"
        },
        "outputId": "624f88c0-ecbc-43bd-d399-ffa4a12bd2ee"
      },
      "source": [
        "df['year'].value_counts()"
      ],
      "execution_count": 11,
      "outputs": [
        {
          "output_type": "execute_result",
          "data": {
            "text/plain": [
              "2015    1006\n",
              "2016     605\n",
              "2017     370\n",
              "2018     187\n",
              "2019      46\n",
              "2014      13\n",
              "Name: year, dtype: int64"
            ]
          },
          "metadata": {
            "tags": []
          },
          "execution_count": 11
        }
      ]
    },
    {
      "cell_type": "markdown",
      "metadata": {
        "id": "M-pWwPhRmsAz"
      },
      "source": [
        "#### Check mean rating for each year and write your findings"
      ]
    },
    {
      "cell_type": "code",
      "metadata": {
        "id": "sqWWhlLemwG8",
        "colab": {
          "base_uri": "https://localhost:8080/"
        },
        "outputId": "da843b5d-ddf2-4f1e-c577-7108abd5c644"
      },
      "source": [
        "df.groupby('year')['rating_stars'].mean().sort_values(ascending = False)"
      ],
      "execution_count": 12,
      "outputs": [
        {
          "output_type": "execute_result",
          "data": {
            "text/plain": [
              "year\n",
              "2014   4.9230769\n",
              "2016   4.5900826\n",
              "2017   4.5108108\n",
              "2015   4.4582505\n",
              "2019   4.3478261\n",
              "2018   4.3475936\n",
              "Name: rating_stars, dtype: float64"
            ]
          },
          "metadata": {
            "tags": []
          },
          "execution_count": 12
        }
      ]
    },
    {
      "cell_type": "markdown",
      "metadata": {
        "id": "JCx7-xecuYmy"
      },
      "source": [
        "The year 2014 has given the highest rating. After that, 2016 and 2017 are the second and third given highest ratings. The year 2018 is the lowest rating month."
      ]
    },
    {
      "cell_type": "markdown",
      "metadata": {
        "id": "enoYYTDunPsT"
      },
      "source": [
        "#### Check value counts of 'month' and write your observations. Comment on the frequency of ratings and discuss if the rating count and mean rating is higher/low on certain months."
      ]
    },
    {
      "cell_type": "code",
      "metadata": {
        "id": "T0yhG8s1pTZD",
        "colab": {
          "base_uri": "https://localhost:8080/"
        },
        "outputId": "343e6bf3-b3cb-4277-9dff-2a07b111ad98"
      },
      "source": [
        "df['month'].value_counts()"
      ],
      "execution_count": 13,
      "outputs": [
        {
          "output_type": "execute_result",
          "data": {
            "text/plain": [
              "12    278\n",
              "2     239\n",
              "3     234\n",
              "1     221\n",
              "4     205\n",
              "11    191\n",
              "5     158\n",
              "9     157\n",
              "7     144\n",
              "10    141\n",
              "6     140\n",
              "8     119\n",
              "Name: month, dtype: int64"
            ]
          },
          "metadata": {
            "tags": []
          },
          "execution_count": 13
        }
      ]
    },
    {
      "cell_type": "code",
      "metadata": {
        "colab": {
          "base_uri": "https://localhost:8080/"
        },
        "id": "YvXE1AXduuSa",
        "outputId": "2a42671b-c739-492d-91ad-2461d96d14dc"
      },
      "source": [
        "df.groupby('month')['rating_stars'].mean().sort_values(ascending = False)"
      ],
      "execution_count": 14,
      "outputs": [
        {
          "output_type": "execute_result",
          "data": {
            "text/plain": [
              "month\n",
              "7    4.7638889\n",
              "1    4.6425339\n",
              "3    4.6111111\n",
              "6    4.5571429\n",
              "9    4.5414013\n",
              "8    4.4789916\n",
              "11   4.4607330\n",
              "5    4.4493671\n",
              "4    4.4195122\n",
              "2    4.4058577\n",
              "12   4.3597122\n",
              "10   4.3049645\n",
              "Name: rating_stars, dtype: float64"
            ]
          },
          "metadata": {
            "tags": []
          },
          "execution_count": 14
        }
      ]
    },
    {
      "cell_type": "markdown",
      "metadata": {
        "id": "OOACYzS6vOUd"
      },
      "source": [
        "The month July is the highest months of rating. After, the month of January, March and June came the higher rating of the months. The month of October has the lowest ratings of all time."
      ]
    },
    {
      "cell_type": "markdown",
      "metadata": {
        "id": "lWofLqeJpTtI"
      },
      "source": [
        "### 4.4 Combine text features\n",
        "#### Drop all the numerical features ['Unnamed: 0','date', 'year', 'month', 'day', 'ownership_pariod'] and ['rating_stars']"
      ]
    },
    {
      "cell_type": "code",
      "metadata": {
        "id": "8VAMgNJkqn0h"
      },
      "source": [
        "numeric_columns =  ['Unnamed: 0','date', 'year', 'month', 'day', 'ownership_pariod'] \n",
        "labels =  ['rating_stars']"
      ],
      "execution_count": 15,
      "outputs": []
    },
    {
      "cell_type": "code",
      "metadata": {
        "colab": {
          "base_uri": "https://localhost:8080/",
          "height": 272
        },
        "id": "xBDsyMRfvzp8",
        "outputId": "29f16ead-c3d6-4144-a6ca-cbb45a635706"
      },
      "source": [
        "to_drop = numeric_columns + labels\n",
        "text_data = df.drop(to_drop, axis = 1)\n",
        "text_data.head()"
      ],
      "execution_count": 16,
      "outputs": [
        {
          "output_type": "execute_result",
          "data": {
            "text/html": [
              "<div>\n",
              "<style scoped>\n",
              "    .dataframe tbody tr th:only-of-type {\n",
              "        vertical-align: middle;\n",
              "    }\n",
              "\n",
              "    .dataframe tbody tr th {\n",
              "        vertical-align: top;\n",
              "    }\n",
              "\n",
              "    .dataframe thead th {\n",
              "        text-align: right;\n",
              "    }\n",
              "</style>\n",
              "<table border=\"1\" class=\"dataframe\">\n",
              "  <thead>\n",
              "    <tr style=\"text-align: right;\">\n",
              "      <th></th>\n",
              "      <th>review_title</th>\n",
              "      <th>overall_review</th>\n",
              "      <th>pros</th>\n",
              "      <th>cons</th>\n",
              "    </tr>\n",
              "  </thead>\n",
              "  <tbody>\n",
              "    <tr>\n",
              "      <th>0</th>\n",
              "      <td>solid</td>\n",
              "      <td>buy it you will not regret this purchase</td>\n",
              "      <td>reliable fast silent cool running drive highly...</td>\n",
              "      <td>NaN</td>\n",
              "    </tr>\n",
              "    <tr>\n",
              "      <th>1</th>\n",
              "      <td>nice drive for price even cheaper by todays costs</td>\n",
              "      <td>good drive price</td>\n",
              "      <td>been running almost constantly since when i pu...</td>\n",
              "      <td>NaN</td>\n",
              "    </tr>\n",
              "    <tr>\n",
              "      <th>2</th>\n",
              "      <td>perfect</td>\n",
              "      <td>used this drive as my boot drive and only data...</td>\n",
              "      <td>good value decently fast good longevity</td>\n",
              "      <td>none so far</td>\n",
              "    </tr>\n",
              "    <tr>\n",
              "      <th>3</th>\n",
              "      <td>very snappy</td>\n",
              "      <td>os boots quicker os menus pop up quicker gamin...</td>\n",
              "      <td>noticeable improvement in os performance over ...</td>\n",
              "      <td>samsung magician software causes some games to...</td>\n",
              "    </tr>\n",
              "    <tr>\n",
              "      <th>4</th>\n",
              "      <td>worth the hype</td>\n",
              "      <td>this was the sdd that everyone said to get and...</td>\n",
              "      <td>NaN</td>\n",
              "      <td>NaN</td>\n",
              "    </tr>\n",
              "  </tbody>\n",
              "</table>\n",
              "</div>"
            ],
            "text/plain": [
              "                                        review_title  \\\n",
              "0                                              solid   \n",
              "1  nice drive for price even cheaper by todays costs   \n",
              "2                                            perfect   \n",
              "3                                        very snappy   \n",
              "4                                     worth the hype   \n",
              "\n",
              "                                      overall_review  \\\n",
              "0           buy it you will not regret this purchase   \n",
              "1                                   good drive price   \n",
              "2  used this drive as my boot drive and only data...   \n",
              "3  os boots quicker os menus pop up quicker gamin...   \n",
              "4  this was the sdd that everyone said to get and...   \n",
              "\n",
              "                                                pros  \\\n",
              "0  reliable fast silent cool running drive highly...   \n",
              "1  been running almost constantly since when i pu...   \n",
              "2            good value decently fast good longevity   \n",
              "3  noticeable improvement in os performance over ...   \n",
              "4                                                NaN   \n",
              "\n",
              "                                                cons  \n",
              "0                                                NaN  \n",
              "1                                                NaN  \n",
              "2                                        none so far  \n",
              "3  samsung magician software causes some games to...  \n",
              "4                                                NaN  "
            ]
          },
          "metadata": {
            "tags": []
          },
          "execution_count": 16
        }
      ]
    },
    {
      "cell_type": "markdown",
      "metadata": {
        "id": "HjRp0SgEqn9Z"
      },
      "source": [
        "#### Replace null values (NaN) with blanks"
      ]
    },
    {
      "cell_type": "code",
      "metadata": {
        "id": "CZr_sR_Tqs1x",
        "colab": {
          "base_uri": "https://localhost:8080/"
        },
        "outputId": "eab34410-7327-4ac6-95f9-9d3d88c3bbdf"
      },
      "source": [
        "text_data.isnull().sum()"
      ],
      "execution_count": 17,
      "outputs": [
        {
          "output_type": "execute_result",
          "data": {
            "text/plain": [
              "review_title       96\n",
              "overall_review    779\n",
              "pros               22\n",
              "cons               11\n",
              "dtype: int64"
            ]
          },
          "metadata": {
            "tags": []
          },
          "execution_count": 17
        }
      ]
    },
    {
      "cell_type": "code",
      "metadata": {
        "id": "i-oefzCAwrKU"
      },
      "source": [
        "text_data.fillna(' ', inplace = True)"
      ],
      "execution_count": 18,
      "outputs": []
    },
    {
      "cell_type": "markdown",
      "metadata": {
        "id": "ykjSdW1tqs-z"
      },
      "source": [
        "#### Join all text items in a row that have a space in between and Add a new column (with the newly created combined reviews) to the dataframe."
      ]
    },
    {
      "cell_type": "code",
      "metadata": {
        "id": "9fJpSb-ZuSTr"
      },
      "source": [
        "combined_data = text_data.apply(lambda x : \" \".join(x), axis = 1)"
      ],
      "execution_count": 19,
      "outputs": []
    },
    {
      "cell_type": "code",
      "metadata": {
        "id": "0VHzRd1gq1lY"
      },
      "source": [
        "data = pd.DataFrame(combined_data, columns = ['combined_reviews'])"
      ],
      "execution_count": 20,
      "outputs": []
    },
    {
      "cell_type": "code",
      "metadata": {
        "colab": {
          "base_uri": "https://localhost:8080/",
          "height": 204
        },
        "id": "D6eVZuqdythd",
        "outputId": "9ed05d56-54a2-4d5c-94aa-84d4c1ab3445"
      },
      "source": [
        "data['rating_stars'] = df['rating_stars']\n",
        "data.head()"
      ],
      "execution_count": 21,
      "outputs": [
        {
          "output_type": "execute_result",
          "data": {
            "text/html": [
              "<div>\n",
              "<style scoped>\n",
              "    .dataframe tbody tr th:only-of-type {\n",
              "        vertical-align: middle;\n",
              "    }\n",
              "\n",
              "    .dataframe tbody tr th {\n",
              "        vertical-align: top;\n",
              "    }\n",
              "\n",
              "    .dataframe thead th {\n",
              "        text-align: right;\n",
              "    }\n",
              "</style>\n",
              "<table border=\"1\" class=\"dataframe\">\n",
              "  <thead>\n",
              "    <tr style=\"text-align: right;\">\n",
              "      <th></th>\n",
              "      <th>combined_reviews</th>\n",
              "      <th>rating_stars</th>\n",
              "    </tr>\n",
              "  </thead>\n",
              "  <tbody>\n",
              "    <tr>\n",
              "      <th>0</th>\n",
              "      <td>solid buy it you will not regret this purchase...</td>\n",
              "      <td>5</td>\n",
              "    </tr>\n",
              "    <tr>\n",
              "      <th>1</th>\n",
              "      <td>nice drive for price even cheaper by todays co...</td>\n",
              "      <td>5</td>\n",
              "    </tr>\n",
              "    <tr>\n",
              "      <th>2</th>\n",
              "      <td>perfect used this drive as my boot drive and o...</td>\n",
              "      <td>5</td>\n",
              "    </tr>\n",
              "    <tr>\n",
              "      <th>3</th>\n",
              "      <td>very snappy os boots quicker os menus pop up q...</td>\n",
              "      <td>5</td>\n",
              "    </tr>\n",
              "    <tr>\n",
              "      <th>4</th>\n",
              "      <td>worth the hype this was the sdd that everyone ...</td>\n",
              "      <td>5</td>\n",
              "    </tr>\n",
              "  </tbody>\n",
              "</table>\n",
              "</div>"
            ],
            "text/plain": [
              "                                    combined_reviews  rating_stars\n",
              "0  solid buy it you will not regret this purchase...             5\n",
              "1  nice drive for price even cheaper by todays co...             5\n",
              "2  perfect used this drive as my boot drive and o...             5\n",
              "3  very snappy os boots quicker os menus pop up q...             5\n",
              "4  worth the hype this was the sdd that everyone ...             5"
            ]
          },
          "metadata": {
            "tags": []
          },
          "execution_count": 21
        }
      ]
    },
    {
      "cell_type": "markdown",
      "metadata": {
        "id": "QLnNIq2iJQBn"
      },
      "source": [
        "#### Check if there are any null values and drop NaN values if any"
      ]
    },
    {
      "cell_type": "code",
      "metadata": {
        "id": "QOf3hTpcszKC",
        "colab": {
          "base_uri": "https://localhost:8080/"
        },
        "outputId": "52bc58b5-6d12-4ea0-ed15-f806099b14f7"
      },
      "source": [
        "data.isnull().sum()"
      ],
      "execution_count": 22,
      "outputs": [
        {
          "output_type": "execute_result",
          "data": {
            "text/plain": [
              "combined_reviews    0\n",
              "rating_stars        0\n",
              "dtype: int64"
            ]
          },
          "metadata": {
            "tags": []
          },
          "execution_count": 22
        }
      ]
    },
    {
      "cell_type": "markdown",
      "metadata": {
        "id": "qS5NmyvzHMws"
      },
      "source": [
        "#### Calculate the length of each review and add it to the dataframe"
      ]
    },
    {
      "cell_type": "code",
      "metadata": {
        "id": "TdMWM0jBHNzO"
      },
      "source": [
        "data['len'] = data['combined_reviews'].apply(lambda x : len(x.split(\" \")))"
      ],
      "execution_count": 23,
      "outputs": []
    },
    {
      "cell_type": "code",
      "metadata": {
        "colab": {
          "base_uri": "https://localhost:8080/",
          "height": 204
        },
        "id": "41y1WgR41l4S",
        "outputId": "21e786c3-a107-4fa1-e26a-4b362c82e6ec"
      },
      "source": [
        "data.head()"
      ],
      "execution_count": 24,
      "outputs": [
        {
          "output_type": "execute_result",
          "data": {
            "text/html": [
              "<div>\n",
              "<style scoped>\n",
              "    .dataframe tbody tr th:only-of-type {\n",
              "        vertical-align: middle;\n",
              "    }\n",
              "\n",
              "    .dataframe tbody tr th {\n",
              "        vertical-align: top;\n",
              "    }\n",
              "\n",
              "    .dataframe thead th {\n",
              "        text-align: right;\n",
              "    }\n",
              "</style>\n",
              "<table border=\"1\" class=\"dataframe\">\n",
              "  <thead>\n",
              "    <tr style=\"text-align: right;\">\n",
              "      <th></th>\n",
              "      <th>combined_reviews</th>\n",
              "      <th>rating_stars</th>\n",
              "      <th>len</th>\n",
              "    </tr>\n",
              "  </thead>\n",
              "  <tbody>\n",
              "    <tr>\n",
              "      <th>0</th>\n",
              "      <td>solid buy it you will not regret this purchase...</td>\n",
              "      <td>5</td>\n",
              "      <td>19</td>\n",
              "    </tr>\n",
              "    <tr>\n",
              "      <th>1</th>\n",
              "      <td>nice drive for price even cheaper by todays co...</td>\n",
              "      <td>5</td>\n",
              "      <td>42</td>\n",
              "    </tr>\n",
              "    <tr>\n",
              "      <th>2</th>\n",
              "      <td>perfect used this drive as my boot drive and o...</td>\n",
              "      <td>5</td>\n",
              "      <td>65</td>\n",
              "    </tr>\n",
              "    <tr>\n",
              "      <th>3</th>\n",
              "      <td>very snappy os boots quicker os menus pop up q...</td>\n",
              "      <td>5</td>\n",
              "      <td>42</td>\n",
              "    </tr>\n",
              "    <tr>\n",
              "      <th>4</th>\n",
              "      <td>worth the hype this was the sdd that everyone ...</td>\n",
              "      <td>5</td>\n",
              "      <td>32</td>\n",
              "    </tr>\n",
              "  </tbody>\n",
              "</table>\n",
              "</div>"
            ],
            "text/plain": [
              "                                    combined_reviews  rating_stars  len\n",
              "0  solid buy it you will not regret this purchase...             5   19\n",
              "1  nice drive for price even cheaper by todays co...             5   42\n",
              "2  perfect used this drive as my boot drive and o...             5   65\n",
              "3  very snappy os boots quicker os menus pop up q...             5   42\n",
              "4  worth the hype this was the sdd that everyone ...             5   32"
            ]
          },
          "metadata": {
            "tags": []
          },
          "execution_count": 24
        }
      ]
    },
    {
      "cell_type": "markdown",
      "metadata": {
        "id": "8FyfpsW4uNN-"
      },
      "source": [
        "#### Check summary stats of the length column"
      ]
    },
    {
      "cell_type": "code",
      "metadata": {
        "id": "cMEp309bHPSm",
        "colab": {
          "base_uri": "https://localhost:8080/"
        },
        "outputId": "f90a8d4d-9ea7-42a5-cc7f-4ff38ff1d655"
      },
      "source": [
        "data['len'].describe()"
      ],
      "execution_count": 25,
      "outputs": [
        {
          "output_type": "execute_result",
          "data": {
            "text/plain": [
              "count   2227.0000000\n",
              "mean      85.2752582\n",
              "std       87.3063671\n",
              "min        6.0000000\n",
              "25%       31.0000000\n",
              "50%       60.0000000\n",
              "75%      109.0000000\n",
              "max     1615.0000000\n",
              "Name: len, dtype: float64"
            ]
          },
          "metadata": {
            "tags": []
          },
          "execution_count": 25
        }
      ]
    },
    {
      "cell_type": "markdown",
      "metadata": {
        "id": "JtFWZfZjJSJY"
      },
      "source": [
        "### 4.5 Analyzing and preparing the text data\n"
      ]
    },
    {
      "cell_type": "markdown",
      "metadata": {
        "id": "FL0mW8oPJVyq"
      },
      "source": [
        "#### Set the max length of each review to 25 since it results in faster training (however, you are free to change this)\n",
        "#### Set max_features to 10000 and embedding size to 50"
      ]
    },
    {
      "cell_type": "code",
      "metadata": {
        "id": "T7Ma4u3kSOD3"
      },
      "source": [
        "max_features = 10000\n",
        "maxlen = 25\n",
        "embedding_size = 50"
      ],
      "execution_count": 26,
      "outputs": []
    },
    {
      "cell_type": "markdown",
      "metadata": {
        "id": "qph71mXtJyWM"
      },
      "source": [
        "#### Tokenize the cobined text data. You can use the Tokenizer from tensorflow.keras.preprocessing.text. Check the number of samples post tokenization."
      ]
    },
    {
      "cell_type": "code",
      "metadata": {
        "id": "hvn5Bssu6MoQ"
      },
      "source": [
        "from tensorflow.keras.preprocessing.text import Tokenizer"
      ],
      "execution_count": 27,
      "outputs": []
    },
    {
      "cell_type": "code",
      "metadata": {
        "colab": {
          "base_uri": "https://localhost:8080/"
        },
        "id": "DmFyUcJP5E9p",
        "outputId": "65d6d1a5-1cc0-4e19-8680-8da073ba8d0b"
      },
      "source": [
        "tokenizer = Tokenizer(num_words=max_features)\n",
        "tokenizer.fit_on_texts(data['combined_reviews'])\n",
        "X = tokenizer.texts_to_sequences(data['combined_reviews'])\n",
        "print(\"no of samples:\", len(X))\n",
        "print(X[0])"
      ],
      "execution_count": 28,
      "outputs": [
        {
          "output_type": "stream",
          "text": [
            "no of samples: 2227\n",
            "[232, 93, 6, 19, 54, 22, 829, 10, 248, 162, 16, 830, 550, 145, 7, 264, 126]\n"
          ],
          "name": "stdout"
        }
      ]
    },
    {
      "cell_type": "markdown",
      "metadata": {
        "id": "HXy2gZrkJ0f_"
      },
      "source": [
        "#### Pad the above tokenized reviews data save it as independent features. Use max_len for the same."
      ]
    },
    {
      "cell_type": "code",
      "metadata": {
        "id": "mV-KtcR06OAr"
      },
      "source": [
        "from tensorflow.keras.preprocessing.sequence import pad_sequences\n",
        "import numpy as np"
      ],
      "execution_count": 29,
      "outputs": []
    },
    {
      "cell_type": "code",
      "metadata": {
        "colab": {
          "base_uri": "https://localhost:8080/"
        },
        "id": "-s9rv3k_7S79",
        "outputId": "0a506c39-625f-446c-9497-4dd11adf7a45"
      },
      "source": [
        "X = pad_sequences(X, maxlen = maxlen)\n",
        "y = np.asarray(data['rating_stars'])\n",
        "print('number of labels', len(y))\n",
        "print(y[0])"
      ],
      "execution_count": 30,
      "outputs": [
        {
          "output_type": "stream",
          "text": [
            "number of labels 2227\n",
            "5\n"
          ],
          "name": "stdout"
        }
      ]
    },
    {
      "cell_type": "markdown",
      "metadata": {
        "id": "XVT7dRRUHsgR"
      },
      "source": [
        "#### Check the shape of X (padded tokenized review data) and y (rating_stars) data."
      ]
    },
    {
      "cell_type": "code",
      "metadata": {
        "id": "SXc3DOi9Hz6O",
        "colab": {
          "base_uri": "https://localhost:8080/"
        },
        "outputId": "622533c2-57c8-4c69-c72b-c8d37f3f60c2"
      },
      "source": [
        "X.shape"
      ],
      "execution_count": 31,
      "outputs": [
        {
          "output_type": "execute_result",
          "data": {
            "text/plain": [
              "(2227, 25)"
            ]
          },
          "metadata": {
            "tags": []
          },
          "execution_count": 31
        }
      ]
    },
    {
      "cell_type": "code",
      "metadata": {
        "colab": {
          "base_uri": "https://localhost:8080/"
        },
        "id": "z0Af_p4l9KQQ",
        "outputId": "f00d0b3f-a050-46d8-c538-8b6c4ed49020"
      },
      "source": [
        "X[0]"
      ],
      "execution_count": 32,
      "outputs": [
        {
          "output_type": "execute_result",
          "data": {
            "text/plain": [
              "array([  0,   0,   0,   0,   0,   0,   0,   0, 232,  93,   6,  19,  54,\n",
              "        22, 829,  10, 248, 162,  16, 830, 550, 145,   7, 264, 126],\n",
              "      dtype=int32)"
            ]
          },
          "metadata": {
            "tags": []
          },
          "execution_count": 32
        }
      ]
    },
    {
      "cell_type": "markdown",
      "metadata": {
        "id": "A5GlWwKnJ7ie"
      },
      "source": [
        "#### Check the total number of words in the dictionary (of tekenizer)"
      ]
    },
    {
      "cell_type": "code",
      "metadata": {
        "id": "oR0W8MdX6V3A",
        "colab": {
          "base_uri": "https://localhost:8080/"
        },
        "outputId": "3652dbe0-046d-44bc-9b3c-55c0e87212e8"
      },
      "source": [
        "num_words = len(tokenizer.word_index) + 1\n",
        "print(num_words)"
      ],
      "execution_count": 33,
      "outputs": [
        {
          "output_type": "stream",
          "text": [
            "8839\n"
          ],
          "name": "stdout"
        }
      ]
    },
    {
      "cell_type": "markdown",
      "metadata": {
        "id": "RKa3eYLDJ_yO"
      },
      "source": [
        "### 4.6 Compute the glove embeddings. Use the provided txt file for the same."
      ]
    },
    {
      "cell_type": "markdown",
      "metadata": {
        "id": "WNwPD9EmIbMt"
      },
      "source": [
        "#### Read the glove embeddings from the file provided titled ‘glove.6B.50d.txt’. And save it to a dictotionary having word and corresponding embedding vector."
      ]
    },
    {
      "cell_type": "code",
      "metadata": {
        "id": "bNd9ZFjuIp3g"
      },
      "source": [
        "embedding_file = '/content/drive/MyDrive/Colab Notebooks/Lab/glove.6B.50d.txt'\n",
        "embeddings = {}\n",
        "for o in open(embedding_file):\n",
        "  word = o.split(' ')[0]\n",
        "  embd = o.split(' ')[1:]\n",
        "  embd = np.array(embd, dtype = 'float32')\n",
        "  embeddings[word] = embd"
      ],
      "execution_count": 34,
      "outputs": []
    },
    {
      "cell_type": "code",
      "metadata": {
        "colab": {
          "base_uri": "https://localhost:8080/"
        },
        "id": "W9mqTVEEAGdM",
        "outputId": "68a62a8d-bfb2-4264-f5bf-5ebb5c23958b"
      },
      "source": [
        "len(embeddings.values())"
      ],
      "execution_count": 35,
      "outputs": [
        {
          "output_type": "execute_result",
          "data": {
            "text/plain": [
              "400000"
            ]
          },
          "metadata": {
            "tags": []
          },
          "execution_count": 35
        }
      ]
    },
    {
      "cell_type": "markdown",
      "metadata": {
        "id": "EuolWkfmIqCJ"
      },
      "source": [
        "#### Create a weight matrix for words in the training docs"
      ]
    },
    {
      "cell_type": "code",
      "metadata": {
        "id": "BGHZ0nIaI0Ar"
      },
      "source": [
        "embedding_matrix = np.zeros((num_words, 50))\n",
        "for word, i in tokenizer.word_index.items():\n",
        "  embedding_vector = embeddings.get(word)\n",
        "  if embedding_vector is not None:\n",
        "    embedding_matrix[i] = embedding_vector"
      ],
      "execution_count": 36,
      "outputs": []
    },
    {
      "cell_type": "markdown",
      "metadata": {
        "id": "-DdpiQZ9_Fiq"
      },
      "source": [
        "#### Check length of the embedding"
      ]
    },
    {
      "cell_type": "code",
      "metadata": {
        "colab": {
          "base_uri": "https://localhost:8080/"
        },
        "id": "PDpCB2_3IpPJ",
        "outputId": "4799fd3a-419d-4bfc-b305-a9d77c94a2e6"
      },
      "source": [
        "len(embeddings.values())"
      ],
      "execution_count": 37,
      "outputs": [
        {
          "output_type": "execute_result",
          "data": {
            "text/plain": [
              "400000"
            ]
          },
          "metadata": {
            "tags": []
          },
          "execution_count": 37
        }
      ]
    },
    {
      "cell_type": "code",
      "metadata": {
        "id": "8bcs-LtYILlO",
        "colab": {
          "base_uri": "https://localhost:8080/"
        },
        "outputId": "0e600db4-789e-4025-9604-42305acfe118"
      },
      "source": [
        "embedding_matrix.shape"
      ],
      "execution_count": 38,
      "outputs": [
        {
          "output_type": "execute_result",
          "data": {
            "text/plain": [
              "(8839, 50)"
            ]
          },
          "metadata": {
            "tags": []
          },
          "execution_count": 38
        }
      ]
    },
    {
      "cell_type": "code",
      "metadata": {
        "colab": {
          "base_uri": "https://localhost:8080/"
        },
        "id": "lWCIJIlCDGDG",
        "outputId": "1107b7e1-f53e-446a-d2f3-42e2400c5e01"
      },
      "source": [
        "embedding_matrix[1]"
      ],
      "execution_count": 39,
      "outputs": [
        {
          "output_type": "execute_result",
          "data": {
            "text/plain": [
              "array([ 4.18000013e-01,  2.49679998e-01, -4.12420005e-01,  1.21699996e-01,\n",
              "        3.45270008e-01, -4.44569997e-02, -4.96879995e-01, -1.78619996e-01,\n",
              "       -6.60229998e-04, -6.56599998e-01,  2.78430015e-01, -1.47670001e-01,\n",
              "       -5.56770027e-01,  1.46579996e-01, -9.50950012e-03,  1.16579998e-02,\n",
              "        1.02040000e-01, -1.27920002e-01, -8.44299972e-01, -1.21809997e-01,\n",
              "       -1.68009996e-02, -3.32789987e-01, -1.55200005e-01, -2.31309995e-01,\n",
              "       -1.91809997e-01, -1.88230002e+00, -7.67459989e-01,  9.90509987e-02,\n",
              "       -4.21249986e-01, -1.95260003e-01,  4.00710011e+00, -1.85939997e-01,\n",
              "       -5.22870004e-01, -3.16810012e-01,  5.92130003e-04,  7.44489999e-03,\n",
              "        1.77780002e-01, -1.58969998e-01,  1.20409997e-02, -5.42230010e-02,\n",
              "       -2.98709989e-01, -1.57490000e-01, -3.47579986e-01, -4.56370004e-02,\n",
              "       -4.42510009e-01,  1.87849998e-01,  2.78489990e-03, -1.84110001e-01,\n",
              "       -1.15139998e-01, -7.85809994e-01])"
            ]
          },
          "metadata": {
            "tags": []
          },
          "execution_count": 39
        }
      ]
    },
    {
      "cell_type": "markdown",
      "metadata": {
        "id": "xVPf3X5MKGpm"
      },
      "source": [
        "### 4.7 Target Feature:- One hot encode the target variable (rating_stars)"
      ]
    },
    {
      "cell_type": "code",
      "metadata": {
        "id": "7PVDBmkjJC4n"
      },
      "source": [
        "from sklearn.preprocessing import OneHotEncoder\n",
        "enc = OneHotEncoder()\n",
        "y_encoded = enc.fit_transform(y.reshape(-1, 1))"
      ],
      "execution_count": 40,
      "outputs": []
    },
    {
      "cell_type": "code",
      "metadata": {
        "colab": {
          "base_uri": "https://localhost:8080/"
        },
        "id": "_ko3ynazIzIM",
        "outputId": "7a510bba-dd41-45c9-b49b-2015842c6cf9"
      },
      "source": [
        "y_encoded[0]"
      ],
      "execution_count": 41,
      "outputs": [
        {
          "output_type": "execute_result",
          "data": {
            "text/plain": [
              "<1x5 sparse matrix of type '<class 'numpy.float64'>'\n",
              "\twith 1 stored elements in Compressed Sparse Row format>"
            ]
          },
          "metadata": {
            "tags": []
          },
          "execution_count": 41
        }
      ]
    },
    {
      "cell_type": "code",
      "metadata": {
        "colab": {
          "base_uri": "https://localhost:8080/"
        },
        "id": "QRH0z1EiI6tN",
        "outputId": "43eebc57-0e9c-4f33-9a6d-dae79a775122"
      },
      "source": [
        "y_encoded = y_encoded.todense()\n",
        "y_encoded"
      ],
      "execution_count": 42,
      "outputs": [
        {
          "output_type": "execute_result",
          "data": {
            "text/plain": [
              "matrix([[0., 0., 0., 0., 1.],\n",
              "        [0., 0., 0., 0., 1.],\n",
              "        [0., 0., 0., 0., 1.],\n",
              "        ...,\n",
              "        [0., 0., 0., 0., 1.],\n",
              "        [0., 0., 0., 0., 1.],\n",
              "        [0., 0., 0., 0., 1.]])"
            ]
          },
          "metadata": {
            "tags": []
          },
          "execution_count": 42
        }
      ]
    },
    {
      "cell_type": "markdown",
      "metadata": {
        "id": "5dqPXETLKN0h"
      },
      "source": [
        "### 4.8 Split the data into Train & Test sets"
      ]
    },
    {
      "cell_type": "code",
      "metadata": {
        "id": "FFJ1oEUmJEEW"
      },
      "source": [
        "from sklearn.model_selection import train_test_split\n",
        "X_train, X_test, y_train, y_test = train_test_split(X, y_encoded, random_state = 3,\n",
        "                                                    test_size = 0.3, stratify = y_encoded)"
      ],
      "execution_count": 43,
      "outputs": []
    },
    {
      "cell_type": "code",
      "metadata": {
        "colab": {
          "base_uri": "https://localhost:8080/"
        },
        "id": "1z5OQWvhJz6y",
        "outputId": "961b23de-07d2-4ddf-beae-9ffbe1879119"
      },
      "source": [
        "X_train.shape"
      ],
      "execution_count": 44,
      "outputs": [
        {
          "output_type": "execute_result",
          "data": {
            "text/plain": [
              "(1558, 25)"
            ]
          },
          "metadata": {
            "tags": []
          },
          "execution_count": 44
        }
      ]
    },
    {
      "cell_type": "code",
      "metadata": {
        "colab": {
          "base_uri": "https://localhost:8080/"
        },
        "id": "trodasHMJ4u2",
        "outputId": "de7d7b90-a8cb-4573-a68b-52cba828cad5"
      },
      "source": [
        "X_test.shape"
      ],
      "execution_count": 45,
      "outputs": [
        {
          "output_type": "execute_result",
          "data": {
            "text/plain": [
              "(669, 25)"
            ]
          },
          "metadata": {
            "tags": []
          },
          "execution_count": 45
        }
      ]
    },
    {
      "cell_type": "markdown",
      "metadata": {
        "id": "rhD1a-beKvE7"
      },
      "source": [
        "## 5. Model building"
      ]
    },
    {
      "cell_type": "code",
      "metadata": {
        "id": "nNwyIoG9Jy8v"
      },
      "source": [
        "import tensorflow as tf\n",
        "from tensorflow.keras.models import Sequential\n",
        "from tensorflow.keras.layers import Dense, Embedding, LSTM, Dropout, Flatten"
      ],
      "execution_count": 46,
      "outputs": []
    },
    {
      "cell_type": "markdown",
      "metadata": {
        "id": "bRmxklYnKvxk"
      },
      "source": [
        "### 5.1 Construct a neural network architecture using embedding and LSTM layers for building the rating prediction model.\n",
        "- Use the num_words, embedding_size from the above tokenizer and embeddings respectively\n",
        "- Use weights from the above embedding matrix\n",
        "- Use input length as the maxlen\n",
        "- Add LSTM layers"
      ]
    },
    {
      "cell_type": "code",
      "metadata": {
        "id": "teWUf5rPMAto"
      },
      "source": [
        "tf.keras.backend.clear_session()\n",
        "model = Sequential()\n",
        "\n",
        "model.add(Embedding(num_words, embedding_size, weights = [embedding_matrix], input_length = maxlen))\n",
        "model.add(LSTM(128, return_sequences = True))\n",
        "model.add(Flatten())\n",
        "model.add(Dense(512, activation = 'relu'))\n",
        "model.add(Dense(256, activation = 'relu'))\n",
        "model.add(Dense(128, activation = 'relu'))\n",
        "model.add(Dense(64, activation = 'relu'))\n",
        "model.add(Dropout(0.3))\n",
        "model.add(Dense(5, activation = 'softmax'))"
      ],
      "execution_count": 47,
      "outputs": []
    },
    {
      "cell_type": "markdown",
      "metadata": {
        "id": "iN0P-a6X_jAb"
      },
      "source": [
        "### 5.2 Compile the model using appropriate loss, optimizer, and accuracy metric"
      ]
    },
    {
      "cell_type": "code",
      "metadata": {
        "id": "8Kyk9kPxNCMb"
      },
      "source": [
        "model.compile(loss = 'categorical_crossentropy', optimizer = 'adam',\n",
        "              metrics = ['accuracy'])"
      ],
      "execution_count": 48,
      "outputs": []
    },
    {
      "cell_type": "code",
      "metadata": {
        "colab": {
          "base_uri": "https://localhost:8080/"
        },
        "id": "5azQoio4Pb1b",
        "outputId": "cb79d330-5645-4876-8bab-deaacb6eaa7b"
      },
      "source": [
        "model.summary()"
      ],
      "execution_count": 49,
      "outputs": [
        {
          "output_type": "stream",
          "text": [
            "Model: \"sequential\"\n",
            "_________________________________________________________________\n",
            "Layer (type)                 Output Shape              Param #   \n",
            "=================================================================\n",
            "embedding (Embedding)        (None, 25, 50)            441950    \n",
            "_________________________________________________________________\n",
            "lstm (LSTM)                  (None, 25, 128)           91648     \n",
            "_________________________________________________________________\n",
            "flatten (Flatten)            (None, 3200)              0         \n",
            "_________________________________________________________________\n",
            "dense (Dense)                (None, 512)               1638912   \n",
            "_________________________________________________________________\n",
            "dense_1 (Dense)              (None, 256)               131328    \n",
            "_________________________________________________________________\n",
            "dense_2 (Dense)              (None, 128)               32896     \n",
            "_________________________________________________________________\n",
            "dense_3 (Dense)              (None, 64)                8256      \n",
            "_________________________________________________________________\n",
            "dropout (Dropout)            (None, 64)                0         \n",
            "_________________________________________________________________\n",
            "dense_4 (Dense)              (None, 5)                 325       \n",
            "=================================================================\n",
            "Total params: 2,345,315\n",
            "Trainable params: 2,345,315\n",
            "Non-trainable params: 0\n",
            "_________________________________________________________________\n"
          ],
          "name": "stdout"
        }
      ]
    },
    {
      "cell_type": "markdown",
      "metadata": {
        "id": "tIODqXJK_qrQ"
      },
      "source": [
        "### 5.3 Fit the model"
      ]
    },
    {
      "cell_type": "code",
      "metadata": {
        "id": "fEX-_bd2NDPW",
        "colab": {
          "base_uri": "https://localhost:8080/"
        },
        "outputId": "4313b651-f0bb-4db2-bb4a-adca55dbaadf"
      },
      "source": [
        "training_history = model.fit(X_train, y_train, batch_size = 128, \n",
        "                             epochs = 30, validation_data = (X_test, y_test))"
      ],
      "execution_count": 50,
      "outputs": [
        {
          "output_type": "stream",
          "text": [
            "Epoch 1/30\n",
            "13/13 [==============================] - 5s 195ms/step - loss: 0.9620 - accuracy: 0.7683 - val_loss: 0.7758 - val_accuracy: 0.7892\n",
            "Epoch 2/30\n",
            "13/13 [==============================] - 2s 147ms/step - loss: 0.7669 - accuracy: 0.7882 - val_loss: 0.7187 - val_accuracy: 0.7892\n",
            "Epoch 3/30\n",
            "13/13 [==============================] - 2s 135ms/step - loss: 0.6930 - accuracy: 0.7882 - val_loss: 0.6942 - val_accuracy: 0.7892\n",
            "Epoch 4/30\n",
            "13/13 [==============================] - 2s 150ms/step - loss: 0.6397 - accuracy: 0.7875 - val_loss: 0.6973 - val_accuracy: 0.7833\n",
            "Epoch 5/30\n",
            "13/13 [==============================] - 2s 152ms/step - loss: 0.6072 - accuracy: 0.7946 - val_loss: 0.6838 - val_accuracy: 0.7907\n",
            "Epoch 6/30\n",
            "13/13 [==============================] - 2s 139ms/step - loss: 0.5474 - accuracy: 0.8049 - val_loss: 0.6998 - val_accuracy: 0.8027\n",
            "Epoch 7/30\n",
            "13/13 [==============================] - 2s 155ms/step - loss: 0.4824 - accuracy: 0.8235 - val_loss: 0.7602 - val_accuracy: 0.8012\n",
            "Epoch 8/30\n",
            "13/13 [==============================] - 2s 135ms/step - loss: 0.4057 - accuracy: 0.8447 - val_loss: 0.7722 - val_accuracy: 0.7683\n",
            "Epoch 9/30\n",
            "13/13 [==============================] - 2s 139ms/step - loss: 0.3429 - accuracy: 0.8723 - val_loss: 0.7981 - val_accuracy: 0.7578\n",
            "Epoch 10/30\n",
            "13/13 [==============================] - 2s 140ms/step - loss: 0.2539 - accuracy: 0.9127 - val_loss: 1.1617 - val_accuracy: 0.7818\n",
            "Epoch 11/30\n",
            "13/13 [==============================] - 2s 134ms/step - loss: 0.1876 - accuracy: 0.9268 - val_loss: 1.2223 - val_accuracy: 0.7429\n",
            "Epoch 12/30\n",
            "13/13 [==============================] - 2s 146ms/step - loss: 0.1271 - accuracy: 0.9576 - val_loss: 1.5753 - val_accuracy: 0.7698\n",
            "Epoch 13/30\n",
            "13/13 [==============================] - 2s 155ms/step - loss: 0.1070 - accuracy: 0.9641 - val_loss: 1.6898 - val_accuracy: 0.7848\n",
            "Epoch 14/30\n",
            "13/13 [==============================] - 2s 135ms/step - loss: 0.0976 - accuracy: 0.9698 - val_loss: 1.5088 - val_accuracy: 0.7324\n",
            "Epoch 15/30\n",
            "13/13 [==============================] - 2s 135ms/step - loss: 0.0554 - accuracy: 0.9859 - val_loss: 1.5968 - val_accuracy: 0.7578\n",
            "Epoch 16/30\n",
            "13/13 [==============================] - 2s 142ms/step - loss: 0.0199 - accuracy: 0.9949 - val_loss: 1.9169 - val_accuracy: 0.7698\n",
            "Epoch 17/30\n",
            "13/13 [==============================] - 2s 144ms/step - loss: 0.0098 - accuracy: 0.9987 - val_loss: 2.0111 - val_accuracy: 0.7818\n",
            "Epoch 18/30\n",
            "13/13 [==============================] - 2s 135ms/step - loss: 0.0185 - accuracy: 0.9923 - val_loss: 2.0994 - val_accuracy: 0.7698\n",
            "Epoch 19/30\n",
            "13/13 [==============================] - 2s 149ms/step - loss: 0.0062 - accuracy: 0.9994 - val_loss: 2.2512 - val_accuracy: 0.7877\n",
            "Epoch 20/30\n",
            "13/13 [==============================] - 2s 149ms/step - loss: 0.0038 - accuracy: 0.9994 - val_loss: 2.1464 - val_accuracy: 0.7623\n",
            "Epoch 21/30\n",
            "13/13 [==============================] - 2s 154ms/step - loss: 0.0023 - accuracy: 1.0000 - val_loss: 2.3914 - val_accuracy: 0.7862\n",
            "Epoch 22/30\n",
            "13/13 [==============================] - 2s 142ms/step - loss: 0.0022 - accuracy: 0.9994 - val_loss: 2.3550 - val_accuracy: 0.7758\n",
            "Epoch 23/30\n",
            "13/13 [==============================] - 2s 133ms/step - loss: 9.3808e-04 - accuracy: 1.0000 - val_loss: 2.3628 - val_accuracy: 0.7713\n",
            "Epoch 24/30\n",
            "13/13 [==============================] - 2s 153ms/step - loss: 8.7613e-04 - accuracy: 1.0000 - val_loss: 2.4136 - val_accuracy: 0.7728\n",
            "Epoch 25/30\n",
            "13/13 [==============================] - 2s 139ms/step - loss: 5.4752e-04 - accuracy: 1.0000 - val_loss: 2.4739 - val_accuracy: 0.7713\n",
            "Epoch 26/30\n",
            "13/13 [==============================] - 2s 149ms/step - loss: 4.2404e-04 - accuracy: 1.0000 - val_loss: 2.5119 - val_accuracy: 0.7728\n",
            "Epoch 27/30\n",
            "13/13 [==============================] - 2s 143ms/step - loss: 3.8433e-04 - accuracy: 1.0000 - val_loss: 2.5444 - val_accuracy: 0.7743\n",
            "Epoch 28/30\n",
            "13/13 [==============================] - 2s 151ms/step - loss: 3.1202e-04 - accuracy: 1.0000 - val_loss: 2.5799 - val_accuracy: 0.7698\n",
            "Epoch 29/30\n",
            "13/13 [==============================] - 2s 145ms/step - loss: 1.9067e-04 - accuracy: 1.0000 - val_loss: 2.6043 - val_accuracy: 0.7668\n",
            "Epoch 30/30\n",
            "13/13 [==============================] - 2s 156ms/step - loss: 3.5734e-04 - accuracy: 1.0000 - val_loss: 2.6290 - val_accuracy: 0.7728\n"
          ],
          "name": "stdout"
        }
      ]
    },
    {
      "cell_type": "markdown",
      "metadata": {
        "id": "1iakHzMFNDsz"
      },
      "source": [
        "### 5.4 Predict ratings for test data and check accuracy and confusion matrix"
      ]
    },
    {
      "cell_type": "code",
      "metadata": {
        "id": "erNFghTpNK-j"
      },
      "source": [
        "predictions = model.predict(X_test)"
      ],
      "execution_count": 51,
      "outputs": []
    },
    {
      "cell_type": "code",
      "metadata": {
        "id": "glNaXRZqNLBN"
      },
      "source": [
        "y_test_inv = enc.inverse_transform(y_test)"
      ],
      "execution_count": 52,
      "outputs": []
    },
    {
      "cell_type": "code",
      "metadata": {
        "colab": {
          "base_uri": "https://localhost:8080/"
        },
        "id": "tyCmoc1xSIgc",
        "outputId": "8ae8f016-5075-40ad-b4f6-c96fa6002888"
      },
      "source": [
        "y_test_inv[0]"
      ],
      "execution_count": 53,
      "outputs": [
        {
          "output_type": "execute_result",
          "data": {
            "text/plain": [
              "array([5])"
            ]
          },
          "metadata": {
            "tags": []
          },
          "execution_count": 53
        }
      ]
    },
    {
      "cell_type": "code",
      "metadata": {
        "colab": {
          "base_uri": "https://localhost:8080/"
        },
        "id": "FgyFe1uASSFA",
        "outputId": "86f19f64-edbe-4471-c33d-56ed8bdb5569"
      },
      "source": [
        "predictions[0]"
      ],
      "execution_count": 54,
      "outputs": [
        {
          "output_type": "execute_result",
          "data": {
            "text/plain": [
              "array([2.3392126e-09, 5.3054977e-10, 4.3179429e-09, 2.0367885e-07,\n",
              "       9.9999976e-01], dtype=float32)"
            ]
          },
          "metadata": {
            "tags": []
          },
          "execution_count": 54
        }
      ]
    },
    {
      "cell_type": "code",
      "metadata": {
        "id": "8d3PkNNzSMS2"
      },
      "source": [
        "y_pred_inv = enc.inverse_transform(np.around(predictions))"
      ],
      "execution_count": 55,
      "outputs": []
    },
    {
      "cell_type": "code",
      "metadata": {
        "colab": {
          "base_uri": "https://localhost:8080/"
        },
        "id": "0cGECwnbXOvS",
        "outputId": "acd43eae-f99d-49b6-f09a-3f50322bd9ad"
      },
      "source": [
        "from sklearn.metrics import confusion_matrix\n",
        "confusion_matrix(y_test_inv, y_pred_inv)"
      ],
      "execution_count": 56,
      "outputs": [
        {
          "output_type": "execute_result",
          "data": {
            "text/plain": [
              "array([[ 22,   0,   2,   6,  16],\n",
              "       [  4,   2,   0,   1,  11],\n",
              "       [  4,   0,   4,   4,  11],\n",
              "       [  4,   0,   3,   7,  40],\n",
              "       [  6,   5,  11,  23, 483]])"
            ]
          },
          "metadata": {
            "tags": []
          },
          "execution_count": 56
        }
      ]
    },
    {
      "cell_type": "code",
      "metadata": {
        "colab": {
          "base_uri": "https://localhost:8080/"
        },
        "id": "8SyHMDIqXssA",
        "outputId": "e5502eb4-87d9-4f00-b15c-9b5b6759d131"
      },
      "source": [
        "from sklearn.metrics import accuracy_score, classification_report\n",
        "accuracy_score(y_test_inv, y_pred_inv)"
      ],
      "execution_count": 57,
      "outputs": [
        {
          "output_type": "execute_result",
          "data": {
            "text/plain": [
              "0.7742899850523169"
            ]
          },
          "metadata": {
            "tags": []
          },
          "execution_count": 57
        }
      ]
    },
    {
      "cell_type": "code",
      "metadata": {
        "colab": {
          "base_uri": "https://localhost:8080/"
        },
        "id": "pAeUsCOWX4sD",
        "outputId": "b673ee89-6de8-4b4a-b43a-293b54838003"
      },
      "source": [
        "print(classification_report(y_test_inv, y_pred_inv))"
      ],
      "execution_count": 58,
      "outputs": [
        {
          "output_type": "stream",
          "text": [
            "              precision    recall  f1-score   support\n",
            "\n",
            "           1       0.55      0.48      0.51        46\n",
            "           2       0.29      0.11      0.16        18\n",
            "           3       0.20      0.17      0.19        23\n",
            "           4       0.17      0.13      0.15        54\n",
            "           5       0.86      0.91      0.89       528\n",
            "\n",
            "    accuracy                           0.77       669\n",
            "   macro avg       0.41      0.36      0.38       669\n",
            "weighted avg       0.75      0.77      0.76       669\n",
            "\n"
          ],
          "name": "stdout"
        }
      ]
    },
    {
      "cell_type": "markdown",
      "metadata": {
        "id": "lHyQA-RsNOXT"
      },
      "source": [
        "### 5.5 Display plot of training and validation loss/accuracy wrt to epochs"
      ]
    },
    {
      "cell_type": "code",
      "metadata": {
        "id": "gC7Lb0eSNawO",
        "colab": {
          "base_uri": "https://localhost:8080/",
          "height": 579
        },
        "outputId": "6c45c8ad-fa84-406f-ab22-480bad415976"
      },
      "source": [
        "import matplotlib.pyplot as plt\n",
        "accuracy = training_history.history['accuracy']\n",
        "val_accuracy = training_history.history['val_accuracy']\n",
        "loss = training_history.history['accuracy']\n",
        "val_loss = training_history.history['val_loss']\n",
        "epochs = range(len(accuracy))\n",
        "\n",
        "plt.plot(epochs, accuracy, label = 'Training Accuracy')\n",
        "plt.plot(epochs, val_accuracy, label = 'Validation Accuracy')\n",
        "plt.title('Training and validaiton Accuracy')\n",
        "plt.legend(loc = 'lower right')\n",
        "plt.figure()\n",
        "\n",
        "plt.plot(epochs, loss, label = 'Training loss')\n",
        "plt.plot(epochs, val_loss, label = 'Validation loss')\n",
        "plt.title('Training and validaiton loss')\n",
        "plt.legend(loc = 'lower right')\n",
        "plt.figure()"
      ],
      "execution_count": 59,
      "outputs": [
        {
          "output_type": "execute_result",
          "data": {
            "text/plain": [
              "<Figure size 432x288 with 0 Axes>"
            ]
          },
          "metadata": {
            "tags": []
          },
          "execution_count": 59
        },
        {
          "output_type": "display_data",
          "data": {
            "image/png": "[encoded data removed]",
            "text/plain": [
              "<Figure size 432x288 with 1 Axes>"
            ]
          },
          "metadata": {
            "tags": [],
            "needs_background": "light"
          }
        },
        {
          "output_type": "display_data",
          "data": {
            "image/png": "[encoded data removed]",
            "text/plain": [
              "<Figure size 432x288 with 1 Axes>"
            ]
          },
          "metadata": {
            "tags": [],
            "needs_background": "light"
          }
        },
        {
          "output_type": "display_data",
          "data": {
            "text/plain": [
              "<Figure size 432x288 with 0 Axes>"
            ]
          },
          "metadata": {
            "tags": []
          }
        }
      ]
    },
    {
      "cell_type": "markdown",
      "metadata": {
        "id": "Ey7an7ukLxWB"
      },
      "source": [
        "## 6. Conclusion and Interpretation"
      ]
    },
    {
      "cell_type": "markdown",
      "metadata": {
        "id": "tYwSA5O6GIh7"
      },
      "source": [
        "As we can see from the result, the accuracy is 77%. The F1 score for the 5 stars is better, as, for others, it is low which conclude the model is overfitted. The training is high but validation is low because the model is weak. Additionally, the dataset's label is highly imbalanced which is also responsible for the overfitting. Another reason that the model has performed on a small part of the dataset which also the reason for the overfitting. For a better result, this model needs more layers and a little bit of hyper tuning. Also, if we balance the labels then this model will perform better."
      ]
    },
    {
      "cell_type": "markdown",
      "metadata": {
        "id": "9nwOCcvqxVCH"
      },
      "source": [
        "## 7. Food for thought:\n",
        "\n",
        "1.) Change activation function (try leaky_relu or tanh) and see if it helps in improving model performance with the dataset that is highly imbalanced\n",
        "\n",
        "2.) Try with only the overall review feature and see if it leads to improvement in model performace\n",
        "\n",
        "3.) Change the hyperparameters of the model and compare the results "
      ]
    },
    {
      "cell_type": "code",
      "metadata": {
        "id": "EbCVlF6IKd0a"
      },
      "source": [
        "from tensorflow.keras.layers import LeakyReLU"
      ],
      "execution_count": 60,
      "outputs": []
    },
    {
      "cell_type": "code",
      "metadata": {
        "id": "VCylm4X8Nfik"
      },
      "source": [
        "tf.keras.backend.clear_session()\n",
        "model = Sequential()\n",
        "\n",
        "model.add(Embedding(num_words, embedding_size, weights = [embedding_matrix], input_length = maxlen))\n",
        "model.add(LSTM(128, return_sequences = True))\n",
        "model.add(Flatten())\n",
        "model.add(Dense(512, activation = 'LeakyReLU'))\n",
        "model.add(Dense(512, activation = 'LeakyReLU'))\n",
        "model.add(Dense(256, activation = 'LeakyReLU'))\n",
        "model.add(Dense(128, activation = 'LeakyReLU'))\n",
        "model.add(Dense(64, activation = 'LeakyReLU'))\n",
        "model.add(Dropout(0.2))\n",
        "model.add(Dense(5, activation = 'softmax'))"
      ],
      "execution_count": 61,
      "outputs": []
    },
    {
      "cell_type": "code",
      "metadata": {
        "id": "WDHMdFxtK8o5"
      },
      "source": [
        "model.compile(loss = 'categorical_crossentropy', optimizer = 'adam',\n",
        "              metrics = ['accuracy'])"
      ],
      "execution_count": 62,
      "outputs": []
    },
    {
      "cell_type": "code",
      "metadata": {
        "colab": {
          "base_uri": "https://localhost:8080/"
        },
        "id": "lznrqEFMK9QE",
        "outputId": "4fe62bcc-3d01-4685-e4d2-e9a3ca6d6030"
      },
      "source": [
        "model.summary()"
      ],
      "execution_count": 63,
      "outputs": [
        {
          "output_type": "stream",
          "text": [
            "Model: \"sequential\"\n",
            "_________________________________________________________________\n",
            "Layer (type)                 Output Shape              Param #   \n",
            "=================================================================\n",
            "embedding (Embedding)        (None, 25, 50)            441950    \n",
            "_________________________________________________________________\n",
            "lstm (LSTM)                  (None, 25, 128)           91648     \n",
            "_________________________________________________________________\n",
            "flatten (Flatten)            (None, 3200)              0         \n",
            "_________________________________________________________________\n",
            "dense (Dense)                (None, 512)               1638912   \n",
            "_________________________________________________________________\n",
            "dense_1 (Dense)              (None, 512)               262656    \n",
            "_________________________________________________________________\n",
            "dense_2 (Dense)              (None, 256)               131328    \n",
            "_________________________________________________________________\n",
            "dense_3 (Dense)              (None, 128)               32896     \n",
            "_________________________________________________________________\n",
            "dense_4 (Dense)              (None, 64)                8256      \n",
            "_________________________________________________________________\n",
            "dropout (Dropout)            (None, 64)                0         \n",
            "_________________________________________________________________\n",
            "dense_5 (Dense)              (None, 5)                 325       \n",
            "=================================================================\n",
            "Total params: 2,607,971\n",
            "Trainable params: 2,607,971\n",
            "Non-trainable params: 0\n",
            "_________________________________________________________________\n"
          ],
          "name": "stdout"
        }
      ]
    },
    {
      "cell_type": "code",
      "metadata": {
        "colab": {
          "base_uri": "https://localhost:8080/"
        },
        "id": "U8JuCHPtLAqn",
        "outputId": "3b3ae086-b9f8-45eb-9530-0282518696b9"
      },
      "source": [
        "training_history = model.fit(X_train, y_train, batch_size = 64, \n",
        "                             epochs = 30, validation_data = (X_test, y_test))"
      ],
      "execution_count": 64,
      "outputs": [
        {
          "output_type": "stream",
          "text": [
            "Epoch 1/30\n",
            "25/25 [==============================] - 5s 117ms/step - loss: 0.8965 - accuracy: 0.7574 - val_loss: 0.7665 - val_accuracy: 0.7892\n",
            "Epoch 2/30\n",
            "25/25 [==============================] - 3s 102ms/step - loss: 0.7348 - accuracy: 0.7888 - val_loss: 0.7239 - val_accuracy: 0.7877\n",
            "Epoch 3/30\n",
            "25/25 [==============================] - 2s 97ms/step - loss: 0.6423 - accuracy: 0.7946 - val_loss: 0.6947 - val_accuracy: 0.7982\n",
            "Epoch 4/30\n",
            "25/25 [==============================] - 2s 95ms/step - loss: 0.5298 - accuracy: 0.8203 - val_loss: 0.8006 - val_accuracy: 0.7564\n",
            "Epoch 5/30\n",
            "25/25 [==============================] - 2s 96ms/step - loss: 0.3996 - accuracy: 0.8569 - val_loss: 0.8837 - val_accuracy: 0.7743\n",
            "Epoch 6/30\n",
            "25/25 [==============================] - 2s 95ms/step - loss: 0.2794 - accuracy: 0.9005 - val_loss: 1.1306 - val_accuracy: 0.7593\n",
            "Epoch 7/30\n",
            "25/25 [==============================] - 2s 90ms/step - loss: 0.1475 - accuracy: 0.9538 - val_loss: 1.3765 - val_accuracy: 0.7474\n",
            "Epoch 8/30\n",
            "25/25 [==============================] - 2s 97ms/step - loss: 0.1044 - accuracy: 0.9711 - val_loss: 1.6109 - val_accuracy: 0.7309\n",
            "Epoch 9/30\n",
            "25/25 [==============================] - 3s 104ms/step - loss: 0.0492 - accuracy: 0.9859 - val_loss: 2.3092 - val_accuracy: 0.6233\n",
            "Epoch 10/30\n",
            "25/25 [==============================] - 2s 94ms/step - loss: 0.1422 - accuracy: 0.9583 - val_loss: 1.4290 - val_accuracy: 0.7145\n",
            "Epoch 11/30\n",
            "25/25 [==============================] - 3s 102ms/step - loss: 0.0421 - accuracy: 0.9859 - val_loss: 1.9978 - val_accuracy: 0.7504\n",
            "Epoch 12/30\n",
            "25/25 [==============================] - 2s 100ms/step - loss: 0.0491 - accuracy: 0.9865 - val_loss: 2.0209 - val_accuracy: 0.7280\n",
            "Epoch 13/30\n",
            "25/25 [==============================] - 2s 98ms/step - loss: 0.0651 - accuracy: 0.9807 - val_loss: 1.9283 - val_accuracy: 0.7534\n",
            "Epoch 14/30\n",
            "25/25 [==============================] - 2s 91ms/step - loss: 0.0328 - accuracy: 0.9878 - val_loss: 2.2146 - val_accuracy: 0.7608\n",
            "Epoch 15/30\n",
            "25/25 [==============================] - 2s 99ms/step - loss: 0.0309 - accuracy: 0.9949 - val_loss: 2.1452 - val_accuracy: 0.7354\n",
            "Epoch 16/30\n",
            "25/25 [==============================] - 2s 91ms/step - loss: 0.0125 - accuracy: 0.9968 - val_loss: 2.6734 - val_accuracy: 0.7653\n",
            "Epoch 17/30\n",
            "25/25 [==============================] - 2s 90ms/step - loss: 0.0017 - accuracy: 1.0000 - val_loss: 2.5432 - val_accuracy: 0.7608\n",
            "Epoch 18/30\n",
            "25/25 [==============================] - 2s 100ms/step - loss: 4.5995e-04 - accuracy: 1.0000 - val_loss: 2.6565 - val_accuracy: 0.7593\n",
            "Epoch 19/30\n",
            "25/25 [==============================] - 3s 102ms/step - loss: 7.0199e-04 - accuracy: 1.0000 - val_loss: 2.7327 - val_accuracy: 0.7698\n",
            "Epoch 20/30\n",
            "25/25 [==============================] - 2s 96ms/step - loss: 3.8571e-04 - accuracy: 1.0000 - val_loss: 2.7644 - val_accuracy: 0.7698\n",
            "Epoch 21/30\n",
            "25/25 [==============================] - 2s 95ms/step - loss: 1.5654e-04 - accuracy: 1.0000 - val_loss: 2.7920 - val_accuracy: 0.7698\n",
            "Epoch 22/30\n",
            "25/25 [==============================] - 2s 98ms/step - loss: 1.2859e-04 - accuracy: 1.0000 - val_loss: 2.8333 - val_accuracy: 0.7668\n",
            "Epoch 23/30\n",
            "25/25 [==============================] - 2s 100ms/step - loss: 1.3859e-04 - accuracy: 1.0000 - val_loss: 2.8602 - val_accuracy: 0.7668\n",
            "Epoch 24/30\n",
            "25/25 [==============================] - 2s 94ms/step - loss: 1.1450e-04 - accuracy: 1.0000 - val_loss: 2.8830 - val_accuracy: 0.7683\n",
            "Epoch 25/30\n",
            "25/25 [==============================] - 2s 97ms/step - loss: 7.8716e-05 - accuracy: 1.0000 - val_loss: 2.9076 - val_accuracy: 0.7683\n",
            "Epoch 26/30\n",
            "25/25 [==============================] - 2s 92ms/step - loss: 9.4685e-05 - accuracy: 1.0000 - val_loss: 2.9514 - val_accuracy: 0.7698\n",
            "Epoch 27/30\n",
            "25/25 [==============================] - 2s 98ms/step - loss: 9.5071e-05 - accuracy: 1.0000 - val_loss: 2.9718 - val_accuracy: 0.7698\n",
            "Epoch 28/30\n",
            "25/25 [==============================] - 3s 103ms/step - loss: 5.7184e-05 - accuracy: 1.0000 - val_loss: 2.9881 - val_accuracy: 0.7698\n",
            "Epoch 29/30\n",
            "25/25 [==============================] - 2s 91ms/step - loss: 6.8849e-05 - accuracy: 1.0000 - val_loss: 3.0074 - val_accuracy: 0.7698\n",
            "Epoch 30/30\n",
            "25/25 [==============================] - 3s 101ms/step - loss: 5.8662e-05 - accuracy: 1.0000 - val_loss: 3.0284 - val_accuracy: 0.7683\n"
          ],
          "name": "stdout"
        }
      ]
    },
    {
      "cell_type": "code",
      "metadata": {
        "id": "-Pqpml_QLLVZ"
      },
      "source": [
        "predictions = model.predict(X_test)"
      ],
      "execution_count": 65,
      "outputs": []
    },
    {
      "cell_type": "code",
      "metadata": {
        "id": "uj5HW8H9LLVc"
      },
      "source": [
        "y_test_inv = enc.inverse_transform(y_test)"
      ],
      "execution_count": 66,
      "outputs": []
    },
    {
      "cell_type": "code",
      "metadata": {
        "colab": {
          "base_uri": "https://localhost:8080/"
        },
        "id": "qNfB6GiOLLVd",
        "outputId": "51e2a74a-3227-497b-b850-8e2fdcd5ccfd"
      },
      "source": [
        "y_test_inv[0]"
      ],
      "execution_count": 67,
      "outputs": [
        {
          "output_type": "execute_result",
          "data": {
            "text/plain": [
              "array([5])"
            ]
          },
          "metadata": {
            "tags": []
          },
          "execution_count": 67
        }
      ]
    },
    {
      "cell_type": "code",
      "metadata": {
        "colab": {
          "base_uri": "https://localhost:8080/"
        },
        "id": "tctyidglLLVf",
        "outputId": "42b47ce8-0cde-42bd-ce1a-d7af2433ef9b"
      },
      "source": [
        "predictions[0]"
      ],
      "execution_count": 68,
      "outputs": [
        {
          "output_type": "execute_result",
          "data": {
            "text/plain": [
              "array([1.0676474e-09, 1.2403667e-10, 3.3626655e-08, 4.1776298e-09,\n",
              "       1.0000000e+00], dtype=float32)"
            ]
          },
          "metadata": {
            "tags": []
          },
          "execution_count": 68
        }
      ]
    },
    {
      "cell_type": "code",
      "metadata": {
        "id": "0aa11zPgLLVh"
      },
      "source": [
        "y_pred_inv = enc.inverse_transform(np.around(predictions))"
      ],
      "execution_count": 69,
      "outputs": []
    },
    {
      "cell_type": "code",
      "metadata": {
        "colab": {
          "base_uri": "https://localhost:8080/"
        },
        "id": "p5-Tj4sTLLVi",
        "outputId": "f35e6d62-8378-4ab9-ee4d-3f073f44076c"
      },
      "source": [
        "from sklearn.metrics import confusion_matrix\n",
        "confusion_matrix(y_test_inv, y_pred_inv)"
      ],
      "execution_count": 70,
      "outputs": [
        {
          "output_type": "execute_result",
          "data": {
            "text/plain": [
              "array([[ 18,   3,   0,   3,  22],\n",
              "       [  4,   1,   0,   0,  13],\n",
              "       [  2,   1,   1,   6,  13],\n",
              "       [  3,   1,   2,   6,  42],\n",
              "       [  7,   3,   6,  24, 488]])"
            ]
          },
          "metadata": {
            "tags": []
          },
          "execution_count": 70
        }
      ]
    },
    {
      "cell_type": "code",
      "metadata": {
        "colab": {
          "base_uri": "https://localhost:8080/"
        },
        "id": "Im79jWNGLLVj",
        "outputId": "4072358b-3ca3-43c3-f435-9c23071132f8"
      },
      "source": [
        "from sklearn.metrics import accuracy_score, classification_report\n",
        "accuracy_score(y_test_inv, y_pred_inv)"
      ],
      "execution_count": 71,
      "outputs": [
        {
          "output_type": "execute_result",
          "data": {
            "text/plain": [
              "0.7683109118086696"
            ]
          },
          "metadata": {
            "tags": []
          },
          "execution_count": 71
        }
      ]
    },
    {
      "cell_type": "code",
      "metadata": {
        "colab": {
          "base_uri": "https://localhost:8080/"
        },
        "id": "PmzhBKIuLLVl",
        "outputId": "8ce6a4cf-e704-498d-b567-47044ff8190c"
      },
      "source": [
        "print(classification_report(y_test_inv, y_pred_inv))"
      ],
      "execution_count": 72,
      "outputs": [
        {
          "output_type": "stream",
          "text": [
            "              precision    recall  f1-score   support\n",
            "\n",
            "           1       0.53      0.39      0.45        46\n",
            "           2       0.11      0.06      0.07        18\n",
            "           3       0.11      0.04      0.06        23\n",
            "           4       0.15      0.11      0.13        54\n",
            "           5       0.84      0.92      0.88       528\n",
            "\n",
            "    accuracy                           0.77       669\n",
            "   macro avg       0.35      0.31      0.32       669\n",
            "weighted avg       0.72      0.77      0.74       669\n",
            "\n"
          ],
          "name": "stdout"
        }
      ]
    },
    {
      "cell_type": "markdown",
      "metadata": {
        "id": "VPQgg16lMSrj"
      },
      "source": [
        "Changing the activation function and adding the additional layer didn't improve the model at all. For a good result, the model must have to run on the full dataset."
      ]
    }
  ]
}