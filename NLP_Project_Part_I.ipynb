{
 "cells": [
  {
   "cell_type": "code",
   "execution_count": null,
   "metadata": {
    "colab": {
     "base_uri": "https://localhost:8080/"
    },
    "id": "U2Kl_La8TXYr",
    "outputId": "e08acbc5-1625-4aa0-bcbf-5f7bdbed0b7a"
   },
   "outputs": [
    {
     "name": "stdout",
     "output_type": "stream",
     "text": [
      "Mounted at /content/drive\n"
     ]
    }
   ],
   "source": [
    "from google.colab import drive\n",
    "drive.mount('/content/drive')"
   ]
  },
  {
   "cell_type": "markdown",
   "metadata": {
    "id": "9-S4xi_PMeTy"
   },
   "source": [
    "### Import the Data"
   ]
  },
  {
   "cell_type": "code",
   "execution_count": null,
   "metadata": {
    "id": "fc914984"
   },
   "outputs": [],
   "source": [
    "import pandas as pd\n",
    "import numpy as np"
   ]
  },
  {
   "cell_type": "code",
   "execution_count": null,
   "metadata": {
    "id": "9uLTgiGTbIrR"
   },
   "outputs": [],
   "source": [
    "import warnings\n",
    "warnings.filterwarnings('ignore')"
   ]
  },
  {
   "cell_type": "code",
   "execution_count": null,
   "metadata": {
    "id": "868e7ba3"
   },
   "outputs": [],
   "source": [
    "df_temp = pd.read_csv('/content/drive/MyDrive/Colab Notebooks/Project/Dataset - blogtext.csv')"
   ]
  },
  {
   "cell_type": "code",
   "execution_count": null,
   "metadata": {
    "colab": {
     "base_uri": "https://localhost:8080/"
    },
    "id": "b57fb070",
    "outputId": "d527b42e-2cba-451f-bd31-fdaba47959eb"
   },
   "outputs": [
    {
     "data": {
      "text/plain": [
       "(681284, 7)"
      ]
     },
     "execution_count": 6,
     "metadata": {
      "tags": []
     },
     "output_type": "execute_result"
    }
   ],
   "source": [
    "df_temp.shape"
   ]
  },
  {
   "cell_type": "code",
   "execution_count": null,
   "metadata": {
    "id": "2Vli1qvBTY6u"
   },
   "outputs": [],
   "source": [
    "# taking a sample as saving the memory\n",
    "df = df_temp.head(50000)"
   ]
  },
  {
   "cell_type": "code",
   "execution_count": null,
   "metadata": {
    "id": "Bwg1jEjcXl6d"
   },
   "outputs": [],
   "source": [
    "del df_temp"
   ]
  },
  {
   "cell_type": "code",
   "execution_count": null,
   "metadata": {
    "colab": {
     "base_uri": "https://localhost:8080/",
     "height": 359
    },
    "id": "708f0cc7",
    "outputId": "97fec139-f554-49fa-d5ac-d27b478ccaca"
   },
   "outputs": [
    {
     "data": {
      "text/html": [
       "<div>\n",
       "<style scoped>\n",
       "    .dataframe tbody tr th:only-of-type {\n",
       "        vertical-align: middle;\n",
       "    }\n",
       "\n",
       "    .dataframe tbody tr th {\n",
       "        vertical-align: top;\n",
       "    }\n",
       "\n",
       "    .dataframe thead th {\n",
       "        text-align: right;\n",
       "    }\n",
       "</style>\n",
       "<table border=\"1\" class=\"dataframe\">\n",
       "  <thead>\n",
       "    <tr style=\"text-align: right;\">\n",
       "      <th></th>\n",
       "      <th>id</th>\n",
       "      <th>gender</th>\n",
       "      <th>age</th>\n",
       "      <th>topic</th>\n",
       "      <th>sign</th>\n",
       "      <th>date</th>\n",
       "      <th>text</th>\n",
       "    </tr>\n",
       "  </thead>\n",
       "  <tbody>\n",
       "    <tr>\n",
       "      <th>42019</th>\n",
       "      <td>888601</td>\n",
       "      <td>female</td>\n",
       "      <td>24</td>\n",
       "      <td>indUnk</td>\n",
       "      <td>Libra</td>\n",
       "      <td>06,September,2003</td>\n",
       "      <td>Alrighty then, I've finished with two c...</td>\n",
       "    </tr>\n",
       "    <tr>\n",
       "      <th>11238</th>\n",
       "      <td>3350684</td>\n",
       "      <td>male</td>\n",
       "      <td>15</td>\n",
       "      <td>indUnk</td>\n",
       "      <td>Capricorn</td>\n",
       "      <td>16,July,2004</td>\n",
       "      <td>today is racial harmony day.. then got ...</td>\n",
       "    </tr>\n",
       "    <tr>\n",
       "      <th>6203</th>\n",
       "      <td>1708471</td>\n",
       "      <td>female</td>\n",
       "      <td>17</td>\n",
       "      <td>indUnk</td>\n",
       "      <td>Cancer</td>\n",
       "      <td>09,May,2004</td>\n",
       "      <td></td>\n",
       "    </tr>\n",
       "    <tr>\n",
       "      <th>30495</th>\n",
       "      <td>3687738</td>\n",
       "      <td>male</td>\n",
       "      <td>47</td>\n",
       "      <td>indUnk</td>\n",
       "      <td>Aries</td>\n",
       "      <td>12,agosto,2004</td>\n",
       "      <td>China able to handle oil's jump Cheap ...</td>\n",
       "    </tr>\n",
       "    <tr>\n",
       "      <th>11092</th>\n",
       "      <td>2061087</td>\n",
       "      <td>female</td>\n",
       "      <td>33</td>\n",
       "      <td>indUnk</td>\n",
       "      <td>Cancer</td>\n",
       "      <td>11,May,2004</td>\n",
       "      <td>Wow, so blogger has made some big chang...</td>\n",
       "    </tr>\n",
       "    <tr>\n",
       "      <th>16478</th>\n",
       "      <td>1915813</td>\n",
       "      <td>male</td>\n",
       "      <td>27</td>\n",
       "      <td>indUnk</td>\n",
       "      <td>Sagittarius</td>\n",
       "      <td>02,August,2004</td>\n",
       "      <td>Doom 3 leaked   Just read that  ...</td>\n",
       "    </tr>\n",
       "    <tr>\n",
       "      <th>42662</th>\n",
       "      <td>3511005</td>\n",
       "      <td>female</td>\n",
       "      <td>27</td>\n",
       "      <td>Accounting</td>\n",
       "      <td>Scorpio</td>\n",
       "      <td>10,August,2004</td>\n",
       "      <td>So today is wonderful, other than allergies...</td>\n",
       "    </tr>\n",
       "    <tr>\n",
       "      <th>40609</th>\n",
       "      <td>3581933</td>\n",
       "      <td>female</td>\n",
       "      <td>25</td>\n",
       "      <td>Banking</td>\n",
       "      <td>Sagittarius</td>\n",
       "      <td>17,July,2004</td>\n",
       "      <td>we met our neighbors from across th...</td>\n",
       "    </tr>\n",
       "    <tr>\n",
       "      <th>37911</th>\n",
       "      <td>3636103</td>\n",
       "      <td>male</td>\n",
       "      <td>26</td>\n",
       "      <td>indUnk</td>\n",
       "      <td>Aquarius</td>\n",
       "      <td>09,August,2004</td>\n",
       "      <td>10.  You left in your 39 x 23, an...</td>\n",
       "    </tr>\n",
       "    <tr>\n",
       "      <th>9740</th>\n",
       "      <td>936098</td>\n",
       "      <td>male</td>\n",
       "      <td>17</td>\n",
       "      <td>Student</td>\n",
       "      <td>Gemini</td>\n",
       "      <td>03,August,2004</td>\n",
       "      <td>Wait. What?</td>\n",
       "    </tr>\n",
       "  </tbody>\n",
       "</table>\n",
       "</div>"
      ],
      "text/plain": [
       "            id  ...                                               text\n",
       "42019   888601  ...         Alrighty then, I've finished with two c...\n",
       "11238  3350684  ...         today is racial harmony day.. then got ...\n",
       "6203   1708471  ...                                                   \n",
       "30495  3687738  ...          China able to handle oil's jump Cheap ...\n",
       "11092  2061087  ...         Wow, so blogger has made some big chang...\n",
       "16478  1915813  ...                Doom 3 leaked   Just read that  ...\n",
       "42662  3511005  ...     So today is wonderful, other than allergies...\n",
       "40609  3581933  ...             we met our neighbors from across th...\n",
       "37911  3636103  ...               10.  You left in your 39 x 23, an...\n",
       "9740    936098  ...                                    Wait. What?    \n",
       "\n",
       "[10 rows x 7 columns]"
      ]
     },
     "execution_count": 9,
     "metadata": {
      "tags": []
     },
     "output_type": "execute_result"
    }
   ],
   "source": [
    "df.sample(10)"
   ]
  },
  {
   "cell_type": "code",
   "execution_count": null,
   "metadata": {
    "colab": {
     "base_uri": "https://localhost:8080/"
    },
    "id": "dJJuv2vwTV3Y",
    "outputId": "208f98c4-eae8-461b-87d7-d6847ace678b"
   },
   "outputs": [
    {
     "data": {
      "text/plain": [
       "(50000, 7)"
      ]
     },
     "execution_count": 10,
     "metadata": {
      "tags": []
     },
     "output_type": "execute_result"
    }
   ],
   "source": [
    "df.shape"
   ]
  },
  {
   "cell_type": "code",
   "execution_count": null,
   "metadata": {
    "colab": {
     "base_uri": "https://localhost:8080/"
    },
    "id": "bf1bb0d5",
    "outputId": "03b11d53-9d4f-4879-96a2-30575cf2aa85"
   },
   "outputs": [
    {
     "name": "stdout",
     "output_type": "stream",
     "text": [
      "<class 'pandas.core.frame.DataFrame'>\n",
      "RangeIndex: 50000 entries, 0 to 49999\n",
      "Data columns (total 7 columns):\n",
      " #   Column  Non-Null Count  Dtype \n",
      "---  ------  --------------  ----- \n",
      " 0   id      50000 non-null  int64 \n",
      " 1   gender  50000 non-null  object\n",
      " 2   age     50000 non-null  int64 \n",
      " 3   topic   50000 non-null  object\n",
      " 4   sign    50000 non-null  object\n",
      " 5   date    50000 non-null  object\n",
      " 6   text    50000 non-null  object\n",
      "dtypes: int64(2), object(5)\n",
      "memory usage: 2.7+ MB\n"
     ]
    }
   ],
   "source": [
    "df.info()"
   ]
  },
  {
   "cell_type": "code",
   "execution_count": null,
   "metadata": {
    "colab": {
     "base_uri": "https://localhost:8080/",
     "height": 266
    },
    "id": "76d4196c",
    "outputId": "cf6c74d3-804e-4890-b0f2-61ab515a9a2e"
   },
   "outputs": [
    {
     "data": {
      "text/html": [
       "<div>\n",
       "<style scoped>\n",
       "    .dataframe tbody tr th:only-of-type {\n",
       "        vertical-align: middle;\n",
       "    }\n",
       "\n",
       "    .dataframe tbody tr th {\n",
       "        vertical-align: top;\n",
       "    }\n",
       "\n",
       "    .dataframe thead th {\n",
       "        text-align: right;\n",
       "    }\n",
       "</style>\n",
       "<table border=\"1\" class=\"dataframe\">\n",
       "  <thead>\n",
       "    <tr style=\"text-align: right;\">\n",
       "      <th></th>\n",
       "      <th>count</th>\n",
       "      <th>unique</th>\n",
       "      <th>top</th>\n",
       "      <th>freq</th>\n",
       "      <th>mean</th>\n",
       "      <th>std</th>\n",
       "      <th>min</th>\n",
       "      <th>25%</th>\n",
       "      <th>50%</th>\n",
       "      <th>75%</th>\n",
       "      <th>max</th>\n",
       "    </tr>\n",
       "  </thead>\n",
       "  <tbody>\n",
       "    <tr>\n",
       "      <th>id</th>\n",
       "      <td>50000</td>\n",
       "      <td>NaN</td>\n",
       "      <td>NaN</td>\n",
       "      <td>NaN</td>\n",
       "      <td>2.38844e+06</td>\n",
       "      <td>1.2542e+06</td>\n",
       "      <td>17944</td>\n",
       "      <td>1.07808e+06</td>\n",
       "      <td>2.7649e+06</td>\n",
       "      <td>3.52562e+06</td>\n",
       "      <td>4.33713e+06</td>\n",
       "    </tr>\n",
       "    <tr>\n",
       "      <th>gender</th>\n",
       "      <td>50000</td>\n",
       "      <td>2</td>\n",
       "      <td>male</td>\n",
       "      <td>25815</td>\n",
       "      <td>NaN</td>\n",
       "      <td>NaN</td>\n",
       "      <td>NaN</td>\n",
       "      <td>NaN</td>\n",
       "      <td>NaN</td>\n",
       "      <td>NaN</td>\n",
       "      <td>NaN</td>\n",
       "    </tr>\n",
       "    <tr>\n",
       "      <th>age</th>\n",
       "      <td>50000</td>\n",
       "      <td>NaN</td>\n",
       "      <td>NaN</td>\n",
       "      <td>NaN</td>\n",
       "      <td>24.3621</td>\n",
       "      <td>7.98284</td>\n",
       "      <td>13</td>\n",
       "      <td>17</td>\n",
       "      <td>24</td>\n",
       "      <td>27</td>\n",
       "      <td>48</td>\n",
       "    </tr>\n",
       "    <tr>\n",
       "      <th>topic</th>\n",
       "      <td>50000</td>\n",
       "      <td>40</td>\n",
       "      <td>indUnk</td>\n",
       "      <td>17560</td>\n",
       "      <td>NaN</td>\n",
       "      <td>NaN</td>\n",
       "      <td>NaN</td>\n",
       "      <td>NaN</td>\n",
       "      <td>NaN</td>\n",
       "      <td>NaN</td>\n",
       "      <td>NaN</td>\n",
       "    </tr>\n",
       "    <tr>\n",
       "      <th>sign</th>\n",
       "      <td>50000</td>\n",
       "      <td>12</td>\n",
       "      <td>Aries</td>\n",
       "      <td>7795</td>\n",
       "      <td>NaN</td>\n",
       "      <td>NaN</td>\n",
       "      <td>NaN</td>\n",
       "      <td>NaN</td>\n",
       "      <td>NaN</td>\n",
       "      <td>NaN</td>\n",
       "      <td>NaN</td>\n",
       "    </tr>\n",
       "    <tr>\n",
       "      <th>date</th>\n",
       "      <td>50000</td>\n",
       "      <td>1180</td>\n",
       "      <td>05,August,2004</td>\n",
       "      <td>2600</td>\n",
       "      <td>NaN</td>\n",
       "      <td>NaN</td>\n",
       "      <td>NaN</td>\n",
       "      <td>NaN</td>\n",
       "      <td>NaN</td>\n",
       "      <td>NaN</td>\n",
       "      <td>NaN</td>\n",
       "    </tr>\n",
       "    <tr>\n",
       "      <th>text</th>\n",
       "      <td>50000</td>\n",
       "      <td>49249</td>\n",
       "      <td>urlLink</td>\n",
       "      <td>48</td>\n",
       "      <td>NaN</td>\n",
       "      <td>NaN</td>\n",
       "      <td>NaN</td>\n",
       "      <td>NaN</td>\n",
       "      <td>NaN</td>\n",
       "      <td>NaN</td>\n",
       "      <td>NaN</td>\n",
       "    </tr>\n",
       "  </tbody>\n",
       "</table>\n",
       "</div>"
      ],
      "text/plain": [
       "        count unique                  top  ...         50%          75%          max\n",
       "id      50000    NaN                  NaN  ...  2.7649e+06  3.52562e+06  4.33713e+06\n",
       "gender  50000      2                 male  ...         NaN          NaN          NaN\n",
       "age     50000    NaN                  NaN  ...          24           27           48\n",
       "topic   50000     40               indUnk  ...         NaN          NaN          NaN\n",
       "sign    50000     12                Aries  ...         NaN          NaN          NaN\n",
       "date    50000   1180       05,August,2004  ...         NaN          NaN          NaN\n",
       "text    50000  49249           urlLink     ...         NaN          NaN          NaN\n",
       "\n",
       "[7 rows x 11 columns]"
      ]
     },
     "execution_count": 12,
     "metadata": {
      "tags": []
     },
     "output_type": "execute_result"
    }
   ],
   "source": [
    "# Statistical summary\n",
    "df.describe(include = 'all').T"
   ]
  },
  {
   "cell_type": "markdown",
   "metadata": {
    "id": "C5VPz0MVMqMT"
   },
   "source": [
    "### Data Pre-proecessing"
   ]
  },
  {
   "cell_type": "code",
   "execution_count": null,
   "metadata": {
    "colab": {
     "base_uri": "https://localhost:8080/"
    },
    "id": "83debf39",
    "outputId": "12ba24c4-b188-4878-90bb-ab3047cac107"
   },
   "outputs": [
    {
     "data": {
      "text/plain": [
       "id        0\n",
       "gender    0\n",
       "age       0\n",
       "topic     0\n",
       "sign      0\n",
       "date      0\n",
       "text      0\n",
       "dtype: int64"
      ]
     },
     "execution_count": 13,
     "metadata": {
      "tags": []
     },
     "output_type": "execute_result"
    }
   ],
   "source": [
    "df.isnull().sum() # check the null value"
   ]
  },
  {
   "cell_type": "code",
   "execution_count": null,
   "metadata": {
    "colab": {
     "base_uri": "https://localhost:8080/"
    },
    "id": "8c51c1f1",
    "outputId": "a3d2b3d4-d184-413f-9c60-e92338a102bb"
   },
   "outputs": [
    {
     "data": {
      "text/plain": [
       "False"
      ]
     },
     "execution_count": 14,
     "metadata": {
      "tags": []
     },
     "output_type": "execute_result"
    }
   ],
   "source": [
    "df.isnull().values.any()"
   ]
  },
  {
   "cell_type": "code",
   "execution_count": null,
   "metadata": {
    "id": "KfpZI5td-1Ss"
   },
   "outputs": [],
   "source": [
    "df = df.drop(columns = ['id', 'date'], axis = 1) # Dropping the column"
   ]
  },
  {
   "cell_type": "code",
   "execution_count": null,
   "metadata": {
    "colab": {
     "base_uri": "https://localhost:8080/"
    },
    "id": "eafdfee7",
    "outputId": "24dc02ff-ab3e-4f08-d563-66aea24d403c"
   },
   "outputs": [
    {
     "data": {
      "text/plain": [
       "array([15, 33, 14, 25, 17, 23, 37, 26, 24, 27, 45, 34, 41, 44, 16, 39, 35,\n",
       "       36, 46, 42, 13, 38, 43, 40, 47, 48])"
      ]
     },
     "execution_count": 16,
     "metadata": {
      "tags": []
     },
     "output_type": "execute_result"
    }
   ],
   "source": [
    "df['age'].unique()"
   ]
  },
  {
   "cell_type": "code",
   "execution_count": null,
   "metadata": {
    "colab": {
     "base_uri": "https://localhost:8080/"
    },
    "id": "6951c7a1",
    "outputId": "bf1285cf-43d6-41c5-f61a-3db12954de35"
   },
   "outputs": [
    {
     "data": {
      "text/plain": [
       "array(['male', 'female'], dtype=object)"
      ]
     },
     "execution_count": 17,
     "metadata": {
      "tags": []
     },
     "output_type": "execute_result"
    }
   ],
   "source": [
    "df['gender'].unique()"
   ]
  },
  {
   "cell_type": "code",
   "execution_count": null,
   "metadata": {
    "colab": {
     "base_uri": "https://localhost:8080/"
    },
    "id": "1295eb85",
    "outputId": "c846610f-feff-4a64-9562-e7cf4505fddd"
   },
   "outputs": [
    {
     "data": {
      "text/plain": [
       "array(['Student', 'InvestmentBanking', 'indUnk', 'Non-Profit', 'Banking',\n",
       "       'Education', 'Engineering', 'Science', 'Communications-Media',\n",
       "       'BusinessServices', 'Sports-Recreation', 'Arts', 'Internet',\n",
       "       'Museums-Libraries', 'Accounting', 'Technology', 'Law',\n",
       "       'Consulting', 'Automotive', 'Religion', 'Fashion', 'Publishing',\n",
       "       'Marketing', 'LawEnforcement-Security', 'HumanResources',\n",
       "       'Telecommunications', 'Military', 'Government', 'Transportation',\n",
       "       'Architecture', 'Advertising', 'Agriculture', 'Biotech',\n",
       "       'RealEstate', 'Manufacturing', 'Construction', 'Chemicals',\n",
       "       'Maritime', 'Tourism', 'Environment'], dtype=object)"
      ]
     },
     "execution_count": 18,
     "metadata": {
      "tags": []
     },
     "output_type": "execute_result"
    }
   ],
   "source": [
    "df['topic'].unique()"
   ]
  },
  {
   "cell_type": "code",
   "execution_count": null,
   "metadata": {
    "colab": {
     "base_uri": "https://localhost:8080/"
    },
    "id": "3721f2a9",
    "outputId": "f7d5892d-0f85-4ee3-b3ff-c0edc192bb89"
   },
   "outputs": [
    {
     "data": {
      "text/plain": [
       "array(['Leo', 'Aquarius', 'Aries', 'Capricorn', 'Gemini', 'Cancer',\n",
       "       'Sagittarius', 'Scorpio', 'Libra', 'Virgo', 'Taurus', 'Pisces'],\n",
       "      dtype=object)"
      ]
     },
     "execution_count": 19,
     "metadata": {
      "tags": []
     },
     "output_type": "execute_result"
    }
   ],
   "source": [
    "df['sign'].unique()"
   ]
  },
  {
   "cell_type": "code",
   "execution_count": null,
   "metadata": {
    "colab": {
     "base_uri": "https://localhost:8080/"
    },
    "id": "05fba704",
    "outputId": "c18c2a33-f82e-428d-df2c-1d643454e817"
   },
   "outputs": [
    {
     "data": {
      "text/plain": [
       "49249"
      ]
     },
     "execution_count": 20,
     "metadata": {
      "tags": []
     },
     "output_type": "execute_result"
    }
   ],
   "source": [
    "len(df['text'].unique())"
   ]
  },
  {
   "cell_type": "code",
   "execution_count": null,
   "metadata": {
    "colab": {
     "base_uri": "https://localhost:8080/"
    },
    "id": "58f654f1",
    "outputId": "96b1ba99-9588-4cd7-908a-16b0b42d660b"
   },
   "outputs": [
    {
     "data": {
      "text/plain": [
       "0                   Info has been found (+/- 100 pages,...\n",
       "1                   These are the team members:   Drewe...\n",
       "2                   In het kader van kernfusie op aarde...\n",
       "3                         testing!!!  testing!!!          \n",
       "4                     Thanks to Yahoo!'s Toolbar I can ...\n",
       "                               ...                        \n",
       "49995           Aug 7th Thur... Bought Her Mua Chee & S...\n",
       "49996           Aug 6th Wed.. Her 1st Day @ Work Back @...\n",
       "49997           Aug 4th Mon Zing's BD !! Went To Her Pl...\n",
       "49998           Aug 3rd Sun.. Went To Her Place B4 Goin...\n",
       "49999           Aug 1st Fri.. Met Her To Go Shoppin' @ ...\n",
       "Name: text, Length: 50000, dtype: object"
      ]
     },
     "execution_count": 21,
     "metadata": {
      "tags": []
     },
     "output_type": "execute_result"
    }
   ],
   "source": [
    "df['text']"
   ]
  },
  {
   "cell_type": "markdown",
   "metadata": {
    "id": "B4Nt3PTzM2pv"
   },
   "source": [
    "#### Data Cleansing"
   ]
  },
  {
   "cell_type": "code",
   "execution_count": null,
   "metadata": {
    "id": "bfc0d24c"
   },
   "outputs": [],
   "source": [
    "import re"
   ]
  },
  {
   "cell_type": "code",
   "execution_count": null,
   "metadata": {
    "id": "92771f16"
   },
   "outputs": [],
   "source": [
    "df['text'] = df['text'].apply(lambda x : re.sub('[^A-Za-z]+',  ' ', x))"
   ]
  },
  {
   "cell_type": "code",
   "execution_count": null,
   "metadata": {
    "id": "a4438df3"
   },
   "outputs": [],
   "source": [
    "df['text'] = df['text'].apply(lambda x : x.strip())"
   ]
  },
  {
   "cell_type": "code",
   "execution_count": null,
   "metadata": {
    "id": "b6dbbbd8"
   },
   "outputs": [],
   "source": [
    "df['text'] = df['text'].apply(lambda x : x.lower())"
   ]
  },
  {
   "cell_type": "code",
   "execution_count": null,
   "metadata": {
    "colab": {
     "base_uri": "https://localhost:8080/"
    },
    "id": "6a2a3fef",
    "outputId": "10882fa2-093a-4bb7-f22a-9c2a4c48de2e"
   },
   "outputs": [
    {
     "name": "stdout",
     "output_type": "stream",
     "text": [
      "[nltk_data] Downloading package stopwords to /root/nltk_data...\n",
      "[nltk_data]   Unzipping corpora/stopwords.zip.\n"
     ]
    }
   ],
   "source": [
    "import nltk\n",
    "nltk.download('stopwords')\n",
    "from nltk.corpus import stopwords\n",
    "sw = set(stopwords.words('english'))"
   ]
  },
  {
   "cell_type": "code",
   "execution_count": null,
   "metadata": {
    "id": "8c8170fa"
   },
   "outputs": [],
   "source": [
    "df['text'] = df['text'].apply(lambda x : ' '.join([word for word in x.split() if word not in sw]))"
   ]
  },
  {
   "cell_type": "code",
   "execution_count": null,
   "metadata": {
    "colab": {
     "base_uri": "https://localhost:8080/"
    },
    "id": "19cbc1fd",
    "outputId": "f64564f8-861a-42ba-a166-0a771d5e8256"
   },
   "outputs": [
    {
     "data": {
      "text/html": [
       "<div>\n",
       "<style scoped>\n",
       "    .dataframe tbody tr th:only-of-type {\n",
       "        vertical-align: middle;\n",
       "    }\n",
       "\n",
       "    .dataframe tbody tr th {\n",
       "        vertical-align: top;\n",
       "    }\n",
       "\n",
       "    .dataframe thead th {\n",
       "        text-align: right;\n",
       "    }\n",
       "</style>\n",
       "<table border=\"1\" class=\"dataframe\">\n",
       "  <thead>\n",
       "    <tr style=\"text-align: right;\">\n",
       "      <th></th>\n",
       "      <th>gender</th>\n",
       "      <th>age</th>\n",
       "      <th>topic</th>\n",
       "      <th>sign</th>\n",
       "      <th>text</th>\n",
       "    </tr>\n",
       "  </thead>\n",
       "  <tbody>\n",
       "    <tr>\n",
       "      <th>0</th>\n",
       "      <td>male</td>\n",
       "      <td>15</td>\n",
       "      <td>Student</td>\n",
       "      <td>Leo</td>\n",
       "      <td>info found pages mb pdf files wait untill team...</td>\n",
       "    </tr>\n",
       "    <tr>\n",
       "      <th>1</th>\n",
       "      <td>male</td>\n",
       "      <td>15</td>\n",
       "      <td>Student</td>\n",
       "      <td>Leo</td>\n",
       "      <td>team members drewes van der laag urllink mail ...</td>\n",
       "    </tr>\n",
       "    <tr>\n",
       "      <th>2</th>\n",
       "      <td>male</td>\n",
       "      <td>15</td>\n",
       "      <td>Student</td>\n",
       "      <td>Leo</td>\n",
       "      <td>het kader van kernfusie op aarde maak je eigen...</td>\n",
       "    </tr>\n",
       "    <tr>\n",
       "      <th>3</th>\n",
       "      <td>male</td>\n",
       "      <td>15</td>\n",
       "      <td>Student</td>\n",
       "      <td>Leo</td>\n",
       "      <td>testing testing</td>\n",
       "    </tr>\n",
       "    <tr>\n",
       "      <th>4</th>\n",
       "      <td>male</td>\n",
       "      <td>33</td>\n",
       "      <td>InvestmentBanking</td>\n",
       "      <td>Aquarius</td>\n",
       "      <td>thanks yahoo toolbar capture urls popups means...</td>\n",
       "    </tr>\n",
       "    <tr>\n",
       "      <th>...</th>\n",
       "      <td>...</td>\n",
       "      <td>...</td>\n",
       "      <td>...</td>\n",
       "      <td>...</td>\n",
       "      <td>...</td>\n",
       "    </tr>\n",
       "    <tr>\n",
       "      <th>49995</th>\n",
       "      <td>male</td>\n",
       "      <td>23</td>\n",
       "      <td>Advertising</td>\n",
       "      <td>Taurus</td>\n",
       "      <td>aug th thur bought mua chee vcds send home work</td>\n",
       "    </tr>\n",
       "    <tr>\n",
       "      <th>49996</th>\n",
       "      <td>male</td>\n",
       "      <td>23</td>\n",
       "      <td>Advertising</td>\n",
       "      <td>Taurus</td>\n",
       "      <td>aug th wed st day work back dw sent work sent ...</td>\n",
       "    </tr>\n",
       "    <tr>\n",
       "      <th>49997</th>\n",
       "      <td>male</td>\n",
       "      <td>23</td>\n",
       "      <td>Advertising</td>\n",
       "      <td>Taurus</td>\n",
       "      <td>aug th mon zing bd went place cooked dinner to...</td>\n",
       "    </tr>\n",
       "    <tr>\n",
       "      <th>49998</th>\n",
       "      <td>male</td>\n",
       "      <td>23</td>\n",
       "      <td>Advertising</td>\n",
       "      <td>Taurus</td>\n",
       "      <td>aug rd sun went place b goin get zing bd prese...</td>\n",
       "    </tr>\n",
       "    <tr>\n",
       "      <th>49999</th>\n",
       "      <td>male</td>\n",
       "      <td>23</td>\n",
       "      <td>Advertising</td>\n",
       "      <td>Taurus</td>\n",
       "      <td>aug st fri met go shoppin wisma b meetin luver...</td>\n",
       "    </tr>\n",
       "  </tbody>\n",
       "</table>\n",
       "<p>50000 rows × 5 columns</p>\n",
       "</div>"
      ],
      "text/plain": [
       "      gender  age  ...      sign                                               text\n",
       "0       male   15  ...       Leo  info found pages mb pdf files wait untill team...\n",
       "1       male   15  ...       Leo  team members drewes van der laag urllink mail ...\n",
       "2       male   15  ...       Leo  het kader van kernfusie op aarde maak je eigen...\n",
       "3       male   15  ...       Leo                                    testing testing\n",
       "4       male   33  ...  Aquarius  thanks yahoo toolbar capture urls popups means...\n",
       "...      ...  ...  ...       ...                                                ...\n",
       "49995   male   23  ...    Taurus    aug th thur bought mua chee vcds send home work\n",
       "49996   male   23  ...    Taurus  aug th wed st day work back dw sent work sent ...\n",
       "49997   male   23  ...    Taurus  aug th mon zing bd went place cooked dinner to...\n",
       "49998   male   23  ...    Taurus  aug rd sun went place b goin get zing bd prese...\n",
       "49999   male   23  ...    Taurus  aug st fri met go shoppin wisma b meetin luver...\n",
       "\n",
       "[50000 rows x 5 columns]"
      ]
     },
     "execution_count": 28,
     "metadata": {
      "tags": []
     },
     "output_type": "execute_result"
    }
   ],
   "source": [
    "df"
   ]
  },
  {
   "cell_type": "markdown",
   "metadata": {
    "id": "c5cQ4jj5NCMN"
   },
   "source": [
    "#### Merger"
   ]
  },
  {
   "cell_type": "code",
   "execution_count": null,
   "metadata": {
    "id": "02c4454e"
   },
   "outputs": [],
   "source": [
    "# %%time\n",
    "# df['target'] = df[df.columns[:-1]].apply(lambda x : ','.join(x.astype(str)), axis = 1)"
   ]
  },
  {
   "cell_type": "code",
   "execution_count": null,
   "metadata": {
    "id": "oPVUbtQDU9YL"
   },
   "outputs": [],
   "source": [
    "df['target'] = df.apply(lambda row: [row['gender'], str(row['age']), row['topic'], row['sign']], axis = 1)"
   ]
  },
  {
   "cell_type": "code",
   "execution_count": null,
   "metadata": {
    "id": "abda13e8"
   },
   "outputs": [],
   "source": [
    "# df.reset_index(drop = True, inplace = True)"
   ]
  },
  {
   "cell_type": "code",
   "execution_count": null,
   "metadata": {
    "colab": {
     "base_uri": "https://localhost:8080/"
    },
    "id": "94b17f73",
    "outputId": "4527ab35-a4f3-4f7e-9cfe-1cca56e6414c"
   },
   "outputs": [
    {
     "data": {
      "text/html": [
       "<div>\n",
       "<style scoped>\n",
       "    .dataframe tbody tr th:only-of-type {\n",
       "        vertical-align: middle;\n",
       "    }\n",
       "\n",
       "    .dataframe tbody tr th {\n",
       "        vertical-align: top;\n",
       "    }\n",
       "\n",
       "    .dataframe thead th {\n",
       "        text-align: right;\n",
       "    }\n",
       "</style>\n",
       "<table border=\"1\" class=\"dataframe\">\n",
       "  <thead>\n",
       "    <tr style=\"text-align: right;\">\n",
       "      <th></th>\n",
       "      <th>gender</th>\n",
       "      <th>age</th>\n",
       "      <th>topic</th>\n",
       "      <th>sign</th>\n",
       "      <th>text</th>\n",
       "      <th>target</th>\n",
       "    </tr>\n",
       "  </thead>\n",
       "  <tbody>\n",
       "    <tr>\n",
       "      <th>0</th>\n",
       "      <td>male</td>\n",
       "      <td>15</td>\n",
       "      <td>Student</td>\n",
       "      <td>Leo</td>\n",
       "      <td>info found pages mb pdf files wait untill team...</td>\n",
       "      <td>[male, 15, Student, Leo]</td>\n",
       "    </tr>\n",
       "    <tr>\n",
       "      <th>1</th>\n",
       "      <td>male</td>\n",
       "      <td>15</td>\n",
       "      <td>Student</td>\n",
       "      <td>Leo</td>\n",
       "      <td>team members drewes van der laag urllink mail ...</td>\n",
       "      <td>[male, 15, Student, Leo]</td>\n",
       "    </tr>\n",
       "    <tr>\n",
       "      <th>2</th>\n",
       "      <td>male</td>\n",
       "      <td>15</td>\n",
       "      <td>Student</td>\n",
       "      <td>Leo</td>\n",
       "      <td>het kader van kernfusie op aarde maak je eigen...</td>\n",
       "      <td>[male, 15, Student, Leo]</td>\n",
       "    </tr>\n",
       "    <tr>\n",
       "      <th>3</th>\n",
       "      <td>male</td>\n",
       "      <td>15</td>\n",
       "      <td>Student</td>\n",
       "      <td>Leo</td>\n",
       "      <td>testing testing</td>\n",
       "      <td>[male, 15, Student, Leo]</td>\n",
       "    </tr>\n",
       "    <tr>\n",
       "      <th>4</th>\n",
       "      <td>male</td>\n",
       "      <td>33</td>\n",
       "      <td>InvestmentBanking</td>\n",
       "      <td>Aquarius</td>\n",
       "      <td>thanks yahoo toolbar capture urls popups means...</td>\n",
       "      <td>[male, 33, InvestmentBanking, Aquarius]</td>\n",
       "    </tr>\n",
       "  </tbody>\n",
       "</table>\n",
       "</div>"
      ],
      "text/plain": [
       "  gender  ...                                   target\n",
       "0   male  ...                 [male, 15, Student, Leo]\n",
       "1   male  ...                 [male, 15, Student, Leo]\n",
       "2   male  ...                 [male, 15, Student, Leo]\n",
       "3   male  ...                 [male, 15, Student, Leo]\n",
       "4   male  ...  [male, 33, InvestmentBanking, Aquarius]\n",
       "\n",
       "[5 rows x 6 columns]"
      ]
     },
     "execution_count": 32,
     "metadata": {
      "tags": []
     },
     "output_type": "execute_result"
    }
   ],
   "source": [
    "df.head()"
   ]
  },
  {
   "cell_type": "code",
   "execution_count": null,
   "metadata": {
    "colab": {
     "base_uri": "https://localhost:8080/"
    },
    "id": "PmjzvPv5Bt1u",
    "outputId": "4decc230-bbe4-4550-9cce-8488cb8cbdee"
   },
   "outputs": [
    {
     "data": {
      "text/html": [
       "<div>\n",
       "<style scoped>\n",
       "    .dataframe tbody tr th:only-of-type {\n",
       "        vertical-align: middle;\n",
       "    }\n",
       "\n",
       "    .dataframe tbody tr th {\n",
       "        vertical-align: top;\n",
       "    }\n",
       "\n",
       "    .dataframe thead th {\n",
       "        text-align: right;\n",
       "    }\n",
       "</style>\n",
       "<table border=\"1\" class=\"dataframe\">\n",
       "  <thead>\n",
       "    <tr style=\"text-align: right;\">\n",
       "      <th></th>\n",
       "      <th>text</th>\n",
       "      <th>target</th>\n",
       "    </tr>\n",
       "  </thead>\n",
       "  <tbody>\n",
       "    <tr>\n",
       "      <th>0</th>\n",
       "      <td>info found pages mb pdf files wait untill team...</td>\n",
       "      <td>[male, 15, Student, Leo]</td>\n",
       "    </tr>\n",
       "    <tr>\n",
       "      <th>1</th>\n",
       "      <td>team members drewes van der laag urllink mail ...</td>\n",
       "      <td>[male, 15, Student, Leo]</td>\n",
       "    </tr>\n",
       "  </tbody>\n",
       "</table>\n",
       "</div>"
      ],
      "text/plain": [
       "                                                text                    target\n",
       "0  info found pages mb pdf files wait untill team...  [male, 15, Student, Leo]\n",
       "1  team members drewes van der laag urllink mail ...  [male, 15, Student, Leo]"
      ]
     },
     "execution_count": 33,
     "metadata": {
      "tags": []
     },
     "output_type": "execute_result"
    }
   ],
   "source": [
    "df_new = df[['text', 'target']]\n",
    "df_new.head(2)"
   ]
  },
  {
   "cell_type": "markdown",
   "metadata": {
    "id": "MDFp3yNYNKZ5"
   },
   "source": [
    "#### Train & Split"
   ]
  },
  {
   "cell_type": "code",
   "execution_count": null,
   "metadata": {
    "id": "b883c81e"
   },
   "outputs": [],
   "source": [
    "x = df_new['text']\n",
    "y = df_new['target']"
   ]
  },
  {
   "cell_type": "code",
   "execution_count": null,
   "metadata": {
    "id": "5dea6a30"
   },
   "outputs": [],
   "source": [
    "from sklearn.model_selection import train_test_split\n",
    "X_train, X_test, y_train, y_test = train_test_split(x, y, test_size = 0.3)"
   ]
  },
  {
   "cell_type": "code",
   "execution_count": null,
   "metadata": {
    "colab": {
     "base_uri": "https://localhost:8080/"
    },
    "id": "Hj_Fzaf_G4lT",
    "outputId": "a8010330-3c50-43be-fbeb-752c8b0f8c5b"
   },
   "outputs": [
    {
     "data": {
      "text/plain": [
       "((35000,), (15000,))"
      ]
     },
     "execution_count": 37,
     "metadata": {
      "tags": []
     },
     "output_type": "execute_result"
    }
   ],
   "source": [
    "X_train.shape, X_test.shape"
   ]
  },
  {
   "cell_type": "markdown",
   "metadata": {
    "id": "lttHaPo8Pa4Y"
   },
   "source": [
    "### Vectorisation"
   ]
  },
  {
   "cell_type": "code",
   "execution_count": null,
   "metadata": {
    "id": "47f3cb16"
   },
   "outputs": [],
   "source": [
    "from sklearn.feature_extraction.text import CountVectorizer"
   ]
  },
  {
   "cell_type": "code",
   "execution_count": null,
   "metadata": {
    "id": "6023c782"
   },
   "outputs": [],
   "source": [
    "vc = CountVectorizer(ngram_range = (1,2), min_df = 1, stop_words = 'english')"
   ]
  },
  {
   "cell_type": "code",
   "execution_count": null,
   "metadata": {
    "id": "13720a80"
   },
   "outputs": [],
   "source": [
    "X_train_vc = vc.fit_transform(X_train)\n",
    "X_test_vc = vc.transform(X_test)"
   ]
  },
  {
   "cell_type": "code",
   "execution_count": null,
   "metadata": {
    "colab": {
     "base_uri": "https://localhost:8080/"
    },
    "id": "cab97697",
    "outputId": "89fbcc9d-2e75-470d-b846-fc9963a4cbaf"
   },
   "outputs": [
    {
     "data": {
      "text/plain": [
       "['aa',\n",
       " 'aa aa',\n",
       " 'aa anger',\n",
       " 'aa batteries',\n",
       " 'aa class',\n",
       " 'aa compared',\n",
       " 'aa damn',\n",
       " 'aa ended',\n",
       " 'aa eriol',\n",
       " 'aa forms']"
      ]
     },
     "execution_count": 41,
     "metadata": {
      "tags": []
     },
     "output_type": "execute_result"
    }
   ],
   "source": [
    "vc.get_feature_names()[:10]"
   ]
  },
  {
   "cell_type": "markdown",
   "metadata": {
    "id": "9Z_zXH_XXqCK"
   },
   "source": [
    "### Classifier"
   ]
  },
  {
   "cell_type": "code",
   "execution_count": null,
   "metadata": {
    "id": "n-RVJcljImrq"
   },
   "outputs": [],
   "source": [
    "target_count = dict()\n",
    "\n",
    "for target in df['target'].values:\n",
    "  for label in target:\n",
    "    if label in target_count:\n",
    "      target_count[label] += 1\n",
    "    else:\n",
    "      target_count[label] = 1"
   ]
  },
  {
   "cell_type": "code",
   "execution_count": null,
   "metadata": {
    "colab": {
     "base_uri": "https://localhost:8080/"
    },
    "id": "sq9bd5gYJ-47",
    "outputId": "024354cd-61e3-44bb-cdbe-ad62a029338c"
   },
   "outputs": [
    {
     "data": {
      "text/plain": [
       "{'13': 745,\n",
       " '14': 2043,\n",
       " '15': 3508,\n",
       " '16': 4156,\n",
       " '17': 6859,\n",
       " '23': 5518,\n",
       " '24': 5746,\n",
       " '25': 2837,\n",
       " '26': 2869,\n",
       " '27': 4094,\n",
       " '33': 1654,\n",
       " '34': 1886,\n",
       " '35': 3365,\n",
       " '36': 1985,\n",
       " '37': 310,\n",
       " '38': 196,\n",
       " '39': 412,\n",
       " '40': 192,\n",
       " '41': 394,\n",
       " '42': 96,\n",
       " '43': 150,\n",
       " '44': 38,\n",
       " '45': 93,\n",
       " '46': 330,\n",
       " '47': 206,\n",
       " '48': 318,\n",
       " 'Accounting': 364,\n",
       " 'Advertising': 273,\n",
       " 'Agriculture': 78,\n",
       " 'Aquarius': 4784,\n",
       " 'Architecture': 70,\n",
       " 'Aries': 7795,\n",
       " 'Arts': 1817,\n",
       " 'Automotive': 116,\n",
       " 'Banking': 283,\n",
       " 'Biotech': 101,\n",
       " 'BusinessServices': 416,\n",
       " 'Cancer': 4589,\n",
       " 'Capricorn': 3819,\n",
       " 'Chemicals': 75,\n",
       " 'Communications-Media': 1603,\n",
       " 'Construction': 28,\n",
       " 'Consulting': 243,\n",
       " 'Education': 2646,\n",
       " 'Engineering': 1402,\n",
       " 'Environment': 6,\n",
       " 'Fashion': 1805,\n",
       " 'Gemini': 2558,\n",
       " 'Government': 599,\n",
       " 'HumanResources': 79,\n",
       " 'Internet': 1420,\n",
       " 'InvestmentBanking': 85,\n",
       " 'Law': 308,\n",
       " 'LawEnforcement-Security': 125,\n",
       " 'Leo': 3904,\n",
       " 'Libra': 4378,\n",
       " 'Manufacturing': 441,\n",
       " 'Maritime': 54,\n",
       " 'Marketing': 414,\n",
       " 'Military': 194,\n",
       " 'Museums-Libraries': 285,\n",
       " 'Non-Profit': 491,\n",
       " 'Pisces': 4142,\n",
       " 'Publishing': 207,\n",
       " 'RealEstate': 17,\n",
       " 'Religion': 258,\n",
       " 'Sagittarius': 4571,\n",
       " 'Science': 705,\n",
       " 'Scorpio': 3243,\n",
       " 'Sports-Recreation': 120,\n",
       " 'Student': 10660,\n",
       " 'Taurus': 3390,\n",
       " 'Technology': 4379,\n",
       " 'Telecommunications': 12,\n",
       " 'Tourism': 65,\n",
       " 'Transportation': 196,\n",
       " 'Virgo': 2827,\n",
       " 'female': 24185,\n",
       " 'indUnk': 17560,\n",
       " 'male': 25815}"
      ]
     },
     "execution_count": 43,
     "metadata": {
      "tags": []
     },
     "output_type": "execute_result"
    }
   ],
   "source": [
    "target_count"
   ]
  },
  {
   "cell_type": "code",
   "execution_count": null,
   "metadata": {
    "id": "Le4h_x8_KJCw"
   },
   "outputs": [],
   "source": [
    "from sklearn.preprocessing import MultiLabelBinarizer"
   ]
  },
  {
   "cell_type": "code",
   "execution_count": null,
   "metadata": {
    "id": "9eWagzcLKkgq"
   },
   "outputs": [],
   "source": [
    "mlb = MultiLabelBinarizer(classes = sorted(target_count.keys()))"
   ]
  },
  {
   "cell_type": "code",
   "execution_count": null,
   "metadata": {
    "id": "OzCnptppK3gO"
   },
   "outputs": [],
   "source": [
    "y_train = mlb.fit_transform(y_train)\n",
    "y_test = mlb.transform(y_test)"
   ]
  },
  {
   "cell_type": "code",
   "execution_count": null,
   "metadata": {
    "id": "84nw4JPKLKOA"
   },
   "outputs": [],
   "source": [
    "from sklearn.multiclass import OneVsRestClassifier\n",
    "from sklearn.linear_model import LogisticRegression"
   ]
  },
  {
   "cell_type": "code",
   "execution_count": null,
   "metadata": {
    "id": "2bQcD5WKLSx0"
   },
   "outputs": [],
   "source": [
    "clf = LogisticRegression(solver = 'lbfgs', max_iter = 1000)\n",
    "clf = OneVsRestClassifier(clf)"
   ]
  },
  {
   "cell_type": "code",
   "execution_count": null,
   "metadata": {
    "colab": {
     "base_uri": "https://localhost:8080/"
    },
    "id": "skG9xGzVLZ3A",
    "outputId": "6f7d4b33-40ec-44ae-ecff-f95d07f4171b"
   },
   "outputs": [
    {
     "name": "stdout",
     "output_type": "stream",
     "text": [
      "CPU times: user 2h 25min 16s, sys: 1h 14min 55s, total: 3h 40min 12s\n",
      "Wall time: 2h 2min 35s\n"
     ]
    },
    {
     "data": {
      "text/plain": [
       "OneVsRestClassifier(estimator=LogisticRegression(C=1.0, class_weight=None,\n",
       "                                                 dual=False, fit_intercept=True,\n",
       "                                                 intercept_scaling=1,\n",
       "                                                 l1_ratio=None, max_iter=1000,\n",
       "                                                 multi_class='auto',\n",
       "                                                 n_jobs=None, penalty='l2',\n",
       "                                                 random_state=None,\n",
       "                                                 solver='lbfgs', tol=0.0001,\n",
       "                                                 verbose=0, warm_start=False),\n",
       "                    n_jobs=None)"
      ]
     },
     "execution_count": 49,
     "metadata": {
      "tags": []
     },
     "output_type": "execute_result"
    }
   ],
   "source": [
    "%%time\n",
    "clf.fit(X_train_vc, y_train)"
   ]
  },
  {
   "cell_type": "code",
   "execution_count": null,
   "metadata": {
    "id": "Whlv7HfYLfOB"
   },
   "outputs": [],
   "source": [
    "predicted_label = clf.predict(X_test_vc)\n",
    "predicted_score = clf.decision_function(X_test_vc)"
   ]
  },
  {
   "cell_type": "code",
   "execution_count": null,
   "metadata": {
    "colab": {
     "base_uri": "https://localhost:8080/"
    },
    "id": "33sURkYsYgoI",
    "outputId": "7e4fde82-ccf3-4fcf-8fe8-efbd52c7eb71"
   },
   "outputs": [
    {
     "data": {
      "text/plain": [
       "((15000, 80), (15000, 80))"
      ]
     },
     "execution_count": 51,
     "metadata": {
      "tags": []
     },
     "output_type": "execute_result"
    }
   ],
   "source": [
    "predicted_label.shape, predicted_score.shape"
   ]
  },
  {
   "cell_type": "code",
   "execution_count": null,
   "metadata": {
    "id": "Y38CeV0_HYe3"
   },
   "outputs": [],
   "source": [
    "prediction_inverse = mlb.inverse_transform(predicted_label)\n",
    "y_test_inv = mlb.inverse_transform(y_test)"
   ]
  },
  {
   "cell_type": "markdown",
   "metadata": {
    "id": "QamZpd9eXwU1"
   },
   "source": [
    "### Classification Report"
   ]
  },
  {
   "cell_type": "code",
   "execution_count": null,
   "metadata": {
    "id": "oB_XrjGor9Tj"
   },
   "outputs": [],
   "source": [
    "from sklearn.metrics import accuracy_score, f1_score, average_precision_score, recall_score"
   ]
  },
  {
   "cell_type": "code",
   "execution_count": null,
   "metadata": {
    "colab": {
     "base_uri": "https://localhost:8080/"
    },
    "id": "rIzErMeasJLC",
    "outputId": "cb94553f-daed-4b33-f4e0-d62a8ccfe9f1"
   },
   "outputs": [
    {
     "data": {
      "text/plain": [
       "0.14193333333333333"
      ]
     },
     "execution_count": 54,
     "metadata": {
      "tags": []
     },
     "output_type": "execute_result"
    }
   ],
   "source": [
    "accuracy_score(y_test, predicted_label)"
   ]
  },
  {
   "cell_type": "code",
   "execution_count": null,
   "metadata": {
    "colab": {
     "base_uri": "https://localhost:8080/"
    },
    "id": "oJI2cV5xtKpy",
    "outputId": "9ba6bc3e-eb15-4a19-9eef-8857cfbb9788"
   },
   "outputs": [
    {
     "data": {
      "text/plain": [
       "0.4685028168556825"
      ]
     },
     "execution_count": 55,
     "metadata": {
      "tags": []
     },
     "output_type": "execute_result"
    }
   ],
   "source": [
    "f1_score(y_test, predicted_label, average = 'weighted')"
   ]
  },
  {
   "cell_type": "code",
   "execution_count": null,
   "metadata": {
    "colab": {
     "base_uri": "https://localhost:8080/"
    },
    "id": "rouUm_mItXyu",
    "outputId": "4efd7ba2-5c99-4aee-be6c-677283a47fe9"
   },
   "outputs": [
    {
     "data": {
      "text/plain": [
       "0.37982961022987755"
      ]
     },
     "execution_count": 56,
     "metadata": {
      "tags": []
     },
     "output_type": "execute_result"
    }
   ],
   "source": [
    "average_precision_score(y_test, predicted_label, average = 'weighted')"
   ]
  },
  {
   "cell_type": "code",
   "execution_count": null,
   "metadata": {
    "colab": {
     "base_uri": "https://localhost:8080/"
    },
    "id": "JT8PkX09tc3V",
    "outputId": "0ee5a679-09dc-4294-eb89-a175a2212bfe"
   },
   "outputs": [
    {
     "data": {
      "text/plain": [
       "0.38715"
      ]
     },
     "execution_count": 57,
     "metadata": {
      "tags": []
     },
     "output_type": "execute_result"
    }
   ],
   "source": [
    "recall_score(y_test, predicted_label, average = 'weighted')"
   ]
  },
  {
   "cell_type": "markdown",
   "metadata": {
    "id": "Mazut-rwRg3e"
   },
   "source": [
    "We can see that the model has performed poorly. The accuracy score is not sufficient because while we clipped the dataset, we've lost more than half of the information and it might contain some unbalanced data. Therefore, for the improvement, we need to add more or work on the full details to the dataset, but it's possible when we have high computing power."
   ]
  },
  {
   "cell_type": "markdown",
   "metadata": {
    "id": "e0fe3ub3Zy_Q"
   },
   "source": [
    "### True vs Predicted"
   ]
  },
  {
   "cell_type": "code",
   "execution_count": null,
   "metadata": {
    "colab": {
     "base_uri": "https://localhost:8080/"
    },
    "id": "_pq3bQ_VuCrc",
    "outputId": "859d6276-8c0b-4925-c529-4db08b0ee4fe"
   },
   "outputs": [
    {
     "name": "stdout",
     "output_type": "stream",
     "text": [
      "title:   (0, 12807)\t1\n",
      "  (0, 38097)\t1\n",
      "  (0, 108696)\t1\n",
      "  (0, 174124)\t1\n",
      "  (0, 175683)\t1\n",
      "  (0, 417699)\t1\n",
      "  (0, 421529)\t1\n",
      "  (0, 496809)\t1\n",
      "  (0, 496841)\t1\n",
      "  (0, 562154)\t1\n",
      "  (0, 562397)\t1\n",
      "  (0, 609147)\t2\n",
      "  (0, 610020)\t1\n",
      "  (0, 620567)\t1\n",
      "  (0, 621242)\t1\n",
      "  (0, 625407)\t1\n",
      "  (0, 625509)\t1\n",
      "  (0, 645459)\t1\n",
      "  (0, 646170)\t1\n",
      "  (0, 698081)\t1\n",
      "  (0, 706908)\t1\n",
      "  (0, 707160)\t1\n",
      "  (0, 776225)\t1\n",
      "  (0, 776798)\t1\n",
      "  (0, 811259)\t1\n",
      "  :\t:\n",
      "  (0, 1652639)\t1\n",
      "  (0, 1652789)\t1\n",
      "  (0, 1653197)\t1\n",
      "  (0, 1653208)\t1\n",
      "  (0, 1653233)\t1\n",
      "  (0, 1821285)\t1\n",
      "  (0, 1823730)\t1\n",
      "  (0, 1832274)\t1\n",
      "  (0, 1832292)\t1\n",
      "  (0, 1854975)\t1\n",
      "  (0, 1855948)\t1\n",
      "  (0, 1862544)\t1\n",
      "  (0, 1903037)\t1\n",
      "  (0, 1903627)\t1\n",
      "  (0, 1974704)\t1\n",
      "  (0, 1974875)\t1\n",
      "  (0, 1984633)\t1\n",
      "  (0, 1985888)\t1\n",
      "  (0, 1990065)\t2\n",
      "  (0, 1991989)\t1\n",
      "  (0, 1992996)\t1\n",
      "  (0, 2033475)\t1\n",
      "  (0, 2033567)\t1\n",
      "  (0, 2056068)\t1\n",
      "  (0, 2056432)\t1\n",
      "true labels: 37.Education.Gemini.female\n",
      "predicted labels: male\n",
      "\n",
      "title:   (0, 64752)\t1\n",
      "  (0, 64758)\t1\n",
      "  (0, 64780)\t1\n",
      "  (0, 81906)\t1\n",
      "  (0, 125595)\t1\n",
      "  (0, 125791)\t1\n",
      "  (0, 154192)\t3\n",
      "  (0, 155926)\t1\n",
      "  (0, 156280)\t1\n",
      "  (0, 163623)\t1\n",
      "  (0, 163766)\t1\n",
      "  (0, 236453)\t1\n",
      "  (0, 237777)\t1\n",
      "  (0, 240086)\t1\n",
      "  (0, 240210)\t1\n",
      "  (0, 302444)\t1\n",
      "  (0, 302631)\t1\n",
      "  (0, 417699)\t1\n",
      "  (0, 420710)\t1\n",
      "  (0, 514859)\t1\n",
      "  (0, 515513)\t1\n",
      "  (0, 566705)\t2\n",
      "  (0, 566907)\t1\n",
      "  (0, 598764)\t1\n",
      "  (0, 599785)\t1\n",
      "  :\t:\n",
      "  (0, 1654344)\t1\n",
      "  (0, 1663025)\t1\n",
      "  (0, 1663031)\t1\n",
      "  (0, 1710410)\t2\n",
      "  (0, 1710573)\t2\n",
      "  (0, 1763473)\t1\n",
      "  (0, 1779182)\t1\n",
      "  (0, 1779404)\t1\n",
      "  (0, 1859398)\t1\n",
      "  (0, 1861027)\t1\n",
      "  (0, 1866114)\t2\n",
      "  (0, 1866837)\t1\n",
      "  (0, 1894971)\t1\n",
      "  (0, 1895992)\t1\n",
      "  (0, 1899783)\t1\n",
      "  (0, 1900538)\t1\n",
      "  (0, 1969032)\t1\n",
      "  (0, 1986958)\t1\n",
      "  (0, 1990065)\t1\n",
      "  (0, 1991354)\t1\n",
      "  (0, 2007706)\t2\n",
      "  (0, 2008149)\t1\n",
      "  (0, 2008287)\t1\n",
      "  (0, 2034358)\t2\n",
      "  (0, 2034502)\t1\n",
      "true labels: 24.Libra.female.indUnk\n",
      "predicted labels: 24.Libra.female.indUnk\n",
      "\n",
      "title:   (0, 196938)\t1\n",
      "  (0, 197460)\t1\n",
      "  (0, 657336)\t1\n",
      "  (0, 667608)\t1\n",
      "  (0, 668463)\t1\n",
      "  (0, 802354)\t1\n",
      "  (0, 802632)\t1\n",
      "  (0, 1021161)\t1\n",
      "  (0, 1026648)\t1\n",
      "  (0, 1061661)\t1\n",
      "  (0, 1061972)\t1\n",
      "  (0, 1204272)\t1\n",
      "  (0, 1209195)\t1\n",
      "  (0, 1338319)\t1\n",
      "  (0, 1338401)\t1\n",
      "  (0, 1531676)\t1\n",
      "  (0, 1531799)\t1\n",
      "  (0, 1928995)\t2\n",
      "  (0, 1931422)\t1\n",
      "true labels: 17.Gemini.female.indUnk\n",
      "predicted labels: female\n",
      "\n",
      "title:   (0, 18404)\t1\n",
      "  (0, 132140)\t1\n",
      "  (0, 132141)\t1\n",
      "  (0, 157960)\t2\n",
      "  (0, 157978)\t1\n",
      "  (0, 173534)\t1\n",
      "  (0, 204014)\t1\n",
      "  (0, 214224)\t2\n",
      "  (0, 257684)\t1\n",
      "  (0, 257807)\t1\n",
      "  (0, 291291)\t1\n",
      "  (0, 303335)\t1\n",
      "  (0, 319476)\t2\n",
      "  (0, 319776)\t1\n",
      "  (0, 353554)\t1\n",
      "  (0, 376194)\t1\n",
      "  (0, 377170)\t1\n",
      "  (0, 421756)\t2\n",
      "  (0, 423609)\t1\n",
      "  (0, 423652)\t1\n",
      "  (0, 428768)\t1\n",
      "  (0, 520635)\t1\n",
      "  (0, 582911)\t1\n",
      "  (0, 583249)\t1\n",
      "  (0, 614100)\t1\n",
      "  :\t:\n",
      "  (0, 1824226)\t1\n",
      "  (0, 1828817)\t1\n",
      "  (0, 1837146)\t1\n",
      "  (0, 1873968)\t1\n",
      "  (0, 1874104)\t1\n",
      "  (0, 1875486)\t1\n",
      "  (0, 1875760)\t1\n",
      "  (0, 1925580)\t2\n",
      "  (0, 1926180)\t1\n",
      "  (0, 1926235)\t1\n",
      "  (0, 1936392)\t2\n",
      "  (0, 1968054)\t1\n",
      "  (0, 1968098)\t1\n",
      "  (0, 2012688)\t2\n",
      "  (0, 2025503)\t2\n",
      "  (0, 2025861)\t1\n",
      "  (0, 2026020)\t1\n",
      "  (0, 2037547)\t2\n",
      "  (0, 2039640)\t1\n",
      "  (0, 2050861)\t1\n",
      "  (0, 2051289)\t1\n",
      "  (0, 2065875)\t3\n",
      "  (0, 2066530)\t1\n",
      "  (0, 2067361)\t1\n",
      "  (0, 2068081)\t2\n",
      "true labels: 27.Aquarius.Education.female\n",
      "predicted labels: male\n",
      "\n",
      "title:   (0, 29008)\t1\n",
      "  (0, 29429)\t1\n",
      "  (0, 65580)\t1\n",
      "  (0, 116628)\t2\n",
      "  (0, 116992)\t1\n",
      "  (0, 125154)\t1\n",
      "  (0, 164668)\t1\n",
      "  (0, 164951)\t1\n",
      "  (0, 173534)\t1\n",
      "  (0, 178360)\t2\n",
      "  (0, 178417)\t1\n",
      "  (0, 196938)\t1\n",
      "  (0, 196994)\t1\n",
      "  (0, 241864)\t2\n",
      "  (0, 241894)\t1\n",
      "  (0, 291591)\t1\n",
      "  (0, 317343)\t1\n",
      "  (0, 317956)\t1\n",
      "  (0, 367872)\t1\n",
      "  (0, 382230)\t1\n",
      "  (0, 385966)\t1\n",
      "  (0, 386033)\t1\n",
      "  (0, 417699)\t1\n",
      "  (0, 420641)\t1\n",
      "  (0, 478338)\t1\n",
      "  :\t:\n",
      "  (0, 1465865)\t2\n",
      "  (0, 1467622)\t1\n",
      "  (0, 1562194)\t1\n",
      "  (0, 1562407)\t1\n",
      "  (0, 1641555)\t1\n",
      "  (0, 1743101)\t1\n",
      "  (0, 1743104)\t1\n",
      "  (0, 1756327)\t1\n",
      "  (0, 1758173)\t1\n",
      "  (0, 1760063)\t1\n",
      "  (0, 1796576)\t1\n",
      "  (0, 1814283)\t1\n",
      "  (0, 1814343)\t1\n",
      "  (0, 1818410)\t1\n",
      "  (0, 1820948)\t1\n",
      "  (0, 1866114)\t1\n",
      "  (0, 1866796)\t1\n",
      "  (0, 1880979)\t1\n",
      "  (0, 1881084)\t1\n",
      "  (0, 1894971)\t1\n",
      "  (0, 1895494)\t1\n",
      "  (0, 2012053)\t1\n",
      "  (0, 2032852)\t1\n",
      "  (0, 2052746)\t1\n",
      "  (0, 2063251)\t1\n",
      "true labels: 17.Capricorn.Student.female\n",
      "predicted labels: 17.Capricorn.Student.female\n",
      "\n"
     ]
    }
   ],
   "source": [
    "for i in range(5):\n",
    "  print(\"title: {}\\ntrue labels: {}\\npredicted labels: {}\\n\".format(X_test_vc[i], \n",
    "                                                                      '.'.join(y_test_inv[i]), \n",
    "                                                                      '.'.join(prediction_inverse[i])))"
   ]
  },
  {
   "cell_type": "markdown",
   "metadata": {
    "id": "TgvrPCLoUd5d"
   },
   "source": [
    "Some of them have predicted the wrong because of the low performance of the model."
   ]
  },
  {
   "cell_type": "markdown",
   "metadata": {
    "id": "aLdQC1F4UtKQ"
   },
   "source": [
    "### Conclusion"
   ]
  },
  {
   "cell_type": "markdown",
   "metadata": {
    "id": "SGyVuiMJWL8k"
   },
   "source": [
    "First, we imported the data, then take a sample to avoid crashing. Then performed the pre-processing, cleansing and transformed it. After that, we split the data into train and test, plus applied the vectorisations. And then tune it to make it a classifier. However, the dataset hasn't performed well as we expected. As we've discussed before, we need to have a high computational power to overcome this issue."
   ]
  }
 ],
 "metadata": {
  "colab": {
   "collapsed_sections": [],
   "name": "Project - Part I.ipynb",
   "provenance": []
  },
  "kernelspec": {
   "display_name": "Python 3",
   "language": "python",
   "name": "python3"
  },
  "language_info": {
   "codemirror_mode": {
    "name": "ipython",
    "version": 3
   },
   "file_extension": ".py",
   "mimetype": "text/x-python",
   "name": "python",
   "nbconvert_exporter": "python",
   "pygments_lexer": "ipython3",
   "version": "3.8.5"
  }
 },
 "nbformat": 4,
 "nbformat_minor": 5
}
