{
 "cells": [
  {
   "cell_type": "code",
   "execution_count": 4,
   "metadata": {
    "colab": {
     "base_uri": "https://localhost:8080/",
     "height": 34
    },
    "id": "scgtlfCuEzZ2",
    "outputId": "99f8dfaf-32fd-437a-d477-8a0d468184d1"
   },
   "outputs": [],
   "source": [
    "# from google.colab import drive\n",
    "# drive.mount('/content/gdrive')"
   ]
  },
  {
   "cell_type": "code",
   "execution_count": 5,
   "metadata": {
    "colab": {
     "base_uri": "https://localhost:8080/",
     "height": 309
    },
    "id": "pk8CIT-8FINj",
    "outputId": "4051c486-f322-423c-bffa-a03683ca0aa9"
   },
   "outputs": [],
   "source": [
    "# pip install surprise"
   ]
  },
  {
   "cell_type": "code",
   "execution_count": 6,
   "metadata": {
    "id": "0C-zCGK1Et40"
   },
   "outputs": [],
   "source": [
    "# importing dafault libraries\n",
    "import pandas as pd\n",
    "import numpy as np\n",
    "import matplotlib.pyplot as plt\n",
    "import seaborn as sns\n",
    "import warnings\n",
    "warnings.filterwarnings('ignore')"
   ]
  },
  {
   "cell_type": "code",
   "execution_count": 7,
   "metadata": {
    "id": "VOsfhDY6Et5O"
   },
   "outputs": [],
   "source": [
    "# Surprise library\n",
    "from surprise import Dataset, KNNWithMeans, accuracy, Reader, SVD\n",
    "from surprise.model_selection import train_test_split\n",
    "from surprise.model_selection.validation import cross_validate\n",
    "from surprise.model_selection import GridSearchCV"
   ]
  },
  {
   "cell_type": "code",
   "execution_count": 8,
   "metadata": {
    "id": "iH5-GYPeEt5m"
   },
   "outputs": [],
   "source": [
    "# Importing dictionary library\n",
    "from collections import defaultdict "
   ]
  },
  {
   "cell_type": "code",
   "execution_count": 9,
   "metadata": {
    "id": "tNcgdrmfEt55"
   },
   "outputs": [],
   "source": [
    "# Importing dataset\n",
    "df = pd.read_csv('Electronic_dataset.csv')"
   ]
  },
  {
   "cell_type": "code",
   "execution_count": 10,
   "metadata": {
    "id": "2Ca7K0ygEt6K"
   },
   "outputs": [],
   "source": [
    "# Replacing the column name = User - uid, Productuts - pid, ratings - ratings\n",
    "df.columns = ['uid', 'pid', 'ratings', 'timestamp']"
   ]
  },
  {
   "cell_type": "code",
   "execution_count": 11,
   "metadata": {
    "id": "flSqeAruEt6a"
   },
   "outputs": [],
   "source": [
    "# Dropping Timestamp column as we don't need any use for this dataset\n",
    "df.drop(['timestamp'], axis = 1, inplace = True)"
   ]
  },
  {
   "cell_type": "code",
   "execution_count": 12,
   "metadata": {
    "colab": {
     "base_uri": "https://localhost:8080/",
     "height": 204
    },
    "id": "AGI7QDivEt6r",
    "outputId": "b7475517-ad1c-41e9-b0a1-b6eaef47086d"
   },
   "outputs": [
    {
     "data": {
      "text/html": [
       "<div>\n",
       "<style scoped>\n",
       "    .dataframe tbody tr th:only-of-type {\n",
       "        vertical-align: middle;\n",
       "    }\n",
       "\n",
       "    .dataframe tbody tr th {\n",
       "        vertical-align: top;\n",
       "    }\n",
       "\n",
       "    .dataframe thead th {\n",
       "        text-align: right;\n",
       "    }\n",
       "</style>\n",
       "<table border=\"1\" class=\"dataframe\">\n",
       "  <thead>\n",
       "    <tr style=\"text-align: right;\">\n",
       "      <th></th>\n",
       "      <th>uid</th>\n",
       "      <th>pid</th>\n",
       "      <th>ratings</th>\n",
       "    </tr>\n",
       "  </thead>\n",
       "  <tbody>\n",
       "    <tr>\n",
       "      <th>0</th>\n",
       "      <td>A3L1GVWVJKWZZS</td>\n",
       "      <td>B0058UUR6E</td>\n",
       "      <td>5.0</td>\n",
       "    </tr>\n",
       "    <tr>\n",
       "      <th>1</th>\n",
       "      <td>A08831071BVKZMKNCPI5S</td>\n",
       "      <td>B009ID0VVS</td>\n",
       "      <td>5.0</td>\n",
       "    </tr>\n",
       "    <tr>\n",
       "      <th>2</th>\n",
       "      <td>A1SINU2I4IOPNU</td>\n",
       "      <td>B000GBO9IM</td>\n",
       "      <td>4.0</td>\n",
       "    </tr>\n",
       "    <tr>\n",
       "      <th>3</th>\n",
       "      <td>A3P3P31EEOX2BD</td>\n",
       "      <td>B00CDCIOHO</td>\n",
       "      <td>3.0</td>\n",
       "    </tr>\n",
       "    <tr>\n",
       "      <th>4</th>\n",
       "      <td>A3DBLJ3MPBJQMN</td>\n",
       "      <td>B000MS3VGA</td>\n",
       "      <td>5.0</td>\n",
       "    </tr>\n",
       "  </tbody>\n",
       "</table>\n",
       "</div>"
      ],
      "text/plain": [
       "                     uid         pid  ratings\n",
       "0         A3L1GVWVJKWZZS  B0058UUR6E      5.0\n",
       "1  A08831071BVKZMKNCPI5S  B009ID0VVS      5.0\n",
       "2         A1SINU2I4IOPNU  B000GBO9IM      4.0\n",
       "3         A3P3P31EEOX2BD  B00CDCIOHO      3.0\n",
       "4         A3DBLJ3MPBJQMN  B000MS3VGA      5.0"
      ]
     },
     "execution_count": 12,
     "metadata": {},
     "output_type": "execute_result"
    }
   ],
   "source": [
    "df.head() "
   ]
  },
  {
   "cell_type": "code",
   "execution_count": 13,
   "metadata": {
    "colab": {
     "base_uri": "https://localhost:8080/",
     "height": 34
    },
    "id": "0552AJdjEt7E",
    "outputId": "2fd74248-b1cd-432d-aec7-24cefdf8c506"
   },
   "outputs": [
    {
     "data": {
      "text/plain": [
       "(500000, 3)"
      ]
     },
     "execution_count": 13,
     "metadata": {},
     "output_type": "execute_result"
    }
   ],
   "source": [
    "df.shape"
   ]
  },
  {
   "cell_type": "code",
   "execution_count": 14,
   "metadata": {
    "colab": {
     "base_uri": "https://localhost:8080/",
     "height": 85
    },
    "id": "5CkicEc3Et7k",
    "outputId": "f8a1f47e-b02b-400c-f36d-10021a806928"
   },
   "outputs": [
    {
     "data": {
      "text/plain": [
       "uid        500000\n",
       "pid        500000\n",
       "ratings    500000\n",
       "dtype: int64"
      ]
     },
     "execution_count": 14,
     "metadata": {},
     "output_type": "execute_result"
    }
   ],
   "source": [
    "df.count()"
   ]
  },
  {
   "cell_type": "code",
   "execution_count": 15,
   "metadata": {
    "colab": {
     "base_uri": "https://localhost:8080/",
     "height": 34
    },
    "id": "Sp5pSzzxEt7_",
    "outputId": "aa211f32-3f29-43ce-c7e6-67b8128cc890"
   },
   "outputs": [
    {
     "data": {
      "text/plain": [
       "Index(['uid', 'pid', 'ratings'], dtype='object')"
      ]
     },
     "execution_count": 15,
     "metadata": {},
     "output_type": "execute_result"
    }
   ],
   "source": [
    "df.columns"
   ]
  },
  {
   "cell_type": "code",
   "execution_count": 16,
   "metadata": {
    "colab": {
     "base_uri": "https://localhost:8080/",
     "height": 85
    },
    "id": "fwsi7538Et8Q",
    "outputId": "95fc44cb-5414-47c8-eafe-0cb5e312bae5"
   },
   "outputs": [
    {
     "data": {
      "text/plain": [
       "uid         object\n",
       "pid         object\n",
       "ratings    float64\n",
       "dtype: object"
      ]
     },
     "execution_count": 16,
     "metadata": {},
     "output_type": "execute_result"
    }
   ],
   "source": [
    "df.dtypes"
   ]
  },
  {
   "cell_type": "code",
   "execution_count": 17,
   "metadata": {
    "id": "1cktTgjjEt8j"
   },
   "outputs": [],
   "source": [
    "# Replace '?' with nan value if found\n",
    "df.ratings.replace('?', np.nan, inplace = True)"
   ]
  },
  {
   "cell_type": "code",
   "execution_count": 18,
   "metadata": {
    "colab": {
     "base_uri": "https://localhost:8080/",
     "height": 34
    },
    "id": "KXhmjEvsEt_X",
    "outputId": "93ba3015-f4eb-42ee-d860-ddce1f18fcdd"
   },
   "outputs": [
    {
     "name": "stdout",
     "output_type": "stream",
     "text": [
      "There is no NaN value presented in rating column.\n"
     ]
    }
   ],
   "source": [
    "# Checking the nan value if any presents in rating column\n",
    "a = df.ratings.isnull().sum()\n",
    "if a > 0:\n",
    "    Print('There is NaN value presented in ratingcolumn.')\n",
    "else:\n",
    "    print('There is no NaN value presented in rating column.')"
   ]
  },
  {
   "cell_type": "code",
   "execution_count": 19,
   "metadata": {
    "colab": {
     "base_uri": "https://localhost:8080/",
     "height": 279
    },
    "id": "1vrwaCqfEuDO",
    "outputId": "9d7c668f-1567-44d2-8035-8299290d8b41"
   },
   "outputs": [
    {
     "data": {
      "image/png": "[encoded data removed]",
      "text/plain": [
       "<Figure size 432x288 with 1 Axes>"
      ]
     },
     "metadata": {
      "needs_background": "light"
     },
     "output_type": "display_data"
    }
   ],
   "source": [
    "# Plotting the rating column\n",
    "sns.countplot(df.ratings)\n",
    "plt.grid()"
   ]
  },
  {
   "cell_type": "code",
   "execution_count": 20,
   "metadata": {
    "colab": {
     "base_uri": "https://localhost:8080/",
     "height": 296
    },
    "id": "Sc8IJ3kpEuDj",
    "outputId": "be6c13aa-49a0-4f86-c8de-7f68302e7ffb"
   },
   "outputs": [
    {
     "data": {
      "text/plain": [
       "<AxesSubplot:xlabel='ratings', ylabel='Density'>"
      ]
     },
     "execution_count": 20,
     "metadata": {},
     "output_type": "execute_result"
    },
    {
     "data": {
      "image/png": "[encoded data removed]",
      "text/plain": [
       "<Figure size 432x288 with 1 Axes>"
      ]
     },
     "metadata": {
      "needs_background": "light"
     },
     "output_type": "display_data"
    }
   ],
   "source": [
    "sns.distplot(df.ratings)"
   ]
  },
  {
   "cell_type": "markdown",
   "metadata": {
    "id": "d74-n9_LEuFf"
   },
   "source": [
    "From both graphs, most of the users have rated 5.0 and follow rated 4.0. The low rated product is 2.0."
   ]
  },
  {
   "cell_type": "code",
   "execution_count": 21,
   "metadata": {
    "id": "lZo4IwZJEuFi"
   },
   "outputs": [],
   "source": [
    "# Getting how many users have rated and stored in the user\n",
    "user = df['uid'].value_counts().value_counts()"
   ]
  },
  {
   "cell_type": "code",
   "execution_count": 22,
   "metadata": {
    "id": "QOSffqIIEuFv"
   },
   "outputs": [],
   "source": [
    "# Making a dataframe\n",
    "user = pd.DataFrame(user)"
   ]
  },
  {
   "cell_type": "code",
   "execution_count": 23,
   "metadata": {
    "id": "4HsDDYrIEuF6"
   },
   "outputs": [],
   "source": [
    "user.index.name = 'Total_rating_given_by_User'"
   ]
  },
  {
   "cell_type": "markdown",
   "metadata": {
    "id": "n8cGTmqhEuGG"
   },
   "source": [
    "Dataframe index is about total products which was rated by users"
   ]
  },
  {
   "cell_type": "code",
   "execution_count": 24,
   "metadata": {
    "colab": {
     "base_uri": "https://localhost:8080/",
     "height": 979
    },
    "id": "p7yUdisJEuGI",
    "outputId": "773ec84f-fe23-41f5-d776-28cacf9e2b61",
    "scrolled": true
   },
   "outputs": [
    {
     "data": {
      "text/html": [
       "<div>\n",
       "<style scoped>\n",
       "    .dataframe tbody tr th:only-of-type {\n",
       "        vertical-align: middle;\n",
       "    }\n",
       "\n",
       "    .dataframe tbody tr th {\n",
       "        vertical-align: top;\n",
       "    }\n",
       "\n",
       "    .dataframe thead th {\n",
       "        text-align: right;\n",
       "    }\n",
       "</style>\n",
       "<table border=\"1\" class=\"dataframe\">\n",
       "  <thead>\n",
       "    <tr style=\"text-align: right;\">\n",
       "      <th></th>\n",
       "      <th>uid</th>\n",
       "    </tr>\n",
       "    <tr>\n",
       "      <th>Total_rating_given_by_User</th>\n",
       "      <th></th>\n",
       "    </tr>\n",
       "  </thead>\n",
       "  <tbody>\n",
       "    <tr>\n",
       "      <th>36</th>\n",
       "      <td>1</td>\n",
       "    </tr>\n",
       "    <tr>\n",
       "      <th>30</th>\n",
       "      <td>1</td>\n",
       "    </tr>\n",
       "    <tr>\n",
       "      <th>29</th>\n",
       "      <td>1</td>\n",
       "    </tr>\n",
       "    <tr>\n",
       "      <th>28</th>\n",
       "      <td>1</td>\n",
       "    </tr>\n",
       "    <tr>\n",
       "      <th>24</th>\n",
       "      <td>1</td>\n",
       "    </tr>\n",
       "    <tr>\n",
       "      <th>22</th>\n",
       "      <td>1</td>\n",
       "    </tr>\n",
       "    <tr>\n",
       "      <th>21</th>\n",
       "      <td>1</td>\n",
       "    </tr>\n",
       "    <tr>\n",
       "      <th>34</th>\n",
       "      <td>1</td>\n",
       "    </tr>\n",
       "    <tr>\n",
       "      <th>23</th>\n",
       "      <td>2</td>\n",
       "    </tr>\n",
       "    <tr>\n",
       "      <th>17</th>\n",
       "      <td>2</td>\n",
       "    </tr>\n",
       "    <tr>\n",
       "      <th>20</th>\n",
       "      <td>3</td>\n",
       "    </tr>\n",
       "    <tr>\n",
       "      <th>19</th>\n",
       "      <td>4</td>\n",
       "    </tr>\n",
       "    <tr>\n",
       "      <th>18</th>\n",
       "      <td>4</td>\n",
       "    </tr>\n",
       "    <tr>\n",
       "      <th>16</th>\n",
       "      <td>5</td>\n",
       "    </tr>\n",
       "    <tr>\n",
       "      <th>15</th>\n",
       "      <td>11</td>\n",
       "    </tr>\n",
       "    <tr>\n",
       "      <th>14</th>\n",
       "      <td>11</td>\n",
       "    </tr>\n",
       "    <tr>\n",
       "      <th>13</th>\n",
       "      <td>12</td>\n",
       "    </tr>\n",
       "    <tr>\n",
       "      <th>12</th>\n",
       "      <td>22</td>\n",
       "    </tr>\n",
       "    <tr>\n",
       "      <th>11</th>\n",
       "      <td>24</td>\n",
       "    </tr>\n",
       "    <tr>\n",
       "      <th>10</th>\n",
       "      <td>28</td>\n",
       "    </tr>\n",
       "    <tr>\n",
       "      <th>9</th>\n",
       "      <td>61</td>\n",
       "    </tr>\n",
       "    <tr>\n",
       "      <th>8</th>\n",
       "      <td>87</td>\n",
       "    </tr>\n",
       "    <tr>\n",
       "      <th>7</th>\n",
       "      <td>152</td>\n",
       "    </tr>\n",
       "    <tr>\n",
       "      <th>6</th>\n",
       "      <td>288</td>\n",
       "    </tr>\n",
       "    <tr>\n",
       "      <th>5</th>\n",
       "      <td>507</td>\n",
       "    </tr>\n",
       "    <tr>\n",
       "      <th>4</th>\n",
       "      <td>1522</td>\n",
       "    </tr>\n",
       "    <tr>\n",
       "      <th>3</th>\n",
       "      <td>5356</td>\n",
       "    </tr>\n",
       "    <tr>\n",
       "      <th>2</th>\n",
       "      <td>29138</td>\n",
       "    </tr>\n",
       "    <tr>\n",
       "      <th>1</th>\n",
       "      <td>411121</td>\n",
       "    </tr>\n",
       "  </tbody>\n",
       "</table>\n",
       "</div>"
      ],
      "text/plain": [
       "                               uid\n",
       "Total_rating_given_by_User        \n",
       "36                               1\n",
       "30                               1\n",
       "29                               1\n",
       "28                               1\n",
       "24                               1\n",
       "22                               1\n",
       "21                               1\n",
       "34                               1\n",
       "23                               2\n",
       "17                               2\n",
       "20                               3\n",
       "19                               4\n",
       "18                               4\n",
       "16                               5\n",
       "15                              11\n",
       "14                              11\n",
       "13                              12\n",
       "12                              22\n",
       "11                              24\n",
       "10                              28\n",
       "9                               61\n",
       "8                               87\n",
       "7                              152\n",
       "6                              288\n",
       "5                              507\n",
       "4                             1522\n",
       "3                             5356\n",
       "2                            29138\n",
       "1                           411121"
      ]
     },
     "execution_count": 24,
     "metadata": {},
     "output_type": "execute_result"
    }
   ],
   "source": [
    "# uid = users\n",
    "user.iloc[::-1]"
   ]
  },
  {
   "cell_type": "markdown",
   "metadata": {
    "id": "sx2uDw1_EuGn"
   },
   "source": [
    "As we can see, the top user has rated 36 products, following by 30 and so on so forth. The maximum users have rated only 1 product, which may be a disadvantage for our recommended system."
   ]
  },
  {
   "cell_type": "code",
   "execution_count": 25,
   "metadata": {
    "id": "dVNN0mI0EuGq"
   },
   "outputs": [],
   "source": [
    "# Getting the top 10 users who have rated most of the products.\n",
    "most_rated_user = df.groupby('uid').size().sort_values(ascending = False)[:10]"
   ]
  },
  {
   "cell_type": "code",
   "execution_count": 26,
   "metadata": {
    "colab": {
     "base_uri": "https://localhost:8080/",
     "height": 221
    },
    "id": "Y7ycW8-6EuG7",
    "outputId": "ba71efdb-5130-4c3b-b1ce-b88ad3c7b0e2"
   },
   "outputs": [
    {
     "data": {
      "text/plain": [
       "uid\n",
       "A680RUE1FDO8B     36\n",
       "A3OXHLG6DIBRW8    34\n",
       "ADLVFFE4VBT8      30\n",
       "A5JLAU2ARJ0BO     29\n",
       "A2NOW4U7W3F7RI    28\n",
       "A231WM2Z2JL0U3    24\n",
       "A2AY4YUOX2N1BQ    23\n",
       "A6FIAB28IS79      23\n",
       "A4WEZJOIZIV4U     22\n",
       "A1ODOGXEYECQQ8    21\n",
       "dtype: int64"
      ]
     },
     "execution_count": 26,
     "metadata": {},
     "output_type": "execute_result"
    }
   ],
   "source": [
    "most_rated_user"
   ]
  },
  {
   "cell_type": "code",
   "execution_count": 27,
   "metadata": {
    "id": "vDoc9FiGEuHL"
   },
   "outputs": [],
   "source": [
    "# Counting total users\n",
    "counts = df['uid'].value_counts()"
   ]
  },
  {
   "cell_type": "markdown",
   "metadata": {
    "id": "N3zYJjk8EuHW"
   },
   "source": [
    "### Sparse Dataset"
   ]
  },
  {
   "cell_type": "code",
   "execution_count": 28,
   "metadata": {
    "id": "bWFt1sbrEuHa"
   },
   "outputs": [],
   "source": [
    "# Putting a threshold to our user column to make sparse\n",
    "df_final = df[df['uid'].isin(counts[counts >= 6].index)]"
   ]
  },
  {
   "cell_type": "code",
   "execution_count": 29,
   "metadata": {
    "colab": {
     "base_uri": "https://localhost:8080/",
     "height": 204
    },
    "id": "N8GCuwcGEuIN",
    "outputId": "fbe7b3a8-c504-4a8e-c25b-13be43bae729"
   },
   "outputs": [
    {
     "data": {
      "text/html": [
       "<div>\n",
       "<style scoped>\n",
       "    .dataframe tbody tr th:only-of-type {\n",
       "        vertical-align: middle;\n",
       "    }\n",
       "\n",
       "    .dataframe tbody tr th {\n",
       "        vertical-align: top;\n",
       "    }\n",
       "\n",
       "    .dataframe thead th {\n",
       "        text-align: right;\n",
       "    }\n",
       "</style>\n",
       "<table border=\"1\" class=\"dataframe\">\n",
       "  <thead>\n",
       "    <tr style=\"text-align: right;\">\n",
       "      <th></th>\n",
       "      <th>uid</th>\n",
       "      <th>pid</th>\n",
       "      <th>ratings</th>\n",
       "    </tr>\n",
       "  </thead>\n",
       "  <tbody>\n",
       "    <tr>\n",
       "      <th>26</th>\n",
       "      <td>A2HX3D3MPPASNS</td>\n",
       "      <td>B004I3VZM2</td>\n",
       "      <td>4.0</td>\n",
       "    </tr>\n",
       "    <tr>\n",
       "      <th>214</th>\n",
       "      <td>AZNUHQSHZHSUE</td>\n",
       "      <td>B000FJEYZI</td>\n",
       "      <td>1.0</td>\n",
       "    </tr>\n",
       "    <tr>\n",
       "      <th>264</th>\n",
       "      <td>A1YEPFLLH42OU1</td>\n",
       "      <td>B00E3W15P0</td>\n",
       "      <td>5.0</td>\n",
       "    </tr>\n",
       "    <tr>\n",
       "      <th>286</th>\n",
       "      <td>A2GYV87WW0DMSN</td>\n",
       "      <td>B0009Y7APU</td>\n",
       "      <td>5.0</td>\n",
       "    </tr>\n",
       "    <tr>\n",
       "      <th>413</th>\n",
       "      <td>A10Y058K7B96C6</td>\n",
       "      <td>B005HSG3VK</td>\n",
       "      <td>5.0</td>\n",
       "    </tr>\n",
       "  </tbody>\n",
       "</table>\n",
       "</div>"
      ],
      "text/plain": [
       "                uid         pid  ratings\n",
       "26   A2HX3D3MPPASNS  B004I3VZM2      4.0\n",
       "214   AZNUHQSHZHSUE  B000FJEYZI      1.0\n",
       "264  A1YEPFLLH42OU1  B00E3W15P0      5.0\n",
       "286  A2GYV87WW0DMSN  B0009Y7APU      5.0\n",
       "413  A10Y058K7B96C6  B005HSG3VK      5.0"
      ]
     },
     "execution_count": 29,
     "metadata": {},
     "output_type": "execute_result"
    }
   ],
   "source": [
    "# Sparse dataframe\n",
    "df_final.head()"
   ]
  },
  {
   "cell_type": "code",
   "execution_count": 30,
   "metadata": {
    "colab": {
     "base_uri": "https://localhost:8080/",
     "height": 34
    },
    "id": "LE8b_afXEuIo",
    "outputId": "8be076ba-69c0-47e7-c339-494de91cde49"
   },
   "outputs": [
    {
     "data": {
      "text/plain": [
       "(5912, 3)"
      ]
     },
     "execution_count": 30,
     "metadata": {},
     "output_type": "execute_result"
    }
   ],
   "source": [
    "df_final.shape"
   ]
  },
  {
   "cell_type": "markdown",
   "metadata": {
    "id": "BRxKdPNtEuI3"
   },
   "source": [
    "Our dataframe is now less dense."
   ]
  },
  {
   "cell_type": "markdown",
   "metadata": {
    "id": "QAn_yoXCEuI5"
   },
   "source": [
    "## Popularity"
   ]
  },
  {
   "cell_type": "code",
   "execution_count": 31,
   "metadata": {
    "colab": {
     "base_uri": "https://localhost:8080/",
     "height": 34
    },
    "id": "96K_fn0BEuI7",
    "outputId": "1758f187-108f-47cf-e879-1f5173c6ec95"
   },
   "outputs": [
    {
     "data": {
      "text/plain": [
       "724"
      ]
     },
     "execution_count": 31,
     "metadata": {},
     "output_type": "execute_result"
    }
   ],
   "source": [
    "# Total user\n",
    "df_final.uid.nunique()"
   ]
  },
  {
   "cell_type": "code",
   "execution_count": 32,
   "metadata": {
    "colab": {
     "base_uri": "https://localhost:8080/",
     "height": 34
    },
    "id": "fILL-8fMEuJE",
    "outputId": "f24973fc-75fb-4a93-de45-42058b0aece5"
   },
   "outputs": [
    {
     "data": {
      "text/plain": [
       "4971"
      ]
     },
     "execution_count": 32,
     "metadata": {},
     "output_type": "execute_result"
    }
   ],
   "source": [
    "# Total product\n",
    "df_final.pid.nunique()"
   ]
  },
  {
   "cell_type": "code",
   "execution_count": 33,
   "metadata": {
    "colab": {
     "base_uri": "https://localhost:8080/",
     "height": 235
    },
    "id": "d9NGI20wEuJN",
    "outputId": "e24672ca-e652-45a9-d278-0ece27a5a066"
   },
   "outputs": [
    {
     "data": {
      "text/html": [
       "<div>\n",
       "<style scoped>\n",
       "    .dataframe tbody tr th:only-of-type {\n",
       "        vertical-align: middle;\n",
       "    }\n",
       "\n",
       "    .dataframe tbody tr th {\n",
       "        vertical-align: top;\n",
       "    }\n",
       "\n",
       "    .dataframe thead th {\n",
       "        text-align: right;\n",
       "    }\n",
       "</style>\n",
       "<table border=\"1\" class=\"dataframe\">\n",
       "  <thead>\n",
       "    <tr style=\"text-align: right;\">\n",
       "      <th></th>\n",
       "      <th>ratings</th>\n",
       "    </tr>\n",
       "    <tr>\n",
       "      <th>pid</th>\n",
       "      <th></th>\n",
       "    </tr>\n",
       "  </thead>\n",
       "  <tbody>\n",
       "    <tr>\n",
       "      <th>1400501466</th>\n",
       "      <td>1.0</td>\n",
       "    </tr>\n",
       "    <tr>\n",
       "      <th>1400532655</th>\n",
       "      <td>2.0</td>\n",
       "    </tr>\n",
       "    <tr>\n",
       "      <th>9985511476</th>\n",
       "      <td>5.0</td>\n",
       "    </tr>\n",
       "    <tr>\n",
       "      <th>B000006OQ8</th>\n",
       "      <td>4.0</td>\n",
       "    </tr>\n",
       "    <tr>\n",
       "      <th>B00000DM9M</th>\n",
       "      <td>5.0</td>\n",
       "    </tr>\n",
       "  </tbody>\n",
       "</table>\n",
       "</div>"
      ],
      "text/plain": [
       "            ratings\n",
       "pid                \n",
       "1400501466      1.0\n",
       "1400532655      2.0\n",
       "9985511476      5.0\n",
       "B000006OQ8      4.0\n",
       "B00000DM9M      5.0"
      ]
     },
     "execution_count": 33,
     "metadata": {},
     "output_type": "execute_result"
    }
   ],
   "source": [
    "# Getting the mean of product column\n",
    "book_ratings = pd.DataFrame(df_final.groupby('pid').mean())\n",
    "book_ratings.head()"
   ]
  },
  {
   "cell_type": "code",
   "execution_count": 34,
   "metadata": {
    "colab": {
     "base_uri": "https://localhost:8080/",
     "height": 235
    },
    "id": "IBW3O88NEuJW",
    "outputId": "aa1127c4-6783-4162-c706-26b87e6a4bdf"
   },
   "outputs": [
    {
     "data": {
      "text/html": [
       "<div>\n",
       "<style scoped>\n",
       "    .dataframe tbody tr th:only-of-type {\n",
       "        vertical-align: middle;\n",
       "    }\n",
       "\n",
       "    .dataframe tbody tr th {\n",
       "        vertical-align: top;\n",
       "    }\n",
       "\n",
       "    .dataframe thead th {\n",
       "        text-align: right;\n",
       "    }\n",
       "</style>\n",
       "<table border=\"1\" class=\"dataframe\">\n",
       "  <thead>\n",
       "    <tr style=\"text-align: right;\">\n",
       "      <th></th>\n",
       "      <th>ratings</th>\n",
       "      <th>count</th>\n",
       "    </tr>\n",
       "    <tr>\n",
       "      <th>pid</th>\n",
       "      <th></th>\n",
       "      <th></th>\n",
       "    </tr>\n",
       "  </thead>\n",
       "  <tbody>\n",
       "    <tr>\n",
       "      <th>1400501466</th>\n",
       "      <td>1.0</td>\n",
       "      <td>1</td>\n",
       "    </tr>\n",
       "    <tr>\n",
       "      <th>1400532655</th>\n",
       "      <td>2.0</td>\n",
       "      <td>1</td>\n",
       "    </tr>\n",
       "    <tr>\n",
       "      <th>9985511476</th>\n",
       "      <td>5.0</td>\n",
       "      <td>1</td>\n",
       "    </tr>\n",
       "    <tr>\n",
       "      <th>B000006OQ8</th>\n",
       "      <td>4.0</td>\n",
       "      <td>1</td>\n",
       "    </tr>\n",
       "    <tr>\n",
       "      <th>B00000DM9M</th>\n",
       "      <td>5.0</td>\n",
       "      <td>1</td>\n",
       "    </tr>\n",
       "  </tbody>\n",
       "</table>\n",
       "</div>"
      ],
      "text/plain": [
       "            ratings  count\n",
       "pid                       \n",
       "1400501466      1.0      1\n",
       "1400532655      2.0      1\n",
       "9985511476      5.0      1\n",
       "B000006OQ8      4.0      1\n",
       "B00000DM9M      5.0      1"
      ]
     },
     "execution_count": 34,
     "metadata": {},
     "output_type": "execute_result"
    }
   ],
   "source": [
    "# counting the products and stored in the count column\n",
    "book_ratings['count'] = df_final.groupby('pid').count()['ratings']\n",
    "book_ratings.head()"
   ]
  },
  {
   "cell_type": "code",
   "execution_count": 35,
   "metadata": {
    "colab": {
     "base_uri": "https://localhost:8080/",
     "height": 235
    },
    "id": "4BtiG3vpEuJj",
    "outputId": "2cb8d9cb-ed3b-4da1-e885-5c37c6d9f650"
   },
   "outputs": [
    {
     "data": {
      "text/html": [
       "<div>\n",
       "<style scoped>\n",
       "    .dataframe tbody tr th:only-of-type {\n",
       "        vertical-align: middle;\n",
       "    }\n",
       "\n",
       "    .dataframe tbody tr th {\n",
       "        vertical-align: top;\n",
       "    }\n",
       "\n",
       "    .dataframe thead th {\n",
       "        text-align: right;\n",
       "    }\n",
       "</style>\n",
       "<table border=\"1\" class=\"dataframe\">\n",
       "  <thead>\n",
       "    <tr style=\"text-align: right;\">\n",
       "      <th></th>\n",
       "      <th>ratings</th>\n",
       "      <th>count</th>\n",
       "    </tr>\n",
       "    <tr>\n",
       "      <th>pid</th>\n",
       "      <th></th>\n",
       "      <th></th>\n",
       "    </tr>\n",
       "  </thead>\n",
       "  <tbody>\n",
       "    <tr>\n",
       "      <th>B003WIRFDW</th>\n",
       "      <td>5.0</td>\n",
       "      <td>1</td>\n",
       "    </tr>\n",
       "    <tr>\n",
       "      <th>B004HO58SO</th>\n",
       "      <td>5.0</td>\n",
       "      <td>1</td>\n",
       "    </tr>\n",
       "    <tr>\n",
       "      <th>B004HVW0ZQ</th>\n",
       "      <td>5.0</td>\n",
       "      <td>1</td>\n",
       "    </tr>\n",
       "    <tr>\n",
       "      <th>B004HYG9V4</th>\n",
       "      <td>5.0</td>\n",
       "      <td>1</td>\n",
       "    </tr>\n",
       "    <tr>\n",
       "      <th>B004I43MJ0</th>\n",
       "      <td>5.0</td>\n",
       "      <td>1</td>\n",
       "    </tr>\n",
       "  </tbody>\n",
       "</table>\n",
       "</div>"
      ],
      "text/plain": [
       "            ratings  count\n",
       "pid                       \n",
       "B003WIRFDW      5.0      1\n",
       "B004HO58SO      5.0      1\n",
       "B004HVW0ZQ      5.0      1\n",
       "B004HYG9V4      5.0      1\n",
       "B004I43MJ0      5.0      1"
      ]
     },
     "execution_count": 35,
     "metadata": {},
     "output_type": "execute_result"
    }
   ],
   "source": [
    "book_ratings.sort_values('ratings', ascending = False).head()"
   ]
  },
  {
   "cell_type": "code",
   "execution_count": 36,
   "metadata": {
    "colab": {
     "base_uri": "https://localhost:8080/",
     "height": 235
    },
    "id": "6RFSBg6HEuJr",
    "outputId": "32c7d15e-115b-4ae7-ae81-b432097d0ede"
   },
   "outputs": [],
   "source": [
    "# Descending order of ratings in the dataset and storing in popular_products\n",
    "popular_products = book_ratings.sort_values('count', ascending = False)"
   ]
  },
  {
   "cell_type": "markdown",
   "metadata": {
    "id": "EPGbrd8HEuJ2"
   },
   "source": [
    "## Train and Test"
   ]
  },
  {
   "cell_type": "code",
   "execution_count": 37,
   "metadata": {
    "id": "71tBHcH6EuJ3"
   },
   "outputs": [],
   "source": [
    "# Uploading the dataset again using surprise library and storting in data\n",
    "reader = Reader(rating_scale=(0, 9))\n",
    "data = Dataset.load_from_df(df_final, reader)"
   ]
  },
  {
   "cell_type": "code",
   "execution_count": 38,
   "metadata": {
    "id": "0z9hLajUEuKD"
   },
   "outputs": [],
   "source": [
    "# Splitting the dataset into 70/30 ratio\n",
    "trainset, testset = train_test_split(data, test_size = 0.3, random_state = 3)"
   ]
  },
  {
   "cell_type": "code",
   "execution_count": 39,
   "metadata": {
    "id": "Bj8XxloAEuKM"
   },
   "outputs": [],
   "source": [
    "# Building an anti test for prediction\n",
    "anti_test = trainset.build_anti_testset()"
   ]
  },
  {
   "cell_type": "markdown",
   "metadata": {
    "id": "wCO0sDakEuKb"
   },
   "source": [
    "## Collaborative Filtering"
   ]
  },
  {
   "cell_type": "markdown",
   "metadata": {
    "id": "mh89er2qEuKc"
   },
   "source": [
    "In collaborative filter(CF), we are going to perform these models, \n",
    "\n",
    "*   1) SVD\n",
    "*   2) User - User CF\n",
    "*   3) Item - Item CF\n",
    "\n",
    "\n",
    "\n",
    "\n"
   ]
  },
  {
   "cell_type": "code",
   "execution_count": 40,
   "metadata": {
    "id": "5GRWByg6aGuO"
   },
   "outputs": [],
   "source": [
    "# SVD model\n",
    "algo = SVD(random_state = 3)\n",
    "algo.fit(trainset)\n",
    "test_svd = algo.test(testset)"
   ]
  },
  {
   "cell_type": "code",
   "execution_count": 41,
   "metadata": {
    "colab": {
     "base_uri": "https://localhost:8080/",
     "height": 51
    },
    "id": "l8kjT9XmaXWM",
    "outputId": "fb09ff23-d5a4-4a5f-e159-35a16fbaf609"
   },
   "outputs": [
    {
     "name": "stdout",
     "output_type": "stream",
     "text": [
      "RMSE: 1.0494\n"
     ]
    },
    {
     "data": {
      "text/plain": [
       "1.0494217446786032"
      ]
     },
     "execution_count": 41,
     "metadata": {},
     "output_type": "execute_result"
    }
   ],
   "source": [
    "accuracy.rmse(test_svd)"
   ]
  },
  {
   "cell_type": "code",
   "execution_count": 42,
   "metadata": {
    "colab": {
     "base_uri": "https://localhost:8080/",
     "height": 51
    },
    "id": "tGHhD5P3i832",
    "outputId": "3b2392c8-e6b8-4150-f8d7-cacbb2b4bc4a"
   },
   "outputs": [
    {
     "name": "stdout",
     "output_type": "stream",
     "text": [
      "MAE:  0.8143\n"
     ]
    },
    {
     "data": {
      "text/plain": [
       "0.8142785499030049"
      ]
     },
     "execution_count": 42,
     "metadata": {},
     "output_type": "execute_result"
    }
   ],
   "source": [
    "accuracy.mae(test_svd)"
   ]
  },
  {
   "cell_type": "code",
   "execution_count": 43,
   "metadata": {},
   "outputs": [
    {
     "name": "stdout",
     "output_type": "stream",
     "text": [
      "MSE: 1.1013\n"
     ]
    },
    {
     "data": {
      "text/plain": [
       "1.1012859982042835"
      ]
     },
     "execution_count": 43,
     "metadata": {},
     "output_type": "execute_result"
    }
   ],
   "source": [
    "accuracy.mse(test_svd)"
   ]
  },
  {
   "cell_type": "code",
   "execution_count": 44,
   "metadata": {},
   "outputs": [],
   "source": [
    "# Anti test for SVD\n",
    "anti_test_svd = algo.test(anti_test)"
   ]
  },
  {
   "cell_type": "markdown",
   "metadata": {
    "id": "6tXEaLd-EuKm"
   },
   "source": [
    "### User - User "
   ]
  },
  {
   "cell_type": "markdown",
   "metadata": {
    "id": "kDZ7-soMFtTz"
   },
   "source": [
    "We are using GridsearchCV to find the best parameters."
   ]
  },
  {
   "cell_type": "code",
   "execution_count": 45,
   "metadata": {
    "id": "AGKn7_-YEuKo"
   },
   "outputs": [],
   "source": [
    "sim_options = {\n",
    "                \"name\": [\"msd\", \"cosine\", \"pearson_baseline\"],\n",
    "                \"user_based\": [True], # User - User Collaborative Filtering.\n",
    "                'k': [10, 20, 30, 40]\n",
    "              }"
   ]
  },
  {
   "cell_type": "code",
   "execution_count": 46,
   "metadata": {
    "id": "hbwP2d3bEuKw"
   },
   "outputs": [],
   "source": [
    "param_grid = {\"sim_options\": sim_options}"
   ]
  },
  {
   "cell_type": "code",
   "execution_count": 47,
   "metadata": {
    "id": "yl9gygIZEuK6"
   },
   "outputs": [],
   "source": [
    "gs = GridSearchCV(KNNWithMeans, param_grid, cv = 3)"
   ]
  },
  {
   "cell_type": "code",
   "execution_count": 48,
   "metadata": {
    "colab": {
     "base_uri": "https://localhost:8080/",
     "height": 1000
    },
    "id": "wvTbqGJqEuLY",
    "outputId": "879d31ff-34a4-4c94-8bae-7aae06d81d0f"
   },
   "outputs": [
    {
     "name": "stdout",
     "output_type": "stream",
     "text": [
      "Computing the msd similarity matrix...\n",
      "Done computing similarity matrix.\n",
      "Computing the msd similarity matrix...\n",
      "Done computing similarity matrix.\n",
      "Computing the msd similarity matrix...\n",
      "Done computing similarity matrix.\n",
      "Computing the msd similarity matrix...\n",
      "Done computing similarity matrix.\n",
      "Computing the msd similarity matrix...\n",
      "Done computing similarity matrix.\n",
      "Computing the msd similarity matrix...\n",
      "Done computing similarity matrix.\n",
      "Computing the msd similarity matrix...\n",
      "Done computing similarity matrix.\n",
      "Computing the msd similarity matrix...\n",
      "Done computing similarity matrix.\n",
      "Computing the msd similarity matrix...\n",
      "Done computing similarity matrix.\n",
      "Computing the msd similarity matrix...\n",
      "Done computing similarity matrix.\n",
      "Computing the msd similarity matrix...\n",
      "Done computing similarity matrix.\n",
      "Computing the msd similarity matrix...\n",
      "Done computing similarity matrix.\n",
      "Computing the cosine similarity matrix...\n",
      "Done computing similarity matrix.\n",
      "Computing the cosine similarity matrix...\n",
      "Done computing similarity matrix.\n",
      "Computing the cosine similarity matrix...\n",
      "Done computing similarity matrix.\n",
      "Computing the cosine similarity matrix...\n",
      "Done computing similarity matrix.\n",
      "Computing the cosine similarity matrix...\n",
      "Done computing similarity matrix.\n",
      "Computing the cosine similarity matrix...\n",
      "Done computing similarity matrix.\n",
      "Computing the cosine similarity matrix...\n",
      "Done computing similarity matrix.\n",
      "Computing the cosine similarity matrix...\n",
      "Done computing similarity matrix.\n",
      "Computing the cosine similarity matrix...\n",
      "Done computing similarity matrix.\n",
      "Computing the cosine similarity matrix...\n",
      "Done computing similarity matrix.\n",
      "Computing the cosine similarity matrix...\n",
      "Done computing similarity matrix.\n",
      "Computing the cosine similarity matrix...\n",
      "Done computing similarity matrix.\n",
      "Estimating biases using als...\n",
      "Computing the pearson_baseline similarity matrix...\n",
      "Done computing similarity matrix.\n",
      "Estimating biases using als...\n",
      "Computing the pearson_baseline similarity matrix...\n",
      "Done computing similarity matrix.\n",
      "Estimating biases using als...\n",
      "Computing the pearson_baseline similarity matrix...\n",
      "Done computing similarity matrix.\n",
      "Estimating biases using als...\n",
      "Computing the pearson_baseline similarity matrix...\n",
      "Done computing similarity matrix.\n",
      "Estimating biases using als...\n",
      "Computing the pearson_baseline similarity matrix...\n",
      "Done computing similarity matrix.\n",
      "Estimating biases using als...\n",
      "Computing the pearson_baseline similarity matrix...\n",
      "Done computing similarity matrix.\n",
      "Estimating biases using als...\n",
      "Computing the pearson_baseline similarity matrix...\n",
      "Done computing similarity matrix.\n",
      "Estimating biases using als...\n",
      "Computing the pearson_baseline similarity matrix...\n",
      "Done computing similarity matrix.\n",
      "Estimating biases using als...\n",
      "Computing the pearson_baseline similarity matrix...\n",
      "Done computing similarity matrix.\n",
      "Estimating biases using als...\n",
      "Computing the pearson_baseline similarity matrix...\n",
      "Done computing similarity matrix.\n",
      "Estimating biases using als...\n",
      "Computing the pearson_baseline similarity matrix...\n",
      "Done computing similarity matrix.\n",
      "Estimating biases using als...\n",
      "Computing the pearson_baseline similarity matrix...\n",
      "Done computing similarity matrix.\n"
     ]
    }
   ],
   "source": [
    "gs.fit(data)"
   ]
  },
  {
   "cell_type": "code",
   "execution_count": 49,
   "metadata": {
    "colab": {
     "base_uri": "https://localhost:8080/",
     "height": 51
    },
    "id": "9N3ndrD0EuLm",
    "outputId": "1c3d1d3a-8826-4538-8e86-7cb900fc56e4"
   },
   "outputs": [
    {
     "name": "stdout",
     "output_type": "stream",
     "text": [
      "1.0843483162247958\n",
      "{'sim_options': {'name': 'pearson_baseline', 'user_based': True, 'k': 10}}\n"
     ]
    }
   ],
   "source": [
    "# Score and best parameters\n",
    "print(gs.best_score[\"rmse\"])\n",
    "print(gs.best_params[\"rmse\"])"
   ]
  },
  {
   "cell_type": "code",
   "execution_count": 50,
   "metadata": {},
   "outputs": [
    {
     "name": "stdout",
     "output_type": "stream",
     "text": [
      "0.8358343398932169\n",
      "{'sim_options': {'name': 'pearson_baseline', 'user_based': True, 'k': 10}}\n"
     ]
    }
   ],
   "source": [
    "# Score and best parameters\n",
    "print(gs.best_score[\"mae\"])\n",
    "print(gs.best_params[\"mae\"])"
   ]
  },
  {
   "cell_type": "markdown",
   "metadata": {},
   "source": [
    "Both results have the same recommended parameters "
   ]
  },
  {
   "cell_type": "code",
   "execution_count": 51,
   "metadata": {
    "id": "_RbJMwZIEuLz"
   },
   "outputs": [],
   "source": [
    "# Applying the best parameters to KNNBaseline\n",
    "user_algo = KNNWithMeans(k = 10, sim_options = {'name' : 'pearson_baseline', 'user_based' : True})"
   ]
  },
  {
   "cell_type": "code",
   "execution_count": 52,
   "metadata": {
    "colab": {
     "base_uri": "https://localhost:8080/",
     "height": 85
    },
    "id": "5ozfORZqEuMB",
    "outputId": "406c2ea4-748f-4452-e96a-5cbd8191bf88"
   },
   "outputs": [
    {
     "name": "stdout",
     "output_type": "stream",
     "text": [
      "Estimating biases using als...\n",
      "Computing the pearson_baseline similarity matrix...\n",
      "Done computing similarity matrix.\n"
     ]
    }
   ],
   "source": [
    "user_algo.fit(trainset)\n",
    "test_user = user_algo.test(testset)"
   ]
  },
  {
   "cell_type": "code",
   "execution_count": 53,
   "metadata": {
    "colab": {
     "base_uri": "https://localhost:8080/",
     "height": 51
    },
    "id": "MrXEe1VCEuMn",
    "outputId": "bdfaa6d7-4b35-4a05-98f2-6e1b409bbacb"
   },
   "outputs": [
    {
     "name": "stdout",
     "output_type": "stream",
     "text": [
      "RMSE: 1.0954\n"
     ]
    },
    {
     "data": {
      "text/plain": [
       "1.095384102148006"
      ]
     },
     "execution_count": 53,
     "metadata": {},
     "output_type": "execute_result"
    }
   ],
   "source": [
    "accuracy.rmse(test_user)"
   ]
  },
  {
   "cell_type": "code",
   "execution_count": 54,
   "metadata": {
    "colab": {
     "base_uri": "https://localhost:8080/",
     "height": 51
    },
    "id": "wM5wnR3VEuMw",
    "outputId": "f064891b-a67a-4a8d-81e0-21332549ca9f"
   },
   "outputs": [
    {
     "name": "stdout",
     "output_type": "stream",
     "text": [
      "MAE:  0.8447\n"
     ]
    },
    {
     "data": {
      "text/plain": [
       "0.8447471094733169"
      ]
     },
     "execution_count": 54,
     "metadata": {},
     "output_type": "execute_result"
    }
   ],
   "source": [
    "accuracy.mae(test_user)"
   ]
  },
  {
   "cell_type": "code",
   "execution_count": 55,
   "metadata": {},
   "outputs": [
    {
     "name": "stdout",
     "output_type": "stream",
     "text": [
      "MSE: 1.1999\n"
     ]
    },
    {
     "data": {
      "text/plain": [
       "1.199866331238593"
      ]
     },
     "execution_count": 55,
     "metadata": {},
     "output_type": "execute_result"
    }
   ],
   "source": [
    "accuracy.mse(test_user)"
   ]
  },
  {
   "cell_type": "code",
   "execution_count": 56,
   "metadata": {
    "id": "a3Ik5Rp-EuMc"
   },
   "outputs": [],
   "source": [
    "# Applying anti test to User - User CF\n",
    "user_prediction_anti_test = user_algo.test(anti_test)"
   ]
  },
  {
   "cell_type": "markdown",
   "metadata": {
    "id": "MrQ7GvdOEuM7"
   },
   "source": [
    "### Item - Item "
   ]
  },
  {
   "cell_type": "code",
   "execution_count": 57,
   "metadata": {
    "id": "tFPfe71LEuM-"
   },
   "outputs": [],
   "source": [
    "sim_options = {\n",
    "                \"name\": [\"msd\", \"cosine\", \"pearson_baseline\"],\n",
    "                \"user_based\": [False], # Item - Item Collaborative Filtering\n",
    "                'k': [10, 20, 30, 40]\n",
    "              }"
   ]
  },
  {
   "cell_type": "code",
   "execution_count": 58,
   "metadata": {
    "id": "KHrdTPKgEuNJ"
   },
   "outputs": [],
   "source": [
    "param_grid = {\"sim_options\": sim_options}"
   ]
  },
  {
   "cell_type": "code",
   "execution_count": 59,
   "metadata": {
    "id": "Ukv4hb0HEuNS"
   },
   "outputs": [],
   "source": [
    "gs = GridSearchCV(KNNWithMeans, param_grid, cv = 3)"
   ]
  },
  {
   "cell_type": "code",
   "execution_count": 60,
   "metadata": {
    "colab": {
     "base_uri": "https://localhost:8080/",
     "height": 1000
    },
    "id": "oq8Xdk8GEuNn",
    "outputId": "78d4900a-fe01-4589-f9af-9fda3375c53e"
   },
   "outputs": [
    {
     "name": "stdout",
     "output_type": "stream",
     "text": [
      "Computing the msd similarity matrix...\n",
      "Done computing similarity matrix.\n",
      "Computing the msd similarity matrix...\n",
      "Done computing similarity matrix.\n",
      "Computing the msd similarity matrix...\n",
      "Done computing similarity matrix.\n",
      "Computing the msd similarity matrix...\n",
      "Done computing similarity matrix.\n",
      "Computing the msd similarity matrix...\n",
      "Done computing similarity matrix.\n",
      "Computing the msd similarity matrix...\n",
      "Done computing similarity matrix.\n",
      "Computing the msd similarity matrix...\n",
      "Done computing similarity matrix.\n",
      "Computing the msd similarity matrix...\n",
      "Done computing similarity matrix.\n",
      "Computing the msd similarity matrix...\n",
      "Done computing similarity matrix.\n",
      "Computing the msd similarity matrix...\n",
      "Done computing similarity matrix.\n",
      "Computing the msd similarity matrix...\n",
      "Done computing similarity matrix.\n",
      "Computing the msd similarity matrix...\n",
      "Done computing similarity matrix.\n",
      "Computing the cosine similarity matrix...\n",
      "Done computing similarity matrix.\n",
      "Computing the cosine similarity matrix...\n",
      "Done computing similarity matrix.\n",
      "Computing the cosine similarity matrix...\n",
      "Done computing similarity matrix.\n",
      "Computing the cosine similarity matrix...\n",
      "Done computing similarity matrix.\n",
      "Computing the cosine similarity matrix...\n",
      "Done computing similarity matrix.\n",
      "Computing the cosine similarity matrix...\n",
      "Done computing similarity matrix.\n",
      "Computing the cosine similarity matrix...\n",
      "Done computing similarity matrix.\n",
      "Computing the cosine similarity matrix...\n",
      "Done computing similarity matrix.\n",
      "Computing the cosine similarity matrix...\n",
      "Done computing similarity matrix.\n",
      "Computing the cosine similarity matrix...\n",
      "Done computing similarity matrix.\n",
      "Computing the cosine similarity matrix...\n",
      "Done computing similarity matrix.\n",
      "Computing the cosine similarity matrix...\n",
      "Done computing similarity matrix.\n",
      "Estimating biases using als...\n",
      "Computing the pearson_baseline similarity matrix...\n",
      "Done computing similarity matrix.\n",
      "Estimating biases using als...\n",
      "Computing the pearson_baseline similarity matrix...\n",
      "Done computing similarity matrix.\n",
      "Estimating biases using als...\n",
      "Computing the pearson_baseline similarity matrix...\n",
      "Done computing similarity matrix.\n",
      "Estimating biases using als...\n",
      "Computing the pearson_baseline similarity matrix...\n",
      "Done computing similarity matrix.\n",
      "Estimating biases using als...\n",
      "Computing the pearson_baseline similarity matrix...\n",
      "Done computing similarity matrix.\n",
      "Estimating biases using als...\n",
      "Computing the pearson_baseline similarity matrix...\n",
      "Done computing similarity matrix.\n",
      "Estimating biases using als...\n",
      "Computing the pearson_baseline similarity matrix...\n",
      "Done computing similarity matrix.\n",
      "Estimating biases using als...\n",
      "Computing the pearson_baseline similarity matrix...\n",
      "Done computing similarity matrix.\n",
      "Estimating biases using als...\n",
      "Computing the pearson_baseline similarity matrix...\n",
      "Done computing similarity matrix.\n",
      "Estimating biases using als...\n",
      "Computing the pearson_baseline similarity matrix...\n",
      "Done computing similarity matrix.\n",
      "Estimating biases using als...\n",
      "Computing the pearson_baseline similarity matrix...\n",
      "Done computing similarity matrix.\n",
      "Estimating biases using als...\n",
      "Computing the pearson_baseline similarity matrix...\n",
      "Done computing similarity matrix.\n"
     ]
    }
   ],
   "source": [
    "gs.fit(data)"
   ]
  },
  {
   "cell_type": "code",
   "execution_count": 61,
   "metadata": {
    "colab": {
     "base_uri": "https://localhost:8080/",
     "height": 51
    },
    "id": "ZmgkxLS6EuNz",
    "outputId": "bab23eaa-2f46-4695-f34b-c884b6780c9d"
   },
   "outputs": [
    {
     "name": "stdout",
     "output_type": "stream",
     "text": [
      "1.1110601561472342\n",
      "{'sim_options': {'name': 'pearson_baseline', 'user_based': False, 'k': 10}}\n"
     ]
    }
   ],
   "source": [
    "# Score and best paramters\n",
    "print(gs.best_score[\"rmse\"])\n",
    "print(gs.best_params[\"rmse\"])"
   ]
  },
  {
   "cell_type": "code",
   "execution_count": 62,
   "metadata": {},
   "outputs": [
    {
     "name": "stdout",
     "output_type": "stream",
     "text": [
      "0.8317987265805731\n",
      "{'sim_options': {'name': 'pearson_baseline', 'user_based': False, 'k': 10}}\n"
     ]
    }
   ],
   "source": [
    "# Score and best paramters\n",
    "print(gs.best_score[\"mae\"])\n",
    "print(gs.best_params[\"mae\"])"
   ]
  },
  {
   "cell_type": "markdown",
   "metadata": {},
   "source": [
    "Both results have the same recommended parameters."
   ]
  },
  {
   "cell_type": "code",
   "execution_count": 63,
   "metadata": {
    "id": "0W7DtzCJEuN_"
   },
   "outputs": [],
   "source": [
    "# Applying the best parameters to KNNBaseline\n",
    "item_algo = KNNWithMeans(k = 10, sim_option = {'name' : 'msd', 'user_based' : False})"
   ]
  },
  {
   "cell_type": "code",
   "execution_count": 64,
   "metadata": {
    "colab": {
     "base_uri": "https://localhost:8080/",
     "height": 85
    },
    "id": "yjX29pGzEuOJ",
    "outputId": "22c1269f-e48d-4d18-a5cb-0aec6ba89d83"
   },
   "outputs": [
    {
     "name": "stdout",
     "output_type": "stream",
     "text": [
      "Computing the msd similarity matrix...\n",
      "Done computing similarity matrix.\n"
     ]
    }
   ],
   "source": [
    "item_algo.fit(trainset)\n",
    "test_item = item_algo.test(testset)"
   ]
  },
  {
   "cell_type": "code",
   "execution_count": 65,
   "metadata": {
    "id": "4VYsO5C8EuOf"
   },
   "outputs": [
    {
     "name": "stdout",
     "output_type": "stream",
     "text": [
      "RMSE: 1.0956\n"
     ]
    },
    {
     "data": {
      "text/plain": [
       "1.0956303845022246"
      ]
     },
     "execution_count": 65,
     "metadata": {},
     "output_type": "execute_result"
    }
   ],
   "source": [
    "accuracy.rmse(test_item)"
   ]
  },
  {
   "cell_type": "code",
   "execution_count": 66,
   "metadata": {
    "id": "tUYDu0RrEuOo"
   },
   "outputs": [
    {
     "name": "stdout",
     "output_type": "stream",
     "text": [
      "MAE:  0.8451\n"
     ]
    },
    {
     "data": {
      "text/plain": [
       "0.8451229080452822"
      ]
     },
     "execution_count": 66,
     "metadata": {},
     "output_type": "execute_result"
    }
   ],
   "source": [
    "accuracy.mae(test_item)"
   ]
  },
  {
   "cell_type": "code",
   "execution_count": 67,
   "metadata": {},
   "outputs": [
    {
     "name": "stdout",
     "output_type": "stream",
     "text": [
      "MSE: 1.2004\n"
     ]
    },
    {
     "data": {
      "text/plain": [
       "1.2004059394444924"
      ]
     },
     "execution_count": 67,
     "metadata": {},
     "output_type": "execute_result"
    }
   ],
   "source": [
    "accuracy.mse(test_item)"
   ]
  },
  {
   "cell_type": "code",
   "execution_count": 68,
   "metadata": {
    "id": "E1GGAhAoEuOZ"
   },
   "outputs": [],
   "source": [
    "# Applying anti test to Item - Item CF\n",
    "item_prediction_anti_test = item_algo.test(anti_test)"
   ]
  },
  {
   "cell_type": "markdown",
   "metadata": {},
   "source": [
    "#### Accuracy"
   ]
  },
  {
   "cell_type": "code",
   "execution_count": 69,
   "metadata": {},
   "outputs": [
    {
     "data": {
      "text/html": [
       "<div>\n",
       "<style scoped>\n",
       "    .dataframe tbody tr th:only-of-type {\n",
       "        vertical-align: middle;\n",
       "    }\n",
       "\n",
       "    .dataframe tbody tr th {\n",
       "        vertical-align: top;\n",
       "    }\n",
       "\n",
       "    .dataframe thead th {\n",
       "        text-align: right;\n",
       "    }\n",
       "</style>\n",
       "<table border=\"1\" class=\"dataframe\">\n",
       "  <thead>\n",
       "    <tr style=\"text-align: right;\">\n",
       "      <th></th>\n",
       "      <th>RMSE</th>\n",
       "      <th>MSE</th>\n",
       "      <th>MAE</th>\n",
       "    </tr>\n",
       "  </thead>\n",
       "  <tbody>\n",
       "    <tr>\n",
       "      <th>SVD</th>\n",
       "      <td>1.0494</td>\n",
       "      <td>1.1013</td>\n",
       "      <td>0.8143</td>\n",
       "    </tr>\n",
       "    <tr>\n",
       "      <th>User_User</th>\n",
       "      <td>1.0954</td>\n",
       "      <td>1.1999</td>\n",
       "      <td>0.8447</td>\n",
       "    </tr>\n",
       "    <tr>\n",
       "      <th>Item_Item</th>\n",
       "      <td>1.0956</td>\n",
       "      <td>1.2004</td>\n",
       "      <td>0.8451</td>\n",
       "    </tr>\n",
       "  </tbody>\n",
       "</table>\n",
       "</div>"
      ],
      "text/plain": [
       "             RMSE     MSE     MAE\n",
       "SVD        1.0494  1.1013  0.8143\n",
       "User_User  1.0954  1.1999  0.8447\n",
       "Item_Item  1.0956  1.2004  0.8451"
      ]
     },
     "execution_count": 69,
     "metadata": {},
     "output_type": "execute_result"
    }
   ],
   "source": [
    "# Accuracy score of all the algorithms\n",
    "s = {'SVD' : [1.0494, 1.1013, 0.8143],\n",
    "     'User_User' : [1.0954, 1.1999, 0.8447],\n",
    "     'Item_Item' : [1.0956, 1.2004, 0.8451]}\n",
    "score = pd.DataFrame(s).T\n",
    "score.columns = ['RMSE', 'MSE', 'MAE']\n",
    "score"
   ]
  },
  {
   "cell_type": "markdown",
   "metadata": {
    "id": "RYXl-YcGEuOy"
   },
   "source": [
    "## Recommendation"
   ]
  },
  {
   "cell_type": "code",
   "execution_count": 70,
   "metadata": {},
   "outputs": [
    {
     "data": {
      "text/html": [
       "<div>\n",
       "<style scoped>\n",
       "    .dataframe tbody tr th:only-of-type {\n",
       "        vertical-align: middle;\n",
       "    }\n",
       "\n",
       "    .dataframe tbody tr th {\n",
       "        vertical-align: top;\n",
       "    }\n",
       "\n",
       "    .dataframe thead th {\n",
       "        text-align: right;\n",
       "    }\n",
       "</style>\n",
       "<table border=\"1\" class=\"dataframe\">\n",
       "  <thead>\n",
       "    <tr style=\"text-align: right;\">\n",
       "      <th></th>\n",
       "      <th>ratings</th>\n",
       "      <th>count</th>\n",
       "    </tr>\n",
       "    <tr>\n",
       "      <th>pid</th>\n",
       "      <th></th>\n",
       "      <th></th>\n",
       "    </tr>\n",
       "  </thead>\n",
       "  <tbody>\n",
       "    <tr>\n",
       "      <th>B003ES5ZUU</th>\n",
       "      <td>5.000000</td>\n",
       "      <td>13</td>\n",
       "    </tr>\n",
       "    <tr>\n",
       "      <th>B007WTAJTO</th>\n",
       "      <td>4.923077</td>\n",
       "      <td>13</td>\n",
       "    </tr>\n",
       "    <tr>\n",
       "      <th>B005FYNSPK</th>\n",
       "      <td>4.888889</td>\n",
       "      <td>9</td>\n",
       "    </tr>\n",
       "    <tr>\n",
       "      <th>B0088CJT4U</th>\n",
       "      <td>4.333333</td>\n",
       "      <td>9</td>\n",
       "    </tr>\n",
       "    <tr>\n",
       "      <th>B00829THK0</th>\n",
       "      <td>4.428571</td>\n",
       "      <td>7</td>\n",
       "    </tr>\n",
       "  </tbody>\n",
       "</table>\n",
       "</div>"
      ],
      "text/plain": [
       "             ratings  count\n",
       "pid                        \n",
       "B003ES5ZUU  5.000000     13\n",
       "B007WTAJTO  4.923077     13\n",
       "B005FYNSPK  4.888889      9\n",
       "B0088CJT4U  4.333333      9\n",
       "B00829THK0  4.428571      7"
      ]
     },
     "execution_count": 70,
     "metadata": {},
     "output_type": "execute_result"
    }
   ],
   "source": [
    "popular_products.head()"
   ]
  },
  {
   "cell_type": "markdown",
   "metadata": {},
   "source": [
    "From the dataframe, these products are highly rated and most counted, therefore these are popular products."
   ]
  },
  {
   "cell_type": "code",
   "execution_count": 71,
   "metadata": {
    "id": "DNq3A3OqEuO9"
   },
   "outputs": [],
   "source": [
    "# Making a model, which gives five recommendation\n",
    "def top_5_recommendation(predictions):\n",
    "\n",
    "    recom = []\n",
    "    \n",
    "    top_n = defaultdict(list)\n",
    "    for uid, iid, true_r, est, _ in predictions:\n",
    "        top_n[uid].append((iid, est))\n",
    "\n",
    "    \n",
    "    for uid, user_ratings in top_n.items():\n",
    "        user_ratings.sort(key = lambda x: x[1], reverse = True)\n",
    "        \n",
    "        top_5 = []\n",
    "        top_5.append(uid)\n",
    "        for i in range(5):\n",
    "          top_5.append(user_ratings[i][0])\n",
    "        recom.append(top_5)\n",
    "        \n",
    "    recommend = pd.DataFrame(recom, columns = ['uid', 'r1', 'r2', 'r3', 'r4', 'r5'])\n",
    "    return recommend"
   ]
  },
  {
   "cell_type": "code",
   "execution_count": 72,
   "metadata": {
    "id": "W43t_iwQim84"
   },
   "outputs": [
    {
     "data": {
      "text/html": [
       "<div>\n",
       "<style scoped>\n",
       "    .dataframe tbody tr th:only-of-type {\n",
       "        vertical-align: middle;\n",
       "    }\n",
       "\n",
       "    .dataframe tbody tr th {\n",
       "        vertical-align: top;\n",
       "    }\n",
       "\n",
       "    .dataframe thead th {\n",
       "        text-align: right;\n",
       "    }\n",
       "</style>\n",
       "<table border=\"1\" class=\"dataframe\">\n",
       "  <thead>\n",
       "    <tr style=\"text-align: right;\">\n",
       "      <th></th>\n",
       "      <th>uid</th>\n",
       "      <th>r1</th>\n",
       "      <th>r2</th>\n",
       "      <th>r3</th>\n",
       "      <th>r4</th>\n",
       "      <th>r5</th>\n",
       "    </tr>\n",
       "  </thead>\n",
       "  <tbody>\n",
       "    <tr>\n",
       "      <th>0</th>\n",
       "      <td>A18HE80910BTZI</td>\n",
       "      <td>B003ES5ZUU</td>\n",
       "      <td>B00AJG3NK4</td>\n",
       "      <td>B003VAGXWK</td>\n",
       "      <td>B001NJ0D0Y</td>\n",
       "      <td>B00ENZRS76</td>\n",
       "    </tr>\n",
       "    <tr>\n",
       "      <th>1</th>\n",
       "      <td>A25PKF8V3Q4IOL</td>\n",
       "      <td>B003ES5ZUU</td>\n",
       "      <td>B007WTAJTO</td>\n",
       "      <td>B0079UAT0A</td>\n",
       "      <td>B006MRAVFE</td>\n",
       "      <td>B003DSCU72</td>\n",
       "    </tr>\n",
       "    <tr>\n",
       "      <th>2</th>\n",
       "      <td>A3SOJO7Z7R9WIA</td>\n",
       "      <td>B007WTAJTO</td>\n",
       "      <td>B008AST7R6</td>\n",
       "      <td>B000222YSM</td>\n",
       "      <td>B000V4VIJW</td>\n",
       "      <td>B0030MITDK</td>\n",
       "    </tr>\n",
       "    <tr>\n",
       "      <th>3</th>\n",
       "      <td>A3EX8ZFNVDHGPM</td>\n",
       "      <td>B003ES5ZUU</td>\n",
       "      <td>B0034V5RBE</td>\n",
       "      <td>B0010CKE7G</td>\n",
       "      <td>B003TVWNAM</td>\n",
       "      <td>B0091UX3QI</td>\n",
       "    </tr>\n",
       "    <tr>\n",
       "      <th>4</th>\n",
       "      <td>AVJ6URCLNJQD2</td>\n",
       "      <td>B003ES5ZUU</td>\n",
       "      <td>B003L18RZU</td>\n",
       "      <td>B009CILPRI</td>\n",
       "      <td>B009NHAEXE</td>\n",
       "      <td>B005CTCD6S</td>\n",
       "    </tr>\n",
       "  </tbody>\n",
       "</table>\n",
       "</div>"
      ],
      "text/plain": [
       "              uid          r1          r2          r3          r4          r5\n",
       "0  A18HE80910BTZI  B003ES5ZUU  B00AJG3NK4  B003VAGXWK  B001NJ0D0Y  B00ENZRS76\n",
       "1  A25PKF8V3Q4IOL  B003ES5ZUU  B007WTAJTO  B0079UAT0A  B006MRAVFE  B003DSCU72\n",
       "2  A3SOJO7Z7R9WIA  B007WTAJTO  B008AST7R6  B000222YSM  B000V4VIJW  B0030MITDK\n",
       "3  A3EX8ZFNVDHGPM  B003ES5ZUU  B0034V5RBE  B0010CKE7G  B003TVWNAM  B0091UX3QI\n",
       "4   AVJ6URCLNJQD2  B003ES5ZUU  B003L18RZU  B009CILPRI  B009NHAEXE  B005CTCD6S"
      ]
     },
     "execution_count": 72,
     "metadata": {},
     "output_type": "execute_result"
    }
   ],
   "source": [
    "# SVD recommendation\n",
    "top_5_recommendation(anti_test_svd).head()"
   ]
  },
  {
   "cell_type": "code",
   "execution_count": 73,
   "metadata": {
    "id": "JUt6ko7qEuPE"
   },
   "outputs": [
    {
     "data": {
      "text/html": [
       "<div>\n",
       "<style scoped>\n",
       "    .dataframe tbody tr th:only-of-type {\n",
       "        vertical-align: middle;\n",
       "    }\n",
       "\n",
       "    .dataframe tbody tr th {\n",
       "        vertical-align: top;\n",
       "    }\n",
       "\n",
       "    .dataframe thead th {\n",
       "        text-align: right;\n",
       "    }\n",
       "</style>\n",
       "<table border=\"1\" class=\"dataframe\">\n",
       "  <thead>\n",
       "    <tr style=\"text-align: right;\">\n",
       "      <th></th>\n",
       "      <th>uid</th>\n",
       "      <th>r1</th>\n",
       "      <th>r2</th>\n",
       "      <th>r3</th>\n",
       "      <th>r4</th>\n",
       "      <th>r5</th>\n",
       "    </tr>\n",
       "  </thead>\n",
       "  <tbody>\n",
       "    <tr>\n",
       "      <th>0</th>\n",
       "      <td>A18HE80910BTZI</td>\n",
       "      <td>B00CHH0JF0</td>\n",
       "      <td>B000VEOIDU</td>\n",
       "      <td>B00008VEKA</td>\n",
       "      <td>B003DZJQQI</td>\n",
       "      <td>B00009R7BD</td>\n",
       "    </tr>\n",
       "    <tr>\n",
       "      <th>1</th>\n",
       "      <td>A25PKF8V3Q4IOL</td>\n",
       "      <td>B002SQK2F2</td>\n",
       "      <td>B000VEOIDU</td>\n",
       "      <td>B00008VEKA</td>\n",
       "      <td>B003DZJQQI</td>\n",
       "      <td>B00009R7BD</td>\n",
       "    </tr>\n",
       "    <tr>\n",
       "      <th>2</th>\n",
       "      <td>A3SOJO7Z7R9WIA</td>\n",
       "      <td>B002SQK2F2</td>\n",
       "      <td>B00CHH0JF0</td>\n",
       "      <td>B00008VEKA</td>\n",
       "      <td>B003DZJQQI</td>\n",
       "      <td>B00009R7BD</td>\n",
       "    </tr>\n",
       "    <tr>\n",
       "      <th>3</th>\n",
       "      <td>A3EX8ZFNVDHGPM</td>\n",
       "      <td>B002SQK2F2</td>\n",
       "      <td>B00CHH0JF0</td>\n",
       "      <td>B000VEOIDU</td>\n",
       "      <td>B003DZJQQI</td>\n",
       "      <td>B00009R7BD</td>\n",
       "    </tr>\n",
       "    <tr>\n",
       "      <th>4</th>\n",
       "      <td>AVJ6URCLNJQD2</td>\n",
       "      <td>B002SQK2F2</td>\n",
       "      <td>B00CHH0JF0</td>\n",
       "      <td>B000VEOIDU</td>\n",
       "      <td>B00008VEKA</td>\n",
       "      <td>B00009R7BD</td>\n",
       "    </tr>\n",
       "  </tbody>\n",
       "</table>\n",
       "</div>"
      ],
      "text/plain": [
       "              uid          r1          r2          r3          r4          r5\n",
       "0  A18HE80910BTZI  B00CHH0JF0  B000VEOIDU  B00008VEKA  B003DZJQQI  B00009R7BD\n",
       "1  A25PKF8V3Q4IOL  B002SQK2F2  B000VEOIDU  B00008VEKA  B003DZJQQI  B00009R7BD\n",
       "2  A3SOJO7Z7R9WIA  B002SQK2F2  B00CHH0JF0  B00008VEKA  B003DZJQQI  B00009R7BD\n",
       "3  A3EX8ZFNVDHGPM  B002SQK2F2  B00CHH0JF0  B000VEOIDU  B003DZJQQI  B00009R7BD\n",
       "4   AVJ6URCLNJQD2  B002SQK2F2  B00CHH0JF0  B000VEOIDU  B00008VEKA  B00009R7BD"
      ]
     },
     "execution_count": 73,
     "metadata": {},
     "output_type": "execute_result"
    }
   ],
   "source": [
    "# User - User recommendation\n",
    "top_5_recommendation(user_prediction_anti_test).head()"
   ]
  },
  {
   "cell_type": "code",
   "execution_count": 74,
   "metadata": {
    "id": "zpfnVCxMT0Pp"
   },
   "outputs": [
    {
     "data": {
      "text/html": [
       "<div>\n",
       "<style scoped>\n",
       "    .dataframe tbody tr th:only-of-type {\n",
       "        vertical-align: middle;\n",
       "    }\n",
       "\n",
       "    .dataframe tbody tr th {\n",
       "        vertical-align: top;\n",
       "    }\n",
       "\n",
       "    .dataframe thead th {\n",
       "        text-align: right;\n",
       "    }\n",
       "</style>\n",
       "<table border=\"1\" class=\"dataframe\">\n",
       "  <thead>\n",
       "    <tr style=\"text-align: right;\">\n",
       "      <th></th>\n",
       "      <th>uid</th>\n",
       "      <th>r1</th>\n",
       "      <th>r2</th>\n",
       "      <th>r3</th>\n",
       "      <th>r4</th>\n",
       "      <th>r5</th>\n",
       "    </tr>\n",
       "  </thead>\n",
       "  <tbody>\n",
       "    <tr>\n",
       "      <th>0</th>\n",
       "      <td>A18HE80910BTZI</td>\n",
       "      <td>B00064C53K</td>\n",
       "      <td>B00015GYU4</td>\n",
       "      <td>B00D2LR76E</td>\n",
       "      <td>B0002A9RFM</td>\n",
       "      <td>B00BFO14W8</td>\n",
       "    </tr>\n",
       "    <tr>\n",
       "      <th>1</th>\n",
       "      <td>A25PKF8V3Q4IOL</td>\n",
       "      <td>B00B7MZCUI</td>\n",
       "      <td>B0000DBJTZ</td>\n",
       "      <td>B00007KDVJ</td>\n",
       "      <td>B00DBCJKPK</td>\n",
       "      <td>B006YWCQLO</td>\n",
       "    </tr>\n",
       "    <tr>\n",
       "      <th>2</th>\n",
       "      <td>A3SOJO7Z7R9WIA</td>\n",
       "      <td>B002SQK2F2</td>\n",
       "      <td>B00CHH0JF0</td>\n",
       "      <td>B00008VEKA</td>\n",
       "      <td>B003DZJQQI</td>\n",
       "      <td>B00009R7BD</td>\n",
       "    </tr>\n",
       "    <tr>\n",
       "      <th>3</th>\n",
       "      <td>A3EX8ZFNVDHGPM</td>\n",
       "      <td>B00FCROWMS</td>\n",
       "      <td>B00E98O7GC</td>\n",
       "      <td>B00JIFMXSK</td>\n",
       "      <td>B00G537M7K</td>\n",
       "      <td>B0011E4N5C</td>\n",
       "    </tr>\n",
       "    <tr>\n",
       "      <th>4</th>\n",
       "      <td>AVJ6URCLNJQD2</td>\n",
       "      <td>B002SQK2F2</td>\n",
       "      <td>B00CHH0JF0</td>\n",
       "      <td>B000VEOIDU</td>\n",
       "      <td>B00008VEKA</td>\n",
       "      <td>B00009R7BD</td>\n",
       "    </tr>\n",
       "  </tbody>\n",
       "</table>\n",
       "</div>"
      ],
      "text/plain": [
       "              uid          r1          r2          r3          r4          r5\n",
       "0  A18HE80910BTZI  B00064C53K  B00015GYU4  B00D2LR76E  B0002A9RFM  B00BFO14W8\n",
       "1  A25PKF8V3Q4IOL  B00B7MZCUI  B0000DBJTZ  B00007KDVJ  B00DBCJKPK  B006YWCQLO\n",
       "2  A3SOJO7Z7R9WIA  B002SQK2F2  B00CHH0JF0  B00008VEKA  B003DZJQQI  B00009R7BD\n",
       "3  A3EX8ZFNVDHGPM  B00FCROWMS  B00E98O7GC  B00JIFMXSK  B00G537M7K  B0011E4N5C\n",
       "4   AVJ6URCLNJQD2  B002SQK2F2  B00CHH0JF0  B000VEOIDU  B00008VEKA  B00009R7BD"
      ]
     },
     "execution_count": 74,
     "metadata": {},
     "output_type": "execute_result"
    }
   ],
   "source": [
    "# Item - Item recommendation\n",
    "top_5_recommendation(item_prediction_anti_test).head()"
   ]
  },
  {
   "cell_type": "markdown",
   "metadata": {
    "id": "HlxyYUBiI3QL"
   },
   "source": [
    "### Conclusion"
   ]
  },
  {
   "cell_type": "markdown",
   "metadata": {
    "id": "gqWqfpUBIr8U"
   },
   "source": [
    "In this dataset, we have performed many algorithms that gave us many recommendations by using SVD, KNNBaseline. The dataset contains 500000 records of products, users, and ratings, still most of the users have rated only one product, which was slightly disadvantaged for this dataset. For the memory reduction, we have made the dataset sparse, so it works efficiently.\n",
    "Here, 'RMSE' is used for the measured to this dataset since it's most preferred over the other.\n",
    "* Popularity recommendations show only the products that are popular in the market. It doesn’t require any personal interest of the user or particular preference. It gives recommendations by the count of rating and how much rated it. In this dataset, the products ‘B003ES5ZUU’ and ‘B007WTAJTO’ are highly rated products and popular among all users. If any user wants a popular product, then these products are well recommended for them.\n",
    "* SVD is model-based collaborative filtering, where the model predicts the user’s rating who hasn’t rated the product. It is the most useful model in collaborative filtering.\n",
    "* KNNWithMeans, a memory-based algorithm, which gives the result on User - User and Item - Item collaborative filter if we want prediction on a person’s similar interests or behaviors.\n",
    "\n",
    "It would be good if users have rated the product over one. Although, we found a recommendation for the user on their choices. When a user wants products by preference, then the popular recommendation algorithm is not preferable at all. Different algorithms gave various recommendations depends on their preference."
   ]
  }
 ],
 "metadata": {
  "colab": {
   "collapsed_sections": [],
   "name": "Recommendation Systems_R5_Project.Amazon Electronics Products..ipynb",
   "provenance": []
  },
  "kernelspec": {
   "display_name": "Python 3",
   "language": "python",
   "name": "python3"
  },
  "language_info": {
   "codemirror_mode": {
    "name": "ipython",
    "version": 3
   },
   "file_extension": ".py",
   "mimetype": "text/x-python",
   "name": "python",
   "nbconvert_exporter": "python",
   "pygments_lexer": "ipython3",
   "version": "3.8.5"
  }
 },
 "nbformat": 4,
 "nbformat_minor": 1
}
