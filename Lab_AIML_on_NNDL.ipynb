{
  "nbformat": 4,
  "nbformat_minor": 0,
  "metadata": {
    "colab": {
      "name": "Lab-AIML_on_NNDL.ipynb",
      "provenance": [],
      "collapsed_sections": []
    },
    "kernelspec": {
      "display_name": "Python 3",
      "language": "python",
      "name": "python3"
    },
    "language_info": {
      "codemirror_mode": {
        "name": "ipython",
        "version": 3
      },
      "file_extension": ".py",
      "mimetype": "text/x-python",
      "name": "python",
      "nbconvert_exporter": "python",
      "pygments_lexer": "ipython3",
      "version": "3.7.2"
    }
  },
  "cells": [
    {
      "cell_type": "markdown",
      "metadata": {
        "id": "YeoiMbH7djEv"
      },
      "source": [
        "# Stock prices dataset\n",
        "The data is of tock exchange's stock listings for each trading day of 2010 to 2016.\n",
        "\n",
        "## Description\n",
        "A brief description of columns.\n",
        "- open: The opening market price of the equity symbol on the date\n",
        "- high: The highest market price of the equity symbol on the date\n",
        "- low: The lowest recorded market price of the equity symbol on the date\n",
        "- close: The closing recorded price of the equity symbol on the date\n",
        "- symbol: Symbol of the listed company\n",
        "- volume: Total traded volume of the equity symbol on the date\n",
        "- date: Date of record"
      ]
    },
    {
      "cell_type": "markdown",
      "metadata": {
        "id": "RSoYY2nII_UW"
      },
      "source": [
        "In this assignment, we will work on the stock prices dataset named \"prices.csv\". Task is to create a Neural Network to classify closing price for a stock based on some parameters."
      ]
    },
    {
      "cell_type": "code",
      "metadata": {
        "id": "PGqq9f8VdLba"
      },
      "source": [
        "# Initialize the random number generator\n",
        "import random\n",
        "random.seed(0)\n",
        "\n",
        "# Ignore the warnings\n",
        "import warnings\n",
        "warnings.filterwarnings(\"ignore\")"
      ],
      "execution_count": 1,
      "outputs": []
    },
    {
      "cell_type": "markdown",
      "metadata": {
        "id": "_88voqAH-O6J"
      },
      "source": [
        "## Question 1"
      ]
    },
    {
      "cell_type": "markdown",
      "metadata": {
        "id": "dRHCeJqP-evf"
      },
      "source": [
        "### Load the data\n",
        "- load the csv file and read it using pandas\n",
        "- file name is prices.csv"
      ]
    },
    {
      "cell_type": "code",
      "metadata": {
        "id": "cKVH5v7r-RmC"
      },
      "source": [
        "# run this cell to upload file using GUI if you are using google colab\n",
        "\n",
        "# from google.colab import files\n",
        "# files.upload()"
      ],
      "execution_count": 2,
      "outputs": []
    },
    {
      "cell_type": "code",
      "metadata": {
        "id": "Gr4YcffYd1FQ",
        "colab": {
          "base_uri": "https://localhost:8080/"
        },
        "outputId": "0b404f11-0c27-418d-e88f-93d8904db736"
      },
      "source": [
        "# run this cell to to mount the google drive if you are using google colab\n",
        "\n",
        "from google.colab import drive\n",
        "drive.mount('/content/drive')"
      ],
      "execution_count": 3,
      "outputs": [
        {
          "output_type": "stream",
          "text": [
            "Drive already mounted at /content/drive; to attempt to forcibly remount, call drive.mount(\"/content/drive\", force_remount=True).\n"
          ],
          "name": "stdout"
        }
      ]
    },
    {
      "cell_type": "code",
      "metadata": {
        "id": "6-AldcfHOF-E"
      },
      "source": [
        "import numpy as np\r\n",
        "import matplotlib.pyplot as plt"
      ],
      "execution_count": 4,
      "outputs": []
    },
    {
      "cell_type": "code",
      "metadata": {
        "id": "xV__0IA3vwmJ"
      },
      "source": [
        "import pandas as pd\r\n",
        "prices = pd.read_csv('/content/drive/MyDrive/NNDL - Lab : Question files and Dataset/prices dataset NNDL.csv')"
      ],
      "execution_count": 5,
      "outputs": []
    },
    {
      "cell_type": "code",
      "metadata": {
        "id": "vLiXMPa6htA5",
        "colab": {
          "base_uri": "https://localhost:8080/",
          "height": 204
        },
        "outputId": "ebc5adc1-0771-4db1-e19f-c25594563748"
      },
      "source": [
        "prices.head()"
      ],
      "execution_count": 6,
      "outputs": [
        {
          "output_type": "execute_result",
          "data": {
            "text/html": [
              "<div>\n",
              "<style scoped>\n",
              "    .dataframe tbody tr th:only-of-type {\n",
              "        vertical-align: middle;\n",
              "    }\n",
              "\n",
              "    .dataframe tbody tr th {\n",
              "        vertical-align: top;\n",
              "    }\n",
              "\n",
              "    .dataframe thead th {\n",
              "        text-align: right;\n",
              "    }\n",
              "</style>\n",
              "<table border=\"1\" class=\"dataframe\">\n",
              "  <thead>\n",
              "    <tr style=\"text-align: right;\">\n",
              "      <th></th>\n",
              "      <th>date</th>\n",
              "      <th>symbol</th>\n",
              "      <th>open</th>\n",
              "      <th>close</th>\n",
              "      <th>low</th>\n",
              "      <th>high</th>\n",
              "      <th>volume</th>\n",
              "    </tr>\n",
              "  </thead>\n",
              "  <tbody>\n",
              "    <tr>\n",
              "      <th>0</th>\n",
              "      <td>2016-01-05 00:00:00</td>\n",
              "      <td>WLTW</td>\n",
              "      <td>123.430000</td>\n",
              "      <td>125.839996</td>\n",
              "      <td>122.309998</td>\n",
              "      <td>126.250000</td>\n",
              "      <td>2163600.0</td>\n",
              "    </tr>\n",
              "    <tr>\n",
              "      <th>1</th>\n",
              "      <td>2016-01-06 00:00:00</td>\n",
              "      <td>WLTW</td>\n",
              "      <td>125.239998</td>\n",
              "      <td>119.980003</td>\n",
              "      <td>119.940002</td>\n",
              "      <td>125.540001</td>\n",
              "      <td>2386400.0</td>\n",
              "    </tr>\n",
              "    <tr>\n",
              "      <th>2</th>\n",
              "      <td>2016-01-07 00:00:00</td>\n",
              "      <td>WLTW</td>\n",
              "      <td>116.379997</td>\n",
              "      <td>114.949997</td>\n",
              "      <td>114.930000</td>\n",
              "      <td>119.739998</td>\n",
              "      <td>2489500.0</td>\n",
              "    </tr>\n",
              "    <tr>\n",
              "      <th>3</th>\n",
              "      <td>2016-01-08 00:00:00</td>\n",
              "      <td>WLTW</td>\n",
              "      <td>115.480003</td>\n",
              "      <td>116.620003</td>\n",
              "      <td>113.500000</td>\n",
              "      <td>117.440002</td>\n",
              "      <td>2006300.0</td>\n",
              "    </tr>\n",
              "    <tr>\n",
              "      <th>4</th>\n",
              "      <td>2016-01-11 00:00:00</td>\n",
              "      <td>WLTW</td>\n",
              "      <td>117.010002</td>\n",
              "      <td>114.970001</td>\n",
              "      <td>114.089996</td>\n",
              "      <td>117.330002</td>\n",
              "      <td>1408600.0</td>\n",
              "    </tr>\n",
              "  </tbody>\n",
              "</table>\n",
              "</div>"
            ],
            "text/plain": [
              "                  date symbol        open  ...         low        high     volume\n",
              "0  2016-01-05 00:00:00   WLTW  123.430000  ...  122.309998  126.250000  2163600.0\n",
              "1  2016-01-06 00:00:00   WLTW  125.239998  ...  119.940002  125.540001  2386400.0\n",
              "2  2016-01-07 00:00:00   WLTW  116.379997  ...  114.930000  119.739998  2489500.0\n",
              "3  2016-01-08 00:00:00   WLTW  115.480003  ...  113.500000  117.440002  2006300.0\n",
              "4  2016-01-11 00:00:00   WLTW  117.010002  ...  114.089996  117.330002  1408600.0\n",
              "\n",
              "[5 rows x 7 columns]"
            ]
          },
          "metadata": {
            "tags": []
          },
          "execution_count": 6
        }
      ]
    },
    {
      "cell_type": "markdown",
      "metadata": {
        "id": "HlLKVPVH_BCT"
      },
      "source": [
        "## Question 2"
      ]
    },
    {
      "cell_type": "markdown",
      "metadata": {
        "id": "ZxoGynuBeO4t"
      },
      "source": [
        "### Drop null\n",
        "- Drop null values if any"
      ]
    },
    {
      "cell_type": "code",
      "metadata": {
        "colab": {
          "base_uri": "https://localhost:8080/"
        },
        "id": "uDwe74-DnLds",
        "outputId": "a51335d0-c593-49b4-e3f3-fba296fe4c71"
      },
      "source": [
        "prices.shape"
      ],
      "execution_count": 7,
      "outputs": [
        {
          "output_type": "execute_result",
          "data": {
            "text/plain": [
              "(851264, 7)"
            ]
          },
          "metadata": {
            "tags": []
          },
          "execution_count": 7
        }
      ]
    },
    {
      "cell_type": "code",
      "metadata": {
        "id": "_yuwJJIeeUaD",
        "colab": {
          "base_uri": "https://localhost:8080/"
        },
        "outputId": "057e411c-8c44-4c47-e710-59436fab2c74"
      },
      "source": [
        "prices.isnull().sum()"
      ],
      "execution_count": 8,
      "outputs": [
        {
          "output_type": "execute_result",
          "data": {
            "text/plain": [
              "date      0\n",
              "symbol    0\n",
              "open      0\n",
              "close     0\n",
              "low       0\n",
              "high      0\n",
              "volume    0\n",
              "dtype: int64"
            ]
          },
          "metadata": {
            "tags": []
          },
          "execution_count": 8
        }
      ]
    },
    {
      "cell_type": "code",
      "metadata": {
        "colab": {
          "base_uri": "https://localhost:8080/"
        },
        "id": "oHsk6xZgnekZ",
        "outputId": "00c89b30-a801-453d-d2a6-9dbbf0cf650e"
      },
      "source": [
        "prices.shape"
      ],
      "execution_count": 9,
      "outputs": [
        {
          "output_type": "execute_result",
          "data": {
            "text/plain": [
              "(851264, 7)"
            ]
          },
          "metadata": {
            "tags": []
          },
          "execution_count": 9
        }
      ]
    },
    {
      "cell_type": "markdown",
      "metadata": {
        "id": "9J4BlzVA_gZd"
      },
      "source": [
        "### Drop columns\n",
        "- Now, we don't need \"date\", \"volume\" and \"symbol\" column\n",
        "- drop \"date\", \"volume\" and \"symbol\" column from the data\n"
      ]
    },
    {
      "cell_type": "code",
      "metadata": {
        "id": "IKEK8aEE_Csx",
        "colab": {
          "base_uri": "https://localhost:8080/"
        },
        "outputId": "655fb324-4af2-452f-880d-8f529e192791"
      },
      "source": [
        "prices.columns"
      ],
      "execution_count": 10,
      "outputs": [
        {
          "output_type": "execute_result",
          "data": {
            "text/plain": [
              "Index(['date', 'symbol', 'open', 'close', 'low', 'high', 'volume'], dtype='object')"
            ]
          },
          "metadata": {
            "tags": []
          },
          "execution_count": 10
        }
      ]
    },
    {
      "cell_type": "code",
      "metadata": {
        "id": "kg5ThjRmhgTL"
      },
      "source": [
        "prices.drop(['date', 'volume', 'symbol'], axis = 1, inplace = True)"
      ],
      "execution_count": 11,
      "outputs": []
    },
    {
      "cell_type": "markdown",
      "metadata": {
        "id": "cTPhO6v-AiZt"
      },
      "source": [
        "## Question 3"
      ]
    },
    {
      "cell_type": "markdown",
      "metadata": {
        "id": "SsZXmF3NAkna"
      },
      "source": [
        "### Print the dataframe\n",
        "- print the modified dataframe"
      ]
    },
    {
      "cell_type": "code",
      "metadata": {
        "id": "aKs04iIHAjxN",
        "colab": {
          "base_uri": "https://localhost:8080/",
          "height": 204
        },
        "outputId": "cf23b919-a3c6-4781-c056-893944968192"
      },
      "source": [
        "prices.head()"
      ],
      "execution_count": 12,
      "outputs": [
        {
          "output_type": "execute_result",
          "data": {
            "text/html": [
              "<div>\n",
              "<style scoped>\n",
              "    .dataframe tbody tr th:only-of-type {\n",
              "        vertical-align: middle;\n",
              "    }\n",
              "\n",
              "    .dataframe tbody tr th {\n",
              "        vertical-align: top;\n",
              "    }\n",
              "\n",
              "    .dataframe thead th {\n",
              "        text-align: right;\n",
              "    }\n",
              "</style>\n",
              "<table border=\"1\" class=\"dataframe\">\n",
              "  <thead>\n",
              "    <tr style=\"text-align: right;\">\n",
              "      <th></th>\n",
              "      <th>open</th>\n",
              "      <th>close</th>\n",
              "      <th>low</th>\n",
              "      <th>high</th>\n",
              "    </tr>\n",
              "  </thead>\n",
              "  <tbody>\n",
              "    <tr>\n",
              "      <th>0</th>\n",
              "      <td>123.430000</td>\n",
              "      <td>125.839996</td>\n",
              "      <td>122.309998</td>\n",
              "      <td>126.250000</td>\n",
              "    </tr>\n",
              "    <tr>\n",
              "      <th>1</th>\n",
              "      <td>125.239998</td>\n",
              "      <td>119.980003</td>\n",
              "      <td>119.940002</td>\n",
              "      <td>125.540001</td>\n",
              "    </tr>\n",
              "    <tr>\n",
              "      <th>2</th>\n",
              "      <td>116.379997</td>\n",
              "      <td>114.949997</td>\n",
              "      <td>114.930000</td>\n",
              "      <td>119.739998</td>\n",
              "    </tr>\n",
              "    <tr>\n",
              "      <th>3</th>\n",
              "      <td>115.480003</td>\n",
              "      <td>116.620003</td>\n",
              "      <td>113.500000</td>\n",
              "      <td>117.440002</td>\n",
              "    </tr>\n",
              "    <tr>\n",
              "      <th>4</th>\n",
              "      <td>117.010002</td>\n",
              "      <td>114.970001</td>\n",
              "      <td>114.089996</td>\n",
              "      <td>117.330002</td>\n",
              "    </tr>\n",
              "  </tbody>\n",
              "</table>\n",
              "</div>"
            ],
            "text/plain": [
              "         open       close         low        high\n",
              "0  123.430000  125.839996  122.309998  126.250000\n",
              "1  125.239998  119.980003  119.940002  125.540001\n",
              "2  116.379997  114.949997  114.930000  119.739998\n",
              "3  115.480003  116.620003  113.500000  117.440002\n",
              "4  117.010002  114.970001  114.089996  117.330002"
            ]
          },
          "metadata": {
            "tags": []
          },
          "execution_count": 12
        }
      ]
    },
    {
      "cell_type": "code",
      "metadata": {
        "id": "HsKqtHwkh9BK",
        "colab": {
          "base_uri": "https://localhost:8080/"
        },
        "outputId": "d3b1ac4f-9adc-4700-ace1-778fb8f621dd"
      },
      "source": [
        "prices.info()"
      ],
      "execution_count": 13,
      "outputs": [
        {
          "output_type": "stream",
          "text": [
            "<class 'pandas.core.frame.DataFrame'>\n",
            "RangeIndex: 851264 entries, 0 to 851263\n",
            "Data columns (total 4 columns):\n",
            " #   Column  Non-Null Count   Dtype  \n",
            "---  ------  --------------   -----  \n",
            " 0   open    851264 non-null  float64\n",
            " 1   close   851264 non-null  float64\n",
            " 2   low     851264 non-null  float64\n",
            " 3   high    851264 non-null  float64\n",
            "dtypes: float64(4)\n",
            "memory usage: 26.0 MB\n"
          ],
          "name": "stdout"
        }
      ]
    },
    {
      "cell_type": "markdown",
      "metadata": {
        "id": "C8u_jlbABTip"
      },
      "source": [
        "### Get features and label from the dataset in separate variable\n",
        "- Let's separate labels and features now. We are going to predict the value for \"close\" column so that will be our label. Our features will be \"open\", \"low\", \"high\"\n",
        "- Take \"open\" \"low\", \"high\" columns as features\n",
        "- Take \"close\" column as label"
      ]
    },
    {
      "cell_type": "code",
      "metadata": {
        "id": "xQjCMzUXBJbg"
      },
      "source": [
        "X = prices.drop('close', axis = 1)\r\n",
        "y = prices['close']"
      ],
      "execution_count": 14,
      "outputs": []
    },
    {
      "cell_type": "markdown",
      "metadata": {
        "id": "6vGtnapgBIJm"
      },
      "source": [
        "## Question 4"
      ]
    },
    {
      "cell_type": "markdown",
      "metadata": {
        "id": "8pZAKdJ5gcrm"
      },
      "source": [
        "### Create train and test sets\n",
        "- Split the data into training and testing"
      ]
    },
    {
      "cell_type": "code",
      "metadata": {
        "id": "KalRqA6Rgqsn"
      },
      "source": [
        "from sklearn.model_selection import train_test_split\r\n",
        "X_train, X_test, y_train, y_test = train_test_split(X, y, test_size = 0.25, random_state = 3)"
      ],
      "execution_count": 15,
      "outputs": []
    },
    {
      "cell_type": "markdown",
      "metadata": {
        "id": "aTAKzlxZBz0z"
      },
      "source": [
        "## Question 5"
      ]
    },
    {
      "cell_type": "markdown",
      "metadata": {
        "id": "O7BU2qxEg0Ki"
      },
      "source": [
        "### Scaling\n",
        "- Scale the data (features only)\n",
        "- Use StandarScaler"
      ]
    },
    {
      "cell_type": "code",
      "metadata": {
        "id": "AcO8SlhPhBkR"
      },
      "source": [
        "from sklearn.preprocessing import StandardScaler\r\n",
        "sc = StandardScaler()\r\n",
        "sc_X_train = sc.fit_transform(X_train)\r\n",
        "sc_X_test = sc.transform(X_test)"
      ],
      "execution_count": 16,
      "outputs": []
    },
    {
      "cell_type": "markdown",
      "metadata": {
        "id": "3TWpN0nVTpUx"
      },
      "source": [
        "## Question 6"
      ]
    },
    {
      "cell_type": "markdown",
      "metadata": {
        "id": "_sj0LYNkhR-L"
      },
      "source": [
        "### Convert data to NumPy array\n",
        "- Convert features and labels to numpy array"
      ]
    },
    {
      "cell_type": "code",
      "metadata": {
        "id": "X6mIfuTxhbTT"
      },
      "source": [
        "import numpy as np\r\n",
        "\r\n",
        "y_train = np.array(y_train)\r\n",
        "y_test = np.array(y_test)\r\n",
        "sc_X_train = sc_X_train.reshape(sc_X_train.shape[0], sc_X_train.shape[1], 1)\r\n",
        "sc_X_test = sc_X_test.reshape(sc_X_test.shape[0], sc_X_test.shape[1], 1)"
      ],
      "execution_count": 17,
      "outputs": []
    },
    {
      "cell_type": "markdown",
      "metadata": {
        "id": "wmXUGc2oTspa"
      },
      "source": [
        "## Question 7"
      ]
    },
    {
      "cell_type": "markdown",
      "metadata": {
        "id": "cl2M9whFh6mh"
      },
      "source": [
        "### Define Model\n",
        "- Initialize a Sequential model\n",
        "- Add a Flatten layer\n",
        "- Add a Dense layer with one neuron as output\n",
        "  - add 'linear' as activation function\n"
      ]
    },
    {
      "cell_type": "code",
      "metadata": {
        "id": "TkiBpORmiegL"
      },
      "source": [
        "import tensorflow as tf\r\n",
        "from tensorflow.keras import Sequential\r\n",
        "from tensorflow.keras.layers import Flatten, Dense, Dropout, Reshape, BatchNormalization"
      ],
      "execution_count": 18,
      "outputs": []
    },
    {
      "cell_type": "code",
      "metadata": {
        "id": "O1Yvp9r_mzMA"
      },
      "source": [
        "tf.keras.backend.clear_session\r\n",
        "\r\n",
        "model = Sequential()\r\n",
        "model.add(Flatten(input_shape = (3,)))\r\n",
        "model.add(Dense(1, activation = 'linear', name = 'Output'))"
      ],
      "execution_count": 19,
      "outputs": []
    },
    {
      "cell_type": "markdown",
      "metadata": {
        "id": "8a0wr94aTyjg"
      },
      "source": [
        "## Question 8"
      ]
    },
    {
      "cell_type": "markdown",
      "metadata": {
        "id": "BNZPb5lKioX0"
      },
      "source": [
        "### Compile the model\n",
        "- Compile the model\n",
        "- Use \"sgd\" optimizer\n",
        "- for calculating loss, use mean squared error"
      ]
    },
    {
      "cell_type": "code",
      "metadata": {
        "id": "ZEQUP3VaiuT2",
        "colab": {
          "base_uri": "https://localhost:8080/"
        },
        "outputId": "39c60c02-2a5a-4b1c-bc51-fd64c54ce728"
      },
      "source": [
        "model.compile(optimizer = 'sgd', loss = 'mean_squared_error')\r\n",
        "model.summary()"
      ],
      "execution_count": 20,
      "outputs": [
        {
          "output_type": "stream",
          "text": [
            "Model: \"sequential\"\n",
            "_________________________________________________________________\n",
            "Layer (type)                 Output Shape              Param #   \n",
            "=================================================================\n",
            "flatten (Flatten)            (None, 3)                 0         \n",
            "_________________________________________________________________\n",
            "Output (Dense)               (None, 1)                 4         \n",
            "=================================================================\n",
            "Total params: 4\n",
            "Trainable params: 4\n",
            "Non-trainable params: 0\n",
            "_________________________________________________________________\n"
          ],
          "name": "stdout"
        }
      ]
    },
    {
      "cell_type": "markdown",
      "metadata": {
        "id": "ZbBpnOtfT0wd"
      },
      "source": [
        "## Question 9"
      ]
    },
    {
      "cell_type": "markdown",
      "metadata": {
        "id": "n9o45OHdjDhA"
      },
      "source": [
        "### Fit the model\n",
        "- epochs: 50\n",
        "- batch size: 128\n",
        "- specify validation data"
      ]
    },
    {
      "cell_type": "code",
      "metadata": {
        "id": "-Y6tA30XjOH2",
        "colab": {
          "base_uri": "https://localhost:8080/"
        },
        "outputId": "27991e6e-cab5-4a84-a09a-aa69fe8c8db4"
      },
      "source": [
        "model.fit(sc_X_train, y_train, epochs = 50, batch_size = 128, validation_data=(sc_X_test, y_test))"
      ],
      "execution_count": 21,
      "outputs": [
        {
          "output_type": "stream",
          "text": [
            "Epoch 1/50\n",
            "4988/4988 [==============================] - 6s 1ms/step - loss: 237.3492 - val_loss: 0.9469\n",
            "Epoch 2/50\n",
            "4988/4988 [==============================] - 6s 1ms/step - loss: 0.9658 - val_loss: 0.9378\n",
            "Epoch 3/50\n",
            "4988/4988 [==============================] - 5s 1ms/step - loss: 0.9540 - val_loss: 0.9304\n",
            "Epoch 4/50\n",
            "4988/4988 [==============================] - 5s 1ms/step - loss: 0.9594 - val_loss: 0.9567\n",
            "Epoch 5/50\n",
            "4988/4988 [==============================] - 5s 1ms/step - loss: 0.9728 - val_loss: 0.9212\n",
            "Epoch 6/50\n",
            "4988/4988 [==============================] - 5s 1ms/step - loss: 0.9402 - val_loss: 0.9179\n",
            "Epoch 7/50\n",
            "4988/4988 [==============================] - 5s 1ms/step - loss: 0.9207 - val_loss: 0.8987\n",
            "Epoch 8/50\n",
            "4988/4988 [==============================] - 5s 1ms/step - loss: 0.9530 - val_loss: 0.8916\n",
            "Epoch 9/50\n",
            "4988/4988 [==============================] - 5s 1ms/step - loss: 0.9055 - val_loss: 0.8918\n",
            "Epoch 10/50\n",
            "4988/4988 [==============================] - 6s 1ms/step - loss: 0.9168 - val_loss: 0.8817\n",
            "Epoch 11/50\n",
            "4988/4988 [==============================] - 6s 1ms/step - loss: 0.9058 - val_loss: 0.8753\n",
            "Epoch 12/50\n",
            "4988/4988 [==============================] - 6s 1ms/step - loss: 0.9028 - val_loss: 0.8706\n",
            "Epoch 13/50\n",
            "4988/4988 [==============================] - 6s 1ms/step - loss: 0.9058 - val_loss: 0.8778\n",
            "Epoch 14/50\n",
            "4988/4988 [==============================] - 6s 1ms/step - loss: 0.8912 - val_loss: 0.8659\n",
            "Epoch 15/50\n",
            "4988/4988 [==============================] - 6s 1ms/step - loss: 0.8570 - val_loss: 0.8640\n",
            "Epoch 16/50\n",
            "4988/4988 [==============================] - 6s 1ms/step - loss: 0.8661 - val_loss: 0.8564\n",
            "Epoch 17/50\n",
            "4988/4988 [==============================] - 6s 1ms/step - loss: 0.8799 - val_loss: 0.8574\n",
            "Epoch 18/50\n",
            "4988/4988 [==============================] - 6s 1ms/step - loss: 0.8539 - val_loss: 0.8330\n",
            "Epoch 19/50\n",
            "4988/4988 [==============================] - 6s 1ms/step - loss: 0.8360 - val_loss: 0.8303\n",
            "Epoch 20/50\n",
            "4988/4988 [==============================] - 6s 1ms/step - loss: 0.8485 - val_loss: 0.8588\n",
            "Epoch 21/50\n",
            "4988/4988 [==============================] - 6s 1ms/step - loss: 0.8320 - val_loss: 0.8192\n",
            "Epoch 22/50\n",
            "4988/4988 [==============================] - 6s 1ms/step - loss: 0.8257 - val_loss: 0.8107\n",
            "Epoch 23/50\n",
            "4988/4988 [==============================] - 6s 1ms/step - loss: 0.8364 - val_loss: 0.8095\n",
            "Epoch 24/50\n",
            "4988/4988 [==============================] - 6s 1ms/step - loss: 0.8345 - val_loss: 0.8310\n",
            "Epoch 25/50\n",
            "4988/4988 [==============================] - 6s 1ms/step - loss: 0.8345 - val_loss: 0.7965\n",
            "Epoch 26/50\n",
            "4988/4988 [==============================] - 6s 1ms/step - loss: 0.8009 - val_loss: 0.8058\n",
            "Epoch 27/50\n",
            "4988/4988 [==============================] - 6s 1ms/step - loss: 0.8233 - val_loss: 0.7891\n",
            "Epoch 28/50\n",
            "4988/4988 [==============================] - 6s 1ms/step - loss: 0.8032 - val_loss: 0.7796\n",
            "Epoch 29/50\n",
            "4988/4988 [==============================] - 6s 1ms/step - loss: 0.8032 - val_loss: 0.7898\n",
            "Epoch 30/50\n",
            "4988/4988 [==============================] - 6s 1ms/step - loss: 0.7908 - val_loss: 0.7727\n",
            "Epoch 31/50\n",
            "4988/4988 [==============================] - 6s 1ms/step - loss: 0.7747 - val_loss: 0.7727\n",
            "Epoch 32/50\n",
            "4988/4988 [==============================] - 6s 1ms/step - loss: 0.7861 - val_loss: 0.7619\n",
            "Epoch 33/50\n",
            "4988/4988 [==============================] - 6s 1ms/step - loss: 0.7821 - val_loss: 0.7620\n",
            "Epoch 34/50\n",
            "4988/4988 [==============================] - 6s 1ms/step - loss: 0.7721 - val_loss: 0.7535\n",
            "Epoch 35/50\n",
            "4988/4988 [==============================] - 6s 1ms/step - loss: 0.7539 - val_loss: 0.8132\n",
            "Epoch 36/50\n",
            "4988/4988 [==============================] - 6s 1ms/step - loss: 0.7564 - val_loss: 0.7434\n",
            "Epoch 37/50\n",
            "4988/4988 [==============================] - 5s 1ms/step - loss: 0.7859 - val_loss: 0.7384\n",
            "Epoch 38/50\n",
            "4988/4988 [==============================] - 6s 1ms/step - loss: 0.7518 - val_loss: 0.7343\n",
            "Epoch 39/50\n",
            "4988/4988 [==============================] - 6s 1ms/step - loss: 0.7509 - val_loss: 0.7314\n",
            "Epoch 40/50\n",
            "4988/4988 [==============================] - 6s 1ms/step - loss: 0.7559 - val_loss: 0.7335\n",
            "Epoch 41/50\n",
            "4988/4988 [==============================] - 6s 1ms/step - loss: 0.7401 - val_loss: 0.7253\n",
            "Epoch 42/50\n",
            "4988/4988 [==============================] - 6s 1ms/step - loss: 0.7366 - val_loss: 0.7180\n",
            "Epoch 43/50\n",
            "4988/4988 [==============================] - 6s 1ms/step - loss: 0.7280 - val_loss: 0.7161\n",
            "Epoch 44/50\n",
            "4988/4988 [==============================] - 6s 1ms/step - loss: 0.7419 - val_loss: 0.7773\n",
            "Epoch 45/50\n",
            "4988/4988 [==============================] - 6s 1ms/step - loss: 0.7369 - val_loss: 0.7185\n",
            "Epoch 46/50\n",
            "4988/4988 [==============================] - 6s 1ms/step - loss: 0.7028 - val_loss: 0.7357\n",
            "Epoch 47/50\n",
            "4988/4988 [==============================] - 6s 1ms/step - loss: 0.7239 - val_loss: 0.6986\n",
            "Epoch 48/50\n",
            "4988/4988 [==============================] - 6s 1ms/step - loss: 0.7338 - val_loss: 0.6946\n",
            "Epoch 49/50\n",
            "4988/4988 [==============================] - 6s 1ms/step - loss: 0.7115 - val_loss: 0.7271\n",
            "Epoch 50/50\n",
            "4988/4988 [==============================] - 6s 1ms/step - loss: 0.7010 - val_loss: 0.6885\n"
          ],
          "name": "stdout"
        },
        {
          "output_type": "execute_result",
          "data": {
            "text/plain": [
              "<tensorflow.python.keras.callbacks.History at 0x7f371c92b4a8>"
            ]
          },
          "metadata": {
            "tags": []
          },
          "execution_count": 21
        }
      ]
    },
    {
      "cell_type": "markdown",
      "metadata": {
        "id": "AW4SEP8kT2ls"
      },
      "source": [
        "## Question 10"
      ]
    },
    {
      "cell_type": "markdown",
      "metadata": {
        "id": "EJDoix_7JU61"
      },
      "source": [
        "### Evaluate the model\n",
        "- Evaluate the model on test data"
      ]
    },
    {
      "cell_type": "code",
      "metadata": {
        "colab": {
          "base_uri": "https://localhost:8080/"
        },
        "id": "2UrGhvzn5Ona",
        "outputId": "009e2fd4-0c08-4028-fde8-6d521e71866b"
      },
      "source": [
        "from sklearn.metrics import accuracy_score\r\n",
        "scores = model.evaluate(sc_X_test, y_test, verbose=0)\r\n",
        "print(\"Accuracy: %.2f%%\" % (scores*100))"
      ],
      "execution_count": 22,
      "outputs": [
        {
          "output_type": "stream",
          "text": [
            "Accuracy: 68.85%\n"
          ],
          "name": "stdout"
        }
      ]
    },
    {
      "cell_type": "code",
      "metadata": {
        "colab": {
          "base_uri": "https://localhost:8080/"
        },
        "id": "BjnUoGzmz-Yo",
        "outputId": "fe29e9e7-0abf-45d6-edb1-d08c1d36e8fc"
      },
      "source": [
        "model.evaluate(sc_X_test, y_test)"
      ],
      "execution_count": 23,
      "outputs": [
        {
          "output_type": "stream",
          "text": [
            "6651/6651 [==============================] - 5s 773us/step - loss: 0.6885\n"
          ],
          "name": "stdout"
        },
        {
          "output_type": "execute_result",
          "data": {
            "text/plain": [
              "0.6884844303131104"
            ]
          },
          "metadata": {
            "tags": []
          },
          "execution_count": 23
        }
      ]
    },
    {
      "cell_type": "markdown",
      "metadata": {
        "id": "hUpDD74Xjh01"
      },
      "source": [
        "### Manual predictions\n",
        "- Test the predictions on manual inputs\n",
        "- We have scaled out training data, so we need to transform our custom inputs using the object of the scaler\n",
        "- Example of manual input: [123.430000,\t122.30999, 116.250000]"
      ]
    },
    {
      "cell_type": "code",
      "metadata": {
        "id": "fvuH-c31lLiJ"
      },
      "source": [
        "input =  [123.430000, 122.30999, 116.250000]\r\n",
        "input = np.array(input).reshape(-1,3)\r\n",
        "input = sc.transform(input)"
      ],
      "execution_count": 24,
      "outputs": []
    },
    {
      "cell_type": "code",
      "metadata": {
        "colab": {
          "base_uri": "https://localhost:8080/"
        },
        "id": "IYp73OIh8ifq",
        "outputId": "96608bee-b4da-41ec-aeff-28454bedde5f"
      },
      "source": [
        "model.predict(input)"
      ],
      "execution_count": 25,
      "outputs": [
        {
          "output_type": "execute_result",
          "data": {
            "text/plain": [
              "array([[119.784225]], dtype=float32)"
            ]
          },
          "metadata": {
            "tags": []
          },
          "execution_count": 25
        }
      ]
    },
    {
      "cell_type": "markdown",
      "metadata": {
        "id": "4WH1Pr4KQlCh"
      },
      "source": [
        "# Build a DNN"
      ]
    },
    {
      "cell_type": "markdown",
      "metadata": {
        "id": "74cQBsi5QlCw"
      },
      "source": [
        "### Collect Fashion mnist data from tf.keras.datasets "
      ]
    },
    {
      "cell_type": "code",
      "metadata": {
        "id": "iZNskd1DHoBc"
      },
      "source": [
        "from tensorflow.keras.layers import Dropout, Reshape, BatchNormalization\r\n",
        "from tensorflow.keras.callbacks import EarlyStopping"
      ],
      "execution_count": 26,
      "outputs": []
    },
    {
      "cell_type": "code",
      "metadata": {
        "id": "wVWy0oDTr2Kj"
      },
      "source": [
        "(X_train_dnn, y_train_dnn), (X_test_dnn, y_test_dnn) = tf.keras.datasets.fashion_mnist.load_data()"
      ],
      "execution_count": 27,
      "outputs": []
    },
    {
      "cell_type": "markdown",
      "metadata": {
        "id": "no7aWYZyQlC1"
      },
      "source": [
        "### Change train and test labels into one-hot vectors"
      ]
    },
    {
      "cell_type": "code",
      "metadata": {
        "id": "UX6otc4wQlC2"
      },
      "source": [
        "y_test_original = y_test_dnn\r\n",
        "\r\n",
        "y_train_dnn = tf.keras.utils.to_categorical(y_train_dnn)\r\n",
        "y_test_dnn = tf.keras.utils.to_categorical(y_test_dnn)"
      ],
      "execution_count": 28,
      "outputs": []
    },
    {
      "cell_type": "code",
      "metadata": {
        "id": "R-omH72mDfCl"
      },
      "source": [
        "num_classes = y_train_dnn.shape[1]"
      ],
      "execution_count": 29,
      "outputs": []
    },
    {
      "cell_type": "code",
      "metadata": {
        "colab": {
          "base_uri": "https://localhost:8080/"
        },
        "id": "_Q_Atk2hDiC-",
        "outputId": "e17909df-c1ac-4040-cb19-38b3111587c0"
      },
      "source": [
        "num_classes"
      ],
      "execution_count": 30,
      "outputs": [
        {
          "output_type": "execute_result",
          "data": {
            "text/plain": [
              "10"
            ]
          },
          "metadata": {
            "tags": []
          },
          "execution_count": 30
        }
      ]
    },
    {
      "cell_type": "code",
      "metadata": {
        "id": "pCDQs_g1QlC8"
      },
      "source": [
        "X_train_dnn = X_train_dnn.astype('float32')\r\n",
        "X_test_dnn = X_test_dnn.astype('float32')\r\n",
        "X_train_dnn = X_train_dnn / 255.0\r\n",
        "X_test_dnn = X_test_dnn / 255.0"
      ],
      "execution_count": 31,
      "outputs": []
    },
    {
      "cell_type": "markdown",
      "metadata": {
        "id": "QjNrRTdoQlC5"
      },
      "source": [
        "### Build the Graph"
      ]
    },
    {
      "cell_type": "markdown",
      "metadata": {
        "id": "CDJ9DHVNQlC7"
      },
      "source": [
        "### Initialize model, reshape & normalize data"
      ]
    },
    {
      "cell_type": "code",
      "metadata": {
        "id": "ap17pin6GS4P"
      },
      "source": [
        "tf.keras.backend.clear_session\r\n",
        "\r\n",
        "model = Sequential()\r\n",
        "\r\n",
        "model.add(Reshape((784,), input_shape = (28,28,)))\r\n",
        "model.add(BatchNormalization())"
      ],
      "execution_count": 32,
      "outputs": []
    },
    {
      "cell_type": "markdown",
      "metadata": {
        "id": "kBGwTTilQlDD"
      },
      "source": [
        "### Add two fully connected layers with 200 and 100 neurons respectively with `relu` activations. Add a dropout layer with `p=0.25`"
      ]
    },
    {
      "cell_type": "code",
      "metadata": {
        "id": "h0zn9l6sEItR"
      },
      "source": [
        "model.add(Dense(200, activation='relu'))\r\n",
        "model.add(Dense(100, activation = 'relu'))\r\n",
        "\r\n",
        "model.add(Dropout(0.25))"
      ],
      "execution_count": 33,
      "outputs": []
    },
    {
      "cell_type": "markdown",
      "metadata": {
        "id": "5I8f5otcQlDJ"
      },
      "source": [
        "### Add the output layer with a fully connected layer with 10 neurons with `softmax` activation. Use `categorical_crossentropy` loss and `adam` optimizer and train the network. And, report the final validation.\n",
        "\n",
        "###Also add callback, such that if validation loss doesn't decreases consecutively 2 times, stop the training"
      ]
    },
    {
      "cell_type": "code",
      "metadata": {
        "id": "JZkvKymSd0Sr"
      },
      "source": [
        "model.add(Dense(num_classes, activation = 'softmax', name = 'Output'))\r\n",
        "\r\n",
        "model.compile(optimizer = 'adam', metrics = 'accuracy', loss = 'categorical_crossentropy')\r\n",
        "\r\n",
        "early_stopping = EarlyStopping(monitor = 'val_loss', patience=2, restore_best_weights=True)"
      ],
      "execution_count": 34,
      "outputs": []
    },
    {
      "cell_type": "markdown",
      "metadata": {
        "id": "foL4GTKfRnkF"
      },
      "source": [
        "### Print model summary"
      ]
    },
    {
      "cell_type": "code",
      "metadata": {
        "id": "BhoNWO83vwmK",
        "colab": {
          "base_uri": "https://localhost:8080/"
        },
        "outputId": "014ab686-994d-431a-972e-9c133b3f3c9f"
      },
      "source": [
        "model.summary()"
      ],
      "execution_count": 35,
      "outputs": [
        {
          "output_type": "stream",
          "text": [
            "Model: \"sequential_1\"\n",
            "_________________________________________________________________\n",
            "Layer (type)                 Output Shape              Param #   \n",
            "=================================================================\n",
            "reshape (Reshape)            (None, 784)               0         \n",
            "_________________________________________________________________\n",
            "batch_normalization (BatchNo (None, 784)               3136      \n",
            "_________________________________________________________________\n",
            "dense (Dense)                (None, 200)               157000    \n",
            "_________________________________________________________________\n",
            "dense_1 (Dense)              (None, 100)               20100     \n",
            "_________________________________________________________________\n",
            "dropout (Dropout)            (None, 100)               0         \n",
            "_________________________________________________________________\n",
            "Output (Dense)               (None, 10)                1010      \n",
            "=================================================================\n",
            "Total params: 181,246\n",
            "Trainable params: 179,678\n",
            "Non-trainable params: 1,568\n",
            "_________________________________________________________________\n"
          ],
          "name": "stdout"
        }
      ]
    },
    {
      "cell_type": "markdown",
      "metadata": {
        "id": "Ld9xHnSbRv1T"
      },
      "source": [
        "###Train your model, use test data as validation set"
      ]
    },
    {
      "cell_type": "code",
      "metadata": {
        "id": "WSiMhJPpk3GO",
        "colab": {
          "base_uri": "https://localhost:8080/"
        },
        "outputId": "9ce0ea19-713f-4932-ec29-1e254764c87f"
      },
      "source": [
        "history = model.fit(X_train_dnn, y_train_dnn, validation_data = (X_test_dnn, y_test_dnn), epochs = 20, batch_size = 64, callbacks = early_stopping)"
      ],
      "execution_count": 36,
      "outputs": [
        {
          "output_type": "stream",
          "text": [
            "Epoch 1/20\n",
            "938/938 [==============================] - 6s 6ms/step - loss: 0.6171 - accuracy: 0.7828 - val_loss: 0.3923 - val_accuracy: 0.8557\n",
            "Epoch 2/20\n",
            "938/938 [==============================] - 6s 6ms/step - loss: 0.3798 - accuracy: 0.8609 - val_loss: 0.3659 - val_accuracy: 0.8649\n",
            "Epoch 3/20\n",
            "938/938 [==============================] - 6s 6ms/step - loss: 0.3366 - accuracy: 0.8756 - val_loss: 0.3536 - val_accuracy: 0.8714\n",
            "Epoch 4/20\n",
            "938/938 [==============================] - 6s 6ms/step - loss: 0.3105 - accuracy: 0.8844 - val_loss: 0.3419 - val_accuracy: 0.8759\n",
            "Epoch 5/20\n",
            "938/938 [==============================] - 5s 6ms/step - loss: 0.2911 - accuracy: 0.8903 - val_loss: 0.3280 - val_accuracy: 0.8773\n",
            "Epoch 6/20\n",
            "938/938 [==============================] - 5s 6ms/step - loss: 0.2683 - accuracy: 0.8978 - val_loss: 0.3269 - val_accuracy: 0.8824\n",
            "Epoch 7/20\n",
            "938/938 [==============================] - 5s 6ms/step - loss: 0.2567 - accuracy: 0.9038 - val_loss: 0.3277 - val_accuracy: 0.8854\n",
            "Epoch 8/20\n",
            "938/938 [==============================] - 5s 6ms/step - loss: 0.2474 - accuracy: 0.9070 - val_loss: 0.3300 - val_accuracy: 0.8819\n"
          ],
          "name": "stdout"
        }
      ]
    },
    {
      "cell_type": "markdown",
      "metadata": {
        "id": "2K2w_Oq5RzZx"
      },
      "source": [
        "###Predict Labels"
      ]
    },
    {
      "cell_type": "code",
      "metadata": {
        "id": "UL76FU4lRz6n"
      },
      "source": [
        "y_pred_dnn = np.argmax(model.predict(X_test_dnn), axis = -1)"
      ],
      "execution_count": 37,
      "outputs": []
    },
    {
      "cell_type": "code",
      "metadata": {
        "colab": {
          "base_uri": "https://localhost:8080/"
        },
        "id": "gySqPaMUPNT-",
        "outputId": "2f1f03b0-bd2f-4ba9-f8b3-59dc0062a118"
      },
      "source": [
        "y_test_dnn"
      ],
      "execution_count": 38,
      "outputs": [
        {
          "output_type": "execute_result",
          "data": {
            "text/plain": [
              "array([[0., 0., 0., ..., 0., 0., 1.],\n",
              "       [0., 0., 1., ..., 0., 0., 0.],\n",
              "       [0., 1., 0., ..., 0., 0., 0.],\n",
              "       ...,\n",
              "       [0., 0., 0., ..., 0., 1., 0.],\n",
              "       [0., 1., 0., ..., 0., 0., 0.],\n",
              "       [0., 0., 0., ..., 0., 0., 0.]], dtype=float32)"
            ]
          },
          "metadata": {
            "tags": []
          },
          "execution_count": 38
        }
      ]
    },
    {
      "cell_type": "markdown",
      "metadata": {
        "id": "BXPFIBBRR0mO"
      },
      "source": [
        "###Print Confusion matrix"
      ]
    },
    {
      "cell_type": "code",
      "metadata": {
        "id": "hlR4qXJ7R3yT"
      },
      "source": [
        "from sklearn.metrics import confusion_matrix, classification_report"
      ],
      "execution_count": 39,
      "outputs": []
    },
    {
      "cell_type": "code",
      "metadata": {
        "colab": {
          "base_uri": "https://localhost:8080/"
        },
        "id": "48ZkurAJNfqM",
        "outputId": "52bf0ffb-658b-4f89-d5ca-1a4786d4380e"
      },
      "source": [
        "confusion_matrix(y_test_original, y_pred_dnn)"
      ],
      "execution_count": 40,
      "outputs": [
        {
          "output_type": "execute_result",
          "data": {
            "text/plain": [
              "array([[843,   0,   9,  23,   2,   0, 114,   0,   9,   0],\n",
              "       [  2, 968,   0,  22,   4,   0,   2,   0,   2,   0],\n",
              "       [ 13,   2, 766,   9, 119,   1,  88,   0,   2,   0],\n",
              "       [ 30,   7,   5, 879,  42,   1,  28,   0,   8,   0],\n",
              "       [  1,   0,  81,  21, 846,   0,  49,   0,   2,   0],\n",
              "       [  0,   0,   0,   0,   0, 979,   0,   9,   5,   7],\n",
              "       [117,   1,  68,  25,  74,   0, 700,   0,  15,   0],\n",
              "       [  0,   0,   0,   0,   0,  39,   0, 914,   4,  43],\n",
              "       [  4,   0,   3,   3,   1,   1,   4,   2, 982,   0],\n",
              "       [  0,   0,   0,   0,   0,  21,   1,  31,   0, 947]])"
            ]
          },
          "metadata": {
            "tags": []
          },
          "execution_count": 40
        }
      ]
    },
    {
      "cell_type": "code",
      "metadata": {
        "colab": {
          "base_uri": "https://localhost:8080/"
        },
        "id": "HPxuPmhsNq9o",
        "outputId": "dbfe9efa-5b50-4e35-b1a9-170e16aaefaf"
      },
      "source": [
        "print(classification_report(y_test_original, y_pred_dnn))"
      ],
      "execution_count": 41,
      "outputs": [
        {
          "output_type": "stream",
          "text": [
            "              precision    recall  f1-score   support\n",
            "\n",
            "           0       0.83      0.84      0.84      1000\n",
            "           1       0.99      0.97      0.98      1000\n",
            "           2       0.82      0.77      0.79      1000\n",
            "           3       0.90      0.88      0.89      1000\n",
            "           4       0.78      0.85      0.81      1000\n",
            "           5       0.94      0.98      0.96      1000\n",
            "           6       0.71      0.70      0.70      1000\n",
            "           7       0.96      0.91      0.93      1000\n",
            "           8       0.95      0.98      0.97      1000\n",
            "           9       0.95      0.95      0.95      1000\n",
            "\n",
            "    accuracy                           0.88     10000\n",
            "   macro avg       0.88      0.88      0.88     10000\n",
            "weighted avg       0.88      0.88      0.88     10000\n",
            "\n"
          ],
          "name": "stdout"
        }
      ]
    },
    {
      "cell_type": "markdown",
      "metadata": {
        "id": "-xMY7tsqR4Z6"
      },
      "source": [
        "###Plot training accuracy vs validation accuracy\n",
        "###Plot training loss vs validation loss"
      ]
    },
    {
      "cell_type": "code",
      "metadata": {
        "id": "q3irwsgFR-Uu",
        "colab": {
          "base_uri": "https://localhost:8080/",
          "height": 295
        },
        "outputId": "396747ee-6310-4372-e926-ec0e8c5fece4"
      },
      "source": [
        "plt.plot(history.history['accuracy'])\r\n",
        "plt.plot(history.history['val_accuracy'])\r\n",
        "plt.title('model accuracy')\r\n",
        "plt.ylabel('Accuracy')\r\n",
        "plt.xlabel('Epoch')\r\n",
        "plt.legend(['training', 'validation'], loc='best')\r\n",
        "plt.show()"
      ],
      "execution_count": 42,
      "outputs": [
        {
          "output_type": "display_data",
          "data": {
            "image/png": "[encoded data removed]",
            "text/plain": [
              "<Figure size 432x288 with 1 Axes>"
            ]
          },
          "metadata": {
            "tags": [],
            "needs_background": "light"
          }
        }
      ]
    },
    {
      "cell_type": "code",
      "metadata": {
        "colab": {
          "base_uri": "https://localhost:8080/",
          "height": 295
        },
        "id": "7oZlI1fyQw89",
        "outputId": "755146fe-e759-4b94-9099-108247d5fc79"
      },
      "source": [
        "plt.plot(history.history['loss'])\r\n",
        "plt.plot(history.history['val_loss'])\r\n",
        "plt.title('model loss')\r\n",
        "plt.ylabel('Loss')\r\n",
        "plt.xlabel('Epoch')\r\n",
        "plt.legend(['loss', 'validation_loss'], loc='best')\r\n",
        "plt.show()"
      ],
      "execution_count": 43,
      "outputs": [
        {
          "output_type": "display_data",
          "data": {
            "image/png": "[encoded data removed]",
            "text/plain": [
              "<Figure size 432x288 with 1 Axes>"
            ]
          },
          "metadata": {
            "tags": [],
            "needs_background": "light"
          }
        }
      ]
    }
  ]
}