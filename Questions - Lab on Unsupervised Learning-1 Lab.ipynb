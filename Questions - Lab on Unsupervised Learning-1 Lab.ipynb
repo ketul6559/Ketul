{
 "cells": [
  {
   "cell_type": "markdown",
   "metadata": {
    "colab_type": "text",
    "id": "0zAbYvv-WCve"
   },
   "source": [
    "# Principal Component Analysis with Cancer Data"
   ]
  },
  {
   "cell_type": "code",
   "execution_count": 453,
   "metadata": {
    "colab": {},
    "colab_type": "code",
    "id": "1waXlt6iWCvh"
   },
   "outputs": [],
   "source": [
    "#Import all the necessary modules\n",
    "#Import all the necessary modules\n",
    "import pandas as pd\n",
    "import numpy as np\n",
    "import os\n",
    "import seaborn as sns\n",
    "import matplotlib.pyplot as plt\n",
    "import warnings\n",
    "warnings.filterwarnings('ignore') \n",
    "\n",
    "%matplotlib inline"
   ]
  },
  {
   "cell_type": "markdown",
   "metadata": {
    "colab_type": "text",
    "id": "6FZ90t1vWCvq"
   },
   "source": [
    "# Q1. Load the Data file ( Breast Cancer CSV) into Python DataFrame and view top 10 rows"
   ]
  },
  {
   "cell_type": "code",
   "execution_count": 454,
   "metadata": {
    "colab": {},
    "colab_type": "code",
    "id": "HdpptBPZSM4P"
   },
   "outputs": [],
   "source": [
    "df = pd.read_csv('Cancer.csv')"
   ]
  },
  {
   "cell_type": "code",
   "execution_count": 455,
   "metadata": {},
   "outputs": [
    {
     "data": {
      "text/html": [
       "<div>\n",
       "<style scoped>\n",
       "    .dataframe tbody tr th:only-of-type {\n",
       "        vertical-align: middle;\n",
       "    }\n",
       "\n",
       "    .dataframe tbody tr th {\n",
       "        vertical-align: top;\n",
       "    }\n",
       "\n",
       "    .dataframe thead th {\n",
       "        text-align: right;\n",
       "    }\n",
       "</style>\n",
       "<table border=\"1\" class=\"dataframe\">\n",
       "  <thead>\n",
       "    <tr style=\"text-align: right;\">\n",
       "      <th></th>\n",
       "      <th>ID</th>\n",
       "      <th>ClumpThickness</th>\n",
       "      <th>Cell Size</th>\n",
       "      <th>Cell Shape</th>\n",
       "      <th>Marginal Adhesion</th>\n",
       "      <th>Single Epithelial Cell Size</th>\n",
       "      <th>Bare Nuclei</th>\n",
       "      <th>Normal Nucleoli</th>\n",
       "      <th>Bland Chromatin</th>\n",
       "      <th>Mitoses</th>\n",
       "      <th>Class</th>\n",
       "    </tr>\n",
       "  </thead>\n",
       "  <tbody>\n",
       "    <tr>\n",
       "      <th>0</th>\n",
       "      <td>1000025</td>\n",
       "      <td>5</td>\n",
       "      <td>1</td>\n",
       "      <td>1</td>\n",
       "      <td>1</td>\n",
       "      <td>2</td>\n",
       "      <td>1</td>\n",
       "      <td>3</td>\n",
       "      <td>1</td>\n",
       "      <td>1</td>\n",
       "      <td>2</td>\n",
       "    </tr>\n",
       "    <tr>\n",
       "      <th>1</th>\n",
       "      <td>1002945</td>\n",
       "      <td>5</td>\n",
       "      <td>4</td>\n",
       "      <td>4</td>\n",
       "      <td>5</td>\n",
       "      <td>7</td>\n",
       "      <td>10</td>\n",
       "      <td>3</td>\n",
       "      <td>2</td>\n",
       "      <td>1</td>\n",
       "      <td>2</td>\n",
       "    </tr>\n",
       "    <tr>\n",
       "      <th>2</th>\n",
       "      <td>1015425</td>\n",
       "      <td>3</td>\n",
       "      <td>1</td>\n",
       "      <td>1</td>\n",
       "      <td>1</td>\n",
       "      <td>2</td>\n",
       "      <td>2</td>\n",
       "      <td>3</td>\n",
       "      <td>1</td>\n",
       "      <td>1</td>\n",
       "      <td>2</td>\n",
       "    </tr>\n",
       "    <tr>\n",
       "      <th>3</th>\n",
       "      <td>1016277</td>\n",
       "      <td>6</td>\n",
       "      <td>8</td>\n",
       "      <td>8</td>\n",
       "      <td>1</td>\n",
       "      <td>3</td>\n",
       "      <td>4</td>\n",
       "      <td>3</td>\n",
       "      <td>7</td>\n",
       "      <td>1</td>\n",
       "      <td>2</td>\n",
       "    </tr>\n",
       "    <tr>\n",
       "      <th>4</th>\n",
       "      <td>1017023</td>\n",
       "      <td>4</td>\n",
       "      <td>1</td>\n",
       "      <td>1</td>\n",
       "      <td>3</td>\n",
       "      <td>2</td>\n",
       "      <td>1</td>\n",
       "      <td>3</td>\n",
       "      <td>1</td>\n",
       "      <td>1</td>\n",
       "      <td>2</td>\n",
       "    </tr>\n",
       "    <tr>\n",
       "      <th>5</th>\n",
       "      <td>1017122</td>\n",
       "      <td>8</td>\n",
       "      <td>10</td>\n",
       "      <td>10</td>\n",
       "      <td>8</td>\n",
       "      <td>7</td>\n",
       "      <td>10</td>\n",
       "      <td>9</td>\n",
       "      <td>7</td>\n",
       "      <td>1</td>\n",
       "      <td>4</td>\n",
       "    </tr>\n",
       "    <tr>\n",
       "      <th>6</th>\n",
       "      <td>1018099</td>\n",
       "      <td>1</td>\n",
       "      <td>1</td>\n",
       "      <td>1</td>\n",
       "      <td>1</td>\n",
       "      <td>2</td>\n",
       "      <td>10</td>\n",
       "      <td>3</td>\n",
       "      <td>1</td>\n",
       "      <td>1</td>\n",
       "      <td>2</td>\n",
       "    </tr>\n",
       "    <tr>\n",
       "      <th>7</th>\n",
       "      <td>1018561</td>\n",
       "      <td>2</td>\n",
       "      <td>1</td>\n",
       "      <td>2</td>\n",
       "      <td>1</td>\n",
       "      <td>2</td>\n",
       "      <td>1</td>\n",
       "      <td>3</td>\n",
       "      <td>1</td>\n",
       "      <td>1</td>\n",
       "      <td>2</td>\n",
       "    </tr>\n",
       "    <tr>\n",
       "      <th>8</th>\n",
       "      <td>1033078</td>\n",
       "      <td>2</td>\n",
       "      <td>1</td>\n",
       "      <td>1</td>\n",
       "      <td>1</td>\n",
       "      <td>2</td>\n",
       "      <td>1</td>\n",
       "      <td>1</td>\n",
       "      <td>1</td>\n",
       "      <td>5</td>\n",
       "      <td>2</td>\n",
       "    </tr>\n",
       "    <tr>\n",
       "      <th>9</th>\n",
       "      <td>1033078</td>\n",
       "      <td>4</td>\n",
       "      <td>2</td>\n",
       "      <td>1</td>\n",
       "      <td>1</td>\n",
       "      <td>2</td>\n",
       "      <td>1</td>\n",
       "      <td>2</td>\n",
       "      <td>1</td>\n",
       "      <td>1</td>\n",
       "      <td>2</td>\n",
       "    </tr>\n",
       "  </tbody>\n",
       "</table>\n",
       "</div>"
      ],
      "text/plain": [
       "        ID  ClumpThickness  Cell Size  Cell Shape  Marginal Adhesion  \\\n",
       "0  1000025               5          1           1                  1   \n",
       "1  1002945               5          4           4                  5   \n",
       "2  1015425               3          1           1                  1   \n",
       "3  1016277               6          8           8                  1   \n",
       "4  1017023               4          1           1                  3   \n",
       "5  1017122               8         10          10                  8   \n",
       "6  1018099               1          1           1                  1   \n",
       "7  1018561               2          1           2                  1   \n",
       "8  1033078               2          1           1                  1   \n",
       "9  1033078               4          2           1                  1   \n",
       "\n",
       "   Single Epithelial Cell Size Bare Nuclei  Normal Nucleoli  Bland Chromatin  \\\n",
       "0                            2           1                3                1   \n",
       "1                            7          10                3                2   \n",
       "2                            2           2                3                1   \n",
       "3                            3           4                3                7   \n",
       "4                            2           1                3                1   \n",
       "5                            7          10                9                7   \n",
       "6                            2          10                3                1   \n",
       "7                            2           1                3                1   \n",
       "8                            2           1                1                1   \n",
       "9                            2           1                2                1   \n",
       "\n",
       "   Mitoses  Class  \n",
       "0        1      2  \n",
       "1        1      2  \n",
       "2        1      2  \n",
       "3        1      2  \n",
       "4        1      2  \n",
       "5        1      4  \n",
       "6        1      2  \n",
       "7        1      2  \n",
       "8        5      2  \n",
       "9        1      2  "
      ]
     },
     "execution_count": 455,
     "metadata": {},
     "output_type": "execute_result"
    }
   ],
   "source": [
    "df.head(10)"
   ]
  },
  {
   "cell_type": "code",
   "execution_count": 456,
   "metadata": {
    "colab": {},
    "colab_type": "code",
    "id": "xusO2ruNWCv4"
   },
   "outputs": [],
   "source": [
    "  # Id columns is to identify rows hence can be skipped in analysis\n",
    "  # All columns have numerical values\n",
    "  # Class would be the target variable. Should be removed when PCA is done"
   ]
  },
  {
   "cell_type": "markdown",
   "metadata": {
    "colab_type": "text",
    "id": "KYTFwE0iWCv_"
   },
   "source": [
    "# Q2 Print the datatypes of each column and the shape of the dataset. Perform descriptive analysis "
   ]
  },
  {
   "cell_type": "code",
   "execution_count": 457,
   "metadata": {},
   "outputs": [
    {
     "name": "stdout",
     "output_type": "stream",
     "text": [
      "<class 'pandas.core.frame.DataFrame'>\n",
      "RangeIndex: 699 entries, 0 to 698\n",
      "Data columns (total 11 columns):\n",
      " #   Column                       Non-Null Count  Dtype \n",
      "---  ------                       --------------  ----- \n",
      " 0   ID                           699 non-null    int64 \n",
      " 1   ClumpThickness               699 non-null    int64 \n",
      " 2   Cell Size                    699 non-null    int64 \n",
      " 3   Cell Shape                   699 non-null    int64 \n",
      " 4   Marginal Adhesion            699 non-null    int64 \n",
      " 5   Single Epithelial Cell Size  699 non-null    int64 \n",
      " 6   Bare Nuclei                  699 non-null    object\n",
      " 7   Normal Nucleoli              699 non-null    int64 \n",
      " 8   Bland Chromatin              699 non-null    int64 \n",
      " 9   Mitoses                      699 non-null    int64 \n",
      " 10  Class                        699 non-null    int64 \n",
      "dtypes: int64(10), object(1)\n",
      "memory usage: 60.2+ KB\n"
     ]
    }
   ],
   "source": [
    "df.info()"
   ]
  },
  {
   "cell_type": "code",
   "execution_count": 458,
   "metadata": {},
   "outputs": [
    {
     "data": {
      "text/plain": [
       "ID                              int64\n",
       "ClumpThickness                  int64\n",
       "Cell Size                       int64\n",
       "Cell Shape                      int64\n",
       "Marginal Adhesion               int64\n",
       "Single Epithelial Cell Size     int64\n",
       "Bare Nuclei                    object\n",
       "Normal Nucleoli                 int64\n",
       "Bland Chromatin                 int64\n",
       "Mitoses                         int64\n",
       "Class                           int64\n",
       "dtype: object"
      ]
     },
     "execution_count": 458,
     "metadata": {},
     "output_type": "execute_result"
    }
   ],
   "source": [
    "df.dtypes"
   ]
  },
  {
   "cell_type": "code",
   "execution_count": 459,
   "metadata": {},
   "outputs": [
    {
     "data": {
      "text/plain": [
       "(699, 11)"
      ]
     },
     "execution_count": 459,
     "metadata": {},
     "output_type": "execute_result"
    }
   ],
   "source": [
    "df.shape"
   ]
  },
  {
   "cell_type": "code",
   "execution_count": 460,
   "metadata": {},
   "outputs": [],
   "source": [
    "df = df.drop(['ID'], axis = 1)"
   ]
  },
  {
   "cell_type": "code",
   "execution_count": 461,
   "metadata": {
    "colab": {},
    "colab_type": "code",
    "id": "abAqUIqjSM4X"
   },
   "outputs": [
    {
     "data": {
      "text/html": [
       "<div>\n",
       "<style scoped>\n",
       "    .dataframe tbody tr th:only-of-type {\n",
       "        vertical-align: middle;\n",
       "    }\n",
       "\n",
       "    .dataframe tbody tr th {\n",
       "        vertical-align: top;\n",
       "    }\n",
       "\n",
       "    .dataframe thead th {\n",
       "        text-align: right;\n",
       "    }\n",
       "</style>\n",
       "<table border=\"1\" class=\"dataframe\">\n",
       "  <thead>\n",
       "    <tr style=\"text-align: right;\">\n",
       "      <th></th>\n",
       "      <th>count</th>\n",
       "      <th>mean</th>\n",
       "      <th>std</th>\n",
       "      <th>min</th>\n",
       "      <th>25%</th>\n",
       "      <th>50%</th>\n",
       "      <th>75%</th>\n",
       "      <th>max</th>\n",
       "    </tr>\n",
       "  </thead>\n",
       "  <tbody>\n",
       "    <tr>\n",
       "      <th>ClumpThickness</th>\n",
       "      <td>699.0</td>\n",
       "      <td>4.417740</td>\n",
       "      <td>2.815741</td>\n",
       "      <td>1.0</td>\n",
       "      <td>2.0</td>\n",
       "      <td>4.0</td>\n",
       "      <td>6.0</td>\n",
       "      <td>10.0</td>\n",
       "    </tr>\n",
       "    <tr>\n",
       "      <th>Cell Size</th>\n",
       "      <td>699.0</td>\n",
       "      <td>3.134478</td>\n",
       "      <td>3.051459</td>\n",
       "      <td>1.0</td>\n",
       "      <td>1.0</td>\n",
       "      <td>1.0</td>\n",
       "      <td>5.0</td>\n",
       "      <td>10.0</td>\n",
       "    </tr>\n",
       "    <tr>\n",
       "      <th>Cell Shape</th>\n",
       "      <td>699.0</td>\n",
       "      <td>3.207439</td>\n",
       "      <td>2.971913</td>\n",
       "      <td>1.0</td>\n",
       "      <td>1.0</td>\n",
       "      <td>1.0</td>\n",
       "      <td>5.0</td>\n",
       "      <td>10.0</td>\n",
       "    </tr>\n",
       "    <tr>\n",
       "      <th>Marginal Adhesion</th>\n",
       "      <td>699.0</td>\n",
       "      <td>2.806867</td>\n",
       "      <td>2.855379</td>\n",
       "      <td>1.0</td>\n",
       "      <td>1.0</td>\n",
       "      <td>1.0</td>\n",
       "      <td>4.0</td>\n",
       "      <td>10.0</td>\n",
       "    </tr>\n",
       "    <tr>\n",
       "      <th>Single Epithelial Cell Size</th>\n",
       "      <td>699.0</td>\n",
       "      <td>3.216023</td>\n",
       "      <td>2.214300</td>\n",
       "      <td>1.0</td>\n",
       "      <td>2.0</td>\n",
       "      <td>2.0</td>\n",
       "      <td>4.0</td>\n",
       "      <td>10.0</td>\n",
       "    </tr>\n",
       "    <tr>\n",
       "      <th>Normal Nucleoli</th>\n",
       "      <td>699.0</td>\n",
       "      <td>3.437768</td>\n",
       "      <td>2.438364</td>\n",
       "      <td>1.0</td>\n",
       "      <td>2.0</td>\n",
       "      <td>3.0</td>\n",
       "      <td>5.0</td>\n",
       "      <td>10.0</td>\n",
       "    </tr>\n",
       "    <tr>\n",
       "      <th>Bland Chromatin</th>\n",
       "      <td>699.0</td>\n",
       "      <td>2.866953</td>\n",
       "      <td>3.053634</td>\n",
       "      <td>1.0</td>\n",
       "      <td>1.0</td>\n",
       "      <td>1.0</td>\n",
       "      <td>4.0</td>\n",
       "      <td>10.0</td>\n",
       "    </tr>\n",
       "    <tr>\n",
       "      <th>Mitoses</th>\n",
       "      <td>699.0</td>\n",
       "      <td>1.589413</td>\n",
       "      <td>1.715078</td>\n",
       "      <td>1.0</td>\n",
       "      <td>1.0</td>\n",
       "      <td>1.0</td>\n",
       "      <td>1.0</td>\n",
       "      <td>10.0</td>\n",
       "    </tr>\n",
       "    <tr>\n",
       "      <th>Class</th>\n",
       "      <td>699.0</td>\n",
       "      <td>2.689557</td>\n",
       "      <td>0.951273</td>\n",
       "      <td>2.0</td>\n",
       "      <td>2.0</td>\n",
       "      <td>2.0</td>\n",
       "      <td>4.0</td>\n",
       "      <td>4.0</td>\n",
       "    </tr>\n",
       "  </tbody>\n",
       "</table>\n",
       "</div>"
      ],
      "text/plain": [
       "                             count      mean       std  min  25%  50%  75%  \\\n",
       "ClumpThickness               699.0  4.417740  2.815741  1.0  2.0  4.0  6.0   \n",
       "Cell Size                    699.0  3.134478  3.051459  1.0  1.0  1.0  5.0   \n",
       "Cell Shape                   699.0  3.207439  2.971913  1.0  1.0  1.0  5.0   \n",
       "Marginal Adhesion            699.0  2.806867  2.855379  1.0  1.0  1.0  4.0   \n",
       "Single Epithelial Cell Size  699.0  3.216023  2.214300  1.0  2.0  2.0  4.0   \n",
       "Normal Nucleoli              699.0  3.437768  2.438364  1.0  2.0  3.0  5.0   \n",
       "Bland Chromatin              699.0  2.866953  3.053634  1.0  1.0  1.0  4.0   \n",
       "Mitoses                      699.0  1.589413  1.715078  1.0  1.0  1.0  1.0   \n",
       "Class                        699.0  2.689557  0.951273  2.0  2.0  2.0  4.0   \n",
       "\n",
       "                              max  \n",
       "ClumpThickness               10.0  \n",
       "Cell Size                    10.0  \n",
       "Cell Shape                   10.0  \n",
       "Marginal Adhesion            10.0  \n",
       "Single Epithelial Cell Size  10.0  \n",
       "Normal Nucleoli              10.0  \n",
       "Bland Chromatin              10.0  \n",
       "Mitoses                      10.0  \n",
       "Class                         4.0  "
      ]
     },
     "execution_count": 461,
     "metadata": {},
     "output_type": "execute_result"
    }
   ],
   "source": [
    "df.describe().T"
   ]
  },
  {
   "cell_type": "markdown",
   "metadata": {
    "colab_type": "text",
    "id": "ecghJZJIWCwW"
   },
   "source": [
    "# Q3 Check for missing value check, incorrect data, duplicate data and perform imputation with mean, median, mode as necessary.\n"
   ]
  },
  {
   "cell_type": "code",
   "execution_count": 462,
   "metadata": {
    "colab": {},
    "colab_type": "code",
    "id": "49KjoukMSM4b"
   },
   "outputs": [],
   "source": [
    "# We could see \"?\" values in column, this should be removed from data set\n",
    "\n",
    "# Check for missing value in any other column"
   ]
  },
  {
   "cell_type": "code",
   "execution_count": 463,
   "metadata": {},
   "outputs": [
    {
     "data": {
      "text/plain": [
       "array(['1', '10', '2', '4', '3', '9', '7', '?', '5', '8', '6'],\n",
       "      dtype=object)"
      ]
     },
     "execution_count": 463,
     "metadata": {},
     "output_type": "execute_result"
    }
   ],
   "source": [
    "df['Bare Nuclei'].unique()"
   ]
  },
  {
   "cell_type": "code",
   "execution_count": 464,
   "metadata": {},
   "outputs": [
    {
     "data": {
      "text/plain": [
       "ClumpThickness                 0\n",
       "Cell Size                      0\n",
       "Cell Shape                     0\n",
       "Marginal Adhesion              0\n",
       "Single Epithelial Cell Size    0\n",
       "Bare Nuclei                    0\n",
       "Normal Nucleoli                0\n",
       "Bland Chromatin                0\n",
       "Mitoses                        0\n",
       "Class                          0\n",
       "dtype: int64"
      ]
     },
     "execution_count": 464,
     "metadata": {},
     "output_type": "execute_result"
    }
   ],
   "source": [
    "df.isnull().sum()"
   ]
  },
  {
   "cell_type": "code",
   "execution_count": 465,
   "metadata": {
    "colab": {},
    "colab_type": "code",
    "id": "02fqzvZuSM4f"
   },
   "outputs": [],
   "source": [
    "# No missing values found. So let us try to remove ? from bare nuclei column\n",
    "\n",
    "# Get count of rows having ?\n"
   ]
  },
  {
   "cell_type": "code",
   "execution_count": 466,
   "metadata": {},
   "outputs": [
    {
     "data": {
      "text/plain": [
       "1     402\n",
       "10    132\n",
       "5      30\n",
       "2      30\n",
       "3      28\n",
       "8      21\n",
       "4      19\n",
       "?      16\n",
       "9       9\n",
       "7       8\n",
       "6       4\n",
       "Name: Bare Nuclei, dtype: int64"
      ]
     },
     "execution_count": 466,
     "metadata": {},
     "output_type": "execute_result"
    }
   ],
   "source": [
    "df['Bare Nuclei'].value_counts()"
   ]
  },
  {
   "cell_type": "code",
   "execution_count": 467,
   "metadata": {},
   "outputs": [
    {
     "data": {
      "text/html": [
       "<div>\n",
       "<style scoped>\n",
       "    .dataframe tbody tr th:only-of-type {\n",
       "        vertical-align: middle;\n",
       "    }\n",
       "\n",
       "    .dataframe tbody tr th {\n",
       "        vertical-align: top;\n",
       "    }\n",
       "\n",
       "    .dataframe thead th {\n",
       "        text-align: right;\n",
       "    }\n",
       "</style>\n",
       "<table border=\"1\" class=\"dataframe\">\n",
       "  <thead>\n",
       "    <tr style=\"text-align: right;\">\n",
       "      <th></th>\n",
       "      <th>ClumpThickness</th>\n",
       "      <th>Cell Size</th>\n",
       "      <th>Cell Shape</th>\n",
       "      <th>Marginal Adhesion</th>\n",
       "      <th>Single Epithelial Cell Size</th>\n",
       "      <th>Bare Nuclei</th>\n",
       "      <th>Normal Nucleoli</th>\n",
       "      <th>Bland Chromatin</th>\n",
       "      <th>Mitoses</th>\n",
       "      <th>Class</th>\n",
       "    </tr>\n",
       "  </thead>\n",
       "  <tbody>\n",
       "    <tr>\n",
       "      <th>23</th>\n",
       "      <td>8</td>\n",
       "      <td>4</td>\n",
       "      <td>5</td>\n",
       "      <td>1</td>\n",
       "      <td>2</td>\n",
       "      <td>?</td>\n",
       "      <td>7</td>\n",
       "      <td>3</td>\n",
       "      <td>1</td>\n",
       "      <td>4</td>\n",
       "    </tr>\n",
       "    <tr>\n",
       "      <th>40</th>\n",
       "      <td>6</td>\n",
       "      <td>6</td>\n",
       "      <td>6</td>\n",
       "      <td>9</td>\n",
       "      <td>6</td>\n",
       "      <td>?</td>\n",
       "      <td>7</td>\n",
       "      <td>8</td>\n",
       "      <td>1</td>\n",
       "      <td>2</td>\n",
       "    </tr>\n",
       "    <tr>\n",
       "      <th>139</th>\n",
       "      <td>1</td>\n",
       "      <td>1</td>\n",
       "      <td>1</td>\n",
       "      <td>1</td>\n",
       "      <td>1</td>\n",
       "      <td>?</td>\n",
       "      <td>2</td>\n",
       "      <td>1</td>\n",
       "      <td>1</td>\n",
       "      <td>2</td>\n",
       "    </tr>\n",
       "    <tr>\n",
       "      <th>145</th>\n",
       "      <td>1</td>\n",
       "      <td>1</td>\n",
       "      <td>3</td>\n",
       "      <td>1</td>\n",
       "      <td>2</td>\n",
       "      <td>?</td>\n",
       "      <td>2</td>\n",
       "      <td>1</td>\n",
       "      <td>1</td>\n",
       "      <td>2</td>\n",
       "    </tr>\n",
       "    <tr>\n",
       "      <th>158</th>\n",
       "      <td>1</td>\n",
       "      <td>1</td>\n",
       "      <td>2</td>\n",
       "      <td>1</td>\n",
       "      <td>3</td>\n",
       "      <td>?</td>\n",
       "      <td>1</td>\n",
       "      <td>1</td>\n",
       "      <td>1</td>\n",
       "      <td>2</td>\n",
       "    </tr>\n",
       "    <tr>\n",
       "      <th>164</th>\n",
       "      <td>5</td>\n",
       "      <td>1</td>\n",
       "      <td>1</td>\n",
       "      <td>1</td>\n",
       "      <td>2</td>\n",
       "      <td>?</td>\n",
       "      <td>3</td>\n",
       "      <td>1</td>\n",
       "      <td>1</td>\n",
       "      <td>2</td>\n",
       "    </tr>\n",
       "    <tr>\n",
       "      <th>235</th>\n",
       "      <td>3</td>\n",
       "      <td>1</td>\n",
       "      <td>4</td>\n",
       "      <td>1</td>\n",
       "      <td>2</td>\n",
       "      <td>?</td>\n",
       "      <td>3</td>\n",
       "      <td>1</td>\n",
       "      <td>1</td>\n",
       "      <td>2</td>\n",
       "    </tr>\n",
       "    <tr>\n",
       "      <th>249</th>\n",
       "      <td>3</td>\n",
       "      <td>1</td>\n",
       "      <td>1</td>\n",
       "      <td>1</td>\n",
       "      <td>2</td>\n",
       "      <td>?</td>\n",
       "      <td>3</td>\n",
       "      <td>1</td>\n",
       "      <td>1</td>\n",
       "      <td>2</td>\n",
       "    </tr>\n",
       "    <tr>\n",
       "      <th>275</th>\n",
       "      <td>3</td>\n",
       "      <td>1</td>\n",
       "      <td>3</td>\n",
       "      <td>1</td>\n",
       "      <td>2</td>\n",
       "      <td>?</td>\n",
       "      <td>2</td>\n",
       "      <td>1</td>\n",
       "      <td>1</td>\n",
       "      <td>2</td>\n",
       "    </tr>\n",
       "    <tr>\n",
       "      <th>292</th>\n",
       "      <td>8</td>\n",
       "      <td>8</td>\n",
       "      <td>8</td>\n",
       "      <td>1</td>\n",
       "      <td>2</td>\n",
       "      <td>?</td>\n",
       "      <td>6</td>\n",
       "      <td>10</td>\n",
       "      <td>1</td>\n",
       "      <td>4</td>\n",
       "    </tr>\n",
       "    <tr>\n",
       "      <th>294</th>\n",
       "      <td>1</td>\n",
       "      <td>1</td>\n",
       "      <td>1</td>\n",
       "      <td>1</td>\n",
       "      <td>2</td>\n",
       "      <td>?</td>\n",
       "      <td>2</td>\n",
       "      <td>1</td>\n",
       "      <td>1</td>\n",
       "      <td>2</td>\n",
       "    </tr>\n",
       "    <tr>\n",
       "      <th>297</th>\n",
       "      <td>5</td>\n",
       "      <td>4</td>\n",
       "      <td>3</td>\n",
       "      <td>1</td>\n",
       "      <td>2</td>\n",
       "      <td>?</td>\n",
       "      <td>2</td>\n",
       "      <td>3</td>\n",
       "      <td>1</td>\n",
       "      <td>2</td>\n",
       "    </tr>\n",
       "    <tr>\n",
       "      <th>315</th>\n",
       "      <td>4</td>\n",
       "      <td>6</td>\n",
       "      <td>5</td>\n",
       "      <td>6</td>\n",
       "      <td>7</td>\n",
       "      <td>?</td>\n",
       "      <td>4</td>\n",
       "      <td>9</td>\n",
       "      <td>1</td>\n",
       "      <td>2</td>\n",
       "    </tr>\n",
       "    <tr>\n",
       "      <th>321</th>\n",
       "      <td>3</td>\n",
       "      <td>1</td>\n",
       "      <td>1</td>\n",
       "      <td>1</td>\n",
       "      <td>2</td>\n",
       "      <td>?</td>\n",
       "      <td>3</td>\n",
       "      <td>1</td>\n",
       "      <td>1</td>\n",
       "      <td>2</td>\n",
       "    </tr>\n",
       "    <tr>\n",
       "      <th>411</th>\n",
       "      <td>1</td>\n",
       "      <td>1</td>\n",
       "      <td>1</td>\n",
       "      <td>1</td>\n",
       "      <td>1</td>\n",
       "      <td>?</td>\n",
       "      <td>2</td>\n",
       "      <td>1</td>\n",
       "      <td>1</td>\n",
       "      <td>2</td>\n",
       "    </tr>\n",
       "    <tr>\n",
       "      <th>617</th>\n",
       "      <td>1</td>\n",
       "      <td>1</td>\n",
       "      <td>1</td>\n",
       "      <td>1</td>\n",
       "      <td>1</td>\n",
       "      <td>?</td>\n",
       "      <td>1</td>\n",
       "      <td>1</td>\n",
       "      <td>1</td>\n",
       "      <td>2</td>\n",
       "    </tr>\n",
       "  </tbody>\n",
       "</table>\n",
       "</div>"
      ],
      "text/plain": [
       "     ClumpThickness  Cell Size  Cell Shape  Marginal Adhesion  \\\n",
       "23                8          4           5                  1   \n",
       "40                6          6           6                  9   \n",
       "139               1          1           1                  1   \n",
       "145               1          1           3                  1   \n",
       "158               1          1           2                  1   \n",
       "164               5          1           1                  1   \n",
       "235               3          1           4                  1   \n",
       "249               3          1           1                  1   \n",
       "275               3          1           3                  1   \n",
       "292               8          8           8                  1   \n",
       "294               1          1           1                  1   \n",
       "297               5          4           3                  1   \n",
       "315               4          6           5                  6   \n",
       "321               3          1           1                  1   \n",
       "411               1          1           1                  1   \n",
       "617               1          1           1                  1   \n",
       "\n",
       "     Single Epithelial Cell Size Bare Nuclei  Normal Nucleoli  \\\n",
       "23                             2           ?                7   \n",
       "40                             6           ?                7   \n",
       "139                            1           ?                2   \n",
       "145                            2           ?                2   \n",
       "158                            3           ?                1   \n",
       "164                            2           ?                3   \n",
       "235                            2           ?                3   \n",
       "249                            2           ?                3   \n",
       "275                            2           ?                2   \n",
       "292                            2           ?                6   \n",
       "294                            2           ?                2   \n",
       "297                            2           ?                2   \n",
       "315                            7           ?                4   \n",
       "321                            2           ?                3   \n",
       "411                            1           ?                2   \n",
       "617                            1           ?                1   \n",
       "\n",
       "     Bland Chromatin  Mitoses  Class  \n",
       "23                 3        1      4  \n",
       "40                 8        1      2  \n",
       "139                1        1      2  \n",
       "145                1        1      2  \n",
       "158                1        1      2  \n",
       "164                1        1      2  \n",
       "235                1        1      2  \n",
       "249                1        1      2  \n",
       "275                1        1      2  \n",
       "292               10        1      4  \n",
       "294                1        1      2  \n",
       "297                3        1      2  \n",
       "315                9        1      2  \n",
       "321                1        1      2  \n",
       "411                1        1      2  \n",
       "617                1        1      2  "
      ]
     },
     "execution_count": 467,
     "metadata": {},
     "output_type": "execute_result"
    }
   ],
   "source": [
    "df[df['Bare Nuclei'] == '?']"
   ]
  },
  {
   "cell_type": "code",
   "execution_count": 468,
   "metadata": {
    "colab": {},
    "colab_type": "code",
    "id": "jAmWPaXpWCw3"
   },
   "outputs": [],
   "source": [
    "# 16 values are corrupted. We can either delete them as it forms roughly 2% of data.\n",
    "# Here we would like to impute it with suitable values"
   ]
  },
  {
   "cell_type": "code",
   "execution_count": 469,
   "metadata": {},
   "outputs": [
    {
     "data": {
      "text/plain": [
       "1     418\n",
       "10    132\n",
       "5      30\n",
       "2      30\n",
       "3      28\n",
       "8      21\n",
       "4      19\n",
       "9       9\n",
       "7       8\n",
       "6       4\n",
       "Name: Bare Nuclei, dtype: int64"
      ]
     },
     "execution_count": 469,
     "metadata": {},
     "output_type": "execute_result"
    }
   ],
   "source": [
    "df['Bare Nuclei'].replace('?', '1', inplace = True)\n",
    "df['Bare Nuclei'].value_counts()"
   ]
  },
  {
   "cell_type": "code",
   "execution_count": 470,
   "metadata": {},
   "outputs": [],
   "source": [
    "df['Bare Nuclei'] = df['Bare Nuclei'].astype('int64')"
   ]
  },
  {
   "cell_type": "code",
   "execution_count": 471,
   "metadata": {},
   "outputs": [
    {
     "data": {
      "text/plain": [
       "ClumpThickness                 int64\n",
       "Cell Size                      int64\n",
       "Cell Shape                     int64\n",
       "Marginal Adhesion              int64\n",
       "Single Epithelial Cell Size    int64\n",
       "Bare Nuclei                    int64\n",
       "Normal Nucleoli                int64\n",
       "Bland Chromatin                int64\n",
       "Mitoses                        int64\n",
       "Class                          int64\n",
       "dtype: object"
      ]
     },
     "execution_count": 471,
     "metadata": {},
     "output_type": "execute_result"
    }
   ],
   "source": [
    "df.dtypes"
   ]
  },
  {
   "cell_type": "code",
   "execution_count": 472,
   "metadata": {},
   "outputs": [],
   "source": [
    "# Check Duplicate"
   ]
  },
  {
   "cell_type": "code",
   "execution_count": 473,
   "metadata": {},
   "outputs": [
    {
     "name": "stdout",
     "output_type": "stream",
     "text": [
      "Number of duplicate in dataframe: 242\n"
     ]
    }
   ],
   "source": [
    "dups = df.duplicated()\n",
    "print(\"Number of duplicate in dataframe:\", dups.sum())"
   ]
  },
  {
   "cell_type": "code",
   "execution_count": 474,
   "metadata": {},
   "outputs": [
    {
     "data": {
      "text/plain": [
       "(457, 10)"
      ]
     },
     "execution_count": 474,
     "metadata": {},
     "output_type": "execute_result"
    }
   ],
   "source": [
    "df.drop_duplicates(subset = None, keep = 'first', inplace = True)\n",
    "df.shape"
   ]
  },
  {
   "cell_type": "markdown",
   "metadata": {
    "colab_type": "text",
    "id": "YAu8NvGaWCxr"
   },
   "source": [
    "# Q4. Perform bi variate analysis including correlation, pairplots and state the inferences. \n"
   ]
  },
  {
   "cell_type": "code",
   "execution_count": 475,
   "metadata": {
    "colab": {},
    "colab_type": "code",
    "id": "nu6J2sWuSM4m"
   },
   "outputs": [],
   "source": [
    "# Check for correlation of variable"
   ]
  },
  {
   "cell_type": "code",
   "execution_count": 452,
   "metadata": {},
   "outputs": [
    {
     "data": {
      "text/html": [
       "<div>\n",
       "<style scoped>\n",
       "    .dataframe tbody tr th:only-of-type {\n",
       "        vertical-align: middle;\n",
       "    }\n",
       "\n",
       "    .dataframe tbody tr th {\n",
       "        vertical-align: top;\n",
       "    }\n",
       "\n",
       "    .dataframe thead th {\n",
       "        text-align: right;\n",
       "    }\n",
       "</style>\n",
       "<table border=\"1\" class=\"dataframe\">\n",
       "  <thead>\n",
       "    <tr style=\"text-align: right;\">\n",
       "      <th></th>\n",
       "      <th>ClumpThickness</th>\n",
       "      <th>Cell Size</th>\n",
       "      <th>Cell Shape</th>\n",
       "      <th>Marginal Adhesion</th>\n",
       "      <th>Single Epithelial Cell Size</th>\n",
       "      <th>Bare Nuclei</th>\n",
       "      <th>Normal Nucleoli</th>\n",
       "      <th>Bland Chromatin</th>\n",
       "      <th>Mitoses</th>\n",
       "      <th>Class</th>\n",
       "    </tr>\n",
       "  </thead>\n",
       "  <tbody>\n",
       "    <tr>\n",
       "      <th>ClumpThickness</th>\n",
       "      <td>1.000000</td>\n",
       "      <td>0.572961</td>\n",
       "      <td>0.585051</td>\n",
       "      <td>0.376395</td>\n",
       "      <td>0.424863</td>\n",
       "      <td>0.505154</td>\n",
       "      <td>0.490478</td>\n",
       "      <td>0.444999</td>\n",
       "      <td>0.293701</td>\n",
       "      <td>0.671929</td>\n",
       "    </tr>\n",
       "    <tr>\n",
       "      <th>Cell Size</th>\n",
       "      <td>0.572961</td>\n",
       "      <td>1.000000</td>\n",
       "      <td>0.876257</td>\n",
       "      <td>0.636158</td>\n",
       "      <td>0.686596</td>\n",
       "      <td>0.584168</td>\n",
       "      <td>0.710696</td>\n",
       "      <td>0.653571</td>\n",
       "      <td>0.401360</td>\n",
       "      <td>0.754380</td>\n",
       "    </tr>\n",
       "    <tr>\n",
       "      <th>Cell Shape</th>\n",
       "      <td>0.585051</td>\n",
       "      <td>0.876257</td>\n",
       "      <td>1.000000</td>\n",
       "      <td>0.608572</td>\n",
       "      <td>0.645747</td>\n",
       "      <td>0.610110</td>\n",
       "      <td>0.685179</td>\n",
       "      <td>0.651476</td>\n",
       "      <td>0.379111</td>\n",
       "      <td>0.755177</td>\n",
       "    </tr>\n",
       "    <tr>\n",
       "      <th>Marginal Adhesion</th>\n",
       "      <td>0.376395</td>\n",
       "      <td>0.636158</td>\n",
       "      <td>0.608572</td>\n",
       "      <td>1.000000</td>\n",
       "      <td>0.523539</td>\n",
       "      <td>0.586841</td>\n",
       "      <td>0.608256</td>\n",
       "      <td>0.509574</td>\n",
       "      <td>0.355714</td>\n",
       "      <td>0.618088</td>\n",
       "    </tr>\n",
       "    <tr>\n",
       "      <th>Single Epithelial Cell Size</th>\n",
       "      <td>0.424863</td>\n",
       "      <td>0.686596</td>\n",
       "      <td>0.645747</td>\n",
       "      <td>0.523539</td>\n",
       "      <td>1.000000</td>\n",
       "      <td>0.477419</td>\n",
       "      <td>0.550626</td>\n",
       "      <td>0.554593</td>\n",
       "      <td>0.432699</td>\n",
       "      <td>0.600130</td>\n",
       "    </tr>\n",
       "    <tr>\n",
       "      <th>Bare Nuclei</th>\n",
       "      <td>0.505154</td>\n",
       "      <td>0.584168</td>\n",
       "      <td>0.610110</td>\n",
       "      <td>0.586841</td>\n",
       "      <td>0.477419</td>\n",
       "      <td>1.000000</td>\n",
       "      <td>0.600113</td>\n",
       "      <td>0.466019</td>\n",
       "      <td>0.263617</td>\n",
       "      <td>0.756300</td>\n",
       "    </tr>\n",
       "    <tr>\n",
       "      <th>Normal Nucleoli</th>\n",
       "      <td>0.490478</td>\n",
       "      <td>0.710696</td>\n",
       "      <td>0.685179</td>\n",
       "      <td>0.608256</td>\n",
       "      <td>0.550626</td>\n",
       "      <td>0.600113</td>\n",
       "      <td>1.000000</td>\n",
       "      <td>0.604270</td>\n",
       "      <td>0.276981</td>\n",
       "      <td>0.704781</td>\n",
       "    </tr>\n",
       "    <tr>\n",
       "      <th>Bland Chromatin</th>\n",
       "      <td>0.444999</td>\n",
       "      <td>0.653571</td>\n",
       "      <td>0.651476</td>\n",
       "      <td>0.509574</td>\n",
       "      <td>0.554593</td>\n",
       "      <td>0.466019</td>\n",
       "      <td>0.604270</td>\n",
       "      <td>1.000000</td>\n",
       "      <td>0.367106</td>\n",
       "      <td>0.636002</td>\n",
       "    </tr>\n",
       "    <tr>\n",
       "      <th>Mitoses</th>\n",
       "      <td>0.293701</td>\n",
       "      <td>0.401360</td>\n",
       "      <td>0.379111</td>\n",
       "      <td>0.355714</td>\n",
       "      <td>0.432699</td>\n",
       "      <td>0.263617</td>\n",
       "      <td>0.276981</td>\n",
       "      <td>0.367106</td>\n",
       "      <td>1.000000</td>\n",
       "      <td>0.357504</td>\n",
       "    </tr>\n",
       "    <tr>\n",
       "      <th>Class</th>\n",
       "      <td>0.671929</td>\n",
       "      <td>0.754380</td>\n",
       "      <td>0.755177</td>\n",
       "      <td>0.618088</td>\n",
       "      <td>0.600130</td>\n",
       "      <td>0.756300</td>\n",
       "      <td>0.704781</td>\n",
       "      <td>0.636002</td>\n",
       "      <td>0.357504</td>\n",
       "      <td>1.000000</td>\n",
       "    </tr>\n",
       "  </tbody>\n",
       "</table>\n",
       "</div>"
      ],
      "text/plain": [
       "                             ClumpThickness  Cell Size  Cell Shape  \\\n",
       "ClumpThickness                     1.000000   0.572961    0.585051   \n",
       "Cell Size                          0.572961   1.000000    0.876257   \n",
       "Cell Shape                         0.585051   0.876257    1.000000   \n",
       "Marginal Adhesion                  0.376395   0.636158    0.608572   \n",
       "Single Epithelial Cell Size        0.424863   0.686596    0.645747   \n",
       "Bare Nuclei                        0.505154   0.584168    0.610110   \n",
       "Normal Nucleoli                    0.490478   0.710696    0.685179   \n",
       "Bland Chromatin                    0.444999   0.653571    0.651476   \n",
       "Mitoses                            0.293701   0.401360    0.379111   \n",
       "Class                              0.671929   0.754380    0.755177   \n",
       "\n",
       "                             Marginal Adhesion  Single Epithelial Cell Size  \\\n",
       "ClumpThickness                        0.376395                     0.424863   \n",
       "Cell Size                             0.636158                     0.686596   \n",
       "Cell Shape                            0.608572                     0.645747   \n",
       "Marginal Adhesion                     1.000000                     0.523539   \n",
       "Single Epithelial Cell Size           0.523539                     1.000000   \n",
       "Bare Nuclei                           0.586841                     0.477419   \n",
       "Normal Nucleoli                       0.608256                     0.550626   \n",
       "Bland Chromatin                       0.509574                     0.554593   \n",
       "Mitoses                               0.355714                     0.432699   \n",
       "Class                                 0.618088                     0.600130   \n",
       "\n",
       "                             Bare Nuclei  Normal Nucleoli  Bland Chromatin  \\\n",
       "ClumpThickness                  0.505154         0.490478         0.444999   \n",
       "Cell Size                       0.584168         0.710696         0.653571   \n",
       "Cell Shape                      0.610110         0.685179         0.651476   \n",
       "Marginal Adhesion               0.586841         0.608256         0.509574   \n",
       "Single Epithelial Cell Size     0.477419         0.550626         0.554593   \n",
       "Bare Nuclei                     1.000000         0.600113         0.466019   \n",
       "Normal Nucleoli                 0.600113         1.000000         0.604270   \n",
       "Bland Chromatin                 0.466019         0.604270         1.000000   \n",
       "Mitoses                         0.263617         0.276981         0.367106   \n",
       "Class                           0.756300         0.704781         0.636002   \n",
       "\n",
       "                              Mitoses     Class  \n",
       "ClumpThickness               0.293701  0.671929  \n",
       "Cell Size                    0.401360  0.754380  \n",
       "Cell Shape                   0.379111  0.755177  \n",
       "Marginal Adhesion            0.355714  0.618088  \n",
       "Single Epithelial Cell Size  0.432699  0.600130  \n",
       "Bare Nuclei                  0.263617  0.756300  \n",
       "Normal Nucleoli              0.276981  0.704781  \n",
       "Bland Chromatin              0.367106  0.636002  \n",
       "Mitoses                      1.000000  0.357504  \n",
       "Class                        0.357504  1.000000  "
      ]
     },
     "execution_count": 452,
     "metadata": {},
     "output_type": "execute_result"
    }
   ],
   "source": [
    "df.corr()"
   ]
  },
  {
   "cell_type": "code",
   "execution_count": 382,
   "metadata": {
    "colab": {},
    "colab_type": "code",
    "id": "ysZh50iDWCxz"
   },
   "outputs": [],
   "source": [
    "# Cell size shows high significance with cell shape,marginal adhesion, single epithelial cell size,bare nuclei, normal nucleoli \n",
    "# and bland chromatin\n",
    "# Target variable shows high correlation with most of these variables"
   ]
  },
  {
   "cell_type": "code",
   "execution_count": 383,
   "metadata": {},
   "outputs": [
    {
     "data": {
      "text/plain": [
       "ClumpThickness                 int64\n",
       "Cell Size                      int64\n",
       "Cell Shape                     int64\n",
       "Marginal Adhesion              int64\n",
       "Single Epithelial Cell Size    int64\n",
       "Bare Nuclei                    int64\n",
       "Normal Nucleoli                int64\n",
       "Bland Chromatin                int64\n",
       "Mitoses                        int64\n",
       "Class                          int64\n",
       "dtype: object"
      ]
     },
     "execution_count": 383,
     "metadata": {},
     "output_type": "execute_result"
    }
   ],
   "source": [
    "df.dtypes"
   ]
  },
  {
   "cell_type": "code",
   "execution_count": 384,
   "metadata": {
    "colab": {},
    "colab_type": "code",
    "id": "5Wt84dgVSM4s"
   },
   "outputs": [],
   "source": [
    "#Let us check for pair plots"
   ]
  },
  {
   "cell_type": "code",
   "execution_count": 417,
   "metadata": {},
   "outputs": [
    {
     "data": {
      "text/plain": [
       "<seaborn.axisgrid.PairGrid at 0x278fc12ac0>"
      ]
     },
     "execution_count": 417,
     "metadata": {},
     "output_type": "execute_result"
    },
    {
     "data": {
      "image/png": "[encoded data removed]",
      "text/plain": [
       "<Figure size 1662.38x1620 with 90 Axes>"
      ]
     },
     "metadata": {
      "needs_background": "light"
     },
     "output_type": "display_data"
    }
   ],
   "source": [
    "sns.pairplot(df, hue = 'Class', diag_kind = 'kde', palette = 'husl')"
   ]
  },
  {
   "cell_type": "code",
   "execution_count": 386,
   "metadata": {},
   "outputs": [
    {
     "name": "stdout",
     "output_type": "stream",
     "text": [
      "0.10.1\n"
     ]
    }
   ],
   "source": [
    "print(sns.__version__)"
   ]
  },
  {
   "cell_type": "code",
   "execution_count": 387,
   "metadata": {
    "colab": {},
    "colab_type": "code",
    "id": "OTh11akvWCx8"
   },
   "outputs": [],
   "source": [
    "# Relationship between variables shows come correlation. \n",
    "# Distribution of variables shows most of the values are concentrated on lower side, though range remains same for all that is \n",
    "# Between 1 to 10"
   ]
  },
  {
   "cell_type": "markdown",
   "metadata": {
    "colab_type": "text",
    "id": "9hxe7D9BWCx-"
   },
   "source": [
    "# Q5 Remove any unwanted columns or outliers, standardize variables in pre-processing step"
   ]
  },
  {
   "cell_type": "code",
   "execution_count": 388,
   "metadata": {
    "colab": {},
    "colab_type": "code",
    "id": "ViVkMsQTWCza"
   },
   "outputs": [],
   "source": [
    "# We could see most of the outliers are now removed."
   ]
  },
  {
   "cell_type": "code",
   "execution_count": 389,
   "metadata": {
    "colab": {},
    "colab_type": "code",
    "id": "TqhCGZe4SM43"
   },
   "outputs": [
    {
     "data": {
      "text/plain": [
       "<matplotlib.axes._subplots.AxesSubplot at 0x2786ae26d0>"
      ]
     },
     "execution_count": 389,
     "metadata": {},
     "output_type": "execute_result"
    },
    {
     "data": {
      "image/png": "[encoded data removed]",
      "text/plain": [
       "<Figure size 1440x216 with 1 Axes>"
      ]
     },
     "metadata": {
      "needs_background": "light"
     },
     "output_type": "display_data"
    }
   ],
   "source": [
    "df.boxplot(figsize = (20, 3))"
   ]
  },
  {
   "cell_type": "code",
   "execution_count": 390,
   "metadata": {},
   "outputs": [
    {
     "data": {
      "text/html": [
       "<div>\n",
       "<style scoped>\n",
       "    .dataframe tbody tr th:only-of-type {\n",
       "        vertical-align: middle;\n",
       "    }\n",
       "\n",
       "    .dataframe tbody tr th {\n",
       "        vertical-align: top;\n",
       "    }\n",
       "\n",
       "    .dataframe thead th {\n",
       "        text-align: right;\n",
       "    }\n",
       "</style>\n",
       "<table border=\"1\" class=\"dataframe\">\n",
       "  <thead>\n",
       "    <tr style=\"text-align: right;\">\n",
       "      <th>Class</th>\n",
       "      <th>2</th>\n",
       "      <th>4</th>\n",
       "    </tr>\n",
       "    <tr>\n",
       "      <th>Marginal Adhesion</th>\n",
       "      <th></th>\n",
       "      <th></th>\n",
       "    </tr>\n",
       "  </thead>\n",
       "  <tbody>\n",
       "    <tr>\n",
       "      <th>1</th>\n",
       "      <td>145</td>\n",
       "      <td>31</td>\n",
       "    </tr>\n",
       "    <tr>\n",
       "      <th>2</th>\n",
       "      <td>34</td>\n",
       "      <td>19</td>\n",
       "    </tr>\n",
       "    <tr>\n",
       "      <th>3</th>\n",
       "      <td>25</td>\n",
       "      <td>27</td>\n",
       "    </tr>\n",
       "    <tr>\n",
       "      <th>4</th>\n",
       "      <td>5</td>\n",
       "      <td>28</td>\n",
       "    </tr>\n",
       "    <tr>\n",
       "      <th>5</th>\n",
       "      <td>4</td>\n",
       "      <td>19</td>\n",
       "    </tr>\n",
       "    <tr>\n",
       "      <th>6</th>\n",
       "      <td>4</td>\n",
       "      <td>18</td>\n",
       "    </tr>\n",
       "    <tr>\n",
       "      <th>7</th>\n",
       "      <td>0</td>\n",
       "      <td>13</td>\n",
       "    </tr>\n",
       "    <tr>\n",
       "      <th>8</th>\n",
       "      <td>0</td>\n",
       "      <td>25</td>\n",
       "    </tr>\n",
       "    <tr>\n",
       "      <th>9</th>\n",
       "      <td>1</td>\n",
       "      <td>4</td>\n",
       "    </tr>\n",
       "    <tr>\n",
       "      <th>10</th>\n",
       "      <td>1</td>\n",
       "      <td>54</td>\n",
       "    </tr>\n",
       "  </tbody>\n",
       "</table>\n",
       "</div>"
      ],
      "text/plain": [
       "Class                2   4\n",
       "Marginal Adhesion         \n",
       "1                  145  31\n",
       "2                   34  19\n",
       "3                   25  27\n",
       "4                    5  28\n",
       "5                    4  19\n",
       "6                    4  18\n",
       "7                    0  13\n",
       "8                    0  25\n",
       "9                    1   4\n",
       "10                   1  54"
      ]
     },
     "execution_count": 390,
     "metadata": {},
     "output_type": "execute_result"
    }
   ],
   "source": [
    "pd.crosstab(df['Marginal Adhesion'], df['Class'])"
   ]
  },
  {
   "cell_type": "code",
   "execution_count": 391,
   "metadata": {
    "colab": {},
    "colab_type": "code",
    "id": "aEHksGGtSM48"
   },
   "outputs": [
    {
     "data": {
      "text/plain": [
       "<matplotlib.axes._subplots.AxesSubplot at 0x2788c65850>"
      ]
     },
     "execution_count": 391,
     "metadata": {},
     "output_type": "execute_result"
    },
    {
     "data": {
      "image/png": "[encoded data removed]",
      "text/plain": [
       "<Figure size 1440x216 with 1 Axes>"
      ]
     },
     "metadata": {
      "needs_background": "light"
     },
     "output_type": "display_data"
    }
   ],
   "source": [
    "df['Marginal Adhesion'] = np.where((df['Marginal Adhesion']) > 6, 6, df['Marginal Adhesion'])\n",
    "df.boxplot(figsize = (20, 3))"
   ]
  },
  {
   "cell_type": "code",
   "execution_count": 392,
   "metadata": {},
   "outputs": [
    {
     "data": {
      "text/html": [
       "<div>\n",
       "<style scoped>\n",
       "    .dataframe tbody tr th:only-of-type {\n",
       "        vertical-align: middle;\n",
       "    }\n",
       "\n",
       "    .dataframe tbody tr th {\n",
       "        vertical-align: top;\n",
       "    }\n",
       "\n",
       "    .dataframe thead th {\n",
       "        text-align: right;\n",
       "    }\n",
       "</style>\n",
       "<table border=\"1\" class=\"dataframe\">\n",
       "  <thead>\n",
       "    <tr style=\"text-align: right;\">\n",
       "      <th>Class</th>\n",
       "      <th>2</th>\n",
       "      <th>4</th>\n",
       "    </tr>\n",
       "    <tr>\n",
       "      <th>Single Epithelial Cell Size</th>\n",
       "      <th></th>\n",
       "      <th></th>\n",
       "    </tr>\n",
       "  </thead>\n",
       "  <tbody>\n",
       "    <tr>\n",
       "      <th>1</th>\n",
       "      <td>25</td>\n",
       "      <td>1</td>\n",
       "    </tr>\n",
       "    <tr>\n",
       "      <th>2</th>\n",
       "      <td>147</td>\n",
       "      <td>23</td>\n",
       "    </tr>\n",
       "    <tr>\n",
       "      <th>3</th>\n",
       "      <td>27</td>\n",
       "      <td>42</td>\n",
       "    </tr>\n",
       "    <tr>\n",
       "      <th>4</th>\n",
       "      <td>7</td>\n",
       "      <td>41</td>\n",
       "    </tr>\n",
       "    <tr>\n",
       "      <th>5</th>\n",
       "      <td>5</td>\n",
       "      <td>34</td>\n",
       "    </tr>\n",
       "    <tr>\n",
       "      <th>6</th>\n",
       "      <td>2</td>\n",
       "      <td>39</td>\n",
       "    </tr>\n",
       "    <tr>\n",
       "      <th>7</th>\n",
       "      <td>3</td>\n",
       "      <td>9</td>\n",
       "    </tr>\n",
       "    <tr>\n",
       "      <th>8</th>\n",
       "      <td>2</td>\n",
       "      <td>18</td>\n",
       "    </tr>\n",
       "    <tr>\n",
       "      <th>9</th>\n",
       "      <td>0</td>\n",
       "      <td>2</td>\n",
       "    </tr>\n",
       "    <tr>\n",
       "      <th>10</th>\n",
       "      <td>1</td>\n",
       "      <td>29</td>\n",
       "    </tr>\n",
       "  </tbody>\n",
       "</table>\n",
       "</div>"
      ],
      "text/plain": [
       "Class                          2   4\n",
       "Single Epithelial Cell Size         \n",
       "1                             25   1\n",
       "2                            147  23\n",
       "3                             27  42\n",
       "4                              7  41\n",
       "5                              5  34\n",
       "6                              2  39\n",
       "7                              3   9\n",
       "8                              2  18\n",
       "9                              0   2\n",
       "10                             1  29"
      ]
     },
     "execution_count": 392,
     "metadata": {},
     "output_type": "execute_result"
    }
   ],
   "source": [
    "pd.crosstab(df['Single Epithelial Cell Size'], df['Class'])"
   ]
  },
  {
   "cell_type": "code",
   "execution_count": 393,
   "metadata": {},
   "outputs": [
    {
     "data": {
      "text/plain": [
       "<matplotlib.axes._subplots.AxesSubplot at 0x27871441f0>"
      ]
     },
     "execution_count": 393,
     "metadata": {},
     "output_type": "execute_result"
    },
    {
     "data": {
      "image/png": "[encoded data removed]",
      "text/plain": [
       "<Figure size 1440x216 with 1 Axes>"
      ]
     },
     "metadata": {
      "needs_background": "light"
     },
     "output_type": "display_data"
    }
   ],
   "source": [
    "df['Single Epithelial Cell Size'] = np.where((df['Single Epithelial Cell Size']) > 6, 6, df['Single Epithelial Cell Size'])\n",
    "df.boxplot(figsize = (20, 3))"
   ]
  },
  {
   "cell_type": "code",
   "execution_count": 394,
   "metadata": {},
   "outputs": [
    {
     "data": {
      "text/html": [
       "<div>\n",
       "<style scoped>\n",
       "    .dataframe tbody tr th:only-of-type {\n",
       "        vertical-align: middle;\n",
       "    }\n",
       "\n",
       "    .dataframe tbody tr th {\n",
       "        vertical-align: top;\n",
       "    }\n",
       "\n",
       "    .dataframe thead th {\n",
       "        text-align: right;\n",
       "    }\n",
       "</style>\n",
       "<table border=\"1\" class=\"dataframe\">\n",
       "  <thead>\n",
       "    <tr style=\"text-align: right;\">\n",
       "      <th>Class</th>\n",
       "      <th>2</th>\n",
       "      <th>4</th>\n",
       "    </tr>\n",
       "    <tr>\n",
       "      <th>Normal Nucleoli</th>\n",
       "      <th></th>\n",
       "      <th></th>\n",
       "    </tr>\n",
       "  </thead>\n",
       "  <tbody>\n",
       "    <tr>\n",
       "      <th>1</th>\n",
       "      <td>71</td>\n",
       "      <td>2</td>\n",
       "    </tr>\n",
       "    <tr>\n",
       "      <th>2</th>\n",
       "      <td>68</td>\n",
       "      <td>7</td>\n",
       "    </tr>\n",
       "    <tr>\n",
       "      <th>3</th>\n",
       "      <td>60</td>\n",
       "      <td>35</td>\n",
       "    </tr>\n",
       "    <tr>\n",
       "      <th>4</th>\n",
       "      <td>8</td>\n",
       "      <td>32</td>\n",
       "    </tr>\n",
       "    <tr>\n",
       "      <th>5</th>\n",
       "      <td>4</td>\n",
       "      <td>30</td>\n",
       "    </tr>\n",
       "    <tr>\n",
       "      <th>6</th>\n",
       "      <td>1</td>\n",
       "      <td>9</td>\n",
       "    </tr>\n",
       "    <tr>\n",
       "      <th>7</th>\n",
       "      <td>7</td>\n",
       "      <td>64</td>\n",
       "    </tr>\n",
       "    <tr>\n",
       "      <th>8</th>\n",
       "      <td>0</td>\n",
       "      <td>28</td>\n",
       "    </tr>\n",
       "    <tr>\n",
       "      <th>9</th>\n",
       "      <td>0</td>\n",
       "      <td>11</td>\n",
       "    </tr>\n",
       "    <tr>\n",
       "      <th>10</th>\n",
       "      <td>0</td>\n",
       "      <td>20</td>\n",
       "    </tr>\n",
       "  </tbody>\n",
       "</table>\n",
       "</div>"
      ],
      "text/plain": [
       "Class             2   4\n",
       "Normal Nucleoli        \n",
       "1                71   2\n",
       "2                68   7\n",
       "3                60  35\n",
       "4                 8  32\n",
       "5                 4  30\n",
       "6                 1   9\n",
       "7                 7  64\n",
       "8                 0  28\n",
       "9                 0  11\n",
       "10                0  20"
      ]
     },
     "execution_count": 394,
     "metadata": {},
     "output_type": "execute_result"
    }
   ],
   "source": [
    "pd.crosstab(df['Normal Nucleoli'], df['Class'])"
   ]
  },
  {
   "cell_type": "code",
   "execution_count": 395,
   "metadata": {},
   "outputs": [
    {
     "data": {
      "text/plain": [
       "<matplotlib.axes._subplots.AxesSubplot at 0x278f684940>"
      ]
     },
     "execution_count": 395,
     "metadata": {},
     "output_type": "execute_result"
    },
    {
     "data": {
      "image/png": "[encoded data removed]",
      "text/plain": [
       "<Figure size 1440x216 with 1 Axes>"
      ]
     },
     "metadata": {
      "needs_background": "light"
     },
     "output_type": "display_data"
    }
   ],
   "source": [
    "df['Normal Nucleoli'] = np.where(df['Normal Nucleoli'] > 6, 6, df['Normal Nucleoli'])\n",
    "df.boxplot(figsize=(20,3))"
   ]
  },
  {
   "cell_type": "code",
   "execution_count": 396,
   "metadata": {},
   "outputs": [
    {
     "data": {
      "text/html": [
       "<div>\n",
       "<style scoped>\n",
       "    .dataframe tbody tr th:only-of-type {\n",
       "        vertical-align: middle;\n",
       "    }\n",
       "\n",
       "    .dataframe tbody tr th {\n",
       "        vertical-align: top;\n",
       "    }\n",
       "\n",
       "    .dataframe thead th {\n",
       "        text-align: right;\n",
       "    }\n",
       "</style>\n",
       "<table border=\"1\" class=\"dataframe\">\n",
       "  <thead>\n",
       "    <tr style=\"text-align: right;\">\n",
       "      <th>Class</th>\n",
       "      <th>2</th>\n",
       "      <th>4</th>\n",
       "    </tr>\n",
       "    <tr>\n",
       "      <th>Bland Chromatin</th>\n",
       "      <th></th>\n",
       "      <th></th>\n",
       "    </tr>\n",
       "  </thead>\n",
       "  <tbody>\n",
       "    <tr>\n",
       "      <th>1</th>\n",
       "      <td>166</td>\n",
       "      <td>40</td>\n",
       "    </tr>\n",
       "    <tr>\n",
       "      <th>2</th>\n",
       "      <td>27</td>\n",
       "      <td>6</td>\n",
       "    </tr>\n",
       "    <tr>\n",
       "      <th>3</th>\n",
       "      <td>12</td>\n",
       "      <td>30</td>\n",
       "    </tr>\n",
       "    <tr>\n",
       "      <th>4</th>\n",
       "      <td>1</td>\n",
       "      <td>17</td>\n",
       "    </tr>\n",
       "    <tr>\n",
       "      <th>5</th>\n",
       "      <td>2</td>\n",
       "      <td>17</td>\n",
       "    </tr>\n",
       "    <tr>\n",
       "      <th>6</th>\n",
       "      <td>4</td>\n",
       "      <td>18</td>\n",
       "    </tr>\n",
       "    <tr>\n",
       "      <th>7</th>\n",
       "      <td>2</td>\n",
       "      <td>14</td>\n",
       "    </tr>\n",
       "    <tr>\n",
       "      <th>8</th>\n",
       "      <td>4</td>\n",
       "      <td>20</td>\n",
       "    </tr>\n",
       "    <tr>\n",
       "      <th>9</th>\n",
       "      <td>1</td>\n",
       "      <td>15</td>\n",
       "    </tr>\n",
       "    <tr>\n",
       "      <th>10</th>\n",
       "      <td>0</td>\n",
       "      <td>61</td>\n",
       "    </tr>\n",
       "  </tbody>\n",
       "</table>\n",
       "</div>"
      ],
      "text/plain": [
       "Class              2   4\n",
       "Bland Chromatin         \n",
       "1                166  40\n",
       "2                 27   6\n",
       "3                 12  30\n",
       "4                  1  17\n",
       "5                  2  17\n",
       "6                  4  18\n",
       "7                  2  14\n",
       "8                  4  20\n",
       "9                  1  15\n",
       "10                 0  61"
      ]
     },
     "execution_count": 396,
     "metadata": {},
     "output_type": "execute_result"
    }
   ],
   "source": [
    "pd.crosstab(df['Bland Chromatin'], df['Class'])"
   ]
  },
  {
   "cell_type": "code",
   "execution_count": 397,
   "metadata": {},
   "outputs": [
    {
     "data": {
      "text/plain": [
       "<matplotlib.axes._subplots.AxesSubplot at 0x278f793970>"
      ]
     },
     "execution_count": 397,
     "metadata": {},
     "output_type": "execute_result"
    },
    {
     "data": {
      "image/png": "[encoded data removed]",
      "text/plain": [
       "<Figure size 1440x216 with 1 Axes>"
      ]
     },
     "metadata": {
      "needs_background": "light"
     },
     "output_type": "display_data"
    }
   ],
   "source": [
    "df['Bland Chromatin'] = np.where(df['Bland Chromatin'] > 4, 4, df['Bland Chromatin'])\n",
    "df.boxplot(figsize=(20,3))"
   ]
  },
  {
   "cell_type": "code",
   "execution_count": 398,
   "metadata": {
    "colab": {},
    "colab_type": "code",
    "id": "9i0Qqn28SM4_"
   },
   "outputs": [
    {
     "data": {
      "text/html": [
       "<div>\n",
       "<style scoped>\n",
       "    .dataframe tbody tr th:only-of-type {\n",
       "        vertical-align: middle;\n",
       "    }\n",
       "\n",
       "    .dataframe tbody tr th {\n",
       "        vertical-align: top;\n",
       "    }\n",
       "\n",
       "    .dataframe thead th {\n",
       "        text-align: right;\n",
       "    }\n",
       "</style>\n",
       "<table border=\"1\" class=\"dataframe\">\n",
       "  <thead>\n",
       "    <tr style=\"text-align: right;\">\n",
       "      <th>Class</th>\n",
       "      <th>2</th>\n",
       "      <th>4</th>\n",
       "    </tr>\n",
       "    <tr>\n",
       "      <th>Mitoses</th>\n",
       "      <th></th>\n",
       "      <th></th>\n",
       "    </tr>\n",
       "  </thead>\n",
       "  <tbody>\n",
       "    <tr>\n",
       "      <th>1</th>\n",
       "      <td>206</td>\n",
       "      <td>132</td>\n",
       "    </tr>\n",
       "    <tr>\n",
       "      <th>2</th>\n",
       "      <td>8</td>\n",
       "      <td>27</td>\n",
       "    </tr>\n",
       "    <tr>\n",
       "      <th>3</th>\n",
       "      <td>2</td>\n",
       "      <td>30</td>\n",
       "    </tr>\n",
       "    <tr>\n",
       "      <th>4</th>\n",
       "      <td>0</td>\n",
       "      <td>12</td>\n",
       "    </tr>\n",
       "    <tr>\n",
       "      <th>5</th>\n",
       "      <td>1</td>\n",
       "      <td>5</td>\n",
       "    </tr>\n",
       "    <tr>\n",
       "      <th>6</th>\n",
       "      <td>0</td>\n",
       "      <td>3</td>\n",
       "    </tr>\n",
       "    <tr>\n",
       "      <th>7</th>\n",
       "      <td>1</td>\n",
       "      <td>8</td>\n",
       "    </tr>\n",
       "    <tr>\n",
       "      <th>8</th>\n",
       "      <td>1</td>\n",
       "      <td>7</td>\n",
       "    </tr>\n",
       "    <tr>\n",
       "      <th>10</th>\n",
       "      <td>0</td>\n",
       "      <td>14</td>\n",
       "    </tr>\n",
       "  </tbody>\n",
       "</table>\n",
       "</div>"
      ],
      "text/plain": [
       "Class      2    4\n",
       "Mitoses          \n",
       "1        206  132\n",
       "2          8   27\n",
       "3          2   30\n",
       "4          0   12\n",
       "5          1    5\n",
       "6          0    3\n",
       "7          1    8\n",
       "8          1    7\n",
       "10         0   14"
      ]
     },
     "execution_count": 398,
     "metadata": {},
     "output_type": "execute_result"
    }
   ],
   "source": [
    "pd.crosstab(df['Mitoses'], df['Class'])"
   ]
  },
  {
   "cell_type": "code",
   "execution_count": 399,
   "metadata": {},
   "outputs": [],
   "source": [
    "df['Mitoses'] = np.where((df['Mitoses']) > 3, 3, df['Mitoses'])"
   ]
  },
  {
   "cell_type": "code",
   "execution_count": 400,
   "metadata": {},
   "outputs": [
    {
     "data": {
      "text/html": [
       "<div>\n",
       "<style scoped>\n",
       "    .dataframe tbody tr th:only-of-type {\n",
       "        vertical-align: middle;\n",
       "    }\n",
       "\n",
       "    .dataframe tbody tr th {\n",
       "        vertical-align: top;\n",
       "    }\n",
       "\n",
       "    .dataframe thead th {\n",
       "        text-align: right;\n",
       "    }\n",
       "</style>\n",
       "<table border=\"1\" class=\"dataframe\">\n",
       "  <thead>\n",
       "    <tr style=\"text-align: right;\">\n",
       "      <th>Class</th>\n",
       "      <th>2</th>\n",
       "      <th>4</th>\n",
       "    </tr>\n",
       "    <tr>\n",
       "      <th>Mitoses</th>\n",
       "      <th></th>\n",
       "      <th></th>\n",
       "    </tr>\n",
       "  </thead>\n",
       "  <tbody>\n",
       "    <tr>\n",
       "      <th>1</th>\n",
       "      <td>206</td>\n",
       "      <td>132</td>\n",
       "    </tr>\n",
       "    <tr>\n",
       "      <th>2</th>\n",
       "      <td>8</td>\n",
       "      <td>27</td>\n",
       "    </tr>\n",
       "    <tr>\n",
       "      <th>3</th>\n",
       "      <td>5</td>\n",
       "      <td>79</td>\n",
       "    </tr>\n",
       "  </tbody>\n",
       "</table>\n",
       "</div>"
      ],
      "text/plain": [
       "Class      2    4\n",
       "Mitoses          \n",
       "1        206  132\n",
       "2          8   27\n",
       "3          5   79"
      ]
     },
     "execution_count": 400,
     "metadata": {},
     "output_type": "execute_result"
    }
   ],
   "source": [
    "pd.crosstab(df['Mitoses'], df['Class'])"
   ]
  },
  {
   "cell_type": "code",
   "execution_count": 401,
   "metadata": {},
   "outputs": [
    {
     "data": {
      "text/plain": [
       "<matplotlib.axes._subplots.AxesSubplot at 0x278fb2dd00>"
      ]
     },
     "execution_count": 401,
     "metadata": {},
     "output_type": "execute_result"
    },
    {
     "data": {
      "image/png": "[encoded data removed]",
      "text/plain": [
       "<Figure size 1440x216 with 1 Axes>"
      ]
     },
     "metadata": {
      "needs_background": "light"
     },
     "output_type": "display_data"
    }
   ],
   "source": [
    "df_new = df.drop(['Class'], axis = 1)\n",
    "df.boxplot(figsize = (20, 3))"
   ]
  },
  {
   "cell_type": "code",
   "execution_count": 402,
   "metadata": {},
   "outputs": [
    {
     "data": {
      "text/html": [
       "<div>\n",
       "<style scoped>\n",
       "    .dataframe tbody tr th:only-of-type {\n",
       "        vertical-align: middle;\n",
       "    }\n",
       "\n",
       "    .dataframe tbody tr th {\n",
       "        vertical-align: top;\n",
       "    }\n",
       "\n",
       "    .dataframe thead th {\n",
       "        text-align: right;\n",
       "    }\n",
       "</style>\n",
       "<table border=\"1\" class=\"dataframe\">\n",
       "  <thead>\n",
       "    <tr style=\"text-align: right;\">\n",
       "      <th></th>\n",
       "      <th>ClumpThickness</th>\n",
       "      <th>Cell Size</th>\n",
       "      <th>Cell Shape</th>\n",
       "      <th>Marginal Adhesion</th>\n",
       "      <th>Single Epithelial Cell Size</th>\n",
       "      <th>Bare Nuclei</th>\n",
       "      <th>Normal Nucleoli</th>\n",
       "      <th>Bland Chromatin</th>\n",
       "      <th>Mitoses</th>\n",
       "    </tr>\n",
       "  </thead>\n",
       "  <tbody>\n",
       "    <tr>\n",
       "      <th>0</th>\n",
       "      <td>-0.128603</td>\n",
       "      <td>-0.993808</td>\n",
       "      <td>-1.050717</td>\n",
       "      <td>-1.001800</td>\n",
       "      <td>-0.871008</td>\n",
       "      <td>-0.965209</td>\n",
       "      <td>-0.359385</td>\n",
       "      <td>-1.020192</td>\n",
       "      <td>-0.566655</td>\n",
       "    </tr>\n",
       "    <tr>\n",
       "      <th>1</th>\n",
       "      <td>-0.128603</td>\n",
       "      <td>-0.066930</td>\n",
       "      <td>-0.089079</td>\n",
       "      <td>0.929941</td>\n",
       "      <td>1.484322</td>\n",
       "      <td>1.357731</td>\n",
       "      <td>-0.359385</td>\n",
       "      <td>-0.297358</td>\n",
       "      <td>-0.566655</td>\n",
       "    </tr>\n",
       "    <tr>\n",
       "      <th>2</th>\n",
       "      <td>-0.828263</td>\n",
       "      <td>-0.993808</td>\n",
       "      <td>-1.050717</td>\n",
       "      <td>-1.001800</td>\n",
       "      <td>-0.871008</td>\n",
       "      <td>-0.707105</td>\n",
       "      <td>-0.359385</td>\n",
       "      <td>-1.020192</td>\n",
       "      <td>-0.566655</td>\n",
       "    </tr>\n",
       "    <tr>\n",
       "      <th>3</th>\n",
       "      <td>0.221227</td>\n",
       "      <td>1.168907</td>\n",
       "      <td>1.193104</td>\n",
       "      <td>-1.001800</td>\n",
       "      <td>-0.282176</td>\n",
       "      <td>-0.190896</td>\n",
       "      <td>-0.359385</td>\n",
       "      <td>1.148309</td>\n",
       "      <td>-0.566655</td>\n",
       "    </tr>\n",
       "    <tr>\n",
       "      <th>4</th>\n",
       "      <td>-0.478433</td>\n",
       "      <td>-0.993808</td>\n",
       "      <td>-1.050717</td>\n",
       "      <td>-0.035930</td>\n",
       "      <td>-0.871008</td>\n",
       "      <td>-0.965209</td>\n",
       "      <td>-0.359385</td>\n",
       "      <td>-1.020192</td>\n",
       "      <td>-0.566655</td>\n",
       "    </tr>\n",
       "  </tbody>\n",
       "</table>\n",
       "</div>"
      ],
      "text/plain": [
       "   ClumpThickness  Cell Size  Cell Shape  Marginal Adhesion  \\\n",
       "0       -0.128603  -0.993808   -1.050717          -1.001800   \n",
       "1       -0.128603  -0.066930   -0.089079           0.929941   \n",
       "2       -0.828263  -0.993808   -1.050717          -1.001800   \n",
       "3        0.221227   1.168907    1.193104          -1.001800   \n",
       "4       -0.478433  -0.993808   -1.050717          -0.035930   \n",
       "\n",
       "   Single Epithelial Cell Size  Bare Nuclei  Normal Nucleoli  Bland Chromatin  \\\n",
       "0                    -0.871008    -0.965209        -0.359385        -1.020192   \n",
       "1                     1.484322     1.357731        -0.359385        -0.297358   \n",
       "2                    -0.871008    -0.707105        -0.359385        -1.020192   \n",
       "3                    -0.282176    -0.190896        -0.359385         1.148309   \n",
       "4                    -0.871008    -0.965209        -0.359385        -1.020192   \n",
       "\n",
       "    Mitoses  \n",
       "0 -0.566655  \n",
       "1 -0.566655  \n",
       "2 -0.566655  \n",
       "3 -0.566655  \n",
       "4 -0.566655  "
      ]
     },
     "execution_count": 402,
     "metadata": {},
     "output_type": "execute_result"
    }
   ],
   "source": [
    "from scipy.stats import zscore\n",
    "df_new = df_new.apply(zscore)\n",
    "df_new.head()"
   ]
  },
  {
   "cell_type": "markdown",
   "metadata": {
    "colab_type": "text",
    "id": "lmMHMAtkWCzm"
   },
   "source": [
    "# Q6 Create a covariance matrix for identifying Principal components"
   ]
  },
  {
   "cell_type": "code",
   "execution_count": 403,
   "metadata": {
    "colab": {},
    "colab_type": "code",
    "id": "X3pUdlSdSM5D"
   },
   "outputs": [],
   "source": [
    "# PCA\n",
    "# Step 1 - Create covariance matrix\n"
   ]
  },
  {
   "cell_type": "code",
   "execution_count": 404,
   "metadata": {
    "colab": {},
    "colab_type": "code",
    "id": "ppL2hWreSM5G"
   },
   "outputs": [
    {
     "data": {
      "text/plain": [
       "array([[1.00219298, 0.57421719, 0.58633441, 0.41254516, 0.4632509 ,\n",
       "        0.50626202, 0.52129306, 0.4685217 , 0.35855479],\n",
       "       [0.57421719, 1.00219298, 0.87817812, 0.65724321, 0.72912055,\n",
       "        0.58544869, 0.69467472, 0.63582982, 0.43131692],\n",
       "       [0.58633441, 0.87817812, 1.00219298, 0.62788533, 0.69171911,\n",
       "        0.61144829, 0.67416566, 0.62536709, 0.39598567],\n",
       "       [0.41254516, 0.65724321, 0.62788533, 1.00219298, 0.60222797,\n",
       "        0.61335795, 0.62559502, 0.54812946, 0.36463703],\n",
       "       [0.4632509 , 0.72912055, 0.69171911, 0.60222797, 1.00219298,\n",
       "        0.54660466, 0.61060252, 0.61502108, 0.4212404 ],\n",
       "       [0.50626202, 0.58544869, 0.61144829, 0.61335795, 0.54660466,\n",
       "        1.00219298, 0.64042239, 0.52613173, 0.36236972],\n",
       "       [0.52129306, 0.69467472, 0.67416566, 0.62559502, 0.61060252,\n",
       "        0.64042239, 1.00219298, 0.62814111, 0.33319254],\n",
       "       [0.4685217 , 0.63582982, 0.62536709, 0.54812946, 0.61502108,\n",
       "        0.52613173, 0.62814111, 1.00219298, 0.40946416],\n",
       "       [0.35855479, 0.43131692, 0.39598567, 0.36463703, 0.4212404 ,\n",
       "        0.36236972, 0.33319254, 0.40946416, 1.00219298]])"
      ]
     },
     "execution_count": 404,
     "metadata": {},
     "output_type": "execute_result"
    }
   ],
   "source": [
    "cov_matrix = np.cov(df_new.T)\n",
    "cov_matrix"
   ]
  },
  {
   "cell_type": "code",
   "execution_count": 405,
   "metadata": {},
   "outputs": [
    {
     "name": "stdout",
     "output_type": "stream",
     "text": [
      "[[ 0.1143487  -0.10681785  0.05178777 ... -0.08247611 -0.08038828\n",
      "  -0.12986022]\n",
      " [-0.10681785  0.61369393 -0.03788164 ... -0.22594983 -0.19523099\n",
      "  -0.05515062]\n",
      " [ 0.05178777 -0.03788164  0.05603664 ... -0.03913891 -0.02603895\n",
      "  -0.05509629]\n",
      " ...\n",
      " [-0.08247611 -0.22594983 -0.03913891 ...  0.74294637  0.33916795\n",
      "   0.37085003]\n",
      " [-0.08038828 -0.19523099 -0.02603895 ...  0.33916795  0.54720713\n",
      "   0.50818175]\n",
      " [-0.12986022 -0.05515062 -0.05509629 ...  0.37085003  0.50818175\n",
      "   0.54739802]]\n"
     ]
    }
   ],
   "source": [
    "cov_matrix_error = np.cov(df_new)\n",
    "print(cov_matrix_error)"
   ]
  },
  {
   "cell_type": "markdown",
   "metadata": {
    "colab_type": "text",
    "id": "vbZ-YcsdWCzz"
   },
   "source": [
    "# Q7 Identify eigen values and eigen vector"
   ]
  },
  {
   "cell_type": "code",
   "execution_count": 406,
   "metadata": {
    "colab": {},
    "colab_type": "code",
    "id": "sH-AksvLSM5L"
   },
   "outputs": [],
   "source": [
    "# Step 2- Get eigen values and eigen vector"
   ]
  },
  {
   "cell_type": "code",
   "execution_count": 407,
   "metadata": {
    "colab": {},
    "colab_type": "code",
    "id": "YaNotXfFSM5O"
   },
   "outputs": [
    {
     "name": "stdout",
     "output_type": "stream",
     "text": [
      "Eigen Vectors [[-2.93603996e-01  8.00673245e-02 -7.69106806e-03 -8.67576242e-01\n",
      "   1.36179531e-01  2.70884784e-01  2.49245356e-01  2.20941153e-02\n",
      "  -1.01686131e-02]\n",
      " [-3.80634696e-01 -7.24047874e-02 -7.39014863e-01  1.06609815e-04\n",
      "  -2.01179677e-01 -2.59108515e-01 -1.44312009e-02 -3.37419036e-01\n",
      "   2.86463688e-01]\n",
      " [-3.75133862e-01 -1.13729163e-01  6.57266625e-01 -7.60423800e-02\n",
      "  -3.88251319e-01 -2.84002602e-01 -9.09056785e-02 -3.00546899e-01\n",
      "   2.80302618e-01]\n",
      " [-3.33202012e-01 -1.61265198e-01  5.24997805e-02  3.73382983e-01\n",
      "   7.48581652e-03  2.25349403e-01  6.93997411e-01  3.28839668e-01\n",
      "   2.83182893e-01]\n",
      " [-3.47761833e-01  2.13631618e-03  7.29372267e-02  2.44578141e-01\n",
      "   4.44452721e-01  5.74590216e-01 -3.88196725e-01 -3.42198423e-01\n",
      "   1.35758028e-01]\n",
      " [-3.27753739e-01 -1.39658748e-01 -9.03590134e-02 -4.15012310e-02\n",
      "  -3.02132955e-01  1.27066198e-01 -5.23420473e-01  6.94036232e-01\n",
      "  -1.00196371e-02]\n",
      " [-3.51587412e-01 -2.38355677e-01  6.25606590e-02  1.65179247e-02\n",
      "   6.26611176e-01 -5.72990344e-01 -2.21378437e-02  1.52284620e-01\n",
      "  -2.65981192e-01]\n",
      " [-3.32134909e-01  3.16752687e-02 -1.97132649e-02  1.59697048e-01\n",
      "  -3.25681819e-01  1.53563642e-01  1.50376281e-01 -2.11754511e-01\n",
      "  -8.15896980e-01]\n",
      " [-2.34258007e-01  9.33852292e-01  3.54287587e-02  1.21644355e-01\n",
      "   5.15169159e-02 -1.72756818e-01 -1.85588298e-03  1.42757305e-01\n",
      "   6.40978461e-02]]\n",
      "Eigem Value [5.51813568 0.76391556 0.11754032 0.62314708 0.30743127 0.33578121\n",
      " 0.3528165  0.54453792 0.4564313 ]\n"
     ]
    }
   ],
   "source": [
    "eig_vals, eig_vecs = np.linalg.eig(cov_matrix)\n",
    "print('Eigen Vectors', eig_vecs)\n",
    "print('Eigem Value', eig_vals)"
   ]
  },
  {
   "cell_type": "markdown",
   "metadata": {
    "colab_type": "text",
    "id": "-2KqQg2KWCz7"
   },
   "source": [
    "# Q8 Find variance and cumulative variance by each eigen vector"
   ]
  },
  {
   "cell_type": "code",
   "execution_count": 408,
   "metadata": {
    "colab": {},
    "colab_type": "code",
    "id": "HVrVYdZpSM5e"
   },
   "outputs": [
    {
     "data": {
      "text/plain": [
       "[61.178455395109644,\n",
       " 8.469377510023657,\n",
       " 6.908705783492568,\n",
       " 6.0371818491983715,\n",
       " 5.060361600595432,\n",
       " 3.9116052037232425,\n",
       " 3.7227384801967696,\n",
       " 3.4084283872790375,\n",
       " 1.3031457903813013]"
      ]
     },
     "execution_count": 408,
     "metadata": {},
     "output_type": "execute_result"
    }
   ],
   "source": [
    "tot = sum(eig_vals)\n",
    "var_exp = [ (i/tot)*100 for i in sorted(eig_vals, reverse = True)]\n",
    "var_exp"
   ]
  },
  {
   "cell_type": "code",
   "execution_count": 409,
   "metadata": {
    "colab": {},
    "colab_type": "code",
    "id": "wGszn1TqSM5i"
   },
   "outputs": [
    {
     "data": {
      "text/plain": [
       "[<matplotlib.lines.Line2D at 0x278d568970>]"
      ]
     },
     "execution_count": 409,
     "metadata": {},
     "output_type": "execute_result"
    },
    {
     "data": {
      "image/png": "[encoded data removed]",
      "text/plain": [
       "<Figure size 432x288 with 1 Axes>"
      ]
     },
     "metadata": {
      "needs_background": "light"
     },
     "output_type": "display_data"
    }
   ],
   "source": [
    "plt.plot(var_exp)"
   ]
  },
  {
   "cell_type": "code",
   "execution_count": 410,
   "metadata": {},
   "outputs": [
    {
     "name": "stdout",
     "output_type": "stream",
     "text": [
      "Cumulative Variance Explained [ 61.1784554   69.64783291  76.55653869  82.59372054  87.65408214\n",
      "  91.56568734  95.28842582  98.69685421 100.        ]\n"
     ]
    }
   ],
   "source": [
    "cum_var_exp = np.cumsum(var_exp)\n",
    "print('Cumulative Variance Explained', cum_var_exp)"
   ]
  },
  {
   "cell_type": "code",
   "execution_count": 411,
   "metadata": {},
   "outputs": [
    {
     "data": {
      "image/png": "[encoded data removed]",
      "text/plain": [
       "<Figure size 432x288 with 1 Axes>"
      ]
     },
     "metadata": {
      "needs_background": "light"
     },
     "output_type": "display_data"
    }
   ],
   "source": [
    "plt.bar(range(1, eig_vals.size +1), var_exp, align = 'center', label = 'Individual Variance Explained')\n",
    "plt.step(range(1, eig_vals.size +1), cum_var_exp, where = 'mid', label = 'Cummulative Variance Explained')\n",
    "plt.ylabel('Explained Variance')\n",
    "plt.xlabel('Principal Components')\n",
    "plt.legend(loc='best')\n",
    "plt.show()"
   ]
  },
  {
   "cell_type": "markdown",
   "metadata": {
    "colab_type": "text",
    "id": "x8YxQPNGWC0e"
   },
   "source": [
    "# Q9 Use PCA command from sklearn and find Principal Components. Transform data to components formed"
   ]
  },
  {
   "cell_type": "code",
   "execution_count": 412,
   "metadata": {
    "colab": {},
    "colab_type": "code",
    "id": "ZgniQrGWSM5l"
   },
   "outputs": [],
   "source": [
    "from sklearn.decomposition import PCA"
   ]
  },
  {
   "cell_type": "code",
   "execution_count": 413,
   "metadata": {
    "colab": {},
    "colab_type": "code",
    "id": "-06rQu3PSM5o"
   },
   "outputs": [
    {
     "data": {
      "text/plain": [
       "array([[-2.36119123e+00, -1.73834855e-04,  5.93449673e-01, ...,\n",
       "        -7.85290641e-02, -8.14858117e-02, -1.80646283e-01],\n",
       "       [ 8.16537676e-01, -7.84664232e-01, -6.49894562e-01, ...,\n",
       "         7.10295292e-01,  7.00194772e-01,  1.50091846e+00],\n",
       "       [-2.48201943e+00, -9.22402811e-02, -2.84691930e-03, ...,\n",
       "        -7.40006077e-02,  2.27998348e-01, -3.37377124e-01],\n",
       "       ...,\n",
       "       [ 2.67290305e+00,  1.25003054e-01, -6.30741094e-01, ...,\n",
       "         3.81441621e-04,  4.46917653e-01, -8.90847104e-01],\n",
       "       [ 1.18635329e+00, -1.02143397e+00, -6.14062890e-01, ...,\n",
       "        -7.19882877e-01, -4.79538372e-01, -1.11436524e+00],\n",
       "       [ 1.87713154e+00, -1.20701401e+00, -8.78936394e-01, ...,\n",
       "        -3.26071681e-01, -3.92735171e-01, -8.16474036e-01]])"
      ]
     },
     "execution_count": 413,
     "metadata": {},
     "output_type": "execute_result"
    }
   ],
   "source": [
    "pca = PCA(n_components = 7)\n",
    "data_red = pca.fit_transform(df_new)\n",
    "data_red"
   ]
  },
  {
   "cell_type": "code",
   "execution_count": 414,
   "metadata": {},
   "outputs": [
    {
     "data": {
      "text/plain": [
       "array([[ 2.93603996e-01,  3.80634696e-01,  3.75133862e-01,\n",
       "         3.33202012e-01,  3.47761833e-01,  3.27753739e-01,\n",
       "         3.51587412e-01,  3.32134909e-01,  2.34258007e-01],\n",
       "       [ 8.00673245e-02, -7.24047874e-02, -1.13729163e-01,\n",
       "        -1.61265198e-01,  2.13631618e-03, -1.39658748e-01,\n",
       "        -2.38355677e-01,  3.16752687e-02,  9.33852292e-01],\n",
       "       [ 8.67576242e-01, -1.06609815e-04,  7.60423800e-02,\n",
       "        -3.73382983e-01, -2.44578141e-01,  4.15012310e-02,\n",
       "        -1.65179247e-02, -1.59697048e-01, -1.21644355e-01],\n",
       "       [-2.20941153e-02,  3.37419036e-01,  3.00546899e-01,\n",
       "        -3.28839668e-01,  3.42198423e-01, -6.94036232e-01,\n",
       "        -1.52284620e-01,  2.11754511e-01, -1.42757305e-01],\n",
       "       [-1.01686131e-02,  2.86463688e-01,  2.80302618e-01,\n",
       "         2.83182893e-01,  1.35758028e-01, -1.00196371e-02,\n",
       "        -2.65981192e-01, -8.15896980e-01,  6.40978461e-02],\n",
       "       [-2.49245356e-01,  1.44312009e-02,  9.09056785e-02,\n",
       "        -6.93997411e-01,  3.88196725e-01,  5.23420473e-01,\n",
       "         2.21378437e-02, -1.50376281e-01,  1.85588298e-03],\n",
       "       [ 2.70884784e-01, -2.59108515e-01, -2.84002602e-01,\n",
       "         2.25349403e-01,  5.74590216e-01,  1.27066198e-01,\n",
       "        -5.72990344e-01,  1.53563642e-01, -1.72756818e-01]])"
      ]
     },
     "execution_count": 414,
     "metadata": {},
     "output_type": "execute_result"
    }
   ],
   "source": [
    "pca.components_"
   ]
  },
  {
   "cell_type": "markdown",
   "metadata": {
    "colab_type": "text",
    "id": "8L-IGI0QWC0t"
   },
   "source": [
    "# Q10 Find correlation between components and features"
   ]
  },
  {
   "cell_type": "code",
   "execution_count": 415,
   "metadata": {
    "colab": {},
    "colab_type": "code",
    "id": "eLi4UsMcSM5r"
   },
   "outputs": [
    {
     "data": {
      "text/html": [
       "<div>\n",
       "<style scoped>\n",
       "    .dataframe tbody tr th:only-of-type {\n",
       "        vertical-align: middle;\n",
       "    }\n",
       "\n",
       "    .dataframe tbody tr th {\n",
       "        vertical-align: top;\n",
       "    }\n",
       "\n",
       "    .dataframe thead th {\n",
       "        text-align: right;\n",
       "    }\n",
       "</style>\n",
       "<table border=\"1\" class=\"dataframe\">\n",
       "  <thead>\n",
       "    <tr style=\"text-align: right;\">\n",
       "      <th></th>\n",
       "      <th>ClumpThickness</th>\n",
       "      <th>Cell Size</th>\n",
       "      <th>Cell Shape</th>\n",
       "      <th>Marginal Adhesion</th>\n",
       "      <th>Single Epithelial Cell Size</th>\n",
       "      <th>Bare Nuclei</th>\n",
       "      <th>Normal Nucleoli</th>\n",
       "      <th>Bland Chromatin</th>\n",
       "      <th>Mitoses</th>\n",
       "    </tr>\n",
       "  </thead>\n",
       "  <tbody>\n",
       "    <tr>\n",
       "      <th>0</th>\n",
       "      <td>0.293604</td>\n",
       "      <td>0.380635</td>\n",
       "      <td>0.375134</td>\n",
       "      <td>0.333202</td>\n",
       "      <td>0.347762</td>\n",
       "      <td>0.327754</td>\n",
       "      <td>0.351587</td>\n",
       "      <td>0.332135</td>\n",
       "      <td>0.234258</td>\n",
       "    </tr>\n",
       "    <tr>\n",
       "      <th>1</th>\n",
       "      <td>0.080067</td>\n",
       "      <td>-0.072405</td>\n",
       "      <td>-0.113729</td>\n",
       "      <td>-0.161265</td>\n",
       "      <td>0.002136</td>\n",
       "      <td>-0.139659</td>\n",
       "      <td>-0.238356</td>\n",
       "      <td>0.031675</td>\n",
       "      <td>0.933852</td>\n",
       "    </tr>\n",
       "    <tr>\n",
       "      <th>2</th>\n",
       "      <td>0.867576</td>\n",
       "      <td>-0.000107</td>\n",
       "      <td>0.076042</td>\n",
       "      <td>-0.373383</td>\n",
       "      <td>-0.244578</td>\n",
       "      <td>0.041501</td>\n",
       "      <td>-0.016518</td>\n",
       "      <td>-0.159697</td>\n",
       "      <td>-0.121644</td>\n",
       "    </tr>\n",
       "    <tr>\n",
       "      <th>3</th>\n",
       "      <td>-0.022094</td>\n",
       "      <td>0.337419</td>\n",
       "      <td>0.300547</td>\n",
       "      <td>-0.328840</td>\n",
       "      <td>0.342198</td>\n",
       "      <td>-0.694036</td>\n",
       "      <td>-0.152285</td>\n",
       "      <td>0.211755</td>\n",
       "      <td>-0.142757</td>\n",
       "    </tr>\n",
       "    <tr>\n",
       "      <th>4</th>\n",
       "      <td>-0.010169</td>\n",
       "      <td>0.286464</td>\n",
       "      <td>0.280303</td>\n",
       "      <td>0.283183</td>\n",
       "      <td>0.135758</td>\n",
       "      <td>-0.010020</td>\n",
       "      <td>-0.265981</td>\n",
       "      <td>-0.815897</td>\n",
       "      <td>0.064098</td>\n",
       "    </tr>\n",
       "    <tr>\n",
       "      <th>5</th>\n",
       "      <td>-0.249245</td>\n",
       "      <td>0.014431</td>\n",
       "      <td>0.090906</td>\n",
       "      <td>-0.693997</td>\n",
       "      <td>0.388197</td>\n",
       "      <td>0.523420</td>\n",
       "      <td>0.022138</td>\n",
       "      <td>-0.150376</td>\n",
       "      <td>0.001856</td>\n",
       "    </tr>\n",
       "    <tr>\n",
       "      <th>6</th>\n",
       "      <td>0.270885</td>\n",
       "      <td>-0.259109</td>\n",
       "      <td>-0.284003</td>\n",
       "      <td>0.225349</td>\n",
       "      <td>0.574590</td>\n",
       "      <td>0.127066</td>\n",
       "      <td>-0.572990</td>\n",
       "      <td>0.153564</td>\n",
       "      <td>-0.172757</td>\n",
       "    </tr>\n",
       "  </tbody>\n",
       "</table>\n",
       "</div>"
      ],
      "text/plain": [
       "   ClumpThickness  Cell Size  Cell Shape  Marginal Adhesion  \\\n",
       "0        0.293604   0.380635    0.375134           0.333202   \n",
       "1        0.080067  -0.072405   -0.113729          -0.161265   \n",
       "2        0.867576  -0.000107    0.076042          -0.373383   \n",
       "3       -0.022094   0.337419    0.300547          -0.328840   \n",
       "4       -0.010169   0.286464    0.280303           0.283183   \n",
       "5       -0.249245   0.014431    0.090906          -0.693997   \n",
       "6        0.270885  -0.259109   -0.284003           0.225349   \n",
       "\n",
       "   Single Epithelial Cell Size  Bare Nuclei  Normal Nucleoli  Bland Chromatin  \\\n",
       "0                     0.347762     0.327754         0.351587         0.332135   \n",
       "1                     0.002136    -0.139659        -0.238356         0.031675   \n",
       "2                    -0.244578     0.041501        -0.016518        -0.159697   \n",
       "3                     0.342198    -0.694036        -0.152285         0.211755   \n",
       "4                     0.135758    -0.010020        -0.265981        -0.815897   \n",
       "5                     0.388197     0.523420         0.022138        -0.150376   \n",
       "6                     0.574590     0.127066        -0.572990         0.153564   \n",
       "\n",
       "    Mitoses  \n",
       "0  0.234258  \n",
       "1  0.933852  \n",
       "2 -0.121644  \n",
       "3 -0.142757  \n",
       "4  0.064098  \n",
       "5  0.001856  \n",
       "6 -0.172757  "
      ]
     },
     "execution_count": 415,
     "metadata": {},
     "output_type": "execute_result"
    }
   ],
   "source": [
    "df_comp_feat = pd.DataFrame(pca.components_, columns = list(df_new))\n",
    "df_comp_feat"
   ]
  },
  {
   "cell_type": "code",
   "execution_count": 416,
   "metadata": {
    "colab": {},
    "colab_type": "code",
    "id": "bXUp9TCDWC1G"
   },
   "outputs": [
    {
     "data": {
      "text/plain": [
       "<matplotlib.axes._subplots.AxesSubplot at 0x278d5fc910>"
      ]
     },
     "execution_count": 416,
     "metadata": {},
     "output_type": "execute_result"
    },
    {
     "data": {
      "image/png": "[encoded data removed]",
      "text/plain": [
       "<Figure size 432x288 with 2 Axes>"
      ]
     },
     "metadata": {
      "needs_background": "light"
     },
     "output_type": "display_data"
    }
   ],
   "source": [
    "sns.heatmap(df_comp_feat)"
   ]
  }
 ],
 "metadata": {
  "colab": {
   "collapsed_sections": [
    "9hxe7D9BWCx-",
    "lmMHMAtkWCzm",
    "vbZ-YcsdWCzz",
    "-2KqQg2KWCz7",
    "x8YxQPNGWC0e"
   ],
   "name": "Questions - Lab on Unsupervised Learning.ipynb",
   "provenance": []
  },
  "kernelspec": {
   "display_name": "Python 3",
   "language": "python",
   "name": "python3"
  },
  "language_info": {
   "codemirror_mode": {
    "name": "ipython",
    "version": 3
   },
   "file_extension": ".py",
   "mimetype": "text/x-python",
   "name": "python",
   "nbconvert_exporter": "python",
   "pygments_lexer": "ipython3",
   "version": "3.8.5"
  }
 },
 "nbformat": 4,
 "nbformat_minor": 1
}
