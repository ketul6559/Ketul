{
  "nbformat": 4,
  "nbformat_minor": 5,
  "metadata": {
    "kernelspec": {
      "display_name": "Python 3",
      "language": "python",
      "name": "python3"
    },
    "language_info": {
      "codemirror_mode": {
        "name": "ipython",
        "version": 3
      },
      "file_extension": ".py",
      "mimetype": "text/x-python",
      "name": "python",
      "nbconvert_exporter": "python",
      "pygments_lexer": "ipython3",
      "version": "3.8.8"
    },
    "colab": {
      "name": "SEQUENTIAL NLP - Project 1.ipynb",
      "provenance": [],
      "collapsed_sections": []
    }
  },
  "cells": [
    {
      "cell_type": "markdown",
      "metadata": {
        "id": "ycW5eCL44txe"
      },
      "source": [
        "### Importing the dataset"
      ],
      "id": "ycW5eCL44txe"
    },
    {
      "cell_type": "code",
      "metadata": {
        "id": "790f35d9"
      },
      "source": [
        "from tensorflow.keras.datasets import imdb"
      ],
      "id": "790f35d9",
      "execution_count": 1,
      "outputs": []
    },
    {
      "cell_type": "code",
      "metadata": {
        "id": "c16fcb46"
      },
      "source": [
        "import numpy as np\n",
        "import warnings\n",
        "warnings.filterwarnings('ignore')"
      ],
      "id": "c16fcb46",
      "execution_count": 2,
      "outputs": []
    },
    {
      "cell_type": "code",
      "metadata": {
        "id": "fe0986da"
      },
      "source": [
        "from tensorflow.keras.preprocessing.sequence import pad_sequences"
      ],
      "id": "fe0986da",
      "execution_count": 3,
      "outputs": []
    },
    {
      "cell_type": "code",
      "metadata": {
        "id": "6520868f"
      },
      "source": [
        "max_features = 10000\n",
        "maxlen = 200 "
      ],
      "id": "6520868f",
      "execution_count": 4,
      "outputs": []
    },
    {
      "cell_type": "code",
      "metadata": {
        "id": "0d05c8f3",
        "colab": {
          "base_uri": "https://localhost:8080/"
        },
        "outputId": "4010a141-7b20-4e8a-f3b4-b31e93c5f1a1"
      },
      "source": [
        "(X_train, y_train), (X_test, y_test) = imdb.load_data(num_words = max_features)\n",
        "X_train = pad_sequences(X_train, maxlen = maxlen)\n",
        "X_test = pad_sequences(X_test, maxlen = maxlen)"
      ],
      "id": "0d05c8f3",
      "execution_count": 5,
      "outputs": [
        {
          "output_type": "stream",
          "text": [
            "Downloading data from https://storage.googleapis.com/tensorflow/tf-keras-datasets/imdb.npz\n",
            "17465344/17464789 [==============================] - 0s 0us/step\n"
          ],
          "name": "stdout"
        }
      ]
    },
    {
      "cell_type": "code",
      "metadata": {
        "id": "c2799d70",
        "colab": {
          "base_uri": "https://localhost:8080/"
        },
        "outputId": "c12af41b-dbf6-4bec-fd90-40372381fd02"
      },
      "source": [
        "print(X_train.shape)\n",
        "print(y_train.shape)\n",
        "print(X_test.shape)\n",
        "print(y_test.shape)"
      ],
      "id": "c2799d70",
      "execution_count": 6,
      "outputs": [
        {
          "output_type": "stream",
          "text": [
            "(25000, 200)\n",
            "(25000,)\n",
            "(25000, 200)\n",
            "(25000,)\n"
          ],
          "name": "stdout"
        }
      ]
    },
    {
      "cell_type": "markdown",
      "metadata": {
        "id": "Kzn_DM2W5H-v"
      },
      "source": [
        "### Sequence on the data"
      ],
      "id": "Kzn_DM2W5H-v"
    },
    {
      "cell_type": "code",
      "metadata": {
        "id": "838898cc"
      },
      "source": [
        "X = np.concatenate((X_train, X_test), axis = 0)"
      ],
      "id": "838898cc",
      "execution_count": 7,
      "outputs": []
    },
    {
      "cell_type": "code",
      "metadata": {
        "id": "40663ce9"
      },
      "source": [
        "y = np.concatenate((y_train, y_test), axis = 0)"
      ],
      "id": "40663ce9",
      "execution_count": 8,
      "outputs": []
    },
    {
      "cell_type": "code",
      "metadata": {
        "id": "b8840733"
      },
      "source": [
        "def Vector(sequences, max_features = 10000):\n",
        "    results = np.zeros((len(sequences), max_features))\n",
        "    for i, sequence in enumerate(sequences):\n",
        "        results[i, sequence] = 1\n",
        "    return results"
      ],
      "id": "b8840733",
      "execution_count": 9,
      "outputs": []
    },
    {
      "cell_type": "code",
      "metadata": {
        "id": "85ad5f0b"
      },
      "source": [
        "X_features = Vector(X)"
      ],
      "id": "85ad5f0b",
      "execution_count": 10,
      "outputs": []
    },
    {
      "cell_type": "code",
      "metadata": {
        "id": "65b2b6b1"
      },
      "source": [
        "y_label = np.array(y).astype('float32')"
      ],
      "id": "65b2b6b1",
      "execution_count": 11,
      "outputs": []
    },
    {
      "cell_type": "markdown",
      "metadata": {
        "id": "sWyuy0pB5czB"
      },
      "source": [
        "### Data Analysis"
      ],
      "id": "sWyuy0pB5czB"
    },
    {
      "cell_type": "code",
      "metadata": {
        "id": "d840df00",
        "colab": {
          "base_uri": "https://localhost:8080/"
        },
        "outputId": "8a339327-3018-4a9e-b845-cb09f6af0726"
      },
      "source": [
        "print(X.shape)"
      ],
      "id": "d840df00",
      "execution_count": 12,
      "outputs": [
        {
          "output_type": "stream",
          "text": [
            "(50000, 200)\n"
          ],
          "name": "stdout"
        }
      ]
    },
    {
      "cell_type": "code",
      "metadata": {
        "id": "bd947d3c",
        "colab": {
          "base_uri": "https://localhost:8080/"
        },
        "outputId": "64fa2b46-8de1-4e13-987b-3cdae502c227"
      },
      "source": [
        "print(y.shape)"
      ],
      "id": "bd947d3c",
      "execution_count": 13,
      "outputs": [
        {
          "output_type": "stream",
          "text": [
            "(50000,)\n"
          ],
          "name": "stdout"
        }
      ]
    },
    {
      "cell_type": "code",
      "metadata": {
        "id": "db77d8d0",
        "colab": {
          "base_uri": "https://localhost:8080/"
        },
        "outputId": "6c1b34f5-cc9c-4173-b84b-361274fb9565"
      },
      "source": [
        "len(np.unique(np.hstack(X)))"
      ],
      "id": "db77d8d0",
      "execution_count": 14,
      "outputs": [
        {
          "output_type": "execute_result",
          "data": {
            "text/plain": [
              "9999"
            ]
          },
          "metadata": {
            "tags": []
          },
          "execution_count": 14
        }
      ]
    },
    {
      "cell_type": "code",
      "metadata": {
        "id": "1378babc",
        "colab": {
          "base_uri": "https://localhost:8080/"
        },
        "outputId": "0a5bb6ea-69c9-4356-93f4-5e08ea61736a"
      },
      "source": [
        "len(np.unique(y))"
      ],
      "id": "1378babc",
      "execution_count": 15,
      "outputs": [
        {
          "output_type": "execute_result",
          "data": {
            "text/plain": [
              "2"
            ]
          },
          "metadata": {
            "tags": []
          },
          "execution_count": 15
        }
      ]
    },
    {
      "cell_type": "code",
      "metadata": {
        "id": "9d8a2952",
        "colab": {
          "base_uri": "https://localhost:8080/"
        },
        "outputId": "9ff07dd5-37af-42db-d5b4-e457e13e1711"
      },
      "source": [
        "X[3]"
      ],
      "id": "9d8a2952",
      "execution_count": 16,
      "outputs": [
        {
          "output_type": "execute_result",
          "data": {
            "text/plain": [
              "array([   4,  341,    7,   27,  846,   10,   10,   29,    9, 1906,    8,\n",
              "         97,    6,  236,    2, 1311,    8,    4,    2,    7,   31,    7,\n",
              "          2,   91,    2, 3987,   70,    4,  882,   30,  579,   42,    9,\n",
              "         12,   32,   11,  537,   10,   10,   11,   14,   65,   44,  537,\n",
              "         75,    2, 1775, 3353,    2, 1846,    4,    2,    7,  154,    5,\n",
              "          4,  518,   53,    2,    2,    7, 3211,  882,   11,  399,   38,\n",
              "         75,  257, 3807,   19,    2,   17,   29,  456,    4,   65,    7,\n",
              "         27,  205,  113,   10,   10,    2,    4,    2,    2,    9,  242,\n",
              "          4,   91, 1202,    2,    5, 2070,  307,   22,    7, 5168,  126,\n",
              "         93,   40,    2,   13,  188, 1076, 3222,   19,    4,    2,    7,\n",
              "       2348,  537,   23,   53,  537,   21,   82,   40,    2,   13,    2,\n",
              "         14,  280,   13,  219,    4,    2,  431,  758,  859,    4,  953,\n",
              "       1052,    2,    7, 5991,    5,   94,   40,   25,  238,   60,    2,\n",
              "          4,    2,  804,    2,    7,    4, 9941,  132,    8,   67,    6,\n",
              "         22,   15,    9,  283,    8, 5168,   14,   31,    9,  242,  955,\n",
              "         48,   25,  279,    2,   23,   12, 1685,  195,   25,  238,   60,\n",
              "        796,    2,    4,  671,    7, 2804,    5,    4,  559,  154,  888,\n",
              "          7,  726,   50,   26,   49, 7008,   15,  566,   30,  579,   21,\n",
              "         64, 2574], dtype=int32)"
            ]
          },
          "metadata": {
            "tags": []
          },
          "execution_count": 16
        }
      ]
    },
    {
      "cell_type": "code",
      "metadata": {
        "id": "0d791528",
        "colab": {
          "base_uri": "https://localhost:8080/"
        },
        "outputId": "635f5620-5db4-49c1-f8bb-b212aa1c848c"
      },
      "source": [
        "y[3]"
      ],
      "id": "0d791528",
      "execution_count": 17,
      "outputs": [
        {
          "output_type": "execute_result",
          "data": {
            "text/plain": [
              "1"
            ]
          },
          "metadata": {
            "tags": []
          },
          "execution_count": 17
        }
      ]
    },
    {
      "cell_type": "markdown",
      "metadata": {
        "id": "JU0KaYhJ5i-n"
      },
      "source": [
        "### Decoding the values"
      ],
      "id": "JU0KaYhJ5i-n"
    },
    {
      "cell_type": "code",
      "metadata": {
        "id": "2c7b6f11",
        "colab": {
          "base_uri": "https://localhost:8080/"
        },
        "outputId": "22769c22-59ad-40e8-e498-c1919a69a18d"
      },
      "source": [
        "index = imdb.get_word_index()\n",
        "index_inverse = dict([(value, key) for (key, value) in index.items()])"
      ],
      "id": "2c7b6f11",
      "execution_count": 18,
      "outputs": [
        {
          "output_type": "stream",
          "text": [
            "Downloading data from https://storage.googleapis.com/tensorflow/tf-keras-datasets/imdb_word_index.json\n",
            "1646592/1641221 [==============================] - 0s 0us/step\n"
          ],
          "name": "stdout"
        }
      ]
    },
    {
      "cell_type": "code",
      "metadata": {
        "id": "50a33176",
        "colab": {
          "base_uri": "https://localhost:8080/",
          "height": 120
        },
        "outputId": "b608b172-7b7d-45a0-d19d-b48ed3193a82"
      },
      "source": [
        "decode = ' '.join([index_inverse.get(i - 2, '#') for i in X[3]])\n",
        "decode"
      ],
      "id": "50a33176",
      "execution_count": 19,
      "outputs": [
        {
          "output_type": "execute_result",
          "data": {
            "application/vnd.google.colaboratory.intrinsic+json": {
              "type": "string"
            },
            "text/plain": [
              "\"and 3 to have move in in be br saving is them of since # door is and # to all to # don't # kidding were and romance one chance just br i at it stuff in in it that really it's stuff much # media believing # plots and # to thing a and car when # # to noted romance it often from much found discovery movie # for be 5 and really to have action plot in in # and # # br kind and don't cause # a grown john on to stargate does its her # this horror uses larger movie and # to satisfying stuff not when stuff film into her # this # that sense this almost and # sort stand japanese and cheesy wasted # to garner a then her are performance my # and # tried # to and starving here is their of on was br actor is stargate that all br kind setting some are once # not i roll long are performance my viewers # and episodes to funnier a and says thing leaves to predictable what his there sided was violence one chance film story friendly\""
            ]
          },
          "metadata": {
            "tags": []
          },
          "execution_count": 19
        }
      ]
    },
    {
      "cell_type": "markdown",
      "metadata": {
        "id": "eypjkpik5vBH"
      },
      "source": [
        "### Train & Test"
      ],
      "id": "eypjkpik5vBH"
    },
    {
      "cell_type": "code",
      "metadata": {
        "id": "b7d923a1"
      },
      "source": [
        "from sklearn.model_selection import train_test_split\n",
        "X_train, X_test, y_train, y_test = train_test_split(X_features, y_label, random_state = 3, test_size = 0.3)"
      ],
      "id": "b7d923a1",
      "execution_count": 20,
      "outputs": []
    },
    {
      "cell_type": "code",
      "metadata": {
        "id": "ecQKZ4ch0bOO"
      },
      "source": [
        "import tensorflow as tf\n",
        "from tensorflow.keras import Sequential\n",
        "from tensorflow.keras.layers import Dense, Dropout"
      ],
      "id": "ecQKZ4ch0bOO",
      "execution_count": 21,
      "outputs": []
    },
    {
      "cell_type": "code",
      "metadata": {
        "id": "8561063a"
      },
      "source": [
        "tf.keras.backend.clear_session()\n",
        "model = Sequential()\n",
        "\n",
        "model.add(Dense(128, activation = 'relu', kernel_initializer = 'he_normal', input_shape = (10000,)))\n",
        "model.add(Dense(64, activation = 'relu', kernel_initializer = 'he_normal'))\n",
        "model.add(Dropout(rate = 0.2))\n",
        "\n",
        "model.add(Dense(32, activation = 'relu', kernel_initializer = 'he_normal'))\n",
        "model.add(Dense(32, activation = 'relu', kernel_initializer = 'he_normal'))\n",
        "model.add(Dropout(rate = 0.2))\n",
        "model.add(Dense(1, activation = 'sigmoid'))"
      ],
      "id": "8561063a",
      "execution_count": 22,
      "outputs": []
    },
    {
      "cell_type": "code",
      "metadata": {
        "id": "w2OGhd7W2lOI",
        "colab": {
          "base_uri": "https://localhost:8080/"
        },
        "outputId": "dcb433d5-db74-44b1-d29f-d18e8c125963"
      },
      "source": [
        "model.compile(loss = 'binary_crossentropy', optimizer = 'adam', metrics = ['accuracy'])\n",
        "model.summary()"
      ],
      "id": "w2OGhd7W2lOI",
      "execution_count": 23,
      "outputs": [
        {
          "output_type": "stream",
          "text": [
            "Model: \"sequential\"\n",
            "_________________________________________________________________\n",
            "Layer (type)                 Output Shape              Param #   \n",
            "=================================================================\n",
            "dense (Dense)                (None, 128)               1280128   \n",
            "_________________________________________________________________\n",
            "dense_1 (Dense)              (None, 64)                8256      \n",
            "_________________________________________________________________\n",
            "dropout (Dropout)            (None, 64)                0         \n",
            "_________________________________________________________________\n",
            "dense_2 (Dense)              (None, 32)                2080      \n",
            "_________________________________________________________________\n",
            "dense_3 (Dense)              (None, 32)                1056      \n",
            "_________________________________________________________________\n",
            "dropout_1 (Dropout)          (None, 32)                0         \n",
            "_________________________________________________________________\n",
            "dense_4 (Dense)              (None, 1)                 33        \n",
            "=================================================================\n",
            "Total params: 1,291,553\n",
            "Trainable params: 1,291,553\n",
            "Non-trainable params: 0\n",
            "_________________________________________________________________\n"
          ],
          "name": "stdout"
        }
      ]
    },
    {
      "cell_type": "code",
      "metadata": {
        "id": "m8UObVow2909",
        "colab": {
          "base_uri": "https://localhost:8080/"
        },
        "outputId": "5c8ab2d0-9417-4fab-d3b9-ecfb4e8a784e"
      },
      "source": [
        "history = model.fit(X_train, y_train, epochs = 5, batch_size = 32, validation_data = (X_test, y_test))"
      ],
      "id": "m8UObVow2909",
      "execution_count": 24,
      "outputs": [
        {
          "output_type": "stream",
          "text": [
            "Epoch 1/5\n",
            "1094/1094 [==============================] - 18s 15ms/step - loss: 0.3396 - accuracy: 0.8541 - val_loss: 0.2881 - val_accuracy: 0.8793\n",
            "Epoch 2/5\n",
            "1094/1094 [==============================] - 15s 14ms/step - loss: 0.2046 - accuracy: 0.9170 - val_loss: 0.3059 - val_accuracy: 0.8753\n",
            "Epoch 3/5\n",
            "1094/1094 [==============================] - 17s 15ms/step - loss: 0.1078 - accuracy: 0.9590 - val_loss: 0.3959 - val_accuracy: 0.8687\n",
            "Epoch 4/5\n",
            "1094/1094 [==============================] - 15s 14ms/step - loss: 0.0404 - accuracy: 0.9857 - val_loss: 0.7127 - val_accuracy: 0.8607\n",
            "Epoch 5/5\n",
            "1094/1094 [==============================] - 14s 13ms/step - loss: 0.0191 - accuracy: 0.9938 - val_loss: 0.8047 - val_accuracy: 0.8640\n"
          ],
          "name": "stdout"
        }
      ]
    },
    {
      "cell_type": "markdown",
      "metadata": {
        "id": "KUUKJjUGB_0q"
      },
      "source": [
        "### Plots & Results"
      ],
      "id": "KUUKJjUGB_0q"
    },
    {
      "cell_type": "code",
      "metadata": {
        "colab": {
          "base_uri": "https://localhost:8080/",
          "height": 579
        },
        "id": "31160FZDzzQK",
        "outputId": "21a211ea-fa98-4aa0-8af3-9fd24f584a56"
      },
      "source": [
        "import matplotlib.pyplot as plt\n",
        "accuracy = history.history['accuracy']\n",
        "val_accuracy = history.history['val_accuracy']\n",
        "loss = history.history['loss']\n",
        "val_loss = history.history['val_loss']\n",
        "epochs = range(len(accuracy))\n",
        "\n",
        "plt.plot(epochs, accuracy, label = 'Training Accuracy')\n",
        "plt.plot(epochs, val_accuracy, label = 'Validation Accuracy')\n",
        "plt.title('Training and validaiton Accuracy')\n",
        "plt.legend(loc = 'lower right')\n",
        "plt.figure()\n",
        "\n",
        "plt.plot(epochs, loss, label = 'Training loss')\n",
        "plt.plot(epochs, val_loss, label = 'Validation loss')\n",
        "plt.title('Training and validaiton loss')\n",
        "plt.legend(loc = 'lower right')\n",
        "plt.figure()"
      ],
      "id": "31160FZDzzQK",
      "execution_count": 25,
      "outputs": [
        {
          "output_type": "execute_result",
          "data": {
            "text/plain": [
              "<Figure size 432x288 with 0 Axes>"
            ]
          },
          "metadata": {
            "tags": []
          },
          "execution_count": 25
        },
        {
          "output_type": "display_data",
          "data": {
            "image/png": "[encoded data removed]",
            "text/plain": [
              "<Figure size 432x288 with 1 Axes>"
            ]
          },
          "metadata": {
            "tags": [],
            "needs_background": "light"
          }
        },
        {
          "output_type": "display_data",
          "data": {
            "image/png": "[encoded data removed]",
            "text/plain": [
              "<Figure size 432x288 with 1 Axes>"
            ]
          },
          "metadata": {
            "tags": [],
            "needs_background": "light"
          }
        },
        {
          "output_type": "display_data",
          "data": {
            "text/plain": [
              "<Figure size 432x288 with 0 Axes>"
            ]
          },
          "metadata": {
            "tags": []
          }
        }
      ]
    },
    {
      "cell_type": "code",
      "metadata": {
        "id": "VHimUOnnxQy4"
      },
      "source": [
        "from sklearn.metrics import classification_report"
      ],
      "id": "VHimUOnnxQy4",
      "execution_count": 28,
      "outputs": []
    },
    {
      "cell_type": "code",
      "metadata": {
        "id": "OPEsF9u_Dndp"
      },
      "source": [
        "y_predict = model.predict_classes(X_test)"
      ],
      "id": "OPEsF9u_Dndp",
      "execution_count": 29,
      "outputs": []
    },
    {
      "cell_type": "code",
      "metadata": {
        "colab": {
          "base_uri": "https://localhost:8080/"
        },
        "id": "GfFomgUUxXp6",
        "outputId": "f48c38e9-c987-4a45-98d9-ebde8fd62efa"
      },
      "source": [
        "print(classification_report(y_test, y_predict))"
      ],
      "id": "GfFomgUUxXp6",
      "execution_count": 30,
      "outputs": [
        {
          "output_type": "stream",
          "text": [
            "              precision    recall  f1-score   support\n",
            "\n",
            "         0.0       0.88      0.84      0.86      7587\n",
            "         1.0       0.85      0.88      0.87      7413\n",
            "\n",
            "    accuracy                           0.86     15000\n",
            "   macro avg       0.86      0.86      0.86     15000\n",
            "weighted avg       0.86      0.86      0.86     15000\n",
            "\n"
          ],
          "name": "stdout"
        }
      ]
    },
    {
      "cell_type": "markdown",
      "metadata": {
        "id": "MXF5Vo9cCPg0"
      },
      "source": [
        "### Prediction"
      ],
      "id": "MXF5Vo9cCPg0"
    },
    {
      "cell_type": "code",
      "metadata": {
        "colab": {
          "base_uri": "https://localhost:8080/"
        },
        "id": "OMi6AhqXxefR",
        "outputId": "a043a45a-63bc-4e7c-a5d9-bb0f1d8dd2de"
      },
      "source": [
        "decode_actual = ' '.join([index_inverse.get(i - 2, '#') for i in X[10]])\n",
        "print(decode_actual)"
      ],
      "id": "OMi6AhqXxefR",
      "execution_count": 31,
      "outputs": [
        {
          "output_type": "stream",
          "text": [
            "herself valentine a social is clips than 4 look awards # latter of because hear with and on and take was don't to i instead book outside and thrown weren't musicals # was and on herself up eats a that ginger epics and thrown nice to and pops search is kids involving is pay has to and musicals out up fantastic is will tries too out keep effects was and fights br and actors was see # other a that on wondering was for and look # was much were acting see one fun to sad good br pair and arm a that random is collect was # makes better fat is one down would've and on br directors with of cast to ideas nudity and thrown never and watch his at up least it had action make a and take was and different lines interesting instead not then action seen br up than there's having childish was and on viewer onto an and still viewer one single short for and money between director reason a social is one down agrees evil # br of women because however on a all to and love to and buddy myself slasher t\n"
          ],
          "name": "stdout"
        }
      ]
    },
    {
      "cell_type": "code",
      "metadata": {
        "colab": {
          "base_uri": "https://localhost:8080/"
        },
        "id": "Jr4R5_fNy8ry",
        "outputId": "094f576d-d17c-456f-bdfe-e2e7fbbc325e"
      },
      "source": [
        "print('Actual Sentiment:', y[10])\n",
        "print('Predicted Senitment:', y_predict[10][0])"
      ],
      "id": "Jr4R5_fNy8ry",
      "execution_count": 32,
      "outputs": [
        {
          "output_type": "stream",
          "text": [
            "Actual Sentiment: 1\n",
            "Predicted Senitment: 1\n"
          ],
          "name": "stdout"
        }
      ]
    },
    {
      "cell_type": "markdown",
      "metadata": {
        "id": "c2dqtcBCCiQK"
      },
      "source": [
        "### Conclusion"
      ],
      "id": "c2dqtcBCCiQK"
    },
    {
      "cell_type": "markdown",
      "metadata": {
        "id": "hLgHfSF6ClT6"
      },
      "source": [
        "The results of the model are adequate because its overfitted. In the classification report, the F1 score for 0 is 86% and 1 is 87%. The methodology used in the model is average and applied simple architecture. The prediction of the sentiment analysis is good. If we want to improve the results, then adding some new algorithms and features like RNN-LSTM which gives better accuracy."
      ],
      "id": "hLgHfSF6ClT6"
    }
  ]
}