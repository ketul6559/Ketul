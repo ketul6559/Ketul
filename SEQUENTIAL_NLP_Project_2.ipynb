{
  "nbformat": 4,
  "nbformat_minor": 5,
  "metadata": {
    "kernelspec": {
      "display_name": "Python 3",
      "language": "python",
      "name": "python3"
    },
    "language_info": {
      "codemirror_mode": {
        "name": "ipython",
        "version": 3
      },
      "file_extension": ".py",
      "mimetype": "text/x-python",
      "name": "python",
      "nbconvert_exporter": "python",
      "pygments_lexer": "ipython3",
      "version": "3.8.8"
    },
    "colab": {
      "name": "SEQUENTIAL NLP - Project 2.ipynb",
      "provenance": [],
      "collapsed_sections": []
    }
  },
  "cells": [
    {
      "cell_type": "markdown",
      "metadata": {
        "id": "2048867b"
      },
      "source": [
        "### Importing the data "
      ],
      "id": "2048867b"
    },
    {
      "cell_type": "code",
      "metadata": {
        "colab": {
          "base_uri": "https://localhost:8080/"
        },
        "id": "tdOe-MPnb_bI",
        "outputId": "c28172e0-f49a-4eb9-f99f-a8876cf16a42"
      },
      "source": [
        "from google.colab import drive\n",
        "drive.mount('/content/drive')"
      ],
      "id": "tdOe-MPnb_bI",
      "execution_count": 1,
      "outputs": [
        {
          "output_type": "stream",
          "text": [
            "Mounted at /content/drive\n"
          ],
          "name": "stdout"
        }
      ]
    },
    {
      "cell_type": "code",
      "metadata": {
        "id": "5462f82c"
      },
      "source": [
        "import pandas as pd\n",
        "import numpy as np\n",
        "import re\n",
        "import warnings\n",
        "warnings.filterwarnings('ignore')"
      ],
      "id": "5462f82c",
      "execution_count": 2,
      "outputs": []
    },
    {
      "cell_type": "code",
      "metadata": {
        "id": "6e028f22"
      },
      "source": [
        "import tensorflow as tf\n",
        "from tensorflow.keras.preprocessing.text import Tokenizer\n",
        "from tensorflow.keras.models import Sequential\n",
        "from tensorflow.keras.layers import Dense, LSTM, Embedding, Dropout, GlobalMaxPool1D, Bidirectional\n",
        "from tensorflow.keras.preprocessing.sequence import pad_sequences"
      ],
      "id": "6e028f22",
      "execution_count": 3,
      "outputs": []
    },
    {
      "cell_type": "code",
      "metadata": {
        "colab": {
          "base_uri": "https://localhost:8080/",
          "height": 204
        },
        "id": "29b98e39",
        "outputId": "0e369147-8b8f-4a72-8337-0c1a2aeaf7e0"
      },
      "source": [
        "df = pd.read_json('/content/drive/MyDrive/Colab Notebooks/Project/Sarcasm_Headlines_Dataset.json', lines = True)\n",
        "df.head()"
      ],
      "id": "29b98e39",
      "execution_count": 5,
      "outputs": [
        {
          "output_type": "execute_result",
          "data": {
            "text/html": [
              "<div>\n",
              "<style scoped>\n",
              "    .dataframe tbody tr th:only-of-type {\n",
              "        vertical-align: middle;\n",
              "    }\n",
              "\n",
              "    .dataframe tbody tr th {\n",
              "        vertical-align: top;\n",
              "    }\n",
              "\n",
              "    .dataframe thead th {\n",
              "        text-align: right;\n",
              "    }\n",
              "</style>\n",
              "<table border=\"1\" class=\"dataframe\">\n",
              "  <thead>\n",
              "    <tr style=\"text-align: right;\">\n",
              "      <th></th>\n",
              "      <th>is_sarcastic</th>\n",
              "      <th>headline</th>\n",
              "      <th>article_link</th>\n",
              "    </tr>\n",
              "  </thead>\n",
              "  <tbody>\n",
              "    <tr>\n",
              "      <th>0</th>\n",
              "      <td>1</td>\n",
              "      <td>thirtysomething scientists unveil doomsday clo...</td>\n",
              "      <td>https://www.theonion.com/thirtysomething-scien...</td>\n",
              "    </tr>\n",
              "    <tr>\n",
              "      <th>1</th>\n",
              "      <td>0</td>\n",
              "      <td>dem rep. totally nails why congress is falling...</td>\n",
              "      <td>https://www.huffingtonpost.com/entry/donna-edw...</td>\n",
              "    </tr>\n",
              "    <tr>\n",
              "      <th>2</th>\n",
              "      <td>0</td>\n",
              "      <td>eat your veggies: 9 deliciously different recipes</td>\n",
              "      <td>https://www.huffingtonpost.com/entry/eat-your-...</td>\n",
              "    </tr>\n",
              "    <tr>\n",
              "      <th>3</th>\n",
              "      <td>1</td>\n",
              "      <td>inclement weather prevents liar from getting t...</td>\n",
              "      <td>https://local.theonion.com/inclement-weather-p...</td>\n",
              "    </tr>\n",
              "    <tr>\n",
              "      <th>4</th>\n",
              "      <td>1</td>\n",
              "      <td>mother comes pretty close to using word 'strea...</td>\n",
              "      <td>https://www.theonion.com/mother-comes-pretty-c...</td>\n",
              "    </tr>\n",
              "  </tbody>\n",
              "</table>\n",
              "</div>"
            ],
            "text/plain": [
              "   is_sarcastic  ...                                       article_link\n",
              "0             1  ...  https://www.theonion.com/thirtysomething-scien...\n",
              "1             0  ...  https://www.huffingtonpost.com/entry/donna-edw...\n",
              "2             0  ...  https://www.huffingtonpost.com/entry/eat-your-...\n",
              "3             1  ...  https://local.theonion.com/inclement-weather-p...\n",
              "4             1  ...  https://www.theonion.com/mother-comes-pretty-c...\n",
              "\n",
              "[5 rows x 3 columns]"
            ]
          },
          "metadata": {
            "tags": []
          },
          "execution_count": 5
        }
      ]
    },
    {
      "cell_type": "code",
      "metadata": {
        "colab": {
          "base_uri": "https://localhost:8080/"
        },
        "id": "c219b0e1",
        "outputId": "574b9399-0faf-449d-9f45-841e7e0e1f1f"
      },
      "source": [
        "df.shape"
      ],
      "id": "c219b0e1",
      "execution_count": 6,
      "outputs": [
        {
          "output_type": "execute_result",
          "data": {
            "text/plain": [
              "(28619, 3)"
            ]
          },
          "metadata": {
            "tags": []
          },
          "execution_count": 6
        }
      ]
    },
    {
      "cell_type": "code",
      "metadata": {
        "colab": {
          "base_uri": "https://localhost:8080/"
        },
        "id": "5ce7c6b8",
        "outputId": "ed938142-2b38-406f-96f1-715b51dfb8e6"
      },
      "source": [
        "df.info()"
      ],
      "id": "5ce7c6b8",
      "execution_count": 7,
      "outputs": [
        {
          "output_type": "stream",
          "text": [
            "<class 'pandas.core.frame.DataFrame'>\n",
            "RangeIndex: 28619 entries, 0 to 28618\n",
            "Data columns (total 3 columns):\n",
            " #   Column        Non-Null Count  Dtype \n",
            "---  ------        --------------  ----- \n",
            " 0   is_sarcastic  28619 non-null  int64 \n",
            " 1   headline      28619 non-null  object\n",
            " 2   article_link  28619 non-null  object\n",
            "dtypes: int64(1), object(2)\n",
            "memory usage: 670.9+ KB\n"
          ],
          "name": "stdout"
        }
      ]
    },
    {
      "cell_type": "code",
      "metadata": {
        "colab": {
          "base_uri": "https://localhost:8080/"
        },
        "id": "ee7fa8bc",
        "outputId": "dba497c4-c112-4611-d94f-7c7c49f4eea2"
      },
      "source": [
        "df.isnull().sum()"
      ],
      "id": "ee7fa8bc",
      "execution_count": 8,
      "outputs": [
        {
          "output_type": "execute_result",
          "data": {
            "text/plain": [
              "is_sarcastic    0\n",
              "headline        0\n",
              "article_link    0\n",
              "dtype: int64"
            ]
          },
          "metadata": {
            "tags": []
          },
          "execution_count": 8
        }
      ]
    },
    {
      "cell_type": "code",
      "metadata": {
        "colab": {
          "base_uri": "https://localhost:8080/",
          "height": 362
        },
        "id": "ebeac826",
        "outputId": "9ade47f7-af39-48db-de8f-56015f132c54"
      },
      "source": [
        "print(df.groupby(['is_sarcastic']).count())\n",
        "df.groupby(['is_sarcastic']).count().plot(kind = 'bar')"
      ],
      "id": "ebeac826",
      "execution_count": 9,
      "outputs": [
        {
          "output_type": "stream",
          "text": [
            "              headline  article_link\n",
            "is_sarcastic                        \n",
            "0                14985         14985\n",
            "1                13634         13634\n"
          ],
          "name": "stdout"
        },
        {
          "output_type": "execute_result",
          "data": {
            "text/plain": [
              "<matplotlib.axes._subplots.AxesSubplot at 0x7f9686894610>"
            ]
          },
          "metadata": {
            "tags": []
          },
          "execution_count": 9
        },
        {
          "output_type": "display_data",
          "data": {
            "image/png": "[encoded data removed]",
            "text/plain": [
              "<Figure size 432x288 with 1 Axes>"
            ]
          },
          "metadata": {
            "tags": [],
            "needs_background": "light"
          }
        }
      ]
    },
    {
      "cell_type": "markdown",
      "metadata": {
        "id": "qosQq8xORx0s"
      },
      "source": [
        "Sarcastic and non-sarcastic are almost balanced."
      ],
      "id": "qosQq8xORx0s"
    },
    {
      "cell_type": "markdown",
      "metadata": {
        "id": "b2678239"
      },
      "source": [
        "###  Retain the important column"
      ],
      "id": "b2678239"
    },
    {
      "cell_type": "code",
      "metadata": {
        "id": "a65aa266"
      },
      "source": [
        "df['headline_modified'] = df['headline'].apply(lambda x : re.sub('[^A-Za-z]+',  ' ', x))\n",
        "df['headline_modified'] = df['headline_modified'].apply(lambda x : x.strip())\n",
        "df['headline_modified'] = df['headline_modified'].apply(lambda x : x.lower())"
      ],
      "id": "a65aa266",
      "execution_count": 10,
      "outputs": []
    },
    {
      "cell_type": "code",
      "metadata": {
        "colab": {
          "base_uri": "https://localhost:8080/",
          "height": 204
        },
        "id": "37ce8c1b",
        "outputId": "163713d3-d137-4a84-99a7-1b4280c1c779"
      },
      "source": [
        "df.sample(5)"
      ],
      "id": "37ce8c1b",
      "execution_count": 11,
      "outputs": [
        {
          "output_type": "execute_result",
          "data": {
            "text/html": [
              "<div>\n",
              "<style scoped>\n",
              "    .dataframe tbody tr th:only-of-type {\n",
              "        vertical-align: middle;\n",
              "    }\n",
              "\n",
              "    .dataframe tbody tr th {\n",
              "        vertical-align: top;\n",
              "    }\n",
              "\n",
              "    .dataframe thead th {\n",
              "        text-align: right;\n",
              "    }\n",
              "</style>\n",
              "<table border=\"1\" class=\"dataframe\">\n",
              "  <thead>\n",
              "    <tr style=\"text-align: right;\">\n",
              "      <th></th>\n",
              "      <th>is_sarcastic</th>\n",
              "      <th>headline</th>\n",
              "      <th>article_link</th>\n",
              "      <th>headline_modified</th>\n",
              "    </tr>\n",
              "  </thead>\n",
              "  <tbody>\n",
              "    <tr>\n",
              "      <th>5656</th>\n",
              "      <td>1</td>\n",
              "      <td>hollywood removes statue of louis b. mayer bec...</td>\n",
              "      <td>https://entertainment.theonion.com/hollywood-r...</td>\n",
              "      <td>hollywood removes statue of louis b mayer beck...</td>\n",
              "    </tr>\n",
              "    <tr>\n",
              "      <th>6615</th>\n",
              "      <td>0</td>\n",
              "      <td>merkel: isis poses major risk to europe</td>\n",
              "      <td>https://www.huffingtonpost.com/entry/merkel-is...</td>\n",
              "      <td>merkel isis poses major risk to europe</td>\n",
              "    </tr>\n",
              "    <tr>\n",
              "      <th>22009</th>\n",
              "      <td>0</td>\n",
              "      <td>big brothers big sisters honors nbc entertainm...</td>\n",
              "      <td>https://www.huffingtonpost.com/entry/big-broth...</td>\n",
              "      <td>big brothers big sisters honors nbc entertainm...</td>\n",
              "    </tr>\n",
              "    <tr>\n",
              "      <th>14293</th>\n",
              "      <td>1</td>\n",
              "      <td>trump called up for vietnam service after last...</td>\n",
              "      <td>https://politics.theonion.com/trump-called-up-...</td>\n",
              "      <td>trump called up for vietnam service after last...</td>\n",
              "    </tr>\n",
              "    <tr>\n",
              "      <th>26971</th>\n",
              "      <td>0</td>\n",
              "      <td>radical islamist preacher anjem choudary found...</td>\n",
              "      <td>https://www.huffingtonpost.com/entry/anjem-cho...</td>\n",
              "      <td>radical islamist preacher anjem choudary found...</td>\n",
              "    </tr>\n",
              "  </tbody>\n",
              "</table>\n",
              "</div>"
            ],
            "text/plain": [
              "       is_sarcastic  ...                                  headline_modified\n",
              "5656              1  ...  hollywood removes statue of louis b mayer beck...\n",
              "6615              0  ...             merkel isis poses major risk to europe\n",
              "22009             0  ...  big brothers big sisters honors nbc entertainm...\n",
              "14293             1  ...  trump called up for vietnam service after last...\n",
              "26971             0  ...  radical islamist preacher anjem choudary found...\n",
              "\n",
              "[5 rows x 4 columns]"
            ]
          },
          "metadata": {
            "tags": []
          },
          "execution_count": 11
        }
      ]
    },
    {
      "cell_type": "code",
      "metadata": {
        "id": "e20b2962"
      },
      "source": [
        "df.drop(['article_link', 'headline'], axis = 1, inplace = True)"
      ],
      "id": "e20b2962",
      "execution_count": 12,
      "outputs": []
    },
    {
      "cell_type": "markdown",
      "metadata": {
        "id": "a69ac14c"
      },
      "source": [
        "### Length of the sentence "
      ],
      "id": "a69ac14c"
    },
    {
      "cell_type": "code",
      "metadata": {
        "colab": {
          "base_uri": "https://localhost:8080/"
        },
        "id": "71debae9",
        "outputId": "c62e860f-8760-46df-f39e-b975a610f2e6"
      },
      "source": [
        "sarcastic = df.loc[df['is_sarcastic'] == 1]\n",
        "sarcastic_text = ' '.join(text for text in sarcastic['headline_modified'])\n",
        "print('The length of combined sarcastic text is:', len(sarcastic_text))"
      ],
      "id": "71debae9",
      "execution_count": 13,
      "outputs": [
        {
          "output_type": "stream",
          "text": [
            "The length of combined sarcastic text is: 890962\n"
          ],
          "name": "stdout"
        }
      ]
    },
    {
      "cell_type": "code",
      "metadata": {
        "colab": {
          "base_uri": "https://localhost:8080/"
        },
        "id": "df71be54",
        "outputId": "fd8a936b-e5cb-444c-b6df-4552be5a2ef1"
      },
      "source": [
        "non_sarcastic = df.loc[df['is_sarcastic'] == 0]\n",
        "non_sarcastic_text = ' '.join(text for text in non_sarcastic['headline_modified'])\n",
        "print('The length of combined non-sarcastic text is:', len(non_sarcastic_text))"
      ],
      "id": "df71be54",
      "execution_count": 14,
      "outputs": [
        {
          "output_type": "stream",
          "text": [
            "The length of combined non-sarcastic text is: 886589\n"
          ],
          "name": "stdout"
        }
      ]
    },
    {
      "cell_type": "code",
      "metadata": {
        "colab": {
          "base_uri": "https://localhost:8080/"
        },
        "id": "cfa3165b",
        "outputId": "3618bfb9-f378-40a2-dbaf-fa8ea9982760"
      },
      "source": [
        "line_len = df['headline_modified'].str.len()\n",
        "print('Mininmum length of line:', line_len.min())\n",
        "print('Maximum length of line:', line_len.max())"
      ],
      "id": "cfa3165b",
      "execution_count": 15,
      "outputs": [
        {
          "output_type": "stream",
          "text": [
            "Mininmum length of line: 4\n",
            "Maximum length of line: 911\n"
          ],
          "name": "stdout"
        }
      ]
    },
    {
      "cell_type": "code",
      "metadata": {
        "colab": {
          "base_uri": "https://localhost:8080/"
        },
        "id": "8b73fb59",
        "outputId": "0238357f-6e4e-4e49-8cf6-10eef54f73ca"
      },
      "source": [
        "word_len = df['headline_modified'].apply(lambda x: len(x.split(' ')))\n",
        "print('Mininmum length of word:', word_len.min())\n",
        "print('Maximum length of word:', word_len.max())"
      ],
      "id": "8b73fb59",
      "execution_count": 16,
      "outputs": [
        {
          "output_type": "stream",
          "text": [
            "Mininmum length of word: 1\n",
            "Maximum length of word: 152\n"
          ],
          "name": "stdout"
        }
      ]
    },
    {
      "cell_type": "markdown",
      "metadata": {
        "id": "ed78a42a"
      },
      "source": [
        "### Parameters"
      ],
      "id": "ed78a42a"
    },
    {
      "cell_type": "code",
      "metadata": {
        "id": "0a0ff9bc"
      },
      "source": [
        "maxlen = len(df['headline_modified'].max())"
      ],
      "id": "0a0ff9bc",
      "execution_count": 17,
      "outputs": []
    },
    {
      "cell_type": "code",
      "metadata": {
        "colab": {
          "base_uri": "https://localhost:8080/"
        },
        "id": "efec07b0",
        "outputId": "e0cae425-71e2-4aac-b37c-2a59f345c8e4"
      },
      "source": [
        "max([len(headline.split()) for headline in df['headline_modified']])"
      ],
      "id": "efec07b0",
      "execution_count": 18,
      "outputs": [
        {
          "output_type": "execute_result",
          "data": {
            "text/plain": [
              "152"
            ]
          },
          "metadata": {
            "tags": []
          },
          "execution_count": 18
        }
      ]
    },
    {
      "cell_type": "code",
      "metadata": {
        "id": "6943734f"
      },
      "source": [
        "max_features = 10000\n",
        "maxlen = maxlen\n",
        "embedding_size = 50"
      ],
      "id": "6943734f",
      "execution_count": 19,
      "outputs": []
    },
    {
      "cell_type": "code",
      "metadata": {
        "colab": {
          "base_uri": "https://localhost:8080/"
        },
        "id": "lq6qsITiQBXY",
        "outputId": "35d73298-c565-401e-aef8-b7037718a4fd"
      },
      "source": [
        "from sklearn.feature_extraction.text import CountVectorizer\n",
        "vect = CountVectorizer(stop_words='english', max_features = 5000)\n",
        "vect.fit(df['headline_modified'])"
      ],
      "id": "lq6qsITiQBXY",
      "execution_count": 47,
      "outputs": [
        {
          "output_type": "execute_result",
          "data": {
            "text/plain": [
              "CountVectorizer(analyzer='word', binary=False, decode_error='strict',\n",
              "                dtype=<class 'numpy.int64'>, encoding='utf-8', input='content',\n",
              "                lowercase=True, max_df=1.0, max_features=5000, min_df=1,\n",
              "                ngram_range=(1, 1), preprocessor=None, stop_words='english',\n",
              "                strip_accents=None, token_pattern='(?u)\\\\b\\\\w\\\\w+\\\\b',\n",
              "                tokenizer=None, vocabulary=None)"
            ]
          },
          "metadata": {
            "tags": []
          },
          "execution_count": 47
        }
      ]
    },
    {
      "cell_type": "code",
      "metadata": {
        "colab": {
          "base_uri": "https://localhost:8080/"
        },
        "id": "tMG92a4nQK25",
        "outputId": "57e31776-fa62-4451-a4ad-e3bb9ea7c63a"
      },
      "source": [
        "list(vect.vocabulary_.items())[:20]"
      ],
      "id": "tMG92a4nQK25",
      "execution_count": 49,
      "outputs": [
        {
          "output_type": "execute_result",
          "data": {
            "text/plain": [
              "[('scientists', 3925),\n",
              " ('unveil', 4718),\n",
              " ('clock', 837),\n",
              " ('hair', 1984),\n",
              " ('loss', 2671),\n",
              " ('rep', 3699),\n",
              " ('totally', 4576),\n",
              " ('nails', 2971),\n",
              " ('congress', 930),\n",
              " ('falling', 1613),\n",
              " ('short', 4056),\n",
              " ('gender', 1842),\n",
              " ('racial', 3560),\n",
              " ('equality', 1504),\n",
              " ('eat', 1411),\n",
              " ('different', 1256),\n",
              " ('recipes', 3630),\n",
              " ('weather', 4861),\n",
              " ('liar', 2589),\n",
              " ('getting', 1857)]"
            ]
          },
          "metadata": {
            "tags": []
          },
          "execution_count": 49
        }
      ]
    },
    {
      "cell_type": "markdown",
      "metadata": {
        "id": "4fea716a"
      },
      "source": [
        "### Features and labels"
      ],
      "id": "4fea716a"
    },
    {
      "cell_type": "code",
      "metadata": {
        "id": "cf3102e7"
      },
      "source": [
        "tokenizer = Tokenizer(num_words = max_features)\n",
        "tokenizer.fit_on_texts(list(df['headline_modified']))"
      ],
      "id": "cf3102e7",
      "execution_count": 20,
      "outputs": []
    },
    {
      "cell_type": "code",
      "metadata": {
        "id": "9c3282af"
      },
      "source": [
        "X = tokenizer.texts_to_sequences(df['headline_modified'])\n",
        "X = pad_sequences(X, maxlen = maxlen)"
      ],
      "id": "9c3282af",
      "execution_count": 21,
      "outputs": []
    },
    {
      "cell_type": "code",
      "metadata": {
        "id": "dd83116f"
      },
      "source": [
        "y = np.asarray(df['is_sarcastic'])"
      ],
      "id": "dd83116f",
      "execution_count": 22,
      "outputs": []
    },
    {
      "cell_type": "code",
      "metadata": {
        "colab": {
          "base_uri": "https://localhost:8080/"
        },
        "id": "QgRAb9HxdCdF",
        "outputId": "bccba7a9-67f9-4792-e22d-415b6a0a8baa"
      },
      "source": [
        "len(X)"
      ],
      "id": "QgRAb9HxdCdF",
      "execution_count": 23,
      "outputs": [
        {
          "output_type": "execute_result",
          "data": {
            "text/plain": [
              "28619"
            ]
          },
          "metadata": {
            "tags": []
          },
          "execution_count": 23
        }
      ]
    },
    {
      "cell_type": "code",
      "metadata": {
        "colab": {
          "base_uri": "https://localhost:8080/"
        },
        "id": "oYC089MrdErz",
        "outputId": "813d75e7-9717-496c-dd93-c29d1f1c7cc8"
      },
      "source": [
        "len(y)"
      ],
      "id": "oYC089MrdErz",
      "execution_count": 24,
      "outputs": [
        {
          "output_type": "execute_result",
          "data": {
            "text/plain": [
              "28619"
            ]
          },
          "metadata": {
            "tags": []
          },
          "execution_count": 24
        }
      ]
    },
    {
      "cell_type": "markdown",
      "metadata": {
        "id": "cae5fbcc"
      },
      "source": [
        "### Vocabulary size"
      ],
      "id": "cae5fbcc"
    },
    {
      "cell_type": "code",
      "metadata": {
        "colab": {
          "base_uri": "https://localhost:8080/"
        },
        "id": "0d4cf860",
        "outputId": "ae4927a5-e3d3-4c13-9ec7-301136b56fd9"
      },
      "source": [
        "num_words = len(tokenizer.word_index) + 1\n",
        "print('Vocabulary size:', num_words)"
      ],
      "id": "0d4cf860",
      "execution_count": 25,
      "outputs": [
        {
          "output_type": "stream",
          "text": [
            "Vocabulary size: 25916\n"
          ],
          "name": "stdout"
        }
      ]
    },
    {
      "cell_type": "markdown",
      "metadata": {
        "id": "e422cddd"
      },
      "source": [
        "### GloVe embeddings "
      ],
      "id": "e422cddd"
    },
    {
      "cell_type": "code",
      "metadata": {
        "id": "47c0f78d"
      },
      "source": [
        "embedding_file = '/content/drive/MyDrive/Colab Notebooks/Lab/glove.6B.50d.txt'\n",
        "embeddings = {}\n",
        "for o in open(embedding_file, encoding = 'utf8'):\n",
        "    word = o.split(' ')[0]\n",
        "    embd = o.split(' ')[1:]\n",
        "    embd = np.array(embd, dtype = 'float32')\n",
        "    embeddings[word] = embd"
      ],
      "id": "47c0f78d",
      "execution_count": 26,
      "outputs": []
    },
    {
      "cell_type": "code",
      "metadata": {
        "colab": {
          "base_uri": "https://localhost:8080/"
        },
        "id": "6a14f997",
        "outputId": "40599d02-c4ab-4caf-e3b0-36f684098607"
      },
      "source": [
        "len(embeddings.values())"
      ],
      "id": "6a14f997",
      "execution_count": 27,
      "outputs": [
        {
          "output_type": "execute_result",
          "data": {
            "text/plain": [
              "400000"
            ]
          },
          "metadata": {
            "tags": []
          },
          "execution_count": 27
        }
      ]
    },
    {
      "cell_type": "code",
      "metadata": {
        "id": "1941c99c"
      },
      "source": [
        "embedding_matrix = np.zeros((num_words, embedding_size))\n",
        "for word, i in tokenizer.word_index.items():\n",
        "    embedding_vector = embeddings.get(word)\n",
        "    if embedding_vector is not None:\n",
        "        embedding_matrix[i] = embedding_vector"
      ],
      "id": "1941c99c",
      "execution_count": 28,
      "outputs": []
    },
    {
      "cell_type": "code",
      "metadata": {
        "colab": {
          "base_uri": "https://localhost:8080/"
        },
        "id": "dec89d01",
        "outputId": "33a68f0d-132f-4b52-bb96-e3dea37127ac"
      },
      "source": [
        "len(embedding_matrix)"
      ],
      "id": "dec89d01",
      "execution_count": 29,
      "outputs": [
        {
          "output_type": "execute_result",
          "data": {
            "text/plain": [
              "25916"
            ]
          },
          "metadata": {
            "tags": []
          },
          "execution_count": 29
        }
      ]
    },
    {
      "cell_type": "markdown",
      "metadata": {
        "id": "78c7d9ce"
      },
      "source": [
        "### LSTM model "
      ],
      "id": "78c7d9ce"
    },
    {
      "cell_type": "code",
      "metadata": {
        "id": "8187bcd7"
      },
      "source": [
        "from sklearn.model_selection import train_test_split\n",
        "X_train, X_test, y_train, y_test = train_test_split(X, y, random_state = 3, test_size = 0.3)"
      ],
      "id": "8187bcd7",
      "execution_count": 30,
      "outputs": []
    },
    {
      "cell_type": "code",
      "metadata": {
        "id": "ae6c7fac"
      },
      "source": [
        "tf.keras.backend.clear_session()\n",
        "model = Sequential()\n",
        "\n",
        "model.add(Embedding(num_words, embedding_size, weights = [embedding_matrix], input_length = maxlen))\n",
        "model.add(Bidirectional(LSTM(128, return_sequences = True)))\n",
        "model.add(GlobalMaxPool1D())\n",
        "model.add(Dense(128, activation = 'relu'))\n",
        "model.add(Dense(128, activation = 'relu'))\n",
        "model.add(Dropout(0.2))\n",
        "model.add(Dense(1, activation = 'sigmoid'))"
      ],
      "id": "ae6c7fac",
      "execution_count": 31,
      "outputs": []
    },
    {
      "cell_type": "code",
      "metadata": {
        "colab": {
          "base_uri": "https://localhost:8080/"
        },
        "id": "71a96759",
        "outputId": "219287d7-dcb5-469b-9934-008db5e0d5e8"
      },
      "source": [
        "model.compile(loss = 'binary_crossentropy', optimizer = 'adam', metrics = ['accuracy'])\n",
        "model.summary()"
      ],
      "id": "71a96759",
      "execution_count": 32,
      "outputs": [
        {
          "output_type": "stream",
          "text": [
            "Model: \"sequential\"\n",
            "_________________________________________________________________\n",
            "Layer (type)                 Output Shape              Param #   \n",
            "=================================================================\n",
            "embedding (Embedding)        (None, 47, 50)            1295800   \n",
            "_________________________________________________________________\n",
            "bidirectional (Bidirectional (None, 47, 256)           183296    \n",
            "_________________________________________________________________\n",
            "global_max_pooling1d (Global (None, 256)               0         \n",
            "_________________________________________________________________\n",
            "dense (Dense)                (None, 128)               32896     \n",
            "_________________________________________________________________\n",
            "dense_1 (Dense)              (None, 128)               16512     \n",
            "_________________________________________________________________\n",
            "dropout (Dropout)            (None, 128)               0         \n",
            "_________________________________________________________________\n",
            "dense_2 (Dense)              (None, 1)                 129       \n",
            "=================================================================\n",
            "Total params: 1,528,633\n",
            "Trainable params: 1,528,633\n",
            "Non-trainable params: 0\n",
            "_________________________________________________________________\n"
          ],
          "name": "stdout"
        }
      ]
    },
    {
      "cell_type": "code",
      "metadata": {
        "colab": {
          "base_uri": "https://localhost:8080/"
        },
        "id": "ICVQzDyQckIv",
        "outputId": "3d53094f-dc8a-4740-eee3-51cb9b31ec8a"
      },
      "source": [
        "history = model.fit(X_train, y_train, batch_size = 128, epochs = 5, validation_data = (X_test, y_test))"
      ],
      "id": "ICVQzDyQckIv",
      "execution_count": 33,
      "outputs": [
        {
          "output_type": "stream",
          "text": [
            "Epoch 1/5\n",
            "157/157 [==============================] - 58s 342ms/step - loss: 0.5036 - accuracy: 0.7458 - val_loss: 0.3812 - val_accuracy: 0.8289\n",
            "Epoch 2/5\n",
            "157/157 [==============================] - 53s 335ms/step - loss: 0.3238 - accuracy: 0.8592 - val_loss: 0.3495 - val_accuracy: 0.8507\n",
            "Epoch 3/5\n",
            "157/157 [==============================] - 53s 338ms/step - loss: 0.2312 - accuracy: 0.9056 - val_loss: 0.3147 - val_accuracy: 0.8693\n",
            "Epoch 4/5\n",
            "157/157 [==============================] - 53s 336ms/step - loss: 0.1562 - accuracy: 0.9407 - val_loss: 0.3394 - val_accuracy: 0.8706\n",
            "Epoch 5/5\n",
            "157/157 [==============================] - 53s 335ms/step - loss: 0.1032 - accuracy: 0.9630 - val_loss: 0.3720 - val_accuracy: 0.8685\n"
          ],
          "name": "stdout"
        }
      ]
    },
    {
      "cell_type": "markdown",
      "metadata": {
        "id": "ZQJtZqdvD41P"
      },
      "source": [
        "### Evaluation"
      ],
      "id": "ZQJtZqdvD41P"
    },
    {
      "cell_type": "code",
      "metadata": {
        "colab": {
          "base_uri": "https://localhost:8080/"
        },
        "id": "7AehDD-CDRnY",
        "outputId": "9421e48f-4e90-498d-8eae-12bad063a50e"
      },
      "source": [
        "model.evaluate(X_test, y_test)"
      ],
      "id": "7AehDD-CDRnY",
      "execution_count": 37,
      "outputs": [
        {
          "output_type": "stream",
          "text": [
            "269/269 [==============================] - 7s 26ms/step - loss: 0.3720 - accuracy: 0.8685\n"
          ],
          "name": "stdout"
        },
        {
          "output_type": "execute_result",
          "data": {
            "text/plain": [
              "[0.372018426656723, 0.8685068488121033]"
            ]
          },
          "metadata": {
            "tags": []
          },
          "execution_count": 37
        }
      ]
    },
    {
      "cell_type": "code",
      "metadata": {
        "colab": {
          "base_uri": "https://localhost:8080/",
          "height": 579
        },
        "id": "eITAkC-sd3Ro",
        "outputId": "a48c6bfe-c453-4d4c-ca55-2f468f9b5350"
      },
      "source": [
        "import matplotlib.pyplot as plt\n",
        "accuracy = history.history['accuracy']\n",
        "val_accuracy = history.history['val_accuracy']\n",
        "loss = history.history['loss']\n",
        "val_loss = history.history['val_loss']\n",
        "epochs = range(len(accuracy))\n",
        "\n",
        "plt.plot(epochs, accuracy, label = 'Training Accuracy')\n",
        "plt.plot(epochs, val_accuracy, label = 'Validation Accuracy')\n",
        "plt.title('Training and validaiton Accuracy')\n",
        "plt.legend(loc = 'lower right')\n",
        "plt.figure()\n",
        "\n",
        "plt.plot(epochs, loss, label = 'Training loss')\n",
        "plt.plot(epochs, val_loss, label = 'Validation loss')\n",
        "plt.title('Training and validaiton loss')\n",
        "plt.legend(loc = 'Top right')\n",
        "plt.figure()"
      ],
      "id": "eITAkC-sd3Ro",
      "execution_count": 34,
      "outputs": [
        {
          "output_type": "execute_result",
          "data": {
            "text/plain": [
              "<Figure size 432x288 with 0 Axes>"
            ]
          },
          "metadata": {
            "tags": []
          },
          "execution_count": 34
        },
        {
          "output_type": "display_data",
          "data": {
            "image/png": "[encoded data removed]",
            "text/plain": [
              "<Figure size 432x288 with 1 Axes>"
            ]
          },
          "metadata": {
            "tags": [],
            "needs_background": "light"
          }
        },
        {
          "output_type": "display_data",
          "data": {
            "image/png": "[encoded data removed]",
            "text/plain": [
              "<Figure size 432x288 with 1 Axes>"
            ]
          },
          "metadata": {
            "tags": [],
            "needs_background": "light"
          }
        },
        {
          "output_type": "display_data",
          "data": {
            "text/plain": [
              "<Figure size 432x288 with 0 Axes>"
            ]
          },
          "metadata": {
            "tags": []
          }
        }
      ]
    },
    {
      "cell_type": "code",
      "metadata": {
        "colab": {
          "base_uri": "https://localhost:8080/"
        },
        "id": "KZoPe2CZecO9",
        "outputId": "50e47102-5700-4b8c-a686-ec6a9945adef"
      },
      "source": [
        "from sklearn.metrics import classification_report\n",
        "y_predict = model.predict_classes(X_test)\n",
        "print(classification_report(y_test, y_predict))"
      ],
      "id": "KZoPe2CZecO9",
      "execution_count": 35,
      "outputs": [
        {
          "output_type": "stream",
          "text": [
            "              precision    recall  f1-score   support\n",
            "\n",
            "           0       0.85      0.90      0.88      4454\n",
            "           1       0.89      0.83      0.86      4132\n",
            "\n",
            "    accuracy                           0.87      8586\n",
            "   macro avg       0.87      0.87      0.87      8586\n",
            "weighted avg       0.87      0.87      0.87      8586\n",
            "\n"
          ],
          "name": "stdout"
        }
      ]
    },
    {
      "cell_type": "markdown",
      "metadata": {
        "id": "2RGQWHdZfKDP"
      },
      "source": [
        "### Conclusion"
      ],
      "id": "2RGQWHdZfKDP"
    },
    {
      "cell_type": "markdown",
      "metadata": {
        "id": "9ZQ3tuE2fMKM"
      },
      "source": [
        "We imported the data from the JSON format, then performed the data pre-processing. After that, we kept specific columns and found the length of the sentence. Next, we defined the parameters, split the data into features and labels and found the vocabulary size. Then, we added Glove embedding and also put the embedding matrix. Next, we implemented the basic bidirectional LSTM architecture. The final result is that the validation accuracy is 86%. While the F1 scores for non-sarcastic are 88% and for sarcastic is 86%. The model is a little overfitted, but the results are adequate. The model can be better by getting the hyper-parameters and some new features into the architecture, for instance adding more layers."
      ],
      "id": "9ZQ3tuE2fMKM"
    }
  ]
}