{
 "cells": [
  {
   "cell_type": "code",
   "execution_count": 1,
   "id": "attempted-german",
   "metadata": {},
   "outputs": [],
   "source": [
    "import tkinter as tk\n",
    "from PIL import ImageTk, Image\n",
    "from tkinter import filedialog\n",
    "import numpy as np\n",
    "import tensorflow as tf\n",
    "from tensorflow.keras.preprocessing import image\n",
    "from keras.models import load_model"
   ]
  },
  {
   "cell_type": "code",
   "execution_count": 2,
   "id": "abstract-storm",
   "metadata": {},
   "outputs": [],
   "source": [
    "final_model = load_model('oxflower17_tr.h5')\n",
    "final_model.compile(loss = 'categorical_crossentropy', optimizer = 'rmsprop', metrics = ['acc'])"
   ]
  },
  {
   "cell_type": "code",
   "execution_count": 3,
   "id": "creative-thousand",
   "metadata": {},
   "outputs": [],
   "source": [
    "class_names = ['0', '1', '10', '11', '12', '13', '14', '15', '16', '2', '3', '4', '5', '6', '7', '8', '9']"
   ]
  },
  {
   "cell_type": "code",
   "execution_count": 4,
   "id": "ranging-shell",
   "metadata": {},
   "outputs": [],
   "source": [
    "root = tk.Tk()\n",
    "root.title('OxFlower Classification')\n",
    "root.resizable(False, False)\n",
    "title = tk.Label(root, text = 'OxFlower17 Classification', padx = 25, pady = 6, font = ('', 12)).pack()\n",
    "canvas = tk.Canvas(root, height = 250, width = 250, bg = 'grey').pack()\n",
    "var = tk.StringVar()\n",
    "frame = tk.Frame(root, bg = 'white')\n",
    "frame.place(relwidth = 0.8, relheight = 0.8, relx = 0.1, rely = 0.1)"
   ]
  },
  {
   "cell_type": "code",
   "execution_count": 5,
   "id": "needed-joint",
   "metadata": {},
   "outputs": [],
   "source": [
    "def load_img():\n",
    "    global img, image_data\n",
    "    \n",
    "    for img_display in frame.winfo_children():\n",
    "        img_display.destroy()\n",
    "\n",
    "    image_data = filedialog.askopenfilename(initialdir = \"/\", \n",
    "                                            title = \"Choose an Image\",\n",
    "                                            filetypes = ((\"All Files\", \"*.*\"), \n",
    "                                                       (\"PNG Files\", \"*.PNG\")))\n",
    "    basewidth = 200 \n",
    "    img = Image.open(image_data)\n",
    "    wpercent = (basewidth / float(img.size[0]))\n",
    "    hsize = int((float(img.size[1]) * float(wpercent)))\n",
    "    img = img.resize((basewidth, hsize), Image.ANTIALIAS)\n",
    "    img = ImageTk.PhotoImage(img)\n",
    "    file_name = image_data.split('/')\n",
    "    panel = tk.Label(frame, text = str(file_name[len(file_name)-1]).upper()).pack()\n",
    "    panel_image = tk.Label(frame, image = img).pack()\n",
    "\n",
    "def prediction():\n",
    "    original = Image.open(image_data)\n",
    "    original = original.resize((224, 224), Image.ANTIALIAS)\n",
    "    img_arr = image.img_to_array(original)\n",
    "    img_arr1 = tf.keras.applications.vgg16.preprocess_input(img_arr)\n",
    "    pred_test_temp = final_model.predict(tf.expand_dims(img_arr1, axis = 0))\n",
    "    label = class_names[tf.argmax(pred_test_temp[0])]\n",
    "    var.set(str(label).lower())\n",
    "    TEXT = 'Class:'\n",
    "    panel1 = tk.Label(frame, text = TEXT, padx = 10, pady = 10).pack()\n",
    "    panel2 = tk.Label(frame, textvariable = var, padx = 10, pady = 10).pack()\n",
    "\n",
    "#Button for loading an image\n",
    "choose_image = tk.Button(root, text = 'Open Image',\n",
    "                        padx = 35, pady = 10,\n",
    "                        fg = 'white', bg = 'grey', command = load_img)\n",
    "choose_image.pack(side = tk.LEFT)\n",
    "\n",
    "#Button for predition\n",
    "class_image = tk.Button(root, text = 'Predict Image',\n",
    "                        padx = 35, pady = 10,\n",
    "                        fg = 'white', bg = 'grey', command = prediction)\n",
    "class_image.pack(side = tk.RIGHT)\n",
    "\n",
    "root.mainloop()"
   ]
  },
  {
   "cell_type": "code",
   "execution_count": null,
   "id": "general-warning",
   "metadata": {},
   "outputs": [],
   "source": []
  }
 ],
 "metadata": {
  "kernelspec": {
   "display_name": "Python 3",
   "language": "python",
   "name": "python3"
  },
  "language_info": {
   "codemirror_mode": {
    "name": "ipython",
    "version": 3
   },
   "file_extension": ".py",
   "mimetype": "text/x-python",
   "name": "python",
   "nbconvert_exporter": "python",
   "pygments_lexer": "ipython3",
   "version": "3.8.5"
  }
 },
 "nbformat": 4,
 "nbformat_minor": 5
}
